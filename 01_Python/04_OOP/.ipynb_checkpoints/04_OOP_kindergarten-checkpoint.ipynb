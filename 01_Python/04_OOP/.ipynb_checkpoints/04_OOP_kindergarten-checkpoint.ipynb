{
 "cells": [
  {
   "cell_type": "code",
   "execution_count": 1,
   "metadata": {
    "collapsed": true,
    "slideshow": {
     "slide_type": "skip"
    }
   },
   "outputs": [],
   "source": [
    "from IPython.display import Image"
   ]
  },
  {
   "cell_type": "markdown",
   "metadata": {},
   "source": [
    "# OOP kindergarten"
   ]
  },
  {
   "cell_type": "markdown",
   "metadata": {
    "slideshow": {
     "slide_type": "subslide"
    }
   },
   "source": [
    " - A quick resume \n",
    " - Classes and objects\n",
    " - Iterators and generators"
   ]
  },
  {
   "cell_type": "code",
   "execution_count": 2,
   "metadata": {
    "collapsed": true,
    "slideshow": {
     "slide_type": "fragment"
    }
   },
   "outputs": [],
   "source": [
    "import math\n",
    "import numpy as np\n",
    "import scipy as sp\n",
    "import scipy.constants as CONST\n",
    "PI = CONST.pi\n",
    "import matplotlib.pyplot as plt \n",
    "%matplotlib inline"
   ]
  },
  {
   "cell_type": "markdown",
   "metadata": {
    "slideshow": {
     "slide_type": "slide"
    }
   },
   "source": [
    "# A quick resume"
   ]
  },
  {
   "cell_type": "markdown",
   "metadata": {
    "slideshow": {
     "slide_type": "slide"
    }
   },
   "source": [
    "## Data structures summary"
   ]
  },
  {
   "cell_type": "markdown",
   "metadata": {
    "slideshow": {
     "slide_type": "subslide"
    }
   },
   "source": [
    "-- Lists, sets and dictionaries are extensible and mutable.\n",
    "\n",
    "-- Tuples, on the other hand:\n",
    "\n",
    "    -- Not extensible\n",
    "    \n",
    "    -- Values cannot be modified\n",
    "    \n",
    "-- Dictionaries and sets are unordered.\n",
    "\n",
    "-- Elements of sets are not indexed.\n",
    "\n",
    "\n",
    "Tuples require less storage and are treated faster by the interpreter.\n",
    "\n",
    "Since sets have unique elements, the interpreter can optimize membership\n",
    "tests."
   ]
  },
  {
   "cell_type": "code",
   "execution_count": 3,
   "metadata": {
    "slideshow": {
     "slide_type": "subslide"
    }
   },
   "outputs": [],
   "source": [
    "mystr  = \"Python\" #a string\n",
    "mylist = [\"king\",\"soldatino\",\"dartagnan\"]\n",
    "mytuple = (1,1,2,2,3,3)\n",
    "mydict = {\"A\":\"adenine\",\"C\":\"cytosine\",\"G\":\"guanosine\",\"T\":\"thymine\"}\n",
    "myset  = set(mytuple)"
   ]
  },
  {
   "cell_type": "code",
   "execution_count": 4,
   "metadata": {
    "slideshow": {
     "slide_type": "fragment"
    }
   },
   "outputs": [
    {
     "name": "stdout",
     "output_type": "stream",
     "text": [
      "{1, 2, 3}\n"
     ]
    }
   ],
   "source": [
    "print(myset)"
   ]
  },
  {
   "cell_type": "markdown",
   "metadata": {
    "slideshow": {
     "slide_type": "slide"
    }
   },
   "source": [
    "# Classes and objects"
   ]
  },
  {
   "cell_type": "markdown",
   "metadata": {
    "slideshow": {
     "slide_type": "subslide"
    }
   },
   "source": [
    "### Creating new data types"
   ]
  },
  {
   "cell_type": "markdown",
   "metadata": {
    "collapsed": true,
    "slideshow": {
     "slide_type": "fragment"
    }
   },
   "source": [
    "You have heard that everything in Python is an object. Until now we have used Python data types. But what if we have to define a new, composite datatype (C, not C++, programmers: **typedef**).\n",
    "\n",
    "This is done by defining a new **class** which defines how to build a certain kind of object. The class stores items (**attributes**) shared by all the **instances** of this class. \n",
    "A class is something analogous to a C structure (a new structured data type) endowed with its own functions, i.e. its **methods**.\n",
    " \n",
    "A **method** is defined in a class by including function definitions within the scope of the class block.\n",
    "\n",
    "Suppose we want to represent a a point in a 2D space:"
   ]
  },
  {
   "cell_type": "code",
   "execution_count": 5,
   "metadata": {
    "slideshow": {
     "slide_type": "fragment"
    }
   },
   "outputs": [
    {
     "name": "stdout",
     "output_type": "stream",
     "text": [
      "<class '__main__.Point'>\n"
     ]
    }
   ],
   "source": [
    "class Point(object):\n",
    "    \"\"\"\n",
    "    A point in 2D space\n",
    "    \"\"\"\n",
    "print(Point)"
   ]
  },
  {
   "cell_type": "markdown",
   "metadata": {
    "slideshow": {
     "slide_type": "subslide"
    }
   },
   "source": [
    "`Point` is derived from the basic Python data type which is a `object`: you have already heard that *everything in Python is an object*.  \n",
    "Now we use this new type to create a variable, i.e. an instace of class Point"
   ]
  },
  {
   "cell_type": "code",
   "execution_count": 6,
   "metadata": {
    "slideshow": {
     "slide_type": "fragment"
    }
   },
   "outputs": [
    {
     "data": {
      "text/plain": [
       "(__main__.Point, <__main__.Point at 0x7f4a57082c88>)"
      ]
     },
     "execution_count": 6,
     "metadata": {},
     "output_type": "execute_result"
    }
   ],
   "source": [
    "p1 = Point()\n",
    "type(p1),p1"
   ]
  },
  {
   "cell_type": "markdown",
   "metadata": {
    "slideshow": {
     "slide_type": "fragment"
    }
   },
   "source": [
    "p1 is an *instance* of type `Point`.  \n",
    "The properties of an object are called *attributes*. The most obvious attributes of a point are its coordinates:"
   ]
  },
  {
   "cell_type": "code",
   "execution_count": 7,
   "metadata": {
    "slideshow": {
     "slide_type": "fragment"
    }
   },
   "outputs": [
    {
     "data": {
      "text/plain": [
       "(2.0, 1.0)"
      ]
     },
     "execution_count": 7,
     "metadata": {},
     "output_type": "execute_result"
    }
   ],
   "source": [
    "p1.x = 2.\n",
    "p1.y = 1.\n",
    "p1.x, p1.y"
   ]
  },
  {
   "cell_type": "markdown",
   "metadata": {
    "slideshow": {
     "slide_type": "subslide"
    }
   },
   "source": [
    "the built-in **`hasattr`** let's you check if we have a point in 2D or 3D space:"
   ]
  },
  {
   "cell_type": "code",
   "execution_count": 8,
   "metadata": {
    "slideshow": {
     "slide_type": "fragment"
    }
   },
   "outputs": [
    {
     "data": {
      "text/plain": [
       "(True, False)"
      ]
     },
     "execution_count": 8,
     "metadata": {},
     "output_type": "execute_result"
    }
   ],
   "source": [
    "hasattr(p1,\"x\"), hasattr(p1,\"z\")"
   ]
  },
  {
   "cell_type": "markdown",
   "metadata": {
    "slideshow": {
     "slide_type": "subslide"
    }
   },
   "source": [
    "what properties can we desume from these basic attributes? one can be the norm of the vector from the origin to our point:"
   ]
  },
  {
   "cell_type": "code",
   "execution_count": 9,
   "metadata": {
    "slideshow": {
     "slide_type": "fragment"
    }
   },
   "outputs": [
    {
     "name": "stdout",
     "output_type": "stream",
     "text": [
      "2.23606797749979 2.23606797749979\n"
     ]
    }
   ],
   "source": [
    "import math\n",
    "class Point(object):\n",
    "    \"\"\"\n",
    "    A point in 2D space\n",
    "    \"\"\"\n",
    "    def norm(point,xo=.0,yo=.0):\n",
    "        \"\"\"\n",
    "        assume RS is (0.,0.) with keyword arguments\n",
    "        \"\"\"\n",
    "        return math.sqrt((point.x-xo)**2 + (point.y-yo)**2)\n",
    "p1 = Point()\n",
    "p1.x = 2.\n",
    "p1.y = 1.\n",
    "n1 = p1.norm()\n",
    "n2 = Point.norm(p1)\n",
    "print(n1,n2)"
   ]
  },
  {
   "cell_type": "markdown",
   "metadata": {
    "slideshow": {
     "slide_type": "fragment"
    }
   },
   "source": [
    "The function **`norm`** is associated to **`Point`** i.e. is a **method**. It can be invoked directly on the **`p1`** **instance** or used as a function from the **class** **`Point`**. In the first case **`norm`** acts automatically on **`p1`** which is called the **subject** of the method. "
   ]
  },
  {
   "cell_type": "markdown",
   "metadata": {
    "slideshow": {
     "slide_type": "subslide"
    }
   },
   "source": [
    "Since a method takes as its first argument the instance it is using, it is very common to use the attribute **`self`** to encapsulate variables. Hence:"
   ]
  },
  {
   "cell_type": "code",
   "execution_count": 10,
   "metadata": {
    "slideshow": {
     "slide_type": "fragment"
    }
   },
   "outputs": [
    {
     "data": {
      "text/plain": [
       "2.23606797749979"
      ]
     },
     "execution_count": 10,
     "metadata": {},
     "output_type": "execute_result"
    }
   ],
   "source": [
    "class Point(object):\n",
    "    \"\"\"\n",
    "    A point in 2D space\n",
    "    \"\"\"\n",
    "    def __init__(self,x,y,ref=[0,0]):\n",
    "        self.x   = float(x)\n",
    "        self.y   = float(y)\n",
    "        self.ref = ref\n",
    "    \n",
    "    def norm(self):\n",
    "        \"\"\"\n",
    "        assume RS is (0.,0.) with keyword arguments\n",
    "        \"\"\"\n",
    "        return math.sqrt((self.x-self.ref[0])**2 + (self.y-self.ref[1])**2)\n",
    "    \n",
    "p1 = Point(2,1)    \n",
    "p1.norm()"
   ]
  },
  {
   "cell_type": "markdown",
   "metadata": {
    "slideshow": {
     "slide_type": "fragment"
    }
   },
   "source": [
    "The **`\\_\\_init\\_\\_`** method is invoked whenever an instance of Point is created; **`\\_\\_init\\_\\_`** is a *special method*. Note that this definition of `Point` by default uses itself for defining the origin of axes; i.e. any instance of `Point` we create will include a reference to another one which is **embedded**."
   ]
  },
  {
   "cell_type": "markdown",
   "metadata": {
    "slideshow": {
     "slide_type": "subslide"
    }
   },
   "source": [
    "Being Python data types user defined classes have some default behaviour. For instance, they are **mutable**:"
   ]
  },
  {
   "cell_type": "code",
   "execution_count": 11,
   "metadata": {
    "slideshow": {
     "slide_type": "fragment"
    }
   },
   "outputs": [
    {
     "data": {
      "text/plain": [
       "3"
      ]
     },
     "execution_count": 11,
     "metadata": {},
     "output_type": "execute_result"
    }
   ],
   "source": [
    "p1.x = 3; p1.x"
   ]
  },
  {
   "cell_type": "code",
   "execution_count": 12,
   "metadata": {
    "slideshow": {
     "slide_type": "fragment"
    }
   },
   "outputs": [
    {
     "name": "stdout",
     "output_type": "stream",
     "text": [
      "0\n",
      "True True\n"
     ]
    },
    {
     "data": {
      "text/plain": [
       "2"
      ]
     },
     "execution_count": 12,
     "metadata": {},
     "output_type": "execute_result"
    }
   ],
   "source": [
    "p2 = p1\n",
    "print(id(p1)-id(p2))\n",
    "print(p2 == p1, p2 is p1)\n",
    "p1.x = 2\n",
    "p2.x"
   ]
  },
  {
   "cell_type": "code",
   "execution_count": 13,
   "metadata": {
    "slideshow": {
     "slide_type": "fragment"
    }
   },
   "outputs": [
    {
     "name": "stdout",
     "output_type": "stream",
     "text": [
      "False False\n"
     ]
    }
   ],
   "source": [
    "p1 = Point(2,1)\n",
    "print(p2 == p1, p2 is p1)"
   ]
  },
  {
   "cell_type": "markdown",
   "metadata": {
    "slideshow": {
     "slide_type": "fragment"
    }
   },
   "source": [
    "The command `p2 = p1` creates an *alias* of name `p1`. Note that the `==` operator in this case checks the *identity* and not the value of `p1` and `p2` as it would do with integer and floats:"
   ]
  },
  {
   "cell_type": "code",
   "execution_count": 14,
   "metadata": {
    "slideshow": {
     "slide_type": "fragment"
    }
   },
   "outputs": [
    {
     "name": "stdout",
     "output_type": "stream",
     "text": [
      "True False\n"
     ]
    }
   ],
   "source": [
    "n1 = 1.0\n",
    "n2 = 1\n",
    "print(n2 == n1, n2 is n1)"
   ]
  },
  {
   "cell_type": "markdown",
   "metadata": {
    "slideshow": {
     "slide_type": "subslide"
    }
   },
   "source": [
    "As for other mutable data types *copy* or *deepcopy* from the **copy** module can be used:"
   ]
  },
  {
   "cell_type": "code",
   "execution_count": 15,
   "metadata": {
    "slideshow": {
     "slide_type": "fragment"
    }
   },
   "outputs": [
    {
     "name": "stdout",
     "output_type": "stream",
     "text": [
      "True\n",
      "False\n"
     ]
    }
   ],
   "source": [
    "import copy\n",
    "p2 = copy.copy(p1)\n",
    "p3 = copy.deepcopy(p1)\n",
    "print(p2.ref is p1.ref)\n",
    "print(p3.ref is p1.ref)"
   ]
  },
  {
   "cell_type": "markdown",
   "metadata": {
    "slideshow": {
     "slide_type": "fragment"
    }
   },
   "source": [
    "i.e. a *shallow copy* creates a *reference* to *embedded objects* at variance with a *deep copy* "
   ]
  },
  {
   "cell_type": "markdown",
   "metadata": {
    "slideshow": {
     "slide_type": "subslide"
    }
   },
   "source": [
    "This way of creating types and \"associating functions to data\" is called ***Object oriented programming*** (OOP). OOP is particularly suited for large projects involving multiple developers.\n",
    "\n",
    "- In OOP, a code is divided in small blocks, which can be managed independently, without blocking the development in other parts of the code.\n",
    "\n",
    "- OOP revolves around the concept of object and an object can be composed of multiple objects."
   ]
  },
  {
   "cell_type": "markdown",
   "metadata": {
    "slideshow": {
     "slide_type": "subslide"
    }
   },
   "source": [
    "### Inheritance\n",
    "\n",
    "A cool thing about object-oriented programming is inheritance, i.e. the possibility of defining new classes importing methods and atributes from previous ones. The new class is called a **subclass** while the older one is its **parent** or **ancestor** or **superclass**. \n",
    "Using the pass statement you can simply create a subclass without adding modifications:"
   ]
  },
  {
   "cell_type": "code",
   "execution_count": 16,
   "metadata": {
    "slideshow": {
     "slide_type": "subslide"
    }
   },
   "outputs": [
    {
     "data": {
      "text/plain": [
       "<__main__.legionary at 0x7f4a5709ef28>"
      ]
     },
     "execution_count": 16,
     "metadata": {},
     "output_type": "execute_result"
    }
   ],
   "source": [
    "import numpy\n",
    "\n",
    "class legionary(object):\n",
    "    \"\"\"\n",
    "    A class to define an ancient warrior; enough with student or car examples\n",
    "    \"\"\"\n",
    "    def __init__(self,position=\"hastati\"):\n",
    "        self.position = position\n",
    "        self.rank = None #officer or private?\n",
    "        self.status = 1 # dead or alive?\n",
    "        self.javelins = 2\n",
    "    \n",
    "    def throw_javelin(self):\n",
    "        self.javelins -= 1\n",
    "        #throw the pilum a random number of meters away\n",
    "        return 20.*numpy.random.rand(1)[0]\n",
    "L = legionary()\n",
    "L"
   ]
  },
  {
   "cell_type": "code",
   "execution_count": 17,
   "metadata": {
    "slideshow": {
     "slide_type": "fragment"
    }
   },
   "outputs": [
    {
     "name": "stdout",
     "output_type": "stream",
     "text": [
      "centurion is alive with 2 pila\n"
     ]
    }
   ],
   "source": [
    "class centurion(legionary):      \n",
    "    def promote(self):\n",
    "        self.rank = \"centurion\"\n",
    "        #let him be tougher\n",
    "        self.status = 2.\n",
    "    \n",
    "    def __init__(self,position):\n",
    "        legionary.__init__(self,position)\n",
    "        self.promote()\n",
    "        \n",
    "    def __str__(self):\n",
    "        if self.status > 0:\n",
    "            return self.rank + \" is alive with \" + str(self.javelins) + \" pila\"\n",
    "      \n",
    "julius = centurion(\"triarii\")\n",
    "print(julius)"
   ]
  },
  {
   "cell_type": "markdown",
   "metadata": {
    "slideshow": {
     "slide_type": "slide"
    }
   },
   "source": [
    "## Numerical Integration"
   ]
  },
  {
   "cell_type": "markdown",
   "metadata": {
    "slideshow": {
     "slide_type": "subslide"
    }
   },
   "source": [
    "Suppose we want to *integrate* a function, i.e. we want to compute:\n",
    "$$F(x;a) = \\int_a^x f(t)dt$$\n",
    "for which we have defined a range of values for $t$. A solution may be to use the **Trapezoidal Rule** with *n* intervals and *n+1* points:\n",
    "$$ \\int_a^x f(t)dt = \\frac{h}{2} \\left( f(a) + f(x) + \\sum_{i=1}^{n-1}  2f(a+ih) \\right) $$\n",
    "where $ h=(x-a)/n $. Ideally, we would like to compute $F(x;a)$ like that:\n",
    "\n",
    "        myf = lambda x: sin(x)\n",
    "        a = 0; n = 100\n",
    "        F = Trap(myf,a,n)       \n",
    "according to the [K.I.S.S. principle](#https://en.wikipedia.org/wiki/KISS_principle) a solution could be:"
   ]
  },
  {
   "cell_type": "code",
   "execution_count": 18,
   "metadata": {
    "collapsed": true,
    "slideshow": {
     "slide_type": "subslide"
    }
   },
   "outputs": [],
   "source": [
    "def Trapezoidal(f,a,b,npoints):\n",
    "    \"\"\"\n",
    "    apply Trapezoidal rule to integrate f from a to x using n nodes\n",
    "    \"\"\"\n",
    "    h = (b-a)/npoints\n",
    "    F = 2*np.sum(np.asarray([f(a+i*h) for i in range(1,npoints)]))\n",
    "    return (h/2)*(F+f(a)+f(b))"
   ]
  },
  {
   "cell_type": "markdown",
   "metadata": {
    "slideshow": {
     "slide_type": "fragment"
    }
   },
   "source": [
    "Let's try:"
   ]
  },
  {
   "cell_type": "code",
   "execution_count": 19,
   "metadata": {
    "slideshow": {
     "slide_type": "fragment"
    }
   },
   "outputs": [
    {
     "data": {
      "text/plain": [
       "1.9998355038874436"
      ]
     },
     "execution_count": 19,
     "metadata": {},
     "output_type": "execute_result"
    }
   ],
   "source": [
    "x = PI*np.linspace(0,1)\n",
    "myf = lambda x: np.sin(x)\n",
    "F = Trapezoidal(myf,0.,PI,100)\n",
    "F"
   ]
  },
  {
   "cell_type": "markdown",
   "metadata": {
    "slideshow": {
     "slide_type": "subslide"
    }
   },
   "source": [
    "However, a Integral class using the Trapezoidal method may be a more general solution. The __call__ special method allows to call an instance as function, creating a wrapper."
   ]
  },
  {
   "cell_type": "code",
   "execution_count": 20,
   "metadata": {
    "collapsed": true,
    "slideshow": {
     "slide_type": "fragment"
    }
   },
   "outputs": [],
   "source": [
    "class Integral(object):\n",
    "    def __init__(self,func,a,b,n=100):\n",
    "        \"\"\"\n",
    "        create integrator instance; see special methods\n",
    "        \"\"\"\n",
    "        self.func = func\n",
    "        self.a = a\n",
    "        self.b = b\n",
    "        self.n = n\n",
    "        \n",
    "    def __call__(self):\n",
    "        \"\"\"\n",
    "        Integrate with Trapezoidal rule \n",
    "        \"\"\"\n",
    "        return Trapezoidal(self.func,self.a,self.b,self.n)"
   ]
  },
  {
   "cell_type": "code",
   "execution_count": 21,
   "metadata": {
    "slideshow": {
     "slide_type": "fragment"
    }
   },
   "outputs": [
    {
     "data": {
      "text/plain": [
       "1.9998355038874436"
      ]
     },
     "execution_count": 21,
     "metadata": {},
     "output_type": "execute_result"
    }
   ],
   "source": [
    "F = Integral(myf,0,PI)\n",
    "F()"
   ]
  },
  {
   "cell_type": "markdown",
   "metadata": {
    "slideshow": {
     "slide_type": "slide"
    }
   },
   "source": [
    "## Exercises "
   ]
  },
  {
   "cell_type": "markdown",
   "metadata": {
    "slideshow": {
     "slide_type": "subslide"
    }
   },
   "source": [
    "1. Modify the Point class so that even a shallow copy creates copies of all attributes\n",
    "2. Extend the Point class to arbitrary number of coordinates and different norm\n",
    "3. Create a Rectangle class using Point (in 2D) and side dimensions; add methods for perimeter and area\n",
    "4. Extend the Integrate class. Try numerical integration with the [Simpson rule](#https://en.wikipedia.org/wiki/Simpson's_rule):\n",
    "$$ \\int_{-1}^1 f(x)dx \\approx \\frac{1}{3}f(-1) + \\frac{4}{3}f(0) + \\frac{1}{3}f(1)$$"
   ]
  },
  {
   "cell_type": "markdown",
   "metadata": {
    "slideshow": {
     "slide_type": "subslide"
    }
   },
   "source": [
    "### Hints\n",
    "\n",
    "    class Integral(object):\n",
    "    <snip>\n",
    "        def _call__(self):\n",
    "            pass\n",
    "            \n",
    "    class Simpson(Integral): "
   ]
  },
  {
   "cell_type": "code",
   "execution_count": 22,
   "metadata": {
    "slideshow": {
     "slide_type": "subslide"
    }
   },
   "outputs": [
    {
     "data": {
      "text/plain": [
       "5.385164807134504"
      ]
     },
     "execution_count": 22,
     "metadata": {},
     "output_type": "execute_result"
    }
   ],
   "source": [
    "#Solution 2; test and complete; what is mnorm?\n",
    "import math\n",
    "\n",
    "class Point(object):\n",
    "\n",
    "    def __init__(self,coords,SR=None):\n",
    "        # a list of coordinates\n",
    "        self.coords = coords\n",
    "        self.dim    = len(coords)\n",
    "        if bool(SR):\n",
    "            self.SR = SR\n",
    "        else:\n",
    "            self.SR = [.0 for i in range(self.dim)]\n",
    "    \n",
    "    def enorm(self):\n",
    "        N = [(self.coords[i]-self.SR[i])**2 for i in range(self.dim)]\n",
    "        return math.sqrt(sum(N))\n",
    "    \n",
    "    def mnorm(self):\n",
    "        M = [abs(self.coords[i]-self.SR[i]) for i in range(self.dim)]\n",
    "        return sum(M)\n",
    "    \n",
    "    def norm(self,distance=\"euclidean\"):\n",
    "        \"\"\"\n",
    "        assume RS is (0.,0.) with keyword arguments\n",
    "        \"\"\"\n",
    "        distance = distance.lower()\n",
    "        if distance == \"euclidean\":\n",
    "            return self.enorm()\n",
    "        elif distance == \"m\":\n",
    "            return self.mnorm()\n",
    "        \n",
    "apoint = Point([2,3,4])\n",
    "apoint.dim; apoint.norm()"
   ]
  },
  {
   "cell_type": "code",
   "execution_count": 23,
   "metadata": {
    "slideshow": {
     "slide_type": "subslide"
    }
   },
   "outputs": [],
   "source": [
    "#Solution 3\n",
    "class Rectangle(object):\n",
    "    \n",
    "    def __init__(self,bottom_left,upper_right):\n",
    "        self.btl = bottom_left\n",
    "        self.upr = upper_right\n",
    "        self.width  = upper_right.coords[0]-bottom_left.coords[0]\n",
    "        self.height = upper_right.coords[1]-bottom_left.coords[1]\n",
    "        \n",
    "    def area(self):\n",
    "        return self.width*self.height\n",
    "    \n",
    "    def perimeter(self):\n",
    "        return 2.*(self.width+self.height)\n",
    "\n",
    "p1 = Point((1,1))\n",
    "p2 = Point((3,3))\n",
    "\n",
    "rect = Rectangle(p1,p2)"
   ]
  },
  {
   "cell_type": "code",
   "execution_count": 24,
   "metadata": {
    "slideshow": {
     "slide_type": "fragment"
    }
   },
   "outputs": [
    {
     "data": {
      "text/plain": [
       "8.0"
      ]
     },
     "execution_count": 24,
     "metadata": {},
     "output_type": "execute_result"
    }
   ],
   "source": [
    "rect.perimeter()"
   ]
  },
  {
   "cell_type": "code",
   "execution_count": 25,
   "metadata": {
    "slideshow": {
     "slide_type": "fragment"
    }
   },
   "outputs": [
    {
     "data": {
      "text/plain": [
       "4"
      ]
     },
     "execution_count": 25,
     "metadata": {},
     "output_type": "execute_result"
    }
   ],
   "source": [
    "rect.area()"
   ]
  },
  {
   "cell_type": "markdown",
   "metadata": {
    "slideshow": {
     "slide_type": "slide"
    }
   },
   "source": [
    "# Iterators and generators"
   ]
  },
  {
   "cell_type": "markdown",
   "metadata": {
    "slideshow": {
     "slide_type": "subslide"
    }
   },
   "source": [
    "## Iterators\n",
    "\n",
    "An iterable object is anything that can be viewed as a collection of other objects and can be used in a for loop, including lists, dicts, files …. \n",
    "\n",
    "All such objects have a **\\_\\_iter\\_\\_** method that returns an iterator for that object. The iterators runs over the “components” with  one at time  until it raises **StopIteration**.\n",
    "\n",
    "An ITERABLE is:\n",
    "\n",
    "- anything that can be looped over (i.e. you can loop over a string or file)\n",
    "\n",
    "- anything that can appear on the right-side of a for-loop: for x in iterable: ...\n",
    "\n",
    "- anything you can call with iter() have it return an ITERATOR: iter(obj)\n",
    "\n",
    "- an object that defines **\\_\\_iter\\_\\_** that returns a fresh ITERATOR, or it may have a **\\_\\_getitem\\_\\_** method suitable for indexed lookup.\n",
    "\n",
    "\n",
    "An ITERATOR is:\n",
    "\n",
    "- an object with state that remembers its past state it is during iteration\n",
    "- an object with a **\\_\\_next\\_\\_** method that:\n",
    "    - returns the next value in the iteration\n",
    "    - updates the state \n",
    "    - signals when it is done by raising StopIteration\n",
    "- an object that is self-iterable (meaning that it has an **\\_\\_iter\\_\\_** method that returns self)."
   ]
  },
  {
   "cell_type": "markdown",
   "metadata": {
    "slideshow": {
     "slide_type": "subslide"
    }
   },
   "source": [
    "## Generators\n",
    "\n",
    "A generator is a function which can stop whatever it is doing at an arbitrary point in its body, return a value back to the caller, and, later on, resume from the point it has stopped and proceed as if nothing had happened. This magic is done by means of the **yield** statement:"
   ]
  },
  {
   "cell_type": "code",
   "execution_count": 26,
   "metadata": {
    "collapsed": true,
    "slideshow": {
     "slide_type": "fragment"
    }
   },
   "outputs": [],
   "source": [
    "def yrange(n):\n",
    "    i = 0\n",
    "    while i < n:\n",
    "        yield i\n",
    "        i += 1"
   ]
  },
  {
   "cell_type": "markdown",
   "metadata": {
    "slideshow": {
     "slide_type": "fragment"
    }
   },
   "source": [
    "**`yield`** causes the interpreter to manage yrange in a special way; invoking yrange does not execute the function. Instead, it prints that a yrange is"
   ]
  },
  {
   "cell_type": "code",
   "execution_count": 27,
   "metadata": {
    "slideshow": {
     "slide_type": "fragment"
    }
   },
   "outputs": [
    {
     "data": {
      "text/plain": [
       "<generator object yrange at 0x7f4a57083258>"
      ]
     },
     "execution_count": 27,
     "metadata": {},
     "output_type": "execute_result"
    }
   ],
   "source": [
    "myrange = yrange(3)\n",
    "myrange"
   ]
  },
  {
   "cell_type": "markdown",
   "metadata": {
    "slideshow": {
     "slide_type": "subslide"
    }
   },
   "source": [
    "remember when we used list(range(n)) ..."
   ]
  },
  {
   "cell_type": "code",
   "execution_count": 28,
   "metadata": {
    "slideshow": {
     "slide_type": "fragment"
    }
   },
   "outputs": [
    {
     "data": {
      "text/plain": [
       "0"
      ]
     },
     "execution_count": 28,
     "metadata": {},
     "output_type": "execute_result"
    }
   ],
   "source": [
    "#myrange.__next__()\n",
    "next(myrange)"
   ]
  },
  {
   "cell_type": "code",
   "execution_count": 29,
   "metadata": {
    "slideshow": {
     "slide_type": "fragment"
    }
   },
   "outputs": [
    {
     "data": {
      "text/plain": [
       "1"
      ]
     },
     "execution_count": 29,
     "metadata": {},
     "output_type": "execute_result"
    }
   ],
   "source": [
    "#myrange.__next__()\n",
    "next(myrange)"
   ]
  },
  {
   "cell_type": "code",
   "execution_count": 30,
   "metadata": {
    "slideshow": {
     "slide_type": "fragment"
    }
   },
   "outputs": [
    {
     "data": {
      "text/plain": [
       "2"
      ]
     },
     "execution_count": 30,
     "metadata": {},
     "output_type": "execute_result"
    }
   ],
   "source": [
    "#myrange.__next__()\n",
    "next(myrange)"
   ]
  },
  {
   "cell_type": "code",
   "execution_count": 31,
   "metadata": {
    "slideshow": {
     "slide_type": "fragment"
    }
   },
   "outputs": [
    {
     "name": "stdout",
     "output_type": "stream",
     "text": [
      "I got a StopIteration\n"
     ]
    }
   ],
   "source": [
    "#myrange.__next__()\n",
    "try:\n",
    "    next(myrange)\n",
    "except StopIteration as e:\n",
    "    print(\"I got a StopIteration\")"
   ]
  },
  {
   "cell_type": "markdown",
   "metadata": {
    "slideshow": {
     "slide_type": "subslide"
    }
   },
   "source": [
    "The performance improvement from the use of generators is the result of the lazy (on demand) generation of values, which translates to lower memory usage. \n",
    "\n",
    "Furthermore, we do not need to wait until all the elements have been generated before using them. A generator will provide performance benefits only if we do not intend to use that set of generated values more than once. \n",
    "\n",
    "Since the memory used by a generator is constant and its status always defined it is possible to use it to manage infinite sequences, such as a Fibonacci series:\n",
    "\n",
    "$\\pi = 4*(1-1/3+1/5-1/7....)$"
   ]
  },
  {
   "cell_type": "code",
   "execution_count": 32,
   "metadata": {
    "collapsed": true,
    "slideshow": {
     "slide_type": "fragment"
    }
   },
   "outputs": [],
   "source": [
    "def pi_series():\n",
    "    total = 0\n",
    "    i = 1.0; j = 1\n",
    "    while(1): #always true\n",
    "        total = total + j/i\n",
    "        yield 4*total\n",
    "        i = i + 2; j = j * -1"
   ]
  },
  {
   "cell_type": "code",
   "execution_count": 33,
   "metadata": {
    "slideshow": {
     "slide_type": "fragment"
    }
   },
   "outputs": [
    {
     "name": "stdout",
     "output_type": "stream",
     "text": [
      "3.140592653839794\n"
     ]
    }
   ],
   "source": [
    "fib = pi_series()\n",
    "i=0\n",
    "while i<1000:\n",
    "    a = fib.__next__()\n",
    "    i += 1\n",
    "print(a)"
   ]
  },
  {
   "cell_type": "markdown",
   "metadata": {
    "slideshow": {
     "slide_type": "subslide"
    }
   },
   "source": [
    "A generator can be used to yield another generator in a nested way:"
   ]
  },
  {
   "cell_type": "code",
   "execution_count": 34,
   "metadata": {
    "slideshow": {
     "slide_type": "fragment"
    }
   },
   "outputs": [
    {
     "name": "stdout",
     "output_type": "stream",
     "text": [
      "<generator object firstn at 0x7f4a57083c50>\n"
     ]
    }
   ],
   "source": [
    "def firstn(g, n):\n",
    "    for i in range(n):\n",
    "        yield g.__next__()\n",
    "print(firstn(pi_series(),10))"
   ]
  },
  {
   "cell_type": "code",
   "execution_count": 35,
   "metadata": {
    "slideshow": {
     "slide_type": "fragment"
    }
   },
   "outputs": [
    {
     "data": {
      "text/plain": [
       "[4.0,\n",
       " 2.666666666666667,\n",
       " 3.466666666666667,\n",
       " 2.8952380952380956,\n",
       " 3.3396825396825403,\n",
       " 2.9760461760461765,\n",
       " 3.2837384837384844,\n",
       " 3.017071817071818,\n",
       " 3.2523659347188767,\n",
       " 3.0418396189294032]"
      ]
     },
     "execution_count": 35,
     "metadata": {},
     "output_type": "execute_result"
    }
   ],
   "source": [
    "list(firstn(pi_series(),10))"
   ]
  },
  {
   "cell_type": "markdown",
   "metadata": {
    "slideshow": {
     "slide_type": "subslide"
    }
   },
   "source": [
    "Note that fib() conserves its status so starts the second call starts from a different value. \n",
    "\n",
    "Using list() on the generator object automatically calls next until the end\n",
    "\n",
    "Generators can be used in generator comprehensions, analogous to list comprehensions:"
   ]
  },
  {
   "cell_type": "code",
   "execution_count": 36,
   "metadata": {
    "slideshow": {
     "slide_type": "fragment"
    }
   },
   "outputs": [
    {
     "name": "stdout",
     "output_type": "stream",
     "text": [
      "[5, 9, 6] 3\n"
     ]
    }
   ],
   "source": [
    "my_list = [1, 3, 5, 9, 2, 6]\n",
    "filtered_list = [item for item in my_list if item > 3] # a list comprehension\n",
    "print(filtered_list,len(filtered_list))"
   ]
  },
  {
   "cell_type": "code",
   "execution_count": 37,
   "metadata": {
    "slideshow": {
     "slide_type": "fragment"
    }
   },
   "outputs": [
    {
     "name": "stdout",
     "output_type": "stream",
     "text": [
      "<generator object <genexpr> at 0x7f4a57083f10>\n"
     ]
    }
   ],
   "source": [
    "filtered_gen = (item for item in my_list if item > 3)\n",
    "print(filtered_gen)  # notice it's a generator object"
   ]
  },
  {
   "cell_type": "code",
   "execution_count": 38,
   "metadata": {
    "slideshow": {
     "slide_type": "fragment"
    }
   },
   "outputs": [
    {
     "name": "stdout",
     "output_type": "stream",
     "text": [
      "object of type 'generator' has no len()\n"
     ]
    }
   ],
   "source": [
    "#it has no length\n",
    "try: len(filtered_gen)\n",
    "except TypeError as e: print(e)"
   ]
  },
  {
   "cell_type": "code",
   "execution_count": 39,
   "metadata": {
    "slideshow": {
     "slide_type": "fragment"
    }
   },
   "outputs": [
    {
     "data": {
      "text/plain": [
       "5"
      ]
     },
     "execution_count": 39,
     "metadata": {},
     "output_type": "execute_result"
    }
   ],
   "source": [
    "filtered_gen.__next__()"
   ]
  },
  {
   "cell_type": "markdown",
   "metadata": {
    "slideshow": {
     "slide_type": "slide"
    }
   },
   "source": [
    "## Exercise"
   ]
  },
  {
   "cell_type": "markdown",
   "metadata": {
    "slideshow": {
     "slide_type": "subslide"
    }
   },
   "source": [
    "Use generators to implement the Euler accelerator on a series. If Sn is a converging sequence then convergence may  be speed up by:\n",
    "\n",
    "$$ S_{n+1}  - \\frac {(S_{n+1} - S_{n})^2} {S_{n+1} - 2S_n + S_{n-1}} $$"
   ]
  },
  {
   "cell_type": "code",
   "execution_count": 40,
   "metadata": {
    "collapsed": true,
    "slideshow": {
     "slide_type": "subslide"
    }
   },
   "outputs": [],
   "source": [
    "#Solution \n",
    "def euler_accelerator(series):\n",
    "    #initialization; g does not store values, as a list would do\n",
    "    s0 = series.next() # Sn-1\n",
    "    s1 = series.next() # Sn\n",
    "    s2 = series.next() # Sn+1\n",
    "    while 1: # Stop Iteration is given by series\n",
    "        yield s2 - ((s2 - s1)**2)/(s2 - 2.0*s1 + s0)\n",
    "        s0, s1, s2 = s1, s2, series.next() #wrap up"
   ]
  },
  {
   "cell_type": "code",
   "execution_count": 41,
   "metadata": {
    "slideshow": {
     "slide_type": "fragment"
    }
   },
   "outputs": [
    {
     "data": {
      "text/plain": [
       "<generator object euler_accelerator at 0x7f4a57083d58>"
      ]
     },
     "execution_count": 41,
     "metadata": {},
     "output_type": "execute_result"
    }
   ],
   "source": [
    "euler_accelerator(pi_series)"
   ]
  },
  {
   "cell_type": "code",
   "execution_count": 42,
   "metadata": {
    "slideshow": {
     "slide_type": "fragment"
    }
   },
   "outputs": [
    {
     "name": "stdout",
     "output_type": "stream",
     "text": [
      "3.140592653839794\n"
     ]
    }
   ],
   "source": [
    "while i<100:\n",
    "    a = euler_accelerator.__next__()\n",
    "    i += 1\n",
    "print(a)"
   ]
  },
  {
   "cell_type": "markdown",
   "metadata": {
    "slideshow": {
     "slide_type": "slide"
    }
   },
   "source": [
    "# The End!"
   ]
  }
 ],
 "metadata": {
  "celltoolbar": "Slideshow",
  "kernelspec": {
   "display_name": "Python 3",
   "language": "python",
   "name": "python3"
  },
  "language_info": {
   "codemirror_mode": {
    "name": "ipython",
    "version": 3
   },
   "file_extension": ".py",
   "mimetype": "text/x-python",
   "name": "python",
   "nbconvert_exporter": "python",
   "pygments_lexer": "ipython3",
   "version": "3.8.10"
  }
 },
 "nbformat": 4,
 "nbformat_minor": 1
}
