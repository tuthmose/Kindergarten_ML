{
 "cells": [
  {
   "cell_type": "markdown",
   "metadata": {
    "slideshow": {
     "slide_type": "slide"
    }
   },
   "source": [
    "# Artificial Neural Networks"
   ]
  },
  {
   "cell_type": "markdown",
   "metadata": {
    "slideshow": {
     "slide_type": "slide"
    }
   },
   "source": [
    "## Outline\n",
    "\n",
    "1. [Motivation](#motivation)\n",
    "2. [Biological Inspiration](#bio)\n",
    "3. [Simple model](#simple)\n",
    "4. [Perceptron](#percep)\n",
    "5. [NN Cost function](#cost)\n",
    "6. [NN Hands on](#four)\n",
    "7. [Self Organizing Maps](#som)"
   ]
  },
  {
   "cell_type": "markdown",
   "metadata": {
    "slideshow": {
     "slide_type": "subslide"
    }
   },
   "source": [
    "### Setup"
   ]
  },
  {
   "cell_type": "code",
   "execution_count": 1,
   "metadata": {
    "slideshow": {
     "slide_type": "fragment"
    }
   },
   "outputs": [],
   "source": [
    "import math\n",
    "import matplotlib as mpl\n",
    "import matplotlib.pyplot as plt\n",
    "import numpy as np\n",
    "import scipy as sp\n",
    "import sklearn.datasets as datasets\n",
    "import sklearn.model_selection as model_selection\n",
    "np.random.seed(2104753)"
   ]
  },
  {
   "cell_type": "markdown",
   "metadata": {
    "slideshow": {
     "slide_type": "skip"
    }
   },
   "source": [
    "<a id=\"motivation\"></a>"
   ]
  },
  {
   "cell_type": "markdown",
   "metadata": {
    "slideshow": {
     "slide_type": "slide"
    }
   },
   "source": [
    "# Motivation"
   ]
  },
  {
   "cell_type": "markdown",
   "metadata": {
    "slideshow": {
     "slide_type": "subslide"
    }
   },
   "source": [
    "Let's consider a highly non-linear classification task, like the one on the right"
   ]
  },
  {
   "cell_type": "markdown",
   "metadata": {
    "slideshow": {
     "slide_type": "fragment"
    }
   },
   "source": [
    "<div>\n",
    "<img src=\"nn1.jpg\" width=\"600\"/>\n",
    "</div"
   ]
  },
  {
   "cell_type": "markdown",
   "metadata": {
    "slideshow": {
     "slide_type": "subslide"
    }
   },
   "source": [
    "To obtain a decision boundary like the one plotted, one needs to introduce non-linear features in the form of quadratic and other higher order terms if using logistic regression"
   ]
  },
  {
   "cell_type": "markdown",
   "metadata": {
    "slideshow": {
     "slide_type": "fragment"
    }
   },
   "source": [
    "$$h(\\theta)=g(\\theta_0+\\theta_1 x_1+\\theta_2 x_2+\\theta_3x_1x_2+\\theta_4 x^2_1x_2+\\ldots)$$"
   ]
  },
  {
   "cell_type": "markdown",
   "metadata": {
    "slideshow": {
     "slide_type": "fragment"
    }
   },
   "source": [
    " or use highly non linear kernels with SVM"
   ]
  },
  {
   "cell_type": "markdown",
   "metadata": {
    "slideshow": {
     "slide_type": "subslide"
    }
   },
   "source": [
    "The number of terms in the hypotheses scales __exponentially__ with number of features $\\rightarrow$ __high probability__ of overfitting the data"
   ]
  },
  {
   "cell_type": "markdown",
   "metadata": {
    "slideshow": {
     "slide_type": "fragment"
    }
   },
   "source": [
    "ANN are a sort of scaled up logistic regression. They are more difficult and computationally intensive to train but highly effective"
   ]
  },
  {
   "cell_type": "markdown",
   "metadata": {
    "slideshow": {
     "slide_type": "subslide"
    }
   },
   "source": [
    "Origins: Algorithms that try to mimic the brain.  \n",
    "Was very widely used in 80s and early 90s; popularity diminished in late 90s.  \n",
    "Recent resurgence: State-of-the-art technique for many applications. \n",
    "Technological factors lead to its success."
   ]
  },
  {
   "cell_type": "markdown",
   "metadata": {
    "slideshow": {
     "slide_type": "fragment"
    }
   },
   "source": [
    "Remember class 1: factors leading to ML explosions."
   ]
  },
  {
   "cell_type": "markdown",
   "metadata": {
    "slideshow": {
     "slide_type": "fragment"
    }
   },
   "source": [
    "See also: (1) Pandey, M.; Fernandez, M.; Gentile, F.; Isayev, O.; Tropsha, A.; Stern, A. C.; Cherkasov, A. The Transformational Role of GPU Computing and Deep Learning in Drug Discovery. Nat Mach Intell 2022, 4 (3), 211–221. https://doi.org/10.1038/s42256-022-00463-x.\n"
   ]
  },
  {
   "cell_type": "markdown",
   "metadata": {
    "slideshow": {
     "slide_type": "subslide"
    }
   },
   "source": [
    "An autonomous vehicle project based on ANN from the late '80s"
   ]
  },
  {
   "cell_type": "markdown",
   "metadata": {
    "slideshow": {
     "slide_type": "fragment"
    }
   },
   "source": [
    "<div>\n",
    "    <img src=\"alvinn.png\" width=\"400\"/>\n",
    "</div"
   ]
  },
  {
   "cell_type": "markdown",
   "metadata": {
    "slideshow": {
     "slide_type": "fragment"
    }
   },
   "source": [
    "ALVINN: AN AUTONOMOUS LAND VEHICLE IN A NEURAL NETWORK - Dean A. Pomerleau"
   ]
  },
  {
   "cell_type": "markdown",
   "metadata": {
    "slideshow": {
     "slide_type": "skip"
    }
   },
   "source": [
    "<a id=\"one\"></a>"
   ]
  },
  {
   "cell_type": "markdown",
   "metadata": {
    "slideshow": {
     "slide_type": "slide"
    }
   },
   "source": [
    "# Biological Inspiration"
   ]
  },
  {
   "cell_type": "markdown",
   "metadata": {
    "slideshow": {
     "slide_type": "subslide"
    }
   },
   "source": [
    "- Analogy to biological neural systems  \n",
    "- Attempt to understand natural biological systems through computational modeling  \n",
    "- Massive parallelism allows for computational efficiency  (with current high-throughput architectures)\n",
    "- Intelligent behavior as an “emergent” property of large number of simple units rather than from explicitly encoded symbolic rules and algorithms."
   ]
  },
  {
   "cell_type": "markdown",
   "metadata": {
    "slideshow": {
     "slide_type": "subslide"
    }
   },
   "source": [
    "#### Basic algorithms"
   ]
  },
  {
   "cell_type": "markdown",
   "metadata": {
    "slideshow": {
     "slide_type": "fragment"
    }
   },
   "source": [
    "__Perceptron__: Initial algorithm for learning simple neural networks (single layer) developed in the 1950’s.  \n",
    "__Backpropagation__: More complex algorithm for learning multi-layer neural networks developed in the 1980’s."
   ]
  },
  {
   "cell_type": "markdown",
   "metadata": {
    "slideshow": {
     "slide_type": "subslide"
    }
   },
   "source": [
    "### One learning algorithm hypothesis"
   ]
  },
  {
   "cell_type": "markdown",
   "metadata": {
    "slideshow": {
     "slide_type": "fragment"
    }
   },
   "source": [
    "There is one basic algorithm that underlies most cortical perception processess; given different inputs, different parts of the cortex can learn to process them"
   ]
  },
  {
   "cell_type": "markdown",
   "metadata": {
    "slideshow": {
     "slide_type": "fragment"
    }
   },
   "source": [
    "<div>\n",
    "<img src=\"nn2.png\" width=\"600\"/>\n",
    "</div"
   ]
  },
  {
   "cell_type": "markdown",
   "metadata": {
    "slideshow": {
     "slide_type": "subslide"
    }
   },
   "source": [
    "<div>\n",
    "<img src=\"nn3.png\" width=\"600\"/>\n",
    "</div"
   ]
  },
  {
   "cell_type": "markdown",
   "metadata": {
    "slideshow": {
     "slide_type": "subslide"
    }
   },
   "source": [
    "<div>\n",
    "<img src=\"nn4.png\" width=\"600\"/>\n",
    "</div"
   ]
  },
  {
   "cell_type": "markdown",
   "metadata": {
    "slideshow": {
     "slide_type": "subslide"
    }
   },
   "source": [
    "<div>\n",
    "<img src=\"nn5.png\" width=\"600\"/>\n",
    "</div"
   ]
  },
  {
   "cell_type": "markdown",
   "metadata": {
    "slideshow": {
     "slide_type": "subslide"
    }
   },
   "source": [
    "- Neurons have a “switching time” on the order of a few milliseconds, compared to nanoseconds for current computing hardware.  \n",
    "- However, neural systems can perform complex cognitive tasks (vision, speech understanding) in tenths of a second.  \n",
    "- Only time for performing 100 serial steps in this time frame, compared to orders of magnitude more for current computers.  \n",
    "- Must be exploiting “massive parallelism.”  \n",
    "- Human brain has about $10^{11}$ neurons with an average of $10^4$ connections each.\n"
   ]
  },
  {
   "cell_type": "markdown",
   "metadata": {
    "slideshow": {
     "slide_type": "fragment"
    }
   },
   "source": [
    "- Electrical potential across cell membrane exhibits spikes called action potentials.  \n",
    "- Spike originates in cell body, travels down axon, and causes synaptic terminals to release neurotransmitters.\n",
    "- Chemical diffuses across synapse to dendrites of other neurons.\n",
    "- Neurotransmitters can be excititory or inhibitory.\n",
    "- If net input of neurotransmitters to a neuron from other neurons is excititory and exceeds some threshold, it fires an action potential."
   ]
  },
  {
   "cell_type": "markdown",
   "metadata": {
    "slideshow": {
     "slide_type": "fragment"
    }
   },
   "source": [
    "<div>\n",
    "<img src=\"nn6.png\" width=\"400\"/>\n",
    "</div"
   ]
  },
  {
   "cell_type": "markdown",
   "metadata": {
    "slideshow": {
     "slide_type": "subslide"
    }
   },
   "source": [
    "### Real world learning"
   ]
  },
  {
   "cell_type": "markdown",
   "metadata": {
    "slideshow": {
     "slide_type": "fragment"
    }
   },
   "source": [
    "- Synapses change size and strength with experience.\n",
    "- Hebbian learning: when two connected neurons are firing at the same time, the strength of the synapse between them increases.\n",
    "- “Neurons that fire together, wire together.”"
   ]
  },
  {
   "cell_type": "markdown",
   "metadata": {
    "slideshow": {
     "slide_type": "subslide"
    }
   },
   "source": [
    "ANN where initially devised as a model to study the brain and later on became an applicable technique."
   ]
  },
  {
   "cell_type": "markdown",
   "metadata": {
    "slideshow": {
     "slide_type": "skip"
    }
   },
   "source": [
    "<a id=\"simple\"></a>"
   ]
  },
  {
   "cell_type": "markdown",
   "metadata": {
    "slideshow": {
     "slide_type": "subslide"
    }
   },
   "source": [
    "## Create a model"
   ]
  },
  {
   "cell_type": "markdown",
   "metadata": {
    "slideshow": {
     "slide_type": "fragment"
    }
   },
   "source": [
    "Model network as a graph with cells as nodes and synaptic connections as weighted edges from node $i$ to node $j$, $w_{ji}$"
   ]
  },
  {
   "cell_type": "markdown",
   "metadata": {
    "slideshow": {
     "slide_type": "subslide"
    }
   },
   "source": [
    "A _graph_ $G(V,E)$ is a set of objects called _nodes_ or _vertexes_ joined by connections called _edges_. They are an abstraction used to represent many types of data including networks and molecules. Edges may have weights."
   ]
  },
  {
   "cell_type": "markdown",
   "metadata": {
    "slideshow": {
     "slide_type": "fragment"
    }
   },
   "source": [
    "For instance the carbon atoms in a benzene molecule form an _undirected graph_ with same weight edges (1.5 if using bond orders) of _order_ 6"
   ]
  },
  {
   "cell_type": "markdown",
   "metadata": {
    "slideshow": {
     "slide_type": "fragment"
    }
   },
   "source": [
    "The topology of a graph may be represented by the _adjacency matrix_ $A_{ij}$; for a non weighted graph:\n",
    "$$\\begin{cases}\n",
    "A_{ij} = 1\\ \\text{if}\\ V_i\\ \\text{and}\\ V_j\\ \\text{are connected} \\\\\n",
    "A_{ij} = 0\\ \\text{otherwise}\n",
    "\\end{cases}$$"
   ]
  },
  {
   "cell_type": "markdown",
   "metadata": {
    "slideshow": {
     "slide_type": "subslide"
    }
   },
   "source": [
    "For example $A$ for the carbon atoms of a benzene ring is (if atoms are connected in clockwise order):\n",
    "$$\\mathbf{A} =  \n",
    "\\left[ {\\begin{array}{cccccc}\n",
    "    0   & 1.5 & 0   & 0   & 0   & 1.5 \\\\\n",
    "    1.5 & 0   & 1.5 & 0   & 0   & 0   \\\\\n",
    "    0   & 1.5 & 0   & 1.5 & 0   & 0   \\\\\n",
    "    0   & 0   & 1.5 & 0   & 1.5 & 0   \\\\\n",
    "    0   & 0   & 0   & 1.5 & 0   & 1.5 \\\\\n",
    "    1.5 & 0   & 0   & 0   & 1.5 & 0   \\\\\n",
    "\\end{array}} \\right]$$"
   ]
  },
  {
   "cell_type": "markdown",
   "metadata": {
    "slideshow": {
     "slide_type": "subslide"
    }
   },
   "source": [
    "#### Cell model:logistic unit"
   ]
  },
  {
   "cell_type": "markdown",
   "metadata": {
    "slideshow": {
     "slide_type": "fragment"
    }
   },
   "source": [
    "Model net input to cell as\n",
    "$$ net_j = \\sum_i \\theta_{ji} a_i$$  \n",
    "where $\\theta_{ij}$ are the weights of the connections (synapses), $a_i$ the activations."
   ]
  },
  {
   "cell_type": "markdown",
   "metadata": {
    "slideshow": {
     "slide_type": "fragment"
    }
   },
   "source": [
    "about notation: most references use a $\\mathbf{w,x},b$ notation for SVM and perceptrons and so have I. For ANNs there is more diversity and I have used a notation as close as posssible to logistic regression."
   ]
  },
  {
   "cell_type": "markdown",
   "metadata": {
    "slideshow": {
     "slide_type": "fragment"
    }
   },
   "source": [
    "Cell output is  \n",
    "$$ o_j = \\begin{align} 0\\ \\  & if & net_j \\leq T_j \\\\ 1\\ \\  & if & net_j > T_j \\end{align} $$\n",
    "$T$ is the _Threshold_"
   ]
  },
  {
   "cell_type": "markdown",
   "metadata": {
    "slideshow": {
     "slide_type": "subslide"
    }
   },
   "source": [
    "very often a sigmoid activation function is used:\n",
    "$$ g(z) = \\frac{1}{1+e^{-z}}$$"
   ]
  },
  {
   "cell_type": "code",
   "execution_count": 2,
   "metadata": {
    "slideshow": {
     "slide_type": "fragment"
    }
   },
   "outputs": [
    {
     "data": {
      "text/plain": [
       "Text(0, 0.5, 'g(z)')"
      ]
     },
     "execution_count": 2,
     "metadata": {},
     "output_type": "execute_result"
    },
    {
     "data": {
      "image/png": "[encoded data removed]",
      "text/plain": [
       "<Figure size 432x288 with 1 Axes>"
      ]
     },
     "metadata": {
      "needs_background": "light"
     },
     "output_type": "display_data"
    }
   ],
   "source": [
    "z = np.linspace(-10,10,100)\n",
    "g = 1. / (1.+np.exp(-z))\n",
    "plt.plot(z, g, ls=\"-\",c='b')\n",
    "plt.grid()\n",
    "plt.xlabel('z')\n",
    "plt.ylabel('g(z)')"
   ]
  },
  {
   "cell_type": "markdown",
   "metadata": {
    "slideshow": {
     "slide_type": "subslide"
    }
   },
   "source": [
    "<div>\n",
    "<img src=\"neuron.png\" width=\"400\"/>\n",
    "</div"
   ]
  },
  {
   "cell_type": "markdown",
   "metadata": {
    "slideshow": {
     "slide_type": "subslide"
    }
   },
   "source": [
    "Assume that supervised training examples yielding the desired output are available. The ouput of unit given a set of known input activations is known. \n",
    "Learn synaptic weights so that unit produces the correct output for each example. Stacking layers of multiple cell together we can build a network."
   ]
  },
  {
   "cell_type": "markdown",
   "metadata": {
    "slideshow": {
     "slide_type": "fragment"
    }
   },
   "source": [
    "<div>\n",
    "<img src=\"network.png\" width=\"400\"/>\n",
    "</div"
   ]
  },
  {
   "cell_type": "markdown",
   "metadata": {
    "slideshow": {
     "slide_type": "subslide"
    }
   },
   "source": [
    "Activation in the __second__ layer ($a^{\\mathbf{2}}$):  \n",
    "$$\\begin{align}\n",
    "a_1^{2} &=&  g(\\Theta_{10}^1 x_0 + \\Theta_{11}^1 x_1 + \\Theta_{12}^1 x_2+ \\Theta_{13}^1 x_3) \\\\\n",
    "a_2^{2} &=&  g(\\Theta_{20}^1 x_0 + \\Theta_{21}^1 x_1 + \\Theta_{22}^1 x_2+ \\Theta_{23}^1 x_3) \\\\\n",
    "a_3^{2} &=&  g(\\Theta_{30}^1 x_0 + \\Theta_{31}^1 x_1 + \\Theta_{32}^1 x_3+ \\Theta_{33}^1 x_3) \n",
    "\\end{align}$$\n",
    "\n",
    "If network has $s_j$ units in layer $j$ and $s_{j+1}$ units in layer $j+1$ then the connections $\\Theta^{(j)}$ connecting the layers\n",
    "will be of dimensions $s_j \\times s_{j+1}$"
   ]
  },
  {
   "cell_type": "markdown",
   "metadata": {
    "slideshow": {
     "slide_type": "skip"
    }
   },
   "source": [
    "<a id=\"percep\"></a>"
   ]
  },
  {
   "cell_type": "markdown",
   "metadata": {
    "slideshow": {
     "slide_type": "slide"
    }
   },
   "source": [
    "## Perceptron"
   ]
  },
  {
   "cell_type": "markdown",
   "metadata": {
    "slideshow": {
     "slide_type": "subslide"
    }
   },
   "source": [
    "The perceptron is a simple supervised machine learning algorithm and one of the earliest **neural network** architectures. It was introduced by Rosenblatt in the late 1950s. A perceptron represents a **binary linear classifier** that maps a set of training examples (of $d$ dimensional input vectors) onto binary output values using a $d-1$ dimensional hyperplane. The Perceptron uses iterative update algorithm to learn a correct set of weights."
   ]
  },
  {
   "cell_type": "markdown",
   "metadata": {
    "slideshow": {
     "slide_type": "fragment"
    }
   },
   "source": [
    "Given a training set of $m$ dimensional training examples $\\in \\mathbb{R}^n$ the Perceptron Learning Algorithm (PLA) tries to find a function which can predict labels.\n",
    "The hypothesis function of the Perceptron is $h(\\mathbf{x}) = sign(\\mathbf{w}\\mathbf{x})$ which is the equation of a _hyperplane_ (remember SVM)."
   ]
  },
  {
   "cell_type": "markdown",
   "metadata": {
    "slideshow": {
     "slide_type": "subslide"
    }
   },
   "source": [
    "More formally:   \n",
    "- dataset $\\{(\\boldsymbol{x}^{(1)}, y^{(1)}), ..., (\\boldsymbol{x}^{(m)}, y^{(m)})\\}$\n",
    "- with $\\boldsymbol{x}^{(i)}$ being a $d-$dimensional vector $\\boldsymbol{x}^i = (x^{(i)}_1, ..., x^{(i)}_n)$\n",
    "- $y^{(i)}$ being a binary target variable, $y^{(i)} \\in \\{-1,1\\}$\n",
    "\n",
    "The perceptron is a very simple neural network:\n",
    "- it has a real-valued weight vector $\\boldsymbol{w}= (w^{(1)}, ..., w^{(n)})$\n",
    "- it has a real-valued bias $b$ ($x_0$)\n",
    "- it uses the _Heaviside_ step function as its activation function: \n",
    "$$ H(x) = \\begin{cases}\n",
    "1\\ & \\text{if}\\ x\\gt 0\\\\\n",
    "0\\ & \\text{if}\\ x\\leq 0\\\\\n",
    "\\end{cases}$$"
   ]
  },
  {
   "cell_type": "code",
   "execution_count": 3,
   "metadata": {
    "slideshow": {
     "slide_type": "subslide"
    }
   },
   "outputs": [
    {
     "data": {
      "text/plain": [
       "Text(0.5, 1.0, 'Heaviside function')"
      ]
     },
     "execution_count": 3,
     "metadata": {},
     "output_type": "execute_result"
    },
    {
     "data": {
      "image/png": "[encoded data removed]",
      "text/plain": [
       "<Figure size 576x432 with 1 Axes>"
      ]
     },
     "metadata": {
      "needs_background": "light"
     },
     "output_type": "display_data"
    }
   ],
   "source": [
    "fig = plt.figure(figsize=(8,6))\n",
    "x = np.linspace(-2,2,300)\n",
    "y = np.zeros(x.shape[0])\n",
    "y = np.where(x <= 0, 0, 1)\n",
    "plt.plot(x,y,ls=\"-\",c='b')\n",
    "plt.grid()\n",
    "plt.xlabel(\"x\")\n",
    "plt.ylabel(\"H(x)\")\n",
    "points = np.array(((0,0),(0,0.5),(0,1)))\n",
    "plt.scatter(points[:,0],points[:,1],marker='o',s=50,c='b')\n",
    "plt.title('Heaviside function')"
   ]
  },
  {
   "cell_type": "markdown",
   "metadata": {
    "slideshow": {
     "slide_type": "subslide"
    }
   },
   "source": [
    "A perceptron is trained using **subgradient descent** as $sign$ is not differentiable (btw this is true for SVM as well). After initialization (step 0) the other steps (see below) are repeated for a specified number of training iterations or until the parameters have converged."
   ]
  },
  {
   "cell_type": "markdown",
   "metadata": {
    "slideshow": {
     "slide_type": "fragment"
    }
   },
   "source": [
    "**Step 0:** Initialize the weight vector and bias with zeros (or small random values)."
   ]
  },
  {
   "cell_type": "markdown",
   "metadata": {
    "slideshow": {
     "slide_type": "fragment"
    }
   },
   "source": [
    "**Step 1:** Compute a linear combination of the input features and weights:\n",
    "$\\boldsymbol{a} = \\boldsymbol{X} \\cdot \\boldsymbol{w} + b$\n",
    "\n",
    "where $\\boldsymbol{X}\\in \\mathbb{R}^{m\\times n}$ is a matrix of shape $(m_{samples}, n_{features})$ that holds all training examples."
   ]
  },
  {
   "cell_type": "markdown",
   "metadata": {
    "slideshow": {
     "slide_type": "fragment"
    }
   },
   "source": [
    "**Step 2:** Apply the Heaviside function, which returns binary values:\n",
    "\n",
    "$\\hat{y}^{(i)} = 1 \\, \\text{if} \\, a^{(i)} \\geq 0, \\, \\text{else} \\, 0$"
   ]
  },
  {
   "cell_type": "markdown",
   "metadata": {
    "slideshow": {
     "slide_type": "fragment"
    }
   },
   "source": [
    "**Step 3:** Compute the weight updates using the perceptron learning rule\n",
    "\n",
    "\\begin{equation}\n",
    "\\Delta \\boldsymbol{w} = \\alpha \\, \\boldsymbol{X}^T \\cdot \\big(\\boldsymbol{\\hat{y}} - \\boldsymbol{y} \\big)\n",
    "\\end{equation}\n",
    "$$ \\Delta b = \\alpha \\, \\big(\\boldsymbol{\\hat{y}} - \\boldsymbol{y} \\big) $$\n",
    "\n",
    "where $\\alpha$ is the learning rate and $\\hat{y}$ the true labels."
   ]
  },
  {
   "cell_type": "markdown",
   "metadata": {
    "slideshow": {
     "slide_type": "fragment"
    }
   },
   "source": [
    "**Step 4:** Update the weights and bias\n",
    "$$\n",
    "\\begin{equation}\n",
    "\\boldsymbol{w} = \\boldsymbol{w} + \\Delta \\boldsymbol{w}\n",
    "\\end{equation}\n",
    "$$\n",
    "$$\n",
    "b = b  + \\Delta b\n",
    "$$"
   ]
  },
  {
   "cell_type": "markdown",
   "metadata": {
    "slideshow": {
     "slide_type": "fragment"
    }
   },
   "source": [
    "<div>\n",
    "<img src=\"nn9.png\" width=\"600\"/>\n",
    "</div>"
   ]
  },
  {
   "cell_type": "markdown",
   "metadata": {
    "slideshow": {
     "slide_type": "subslide"
    }
   },
   "source": [
    "### Perceptron object"
   ]
  },
  {
   "cell_type": "code",
   "execution_count": 4,
   "metadata": {
    "slideshow": {
     "slide_type": "subslide"
    }
   },
   "outputs": [],
   "source": [
    "class Perceptron():\n",
    "    def __init__(self,  learning_rate=0.05, maxEpochs=100):\n",
    "        self.alpha = learning_rate\n",
    "        self.maxEpochs = maxEpochs\n",
    "\n",
    "    def train(self, X, y, weights=False, bias=0):\n",
    "        n_samples, n_features = X.shape\n",
    "\n",
    "        # Step 0: Initialize the parameters\n",
    "        if not np.any(weights):\n",
    "            self.weights = np.random.rand(n_features,1)\n",
    "        else:\n",
    "            self.weights = np.copy(weights)\n",
    "        self.bias = bias\n",
    "\n",
    "        for i in range(self.maxEpochs):\n",
    "            # Step 1: Compute the activation\n",
    "            a = np.dot(X, self.weights) + self.bias\n",
    "            # Step 2: Compute the output\n",
    "            y_predict = self._step_function(a)\n",
    "        \n",
    "            # Step 3: Compute weight updates\n",
    "            delta_w = self.alpha * np.dot(X.T, (y - y_predict))\n",
    "            delta_b = self.alpha * np.sum(y - y_predict)\n",
    "            # Step 4: Update the parameters\n",
    "            self.weights += delta_w\n",
    "            self.bias += delta_b\n",
    "\n",
    "        return self.weights, self.bias\n",
    "    \n",
    "    def _step_function(self, x):\n",
    "        pass\n",
    "\n",
    "    def predict(self, X):\n",
    "        pass"
   ]
  },
  {
   "cell_type": "markdown",
   "metadata": {
    "slideshow": {
     "slide_type": "subslide"
    }
   },
   "source": [
    "### Exercise 1"
   ]
  },
  {
   "cell_type": "markdown",
   "metadata": {
    "slideshow": {
     "slide_type": "fragment"
    }
   },
   "source": [
    "1. Why the np.copy? \n",
    "2. Implement the `predict` and `step_function` methods.\n",
    "3. Add way to check for convergence."
   ]
  },
  {
   "cell_type": "markdown",
   "metadata": {
    "slideshow": {
     "slide_type": "subslide"
    }
   },
   "source": [
    "<div>\n",
    "<img src=\"gears.png\" width=\"400\"/>\n",
    "</div>"
   ]
  },
  {
   "cell_type": "markdown",
   "metadata": {
    "slideshow": {
     "slide_type": "subslide"
    }
   },
   "source": [
    "### Solution"
   ]
  },
  {
   "cell_type": "code",
   "execution_count": 5,
   "metadata": {
    "slideshow": {
     "slide_type": "subslide"
    }
   },
   "outputs": [],
   "source": [
    "class Perceptron():\n",
    "    def __init__(self,  learning_rate=0.05, maxEpochs=100, conv=1e-5):\n",
    "        self.alpha = learning_rate\n",
    "        self.maxEpochs = maxEpochs\n",
    "        self.conv = conv\n",
    "\n",
    "    def train(self, X, y, weights=False, bias=0):\n",
    "        n_samples, n_features = X.shape\n",
    "\n",
    "        # Step 0: Initialize the parameters\n",
    "        if not np.any(weights):\n",
    "            self.weights = np.random.rand(n_features,1)\n",
    "        else:\n",
    "            self.weights = np.copy(weights)\n",
    "        self.bias = bias\n",
    "        self.error = list()\n",
    "\n",
    "        for i in range(self.maxEpochs):\n",
    "            # Step 1: Compute the activation\n",
    "            a = np.dot(X, self.weights) + self.bias\n",
    "\n",
    "            # Step 2: Compute the output\n",
    "            y_predict = self._step_function(a)\n",
    "            self.error.append(100.*(len(np.where(y_predict!=y)[0])/n_samples))\n",
    "            \n",
    "            # Step 3: Compute weight updates\n",
    "            delta_w = self.alpha * np.dot(X.T, (y - y_predict))\n",
    "            delta_b = self.alpha * np.sum(y - y_predict)\n",
    "            # Step 4: Update the parameters\n",
    "            self.weights += delta_w\n",
    "            self.bias += delta_b\n",
    "            if np.all(delta_w)<self.conv and delta_b<self.conv:\n",
    "                break            \n",
    "        self.max_train = i\n",
    "        return self.weights, self.bias\n",
    "\n",
    "    def _step_function(self, x):\n",
    "        return np.array([1 if elem >= 0 else 0 for elem in x])[:, np.newaxis]\n",
    "\n",
    "    def predict(self, X):\n",
    "        a = np.dot(X, self.weights) + self.bias\n",
    "        return self._step_function(a)"
   ]
  },
  {
   "cell_type": "markdown",
   "metadata": {
    "slideshow": {
     "slide_type": "subslide"
    }
   },
   "source": [
    "### Dataset"
   ]
  },
  {
   "cell_type": "code",
   "execution_count": 6,
   "metadata": {
    "slideshow": {
     "slide_type": "fragment"
    }
   },
   "outputs": [
    {
     "data": {
      "image/png": "[encoded data removed]",
      "text/plain": [
       "<Figure size 576x432 with 1 Axes>"
      ]
     },
     "metadata": {
      "needs_background": "light"
     },
     "output_type": "display_data"
    }
   ],
   "source": [
    "X, y = datasets.make_blobs(n_samples=1000, centers=2, random_state=1)\n",
    "fig = plt.figure(figsize=(8,6))\n",
    "plt.scatter(X[:,0], X[:,1], c=y)\n",
    "plt.title(\"Dataset\")\n",
    "plt.xlabel(\"First feature\")\n",
    "plt.ylabel(\"Second feature\")\n",
    "plt.show()"
   ]
  },
  {
   "cell_type": "code",
   "execution_count": 7,
   "metadata": {
    "slideshow": {
     "slide_type": "subslide"
    }
   },
   "outputs": [
    {
     "name": "stdout",
     "output_type": "stream",
     "text": [
      "Shape X_train: (750, 2)\n",
      "Shape y_train: (750, 1))\n",
      "Shape X_test: (250, 2)\n",
      "Shape y_test: (250, 1)\n"
     ]
    }
   ],
   "source": [
    "y_true = y[:, np.newaxis]\n",
    "X_train, X_test, y_train, y_test = \\\n",
    "    model_selection.train_test_split(X, y_true, test_size=0.25,shuffle=True, random_state=1)\n",
    "print(f'Shape X_train: {X_train.shape}')\n",
    "print(f'Shape y_train: {y_train.shape})')\n",
    "print(f'Shape X_test: {X_test.shape}')\n",
    "print(f'Shape y_test: {y_test.shape}')"
   ]
  },
  {
   "cell_type": "markdown",
   "metadata": {
    "slideshow": {
     "slide_type": "subslide"
    }
   },
   "source": [
    "### Training"
   ]
  },
  {
   "cell_type": "code",
   "execution_count": 8,
   "metadata": {
    "slideshow": {
     "slide_type": "fragment"
    }
   },
   "outputs": [],
   "source": [
    "w0 = np.array((-1.,1.))[:, np.newaxis]\n",
    "b0 = -6\n",
    "p = Perceptron(learning_rate=0.01, maxEpochs=100)\n",
    "w_trained, b_trained = p.train(X_train, y_train, weights=w0, bias=b0)"
   ]
  },
  {
   "cell_type": "code",
   "execution_count": 9,
   "metadata": {
    "slideshow": {
     "slide_type": "fragment"
    }
   },
   "outputs": [
    {
     "data": {
      "text/plain": [
       "(array([[-11.39540489],\n",
       "        [-17.90197315]]),\n",
       " -6.659999999999993,\n",
       " 38)"
      ]
     },
     "execution_count": 9,
     "metadata": {},
     "output_type": "execute_result"
    }
   ],
   "source": [
    "w_trained, b_trained, p.max_train"
   ]
  },
  {
   "cell_type": "markdown",
   "metadata": {
    "slideshow": {
     "slide_type": "subslide"
    }
   },
   "source": [
    "### Testing"
   ]
  },
  {
   "cell_type": "code",
   "execution_count": 10,
   "metadata": {
    "slideshow": {
     "slide_type": "fragment"
    }
   },
   "outputs": [
    {
     "name": "stdout",
     "output_type": "stream",
     "text": [
      "training accuracy: 100.0%\n",
      "test accuracy: 100.0%\n"
     ]
    }
   ],
   "source": [
    "y_p_train = p.predict(X_train)\n",
    "y_p_test = p.predict(X_test)\n",
    "\n",
    "print(f\"training accuracy: {100 - np.mean(np.abs(y_p_train - y_train)) * 100}%\")\n",
    "print(f\"test accuracy: {100 - np.mean(np.abs(y_p_test - y_test)) * 100}%\")"
   ]
  },
  {
   "cell_type": "code",
   "execution_count": 11,
   "metadata": {
    "slideshow": {
     "slide_type": "fragment"
    }
   },
   "outputs": [],
   "source": [
    "def plot_hyperplane(X, y, weights, bias):\n",
    "    \"\"\"\n",
    "    Plots the dataset and the estimated decision hyperplane\n",
    "    \"\"\"\n",
    "    slope = - weights[0]/weights[1]\n",
    "    intercept = - bias/weights[1]\n",
    "    x_hyperplane = np.linspace(np.min(X[:,0]),np.max(X[:,0]),10)\n",
    "    y_hyperplane = slope * x_hyperplane + intercept\n",
    "    return x_hyperplane, y_hyperplane"
   ]
  },
  {
   "cell_type": "code",
   "execution_count": 12,
   "metadata": {
    "slideshow": {
     "slide_type": "subslide"
    }
   },
   "outputs": [
    {
     "data": {
      "text/plain": [
       "Text(0.5, 0, 'steps')"
      ]
     },
     "execution_count": 12,
     "metadata": {},
     "output_type": "execute_result"
    },
    {
     "data": {
      "image/png": "[encoded data removed]",
      "text/plain": [
       "<Figure size 720x432 with 2 Axes>"
      ]
     },
     "metadata": {
      "needs_background": "light"
     },
     "output_type": "display_data"
    }
   ],
   "source": [
    "fig = plt.figure(figsize=(10,6))\n",
    "plt.subplot(121)\n",
    "plt.scatter(X[:,0], X[:,1], c=y)\n",
    "x_1, y_1 = plot_hyperplane(X, y, w0, b0)\n",
    "plt.plot(x_1, y_1, '--',c='c',label='initial hyperplane')\n",
    "x_hyperplane, y_hyperplane = plot_hyperplane(X, y, w_trained, b_trained)\n",
    "plt.plot(x_hyperplane, y_hyperplane, '-',c='b',label='final hyperplane')\n",
    "plt.title(\"Dataset and fitted decision hyperplane\")\n",
    "plt.xlabel(\"First feature\")\n",
    "plt.ylabel(\"Second feature\")\n",
    "plt.legend()\n",
    "plt.subplot(122)\n",
    "plt.plot( p.error[:10])\n",
    "plt.ylabel('PLA error')\n",
    "plt.xlabel('steps')"
   ]
  },
  {
   "cell_type": "markdown",
   "metadata": {
    "slideshow": {
     "slide_type": "subslide"
    }
   },
   "source": [
    "The figure above shows that the Perceptron learns quickly from the train data set but fails to generalize stopping\n",
    "as soon as possible. The maximum margin sought after with SVM is a generalization"
   ]
  },
  {
   "cell_type": "markdown",
   "metadata": {
    "slideshow": {
     "slide_type": "skip"
    }
   },
   "source": [
    "<a id=\"three\"></a>"
   ]
  },
  {
   "cell_type": "markdown",
   "metadata": {
    "slideshow": {
     "slide_type": "slide"
    }
   },
   "source": [
    "# NN: cost function"
   ]
  },
  {
   "cell_type": "markdown",
   "metadata": {
    "slideshow": {
     "slide_type": "fragment"
    }
   },
   "source": [
    "<div>\n",
    "    <img src=\"ibm_deep_ann.png\" width=\"500\"/>\n",
    "</div>"
   ]
  },
  {
   "cell_type": "markdown",
   "metadata": {
    "slideshow": {
     "slide_type": "fragment"
    }
   },
   "source": [
    "- $L$ = total number of layers in network\n",
    "- $s_j$ = number of nodes in layer $j$"
   ]
  },
  {
   "cell_type": "markdown",
   "metadata": {
    "slideshow": {
     "slide_type": "fragment"
    }
   },
   "source": [
    "Binary classification: $y \\in {0,1}$\n",
    "1 output unit"
   ]
  },
  {
   "cell_type": "markdown",
   "metadata": {
    "slideshow": {
     "slide_type": "fragment"
    }
   },
   "source": [
    "Multiclass classification: $K$ classes $\\to K$ output units"
   ]
  },
  {
   "cell_type": "markdown",
   "metadata": {
    "slideshow": {
     "slide_type": "subslide"
    }
   },
   "source": [
    "**Cost function**"
   ]
  },
  {
   "cell_type": "markdown",
   "metadata": {
    "slideshow": {
     "slide_type": "fragment"
    }
   },
   "source": [
    "Logistic regression:"
   ]
  },
  {
   "cell_type": "markdown",
   "metadata": {
    "slideshow": {
     "slide_type": "fragment"
    }
   },
   "source": [
    "$$ J(\\theta) = -\\frac{1}{m} [\\sum_{i=1}^m y^{(i)} log h_\\theta (x^{(i)}) + (1-y^{(i)} log (1-h_\\theta (x^{(i)}) + \\frac{\\lambda}{2 m}\\sum_{j=1}^n \\theta_j^2 $$"
   ]
  },
  {
   "cell_type": "markdown",
   "metadata": {
    "slideshow": {
     "slide_type": "fragment"
    }
   },
   "source": [
    "Neural network:"
   ]
  },
  {
   "cell_type": "markdown",
   "metadata": {
    "slideshow": {
     "slide_type": "fragment"
    }
   },
   "source": [
    "$$ h_\\Theta(x) \\in R^K, \\ \\ h_\\Theta(x^{(i)}) = i^{th} output $$\n",
    "$$ J(\\Theta) = -\\frac{1}{m} [\\sum_{i=1}^m \\sum_{k=1}^K y^{(i)}_k log(h_\\theta (x^{(i)}))_k + (1-y^{(i)}_k log (1-h_\\theta (x^{(i)}_k) + \\frac{\\lambda}{2 m}\\sum_{l=1}^{L-1}\\sum_{i=1}^{s_l}\\sum_{j=1}^{s_{l+1}} \\theta_j^2 ]$$"
   ]
  },
  {
   "cell_type": "markdown",
   "metadata": {
    "slideshow": {
     "slide_type": "subslide"
    }
   },
   "source": [
    "## Backpropagation"
   ]
  },
  {
   "cell_type": "markdown",
   "metadata": {
    "slideshow": {
     "slide_type": "subslide"
    }
   },
   "source": [
    "The derivative of a sigmoid unit with respect to net input is:\n",
    "$$ \\frac{\\partial o_j}{\\partial net_j} = o_j (1-o_j) $$\n",
    "and we use the gradient descent learning rule"
   ]
  },
  {
   "cell_type": "code",
   "execution_count": 13,
   "metadata": {},
   "outputs": [
    {
     "name": "stdout",
     "output_type": "stream",
     "text": [
      "03_NeuralNetworks-Copy1.ipynb  alvinn.png\t   nn2.png\r\n",
      "03_NeuralNetworks-Copy2.ipynb  gears.png\t   nn3.png\r\n",
      "03_NeuralNetworks-Copy3.ipynb  ibm_deep_ann_2.png  nn4.png\r\n",
      "03_NeuralNetworks-Copy4.ipynb  ibm_deep_ann.png    nn5.png\r\n",
      "03_NeuralNetworks-Copy5.ipynb  network.png\t   nn6.png\r\n",
      "03_NeuralNetworks-Copy6.ipynb  neuron.png\t   nn9.png\r\n",
      "03_NeuralNetworks-Copy7.ipynb  nn13.png\t\t   Perceptron_test.ipynb\r\n",
      "03_NeuralNetworks.ipynb        nn1.jpg\r\n"
     ]
    }
   ],
   "source": [
    "!ls"
   ]
  },
  {
   "cell_type": "markdown",
   "metadata": {
    "slideshow": {
     "slide_type": "fragment"
    }
   },
   "source": [
    "<div>\n",
    "<img src=\"ibm_deep_ann_2.png\" width=\"400\"/>\n",
    "</div>"
   ]
  },
  {
   "cell_type": "markdown",
   "metadata": {
    "slideshow": {
     "slide_type": "subslide"
    }
   },
   "source": [
    "### Forward propagation"
   ]
  },
  {
   "cell_type": "markdown",
   "metadata": {
    "slideshow": {
     "slide_type": "fragment"
    }
   },
   "source": [
    "Let's understand what happens with a __trained__ network."
   ]
  },
  {
   "cell_type": "markdown",
   "metadata": {
    "slideshow": {
     "slide_type": "fragment"
    }
   },
   "source": [
    "For a cell in a network with __2__ hidden layers:  \n",
    "- $a^{(1)} = x $  \n",
    "- $z^{(2)} = \\Theta^{(1)}a^{(1)}$ z is the sum of activations.  \n",
    "- $a^{(2)} = g(z^{(2)})+a^{(2)}_0$  \n",
    "- $z^{(3)} = \\Theta^{(2)}a^{(2)}$ \n",
    "- $a^{(3)} = g(z^{(3)})+a^{(3)}_0$ \n",
    "- $z^{(4)} = \\Theta^{(3)}a^{(3)}$  \n",
    "- $a^{(4)} = h_{\\Theta}(x) = g(z^{(4)})$ "
   ]
  },
  {
   "cell_type": "markdown",
   "metadata": {
    "slideshow": {
     "slide_type": "subslide"
    }
   },
   "source": [
    "Each weight changed by:\n",
    "\n",
    "$$ \\delta_j^L = a_j^L - y_j$$\n",
    "$$ \\delta_j^{L-1} = (\\Theta_j^3)^T \\delta_j^4 * g^\\prime (z_3) $$ \n",
    "\n",
    "where $\\alpha$ is the learning rate\n",
    "$t_j$ is the correct teacher output for unit $j$\n",
    "$\\delta_j$ is the error measure for unit $j$"
   ]
  },
  {
   "cell_type": "markdown",
   "metadata": {
    "slideshow": {
     "slide_type": "subslide"
    }
   },
   "source": [
    "**Example**\n",
    "- Create the 3-layer network with H hidden units with full connectivity  between layers. Set weights to small random real values.\n",
    "- Until all training examples produce the correct value (within ε), or MSE ceases to decrease, or other termination criteria:\n",
    "        -Begin epoch\n",
    "        -For each training example, d, do:\n",
    "             Calculate network output for d’s input values \n",
    "             Compute error between current output and correct output for d\n",
    "             Update weights by backpropagating error and using learning rule\n",
    "        -End epoch"
   ]
  },
  {
   "cell_type": "markdown",
   "metadata": {
    "slideshow": {
     "slide_type": "fragment"
    }
   },
   "source": [
    "- Not guaranteed to converge to zero training error, may converge to local optima or oscillate indefinitely.  \n",
    "- Usually does converge to low error for many large networks on real data.  \n",
    "- Many epochs (thousands) may be required.  \n",
    "- To avoid local-minima problems, run several trials starting with different random weights (random restarts).  "
   ]
  },
  {
   "cell_type": "markdown",
   "metadata": {
    "slideshow": {
     "slide_type": "subslide"
    }
   },
   "source": [
    "### Exercise 2"
   ]
  },
  {
   "cell_type": "markdown",
   "metadata": {
    "slideshow": {
     "slide_type": "fragment"
    }
   },
   "source": [
    "How to prevent premature convergence to a local minimum?"
   ]
  },
  {
   "cell_type": "markdown",
   "metadata": {
    "slideshow": {
     "slide_type": "subslide"
    }
   },
   "source": [
    "<div>\n",
    "<img src=\"gears.png\" width=\"400\"/>\n",
    "</div>"
   ]
  },
  {
   "cell_type": "markdown",
   "metadata": {
    "slideshow": {
     "slide_type": "subslide"
    }
   },
   "source": [
    "### Solution 1"
   ]
  },
  {
   "cell_type": "markdown",
   "metadata": {
    "slideshow": {
     "slide_type": "fragment"
    }
   },
   "source": [
    "(1) Tran-Ngoc, H.; Khatir, S.; Le-Xuan, T.; Tran-Viet, H.; De Roeck, G.; Bui-Tien, T.; Wahab, M. A. Damage Assessment in Structures Using Artificial Neural Network Working and a Hybrid Stochastic Optimization. Sci Rep 2022, 12 (1), 4958. https://doi.org/10.1038/s41598-022-09126-8.\n"
   ]
  },
  {
   "cell_type": "markdown",
   "metadata": {
    "slideshow": {
     "slide_type": "fragment"
    }
   },
   "source": [
    "From the abstract:  \n",
    "Artificial neural network (ANN) has been commonly used to deal with many problems. However, since this algorithm applies backpropagation algorithms based on gradient descent (GD) technique to look for the best solution, the network may face major risks of being entrapped in local minima. To overcome those drawbacks of ANN, in this work, we propose a novel ANN working parallel with __metaheuristic algorithms__ (MAs) to train the network"
   ]
  },
  {
   "cell_type": "markdown",
   "metadata": {
    "slideshow": {
     "slide_type": "skip"
    }
   },
   "source": [
    "<a id=\"four\"></a>"
   ]
  },
  {
   "cell_type": "markdown",
   "metadata": {
    "slideshow": {
     "slide_type": "slide"
    }
   },
   "source": [
    "## NN hands on"
   ]
  },
  {
   "cell_type": "markdown",
   "metadata": {
    "slideshow": {
     "slide_type": "subslide"
    }
   },
   "source": [
    "map $2$ dimensional input vectors onto binary output values. Use $2$ input neurons, one hidden layer with $6$ hidden neurons and an output layer with $1$ output neuron. \n",
    "\n",
    "The weight matrix between the input and hidden layer will be denoted as $W_h$, the weight matrix between the hidden and output layer as $W_o$. In addition to the weights connecting the neurons, each hidden and output neuron will have a bias weight with a constant input of $+1$.\n",
    "\n",
    "Our training set consists of $m = 750$ examples. Therefore, we will have the following matrix shapes:\n",
    "- Training set shape: $X = (750, 2)$\n",
    "- Targets shape: $Y = (750, 1)$\n",
    "- $W_h$ shape: $(n_{features}, n_{hidden}) = (2, 6)$\n",
    "- $b_h$ shape (bias vector): $(1, n_{hidden}) = (1, 6)$ \n",
    "- $W_o$ shape: $(n_{hidden}, n_{outputs}) = (6, 1)$\n",
    "- $b_o$ shape (bias vector): $(1, n_{outputs}) = (1, 1)$ "
   ]
  },
  {
   "cell_type": "markdown",
   "metadata": {
    "slideshow": {
     "slide_type": "subslide"
    }
   },
   "source": [
    "Start by computing the activation and output of each unit in our network. Use the following notation:\n",
    "\n",
    "- $\\boldsymbol{A}_h$: matrix with activations of all hidden units for all training examples\n",
    "- $\\boldsymbol{O}_h$: matrix with outputs of all hidden units for all training examples\n"
   ]
  },
  {
   "cell_type": "markdown",
   "metadata": {
    "slideshow": {
     "slide_type": "subslide"
    }
   },
   "source": [
    "The hidden neurons will have $\\tanh$ as their activation function:\n",
    "\\begin{equation}\n",
    "\\tanh(x) = \\frac{sinh(x)}{cosh(x)} = \\frac{\\exp(x) - exp(-x)}{\\exp(x) + exp(-x)}\n",
    "\\end{equation}\n",
    "\\begin{equation}\n",
    "\\tanh'(x) = 1 - tanh^2(x)\n",
    "\\end{equation}\n",
    "\n",
    "The output neurons will have the $\\textit{sigmoid}$ activation function:\n",
    "\\begin{equation}\n",
    "\\sigma(x) = \\frac{1}{1 + \\exp(-x)}\n",
    "\\end{equation}\n",
    "\\begin{equation}\n",
    "\\sigma'(x) = 1 - (1 + \\sigma(x))\n",
    "\\end{equation}"
   ]
  },
  {
   "cell_type": "markdown",
   "metadata": {
    "slideshow": {
     "slide_type": "fragment"
    }
   },
   "source": [
    "The activations and outputs can then be computed as follows:\n",
    "\n",
    "\\begin{equation}\n",
    "\\boldsymbol{A}_h = \\boldsymbol{X} \\cdot \\boldsymbol{W}_h + \\boldsymbol{b}_h, \\text{shape: } (750, 6)\n",
    "\\end{equation}\n",
    "\\begin{equation}\n",
    "\\boldsymbol{O}_h = \\sigma(\\boldsymbol{A}_h), \\text{shape: } (750, 6)\n",
    "\\end{equation}\n",
    "\n",
    "\\begin{equation}\n",
    "\\boldsymbol{A}_o = \\boldsymbol{O}_h \\cdot \\boldsymbol{W}_o + b_o, \\text{shape: } (750, 1)\n",
    "\\end{equation}\n",
    "\\begin{equation}\n",
    "\\boldsymbol{O}_o = \\sigma(\\boldsymbol{A}_o), \\text{shape: } (750, 1)\n",
    "\\end{equation}"
   ]
  },
  {
   "cell_type": "markdown",
   "metadata": {
    "slideshow": {
     "slide_type": "subslide"
    }
   },
   "source": [
    "### Dataset"
   ]
  },
  {
   "cell_type": "code",
   "execution_count": 14,
   "metadata": {
    "slideshow": {
     "slide_type": "fragment"
    }
   },
   "outputs": [
    {
     "data": {
      "image/png": "[encoded data removed]",
      "text/plain": [
       "<Figure size 576x432 with 1 Axes>"
      ]
     },
     "metadata": {
      "needs_background": "light"
     },
     "output_type": "display_data"
    }
   ],
   "source": [
    "X, y = datasets.make_circles(n_samples=1000, factor=0.5, noise=.1)\n",
    "\n",
    "fig = plt.figure(figsize=(8,6))\n",
    "plt.scatter(X[:,0], X[:,1], c=y)\n",
    "plt.xlim([-1.5, 1.5])\n",
    "plt.ylim([-1.5, 1.5])\n",
    "plt.title(\"Dataset\")\n",
    "plt.xlabel(\"First feature\")\n",
    "plt.ylabel(\"Second feature\")\n",
    "plt.show()"
   ]
  },
  {
   "cell_type": "code",
   "execution_count": 15,
   "metadata": {
    "slideshow": {
     "slide_type": "fragment"
    }
   },
   "outputs": [
    {
     "name": "stdout",
     "output_type": "stream",
     "text": [
      "Shape X_train: (750, 2)\n",
      "Shape y_train: (750, 1))\n",
      "Shape X_test: (250, 2)\n",
      "Shape y_test: (250, 1)\n"
     ]
    }
   ],
   "source": [
    "# reshape targets to get column vector with shape (n_samples, 1)\n",
    "y_true = y[:, np.newaxis]\n",
    "# Split the data into a training and test set\n",
    "X_train, X_test, y_train, y_test = \\\n",
    "    model_selection.train_test_split(X, y_true, test_size=0.25,shuffle=True, random_state=1)\n",
    "print(f'Shape X_train: {X_train.shape}')\n",
    "print(f'Shape y_train: {y_train.shape})')\n",
    "print(f'Shape X_test: {X_test.shape}')\n",
    "print(f'Shape y_test: {y_test.shape}')"
   ]
  },
  {
   "cell_type": "markdown",
   "metadata": {},
   "source": [
    "## NN class"
   ]
  },
  {
   "cell_type": "code",
   "execution_count": 16,
   "metadata": {},
   "outputs": [],
   "source": [
    "class NeuralNet():\n",
    "    \n",
    "    def __init__(self, n_inputs, n_outputs, n_hidden):\n",
    "        self.n_inputs = n_inputs\n",
    "        self.n_outputs = n_outputs\n",
    "        self.hidden = n_hidden\n",
    "\n",
    "        # Initialize weight matrices and bias vectors\n",
    "        self.W_h = np.random.randn(self.n_inputs, self.hidden)\n",
    "        self.b_h = np.zeros((1, self.hidden))\n",
    "        self.W_o = np.random.randn(self.hidden, self.n_outputs)\n",
    "        self.b_o = np.zeros((1, self.n_outputs))\n",
    "\n",
    "    def _sigmoid(self, a):\n",
    "        return 1 / (1 + np.exp(-a))\n",
    "\n",
    "    def _forward_pass(self, X):\n",
    "        \"\"\"\n",
    "        Propagates the given input X forward through the net.\n",
    "\n",
    "        Returns:\n",
    "            A_h: matrix with activations of all hidden neurons for all input examples\n",
    "            O_h: matrix with outputs of all hidden neurons for all input examples\n",
    "            A_o: matrix with activations of all output neurons for all input examples\n",
    "            O_o: matrix with outputs of all output neurons for all input examples\n",
    "        \"\"\"\n",
    "        # Compute activations and outputs of hidden units\n",
    "        A_h = np.dot(X, self.W_h) + self.b_h\n",
    "        O_h = np.tanh(A_h)\n",
    "\n",
    "        # Compute activations and outputs of output units\n",
    "        A_o = np.dot(O_h, self.W_o) + self.b_o\n",
    "        O_o = self._sigmoid(A_o)\n",
    "\n",
    "        outputs = {\n",
    "                \"A_h\": A_h,\n",
    "                \"A_o\": A_o,\n",
    "                \"O_h\": O_h,\n",
    "                \"O_o\": O_o,\n",
    "                }\n",
    "\n",
    "        return outputs\n",
    "\n",
    "    def _backward_pass(self,  X, Y, n_samples, outputs):\n",
    "        \"\"\"\n",
    "        Propagates the errors backward through the net.\n",
    "\n",
    "        Returns:\n",
    "            dW_h: partial derivatives of loss function w.r.t hidden weights\n",
    "            db_h: partial derivatives of loss function w.r.t hidden bias\n",
    "            dW_o: partial derivatives of loss function w.r.t output weights\n",
    "            db_o: partial derivatives of loss function w.r.t output bias\n",
    "        \"\"\"\n",
    "        pass\n",
    "\n",
    "    def _update_weights(self, gradients, alpha):\n",
    "        \"\"\"\n",
    "        Updates the model parameters using a fixed learning rate\n",
    "        \"\"\"\n",
    "        pass\n",
    "\n",
    "    def _cost(self, y_true, y_predict, n_samples):\n",
    "        \"\"\"\n",
    "        Computes and returns the cost over all examples\n",
    "        \"\"\"\n",
    "        # same cost function as in logistic regression\n",
    "        cost = (- 1 / n_samples) * np.sum(y_true * np.log(y_predict) + (1 - y_true) * (np.log(1 - y_predict)))\n",
    "        cost = np.squeeze(cost)\n",
    "        assert isinstance(cost, float)\n",
    "        return cost\n",
    "    \n",
    "\n",
    "    def train(self, X, y, n_iters=500, alpha=0.3):\n",
    "        \"\"\"\n",
    "        Trains the neural net on the given input data\n",
    "        \"\"\"\n",
    "        n_samples, _ = X.shape\n",
    "\n",
    "        for i in range(n_iters):\n",
    "            outputs = self._forward_pass(X)\n",
    "            cost = self._cost(y, outputs[\"O_o\"], n_samples=n_samples)\n",
    "            gradients = self._backward_pass(X, y, n_samples, outputs)\n",
    "\n",
    "            if i % 100 == 0:\n",
    "                print(f'Cost at iteration {i}: {np.round(cost, 4)}')\n",
    "\n",
    "            self._update_weights(gradients, alpha)\n",
    "\n",
    "\n",
    "    def predict(self, X):\n",
    "        \"\"\"\n",
    "        Computes and returns network predictions for given dataset\n",
    "        \"\"\"\n",
    "        outputs = self._forward_pass(X)\n",
    "        y_pred = [1 if elem >= 0.5 else 0 for elem in outputs[\"O_o\"]]\n",
    "\n",
    "        return np.array(y_pred)[:, np.newaxis]"
   ]
  },
  {
   "cell_type": "markdown",
   "metadata": {
    "slideshow": {
     "slide_type": "subslide"
    }
   },
   "source": [
    "### Exercise 3\n",
    "Implement the `backward pass` and `update_weights` methods."
   ]
  },
  {
   "cell_type": "markdown",
   "metadata": {
    "slideshow": {
     "slide_type": "fragment"
    }
   },
   "source": [
    "<div>\n",
    "<img src=\"gears.png\" width=\"400\"/>\n",
    "</div>"
   ]
  },
  {
   "cell_type": "markdown",
   "metadata": {
    "slideshow": {
     "slide_type": "subslide"
    }
   },
   "source": [
    "### Solution "
   ]
  },
  {
   "cell_type": "code",
   "execution_count": 17,
   "metadata": {
    "slideshow": {
     "slide_type": "fragment"
    }
   },
   "outputs": [],
   "source": [
    "class NeuralNet():\n",
    "    \n",
    "    def __init__(self, n_inputs, n_outputs, n_hidden):\n",
    "        self.n_inputs = n_inputs\n",
    "        self.n_outputs = n_outputs\n",
    "        self.hidden = n_hidden\n",
    "\n",
    "        # Initialize weight matrices and bias vectors\n",
    "        self.W_h = np.random.randn(self.n_inputs, self.hidden)\n",
    "        self.b_h = np.zeros((1, self.hidden))\n",
    "        self.W_o = np.random.randn(self.hidden, self.n_outputs)\n",
    "        self.b_o = np.zeros((1, self.n_outputs))\n",
    "\n",
    "    def _sigmoid(self, a):\n",
    "        return 1 / (1 + np.exp(-a))\n",
    "\n",
    "    def _forward_pass(self, X):\n",
    "        \"\"\"\n",
    "        Propagates the given input X forward through the net.\n",
    "\n",
    "        Returns:\n",
    "            A_h: matrix with activations of all hidden neurons for all input examples\n",
    "            O_h: matrix with outputs of all hidden neurons for all input examples\n",
    "            A_o: matrix with activations of all output neurons for all input examples\n",
    "            O_o: matrix with outputs of all output neurons for all input examples\n",
    "        \"\"\"\n",
    "        # Compute activations and outputs of hidden units\n",
    "        A_h = np.dot(X, self.W_h) + self.b_h\n",
    "        O_h = np.tanh(A_h)\n",
    "\n",
    "        # Compute activations and outputs of output units\n",
    "        A_o = np.dot(O_h, self.W_o) + self.b_o\n",
    "        O_o = self._sigmoid(A_o)\n",
    "\n",
    "        outputs = {\n",
    "                \"A_h\": A_h,\n",
    "                \"A_o\": A_o,\n",
    "                \"O_h\": O_h,\n",
    "                \"O_o\": O_o,\n",
    "                }\n",
    "\n",
    "        return outputs\n",
    "\n",
    "    def _cost(self, y_true, y_predict, n_samples):\n",
    "        \"\"\"\n",
    "        Computes and returns the cost over all examples\n",
    "        \"\"\"\n",
    "        # same cost function as in logistic regression\n",
    "        cost = (- 1 / n_samples) * np.sum(y_true * np.log(y_predict) + (1 - y_true) * (np.log(1 - y_predict)))\n",
    "        cost = np.squeeze(cost)\n",
    "        assert isinstance(cost, float)\n",
    "        return cost\n",
    "\n",
    "    def _backward_pass(self,  X, Y, n_samples, outputs):\n",
    "        \"\"\"\n",
    "        Propagates the errors backward through the net.\n",
    "\n",
    "        Returns:\n",
    "            dW_h: partial derivatives of loss function w.r.t hidden weights\n",
    "            db_h: partial derivatives of loss function w.r.t hidden bias\n",
    "            dW_o: partial derivatives of loss function w.r.t output weights\n",
    "            db_o: partial derivatives of loss function w.r.t output bias\n",
    "        \"\"\"\n",
    "\n",
    "        dA_o = (outputs[\"O_o\"] - Y)\n",
    "        dW_o = (1 / n_samples) * np.dot(outputs[\"O_h\"].T, dA_o)\n",
    "        db_o = (1 / n_samples) * np.sum(dA_o)\n",
    "\n",
    "        dA_h = (np.dot(dA_o, self.W_o.T)) * (1 - np.power(outputs[\"O_h\"], 2))\n",
    "        dW_h = (1 / n_samples) * np.dot(X.T, dA_h)\n",
    "        db_h = (1 / n_samples) * np.sum(dA_h)\n",
    "\n",
    "        gradients = {\n",
    "                \"dW_o\": dW_o,\n",
    "                \"db_o\": db_o,\n",
    "                \"dW_h\": dW_h,\n",
    "                \"db_h\": db_h,\n",
    "                }\n",
    "        return gradients\n",
    "\n",
    "    def _update_weights(self, gradients, alpha):\n",
    "        \"\"\"\n",
    "        Updates the model parameters using a fixed learning rate\n",
    "        \"\"\"\n",
    "        self.W_o = self.W_o - alpha * gradients[\"dW_o\"]\n",
    "        self.W_h = self.W_h - alpha * gradients[\"dW_h\"]\n",
    "        self.b_o = self.b_o - alpha * gradients[\"db_o\"]\n",
    "        self.b_h = self.b_h - alpha * gradients[\"db_h\"]\n",
    "\n",
    "    def train(self, X, y, n_iters=500, alpha=0.3):\n",
    "        \"\"\"\n",
    "        Trains the neural net on the given input data\n",
    "        \"\"\"\n",
    "        n_samples, _ = X.shape\n",
    "\n",
    "        for i in range(n_iters):\n",
    "            outputs = self._forward_pass(X)\n",
    "            cost = self._cost(y, outputs[\"O_o\"], n_samples=n_samples)\n",
    "            gradients = self._backward_pass(X, y, n_samples, outputs)\n",
    "\n",
    "            if i % 100 == 0:\n",
    "                print(f'Cost at iteration {i}: {np.round(cost, 4)}')\n",
    "\n",
    "            self._update_weights(gradients, alpha)\n",
    "\n",
    "\n",
    "    def predict(self, X):\n",
    "        \"\"\"\n",
    "        Computes and returns network predictions for given dataset\n",
    "        \"\"\"\n",
    "        outputs = self._forward_pass(X)\n",
    "        y_pred = [1 if elem >= 0.5 else 0 for elem in outputs[\"O_o\"]]\n",
    "\n",
    "        return np.array(y_pred)[:, np.newaxis]"
   ]
  },
  {
   "cell_type": "markdown",
   "metadata": {
    "slideshow": {
     "slide_type": "subslide"
    }
   },
   "source": [
    "### Training"
   ]
  },
  {
   "cell_type": "code",
   "execution_count": 18,
   "metadata": {
    "slideshow": {
     "slide_type": "fragment"
    }
   },
   "outputs": [
    {
     "name": "stdout",
     "output_type": "stream",
     "text": [
      "Shape of weight matrices and bias vectors:\n",
      "W_h shape: (2, 6)\n",
      "b_h shape: (1, 6)\n",
      "W_o shape: (6, 1)\n",
      "b_o shape: (1, 1)\n",
      "\n",
      "Training:\n",
      "Cost at iteration 0: 0.855\n",
      "Cost at iteration 100: 0.2249\n",
      "Cost at iteration 200: 0.1385\n",
      "Cost at iteration 300: 0.1061\n",
      "Cost at iteration 400: 0.0887\n",
      "Cost at iteration 500: 0.0774\n",
      "Cost at iteration 600: 0.069\n",
      "Cost at iteration 700: 0.0623\n",
      "Cost at iteration 800: 0.0567\n",
      "Cost at iteration 900: 0.052\n",
      "Cost at iteration 1000: 0.048\n",
      "Cost at iteration 1100: 0.0446\n",
      "Cost at iteration 1200: 0.0418\n",
      "Cost at iteration 1300: 0.0393\n",
      "Cost at iteration 1400: 0.0373\n",
      "Cost at iteration 1500: 0.0355\n",
      "Cost at iteration 1600: 0.034\n",
      "Cost at iteration 1700: 0.0327\n",
      "Cost at iteration 1800: 0.0315\n",
      "Cost at iteration 1900: 0.0305\n"
     ]
    }
   ],
   "source": [
    "nn = NeuralNet(n_inputs=2, n_hidden=6, n_outputs=1)\n",
    "print(\"Shape of weight matrices and bias vectors:\")\n",
    "print(f'W_h shape: {nn.W_h.shape}')\n",
    "print(f'b_h shape: {nn.b_h.shape}')\n",
    "print(f'W_o shape: {nn.W_o.shape}')\n",
    "print(f'b_o shape: {nn.b_o.shape}')\n",
    "print()\n",
    "\n",
    "print(\"Training:\")\n",
    "nn.train(X_train, y_train, n_iters=2000, alpha=0.7)"
   ]
  },
  {
   "cell_type": "markdown",
   "metadata": {
    "slideshow": {
     "slide_type": "subslide"
    }
   },
   "source": [
    "### Test"
   ]
  },
  {
   "cell_type": "code",
   "execution_count": 19,
   "metadata": {
    "slideshow": {
     "slide_type": "fragment"
    }
   },
   "outputs": [
    {
     "name": "stdout",
     "output_type": "stream",
     "text": [
      "Classification accuracy on test set: 99.2 %\n"
     ]
    }
   ],
   "source": [
    "n_test_samples, _ = X_test.shape\n",
    "y_predict = nn.predict(X_test)\n",
    "print(f\"Classification accuracy on test set: {(np.sum(y_predict == y_test)/n_test_samples)*100} %\")"
   ]
  },
  {
   "cell_type": "markdown",
   "metadata": {},
   "source": [
    "TODO: plot db."
   ]
  },
  {
   "cell_type": "markdown",
   "metadata": {
    "slideshow": {
     "slide_type": "skip"
    }
   },
   "source": [
    "<a id=\"som\"></a>"
   ]
  },
  {
   "cell_type": "markdown",
   "metadata": {
    "slideshow": {
     "slide_type": "slide"
    }
   },
   "source": [
    "## Self Organizing Maps"
   ]
  },
  {
   "cell_type": "markdown",
   "metadata": {},
   "source": [
    "## The End!"
   ]
  }
 ],
 "metadata": {
  "celltoolbar": "Slideshow",
  "kernelspec": {
   "display_name": "Python 3",
   "language": "python",
   "name": "python3"
  },
  "language_info": {
   "codemirror_mode": {
    "name": "ipython",
    "version": 3
   },
   "file_extension": ".py",
   "mimetype": "text/x-python",
   "name": "python",
   "nbconvert_exporter": "python",
   "pygments_lexer": "ipython3",
   "version": "3.8.10"
  }
 },
 "nbformat": 4,
 "nbformat_minor": 2
}
