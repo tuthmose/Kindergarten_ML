{
 "cells": [
  {
   "cell_type": "markdown",
   "id": "5d649c98",
   "metadata": {},
   "source": [
    "## Self Organizing Maps"
   ]
  },
  {
   "cell_type": "markdown",
   "id": "222a175c",
   "metadata": {},
   "source": [
    "https://github.com/abhinavralhan/kohonen-maps/blob/master/som-random.ipynb  \n",
    "https://github.com/rodrigo-pena/kohonen-maps/blob/master/kohonen.py\n",
    "https://bronwojtek.github.io/neuralnets-in-raw-python/docs/som.html"
   ]
  },
  {
   "cell_type": "code",
   "execution_count": 1,
   "id": "1c384b6a",
   "metadata": {},
   "outputs": [],
   "source": [
    "import math\n",
    "import matplotlib as mpl\n",
    "import matplotlib.pyplot as plt\n",
    "import numpy as np\n",
    "import scipy as sp\n",
    "import sklearn.datasets as datasets\n",
    "import sklearn.model_selection as model_selection\n",
    "np.random.seed(2104753)"
   ]
  },
  {
   "cell_type": "code",
   "execution_count": null,
   "id": "7bb4b6d0",
   "metadata": {},
   "outputs": [],
   "source": [
    "class kohoen_map:\n",
    "    \n",
    "    def __init__(self,num_neurons,alpha_init,metric):\n",
    "        \"\"\"\n",
    "        - num_neurons: the number of neurons along each dimension\n",
    "        - metric: the distance definition used for comparing vectors\n",
    "        - alpha_init: initial learning rate\n",
    "        \"\"\"\n",
    "        self.num_neurons = num_neurons\n",
    "        self.metric = metric\n",
    "        self.alpha_init = alpha_init\n",
    "        \n",
    "    def _decay_radius(self, step):\n",
    "        time_constant = self.ntraining_step / np.log(self.radius_init)\n",
    "        return self.radius_init * np.exp(-step / time_constant)\n",
    "\n",
    "    def _decay_learning_rate(self, step):\n",
    "        return self.alpha_init * np.exp(-step / self.ntraining_step)    \n",
    "    \n",
    "    def _calculate_influence(distance, radius):\n",
    "        return np.exp(-distance / (2* (radius**2)))\n",
    "    \n",
    "    def _find_BMU(self, point, step):\n",
    "        D = sp.spatial.distance.cdist(point, self.neurons)\n",
    "        # D is 1xn_neurons\n",
    "        bmu = np.argmin(D)\n",
    "        return bmu\n",
    "    \n",
    "    def train(self, X, nsteps=int(1e4), net_shape=2):\n",
    "        \"\"\"\n",
    "        train SOM for nsteps over features X\n",
    "        assume X is feature scaled\n",
    "        - radius_init: initial neighbouhood radius        \n",
    "        \"\"\"\n",
    "        self.m = X.shape[0]\n",
    "        self.n = X.shape[1]\n",
    "\n",
    "        # distribute the neurons randomly\n",
    "        self.net = np.random.random((self.num_neurons,self.num_neurons,self.m))\n",
    "        self.radius_init = np.max((self.net.shape))/2\n",
    "        \n",
    "        # train the net\n",
    "        xlabels = np.arange(X.shape[0])\n",
    "        for step in range(nsteps):\n",
    "            \n",
    "            # pick a random point\n",
    "            point  = np.random.choice(xlabels)\n",
    "            \n",
    "            # find the BMU\n",
    "            bmu = self._find_bmu(point, step)\n",
    "            \n",
    "            # update radius and learning rate\n",
    "            radius = self._decay_radius(step)\n",
    "            alpha  = self._decay_learning_rate(step)\n",
    "            \n",
    "            # update weight vector to move closer to input\n",
    "            # and move its neighbours in 2-D vector space closer\n",
    "            bmu_coords = self.net[bmu]\n",
    "            dnet = sp.spatial.distance.cdist(bmu_coords, self.net)\n",
    "            dradius = dnet[dnet < radius]\n",
    "            for w in range(dradius.shape[0]):\n",
    "                if dradius[w]:\n",
    "                    # for points within radius calculate the effect of the bmu\n",
    "                    effect = self._calculate_effect(dnet[w], radius)\n",
    "                    new_weight = weight + (alpha*effect*(point-weight))\n",
    "                    net[] = _"
   ]
  },
  {
   "cell_type": "code",
   "execution_count": 9,
   "id": "ddb8d223",
   "metadata": {},
   "outputs": [
    {
     "data": {
      "text/plain": [
       "((5, 5, 100), 2500)"
      ]
     },
     "execution_count": 9,
     "metadata": {},
     "output_type": "execute_result"
    }
   ],
   "source": [
    "net = np.random.random((5, 5, 100))\n",
    "net.shape, net.size"
   ]
  },
  {
   "cell_type": "code",
   "execution_count": 10,
   "id": "48f430e3",
   "metadata": {},
   "outputs": [
    {
     "data": {
      "text/plain": [
       "((3, 100), 300)"
      ]
     },
     "execution_count": 10,
     "metadata": {},
     "output_type": "execute_result"
    }
   ],
   "source": [
    "raw_data = np.random.randint(0, 255, (3, 100))\n",
    "raw_data.shape, raw_data.size"
   ]
  }
 ],
 "metadata": {
  "kernelspec": {
   "display_name": "Python 3 (ipykernel)",
   "language": "python",
   "name": "python3"
  },
  "language_info": {
   "codemirror_mode": {
    "name": "ipython",
    "version": 3
   },
   "file_extension": ".py",
   "mimetype": "text/x-python",
   "name": "python",
   "nbconvert_exporter": "python",
   "pygments_lexer": "ipython3",
   "version": "3.8.10"
  }
 },
 "nbformat": 4,
 "nbformat_minor": 5
}
