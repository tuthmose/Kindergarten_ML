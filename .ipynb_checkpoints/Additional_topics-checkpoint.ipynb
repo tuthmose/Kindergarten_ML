{
 "cells": [
  {
   "cell_type": "markdown",
   "id": "1e15e318",
   "metadata": {},
   "source": [
    "# Additional topics"
   ]
  },
  {
   "cell_type": "markdown",
   "id": "7c1d416b",
   "metadata": {},
   "source": [
    "A brief list of topics not covered in the course that may be the object for a presentation:\n",
    "- Kernel based regressions\n",
    "- Independent component analysis\n",
    "- Spectral clustering\n",
    "- Support vector regressions\n",
    "- Self Organizing Maps"
   ]
  }
 ],
 "metadata": {
  "kernelspec": {
   "display_name": "Python 3 (ipykernel)",
   "language": "python",
   "name": "python3"
  },
  "language_info": {
   "codemirror_mode": {
    "name": "ipython",
    "version": 3
   },
   "file_extension": ".py",
   "mimetype": "text/x-python",
   "name": "python",
   "nbconvert_exporter": "python",
   "pygments_lexer": "ipython3",
   "version": "3.8.10"
  }
 },
 "nbformat": 4,
 "nbformat_minor": 5
}
