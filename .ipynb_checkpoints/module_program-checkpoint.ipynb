{
 "cells": [
  {
   "cell_type": "markdown",
   "metadata": {
    "slideshow": {
     "slide_type": "slide"
    }
   },
   "source": [
    "# Medicinal Physical Chemsitry \n",
    "## machine learning module"
   ]
  },
  {
   "cell_type": "markdown",
   "metadata": {
    "slideshow": {
     "slide_type": "subslide"
    }
   },
   "source": [
    " <font color='red'>lezioni effettuate</font> 11 h  \n",
    " da fare 14\n",
    " **Lezioni in presenza**"
   ]
  },
  {
   "cell_type": "markdown",
   "metadata": {
    "slideshow": {
     "slide_type": "fragment"
    }
   },
   "source": [
    "1. **<font color='red'>Python crash course (4h) (10/11 marzo)</font>** \n",
    "2. <font color='red'>Basic supervised learning: linear and logistic regression (2h) 25 marzo</font> \n",
    "3. **<font color='red'>Unsupervised learning: dimensionality reduction (3h) 8 aprile</font>**\n",
    "4. **<font color='red'>Unsupervised learning: clustering methods (2h) 8 aprile</font>** \n",
    "5. Cross validation venerdì 22 aprile 1430 - 1630 (in remoto)\n",
    "6. Decision trees giovedì 28 aprile 1100 - 1300 (in presenza)\n",
    "7. Optimization with metaheuristics venerdì 29 aprile 1430 - 1630 (in presenza)\n",
    "8. Support vector machines 2h\n",
    "9. SOM 2h\n",
    "10. Artificial neural networks 4h"
   ]
  }
 ],
 "metadata": {
  "celltoolbar": "Slideshow",
  "kernelspec": {
   "display_name": "Python 3",
   "language": "python",
   "name": "python3"
  },
  "language_info": {
   "codemirror_mode": {
    "name": "ipython",
    "version": 3
   },
   "file_extension": ".py",
   "mimetype": "text/x-python",
   "name": "python",
   "nbconvert_exporter": "python",
   "pygments_lexer": "ipython3",
   "version": "3.8.10"
  }
 },
 "nbformat": 4,
 "nbformat_minor": 4
}
