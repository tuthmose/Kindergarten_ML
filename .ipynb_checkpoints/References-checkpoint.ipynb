{
 "cells": [
  {
   "cell_type": "markdown",
   "metadata": {
    "slideshow": {
     "slide_type": "slide"
    }
   },
   "source": [
    "# References "
   ]
  },
  {
   "cell_type": "markdown",
   "metadata": {
    "slideshow": {
     "slide_type": "subslide"
    }
   },
   "source": [
    "## Python"
   ]
  },
  {
   "cell_type": "markdown",
   "metadata": {
    "slideshow": {
     "slide_type": "fragment"
    }
   },
   "source": [
    "1. Romano, F.; Kruger, H. Learn Python Programming An In-Depth Introduction to the Fundamentals of Python, 3rd Edition.; Packt Publishing, Limited: Birmingham, 2021.\n",
    "2. Klosterman, S.; O’Reilly for Higher Education (Firm); Safari,  an O. M. C. Data Science Projects with Python - Second Edition; 2021.\n",
    "3. Ramalho, L. Fluent Python, First edition.; O’Reilly: Sebastopol, CA, 2015.\n",
    "4. McKinney, W. Python for Data Analysis; O’Reilly: Beijing, 2013."
   ]
  },
  {
   "cell_type": "markdown",
   "metadata": {
    "slideshow": {
     "slide_type": "subslide"
    }
   },
   "source": [
    "## General on ML"
   ]
  },
  {
   "cell_type": "markdown",
   "metadata": {
    "slideshow": {
     "slide_type": "fragment"
    }
   },
   "source": [
    "1. Unpincgo, J. Python for probability, Statistics and Machine Learning; Springer 2016; ISBN 978-3-319-30715-2\n",
    "2. Smola A, Vishwanathan, S. V. N. Introduction to Machine Learning, Cambridge 2008\n",
    "3. Cohelho, L. P., Richert W. Building Machine Learning Systems with Python. Packt publishing, 2013"
   ]
  },
  {
   "cell_type": "markdown",
   "metadata": {
    "slideshow": {
     "slide_type": "slide"
    }
   },
   "source": [
    "## Supervised learning"
   ]
  },
  {
   "cell_type": "markdown",
   "metadata": {
    "slideshow": {
     "slide_type": "fragment"
    }
   },
   "source": [
    "1. An Introduction to Statistical Learning: With Applications in R; James, G., Witten, D., Hastie, T., Tibshirani, R., Eds.; Springer texts in statistics; Springer: New York, 2013.  \n",
    "2. Ahmad, I. 40 Algorithms Every Programmer Should Know; Packt Publishing: S.l., 2020.  \n",
    "3. Python for Probability, Statistics, and Machine Learning; Springer Berlin Heidelberg: New York, NY, 2016.  \n",
    "4. Alexandre Kowalczyk. Support Vector Machines Succintly. 2017 Syncfusion inc."
   ]
  },
  {
   "cell_type": "markdown",
   "metadata": {
    "slideshow": {
     "slide_type": "subslide"
    }
   },
   "source": [
    "## Unsupervised learning"
   ]
  },
  {
   "cell_type": "markdown",
   "metadata": {
    "slideshow": {
     "slide_type": "fragment"
    }
   },
   "source": [
    "1. Han, J.; Kamber, M. Data Mining: Concepts and Techniques, 3rd ed.; Elsevier: Burlington, MA, 2011.    \n",
    "2. Data Clustering: Algorithms and Applications; Aggarwal, C. C., Reddy, C. K., Eds.; Chapman & Hall/CRC data mining and knowledge discovery series; Chapman and Hall/CRC: Boca Raton, 2014.  \n",
    "3. Dangeti, P. Statistics for Machine Learning: Techniques for Exploring Supervised, Unsupervised, and Reinforcement Learning Models with Python and R; Packt Publishing: Birmingham, UK, 2017.  "
   ]
  },
  {
   "cell_type": "markdown",
   "metadata": {
    "slideshow": {
     "slide_type": "subslide"
    }
   },
   "source": [
    "## Metaheuristics"
   ]
  },
  {
   "cell_type": "markdown",
   "metadata": {
    "slideshow": {
     "slide_type": "fragment"
    }
   },
   "source": [
    "1. Eyal Wirsanski. Hands on genetic algorithms with Python. Packt publishing 2020.\n",
    "2. David E. Goldberg. Genetic Algorithms in search, optimization e Machine Learning. Addison Wesley, 1985.\n",
    "3. Luke S, Essentials of Metaheursitcs, Online version 2.2, 2015"
   ]
  },
  {
   "cell_type": "markdown",
   "metadata": {
    "slideshow": {
     "slide_type": "subslide"
    }
   },
   "source": [
    "## SVM"
   ]
  },
  {
   "cell_type": "markdown",
   "metadata": {
    "slideshow": {
     "slide_type": "fragment"
    }
   },
   "source": [
    "Kowalczyk, A.; Support Vector Machines Succintly; Syncfusion ebooks, 2017"
   ]
  },
  {
   "cell_type": "markdown",
   "metadata": {
    "slideshow": {
     "slide_type": "subslide"
    }
   },
   "source": [
    "## ANNs"
   ]
  },
  {
   "attachments": {},
   "cell_type": "markdown",
   "metadata": {
    "slideshow": {
     "slide_type": "fragment"
    }
   },
   "source": [
    "1. McCaffrey, J., Neural Netowrks Using C#, Succintly; Syncfusion ebooks, 2017\n",
    "2. Géron, A., Hands on Machine Learning with Scikit Learn & TensorFlow, 2018\n",
    "3. Kneusel, R. D., Practical Deep Learning, a Python based introduction, No starch Press 2021"
   ]
  }
 ],
 "metadata": {
  "celltoolbar": "Slideshow",
  "kernelspec": {
   "display_name": "Python 3 (ipykernel)",
   "language": "python",
   "name": "python3"
  },
  "language_info": {
   "codemirror_mode": {
    "name": "ipython",
    "version": 3
   },
   "file_extension": ".py",
   "mimetype": "text/x-python",
   "name": "python",
   "nbconvert_exporter": "python",
   "pygments_lexer": "ipython3",
   "version": "3.8.10"
  }
 },
 "nbformat": 4,
 "nbformat_minor": 4
}
