{
 "cells": [
  {
   "cell_type": "markdown",
   "metadata": {
    "slideshow": {
     "slide_type": "slide"
    }
   },
   "source": [
    "# Conformer search"
   ]
  },
  {
   "cell_type": "markdown",
   "metadata": {
    "slideshow": {
     "slide_type": "subslide"
    }
   },
   "source": [
    "## Outline"
   ]
  },
  {
   "cell_type": "markdown",
   "metadata": {
    "slideshow": {
     "slide_type": "fragment"
    }
   },
   "source": [
    "- [What is conformational search](#conf_search)\n",
    "- [A simple example](#glycine)\n",
    "- [Strike a balance: accuracy vs computational cost](#strike)\n",
    "- [Island model $(\\lambda+\\mu)$ EA](#ea)\n",
    "- [Beyond dihedral angles](#silver)\n",
    "- [The importance of seeding](#latin)"
   ]
  },
  {
   "cell_type": "markdown",
   "metadata": {
    "slideshow": {
     "slide_type": "skip"
    }
   },
   "source": [
    "<a id=\"conf_search\"></a>"
   ]
  },
  {
   "cell_type": "markdown",
   "metadata": {
    "slideshow": {
     "slide_type": "slide"
    }
   },
   "source": [
    "## The problem of conformational search"
   ]
  },
  {
   "cell_type": "markdown",
   "metadata": {
    "slideshow": {
     "slide_type": "subslide"
    }
   },
   "source": [
    "Molecules are not simple 3D objects: they exist as an ensemble of three-dimensional conformations inter- changing over time"
   ]
  },
  {
   "cell_type": "markdown",
   "metadata": {
    "slideshow": {
     "slide_type": "fragment"
    }
   },
   "source": [
    "Conformational Search: *Locating stationary points in  molecular potential energy surfaces (PES)*"
   ]
  },
  {
   "cell_type": "markdown",
   "metadata": {
    "slideshow": {
     "slide_type": "fragment"
    }
   },
   "source": [
    "i. e. we want to locate the points in which the 4D entity spends most of the time"
   ]
  },
  {
   "cell_type": "markdown",
   "metadata": {
    "slideshow": {
     "slide_type": "fragment"
    }
   },
   "source": [
    "because the properties are the consequence of a distribution of conformations at any time"
   ]
  },
  {
   "cell_type": "markdown",
   "metadata": {
    "slideshow": {
     "slide_type": "subslide"
    }
   },
   "source": [
    "Let's consider dihedral degrees of freedom"
   ]
  },
  {
   "cell_type": "markdown",
   "metadata": {
    "slideshow": {
     "slide_type": "fragment"
    }
   },
   "source": [
    "<div>\n",
    "<img src=\"dihedral.png\" width=\"400\"/>\n",
    "</div>"
   ]
  },
  {
   "cell_type": "markdown",
   "metadata": {},
   "source": [
    "**Systematic** approach: generate each possible structure permutating rotatable bonds and relax. Problem: **combinatorial explosion**.   \n",
    "The number of candidate structures grows as \n",
    "$$\\left(\\frac{N}{\\delta}\\right)^{rot. bonds}$$ \n",
    "where _rot. bonds_ is the number of rotatable bonds, $N$ is the search domain (i. e. $[-\\pi,\\pi]$) and $\\delta$ is the grid resolution."
   ]
  },
  {
   "cell_type": "markdown",
   "metadata": {
    "slideshow": {
     "slide_type": "subslide"
    }
   },
   "source": [
    "**References**\n",
    "1. N. M. O’Boyle, T. Vandermeersch, C. J. Flynn, A. R. Maguire and G. R. Hutchison, Confab - Systematic generation of diverse low-energy conformers, J Cheminform, 2011, 3, 8.   \n",
    "2. J.-P. Ebejer, G. M. Morris and C. M. Deane, Freely Available Conformer Generation Methods: How Good Are They?, Journal of Chemical Information and Modeling, 2012, 52, 1146–1158.   \n",
    "3. H. H. Avgy-David and H. Senderowitz, Toward Focusing Conformational Ensembles on Bioactive Conformations: A Molecular Mechanics/Quantum Mechanics Study, J. Chem. Inf. Model., 2015, 55, 2154–2167.  \n",
    "4. D. K. Agrafiotis, A. C. Gibbs, F. Zhu, S. Izrailev and E. Martin, Conformational Sampling of Bioactive Molecules: A Comparative Study, Journal of Chemical Information and Modeling, 2007, 47, 1067–1086.  \n",
    "5. P. C. D. Hawkins, Conformation Generation: The State of the Art, J. Chem. Inf. Model., 2017, 57, 1747–1756.  "
   ]
  },
  {
   "cell_type": "markdown",
   "metadata": {
    "slideshow": {
     "slide_type": "subslide"
    }
   },
   "source": [
    "**Stochastic search**: can move from one region of the energy surface to a completely different unconnected region in a single  step"
   ]
  },
  {
   "cell_type": "markdown",
   "metadata": {
    "slideshow": {
     "slide_type": "fragment"
    }
   },
   "source": [
    "<div>\n",
    "<img src=\"Systematic_Stochastic.png\" width=\"400\"/>\n",
    "</div>"
   ]
  },
  {
   "cell_type": "markdown",
   "metadata": {
    "slideshow": {
     "slide_type": "subslide"
    }
   },
   "source": [
    "How we do know if a randomly selected point is relevant?  $\\rightarrow$ **Importance sampling**  \n",
    "A regular grid vs a random walk"
   ]
  },
  {
   "cell_type": "markdown",
   "metadata": {
    "slideshow": {
     "slide_type": "fragment"
    }
   },
   "source": [
    "<div>\n",
    "<img src=\"nile.png\" width=\"400\"/>\n",
    "</div>"
   ]
  },
  {
   "cell_type": "markdown",
   "metadata": {
    "slideshow": {
     "slide_type": "subslide"
    }
   },
   "source": [
    "**Monte Carlo**[1]: new structure is accepted or rejected based on the Boltzmann criterion: \n",
    "$$P \\propto e^{-\\frac{E_{new}-E_{old}}{kT}}$$\n",
    "\n",
    "[1]Senderowitz, H. & Still, W. C. Sampling potential energy surface of glycyl glycine peptide: Comparison of Metropolis Monte Carlo and stochastic dynamics. Journal of Computational Chemistry 19, 1294–1299 (1998)."
   ]
  },
  {
   "cell_type": "markdown",
   "metadata": {
    "slideshow": {
     "slide_type": "fragment"
    }
   },
   "source": [
    "In which space should we carry on the exploration?\n",
    "- Cartesian coordinates: simple to manipulate but not efficent for concerted motions\n",
    "- Generalized coordinates: more variable types (bond lengths, valence and dihedral angles) let explore directly topology"
   ]
  },
  {
   "cell_type": "markdown",
   "metadata": {
    "slideshow": {
     "slide_type": "fragment"
    }
   },
   "source": [
    "Bond lengths and valence angles have single stiff minima well suited for convex optimization.  \n",
    "**Rigid rotor**: generating new conformers by just torsional changes with unperturbed bond lengths and angles, the latter being eventually relaxed once the conformer has been located."
   ]
  },
  {
   "cell_type": "markdown",
   "metadata": {
    "slideshow": {
     "slide_type": "skip"
    }
   },
   "source": [
    "<a id=\"glycine\"></a>"
   ]
  },
  {
   "cell_type": "markdown",
   "metadata": {
    "slideshow": {
     "slide_type": "slide"
    }
   },
   "source": [
    "## A simple example: glycine in gas phase"
   ]
  },
  {
   "cell_type": "markdown",
   "metadata": {
    "slideshow": {
     "slide_type": "subslide"
    }
   },
   "source": [
    "Eight known stable conformers:"
   ]
  },
  {
   "cell_type": "markdown",
   "metadata": {
    "slideshow": {
     "slide_type": "fragment"
    }
   },
   "source": [
    "<div>\n",
    "<img src=\"glycine.png\" width=\"500\"/>\n",
    "</div>"
   ]
  },
  {
   "cell_type": "markdown",
   "metadata": {
    "slideshow": {
     "slide_type": "fragment"
    }
   },
   "source": [
    "Minimum structures and Transition states: CCSD(T)/CBS + CV electronic energies (kJ/mol) computed at the CCSD(T)/(CBS+CV)MP2 and (B2PLYP-D3BJ/aug-cc-pVTZ) optimized geometries, respectively.\n",
    "\n",
    "1. A. G. Csaszar, J. Am. Chem. Soc., 1992, 114, 9568–9575.  \n",
    "2. V. Barone, C. Adamo and F. Lelj, J. Chem. Phys., 1995, 102, 364–370.  \n",
    "3. V. Barone, M. Biczysko, J. Bloino and C. Puzzarini, Phys. Chem. Chem. Phys., 2013, 15, 1358–1363.  \n",
    "4. V. Barone, M. Biczysko, J. Bloino and C. Puzzarini, Phys. Chem. Chem. Phys., 2013, 15, 10094.  "
   ]
  },
  {
   "cell_type": "markdown",
   "metadata": {
    "slideshow": {
     "slide_type": "subslide"
    }
   },
   "source": [
    "2D PES of Glycine:"
   ]
  },
  {
   "cell_type": "markdown",
   "metadata": {
    "slideshow": {
     "slide_type": "fragment"
    }
   },
   "source": [
    "<div>\n",
    "<img src=\"glycine_pes.png\" width=\"400\"/>\n",
    "</div>"
   ]
  },
  {
   "cell_type": "markdown",
   "metadata": {
    "slideshow": {
     "slide_type": "subslide"
    }
   },
   "source": [
    "A simple MC search procedure:"
   ]
  },
  {
   "cell_type": "markdown",
   "metadata": {
    "slideshow": {
     "slide_type": "fragment"
    }
   },
   "source": [
    "<div>\n",
    "<img src=\"mc_flow.png\" width=\"400\"/>\n",
    "</div>"
   ]
  },
  {
   "cell_type": "markdown",
   "metadata": {
    "slideshow": {
     "slide_type": "subslide"
    }
   },
   "source": [
    "### Computational details:\n",
    "- MC + full geometry optimization.[1]\n",
    "- B3LYP/6-31+G(d) w. Empirical Dispersion.\n",
    "- Systematic search would include 1728 points (without considering noise).\n",
    "- Manipulate cartesian/internal coordinates with Parson’s method.[2]\n",
    "\n",
    "References:\n",
    "1. Li, Z. & Scheraga, H. A. Monte Carlo-minimization approach to the multiple-minima problem in protein folding. Proceedings of the National Academy of Sciences 84, 6611–6615 (1987).  \n",
    "2. J. Parsons, J. B. Holmes, J. M. Rojas, J. Tsai and C. E. M. Strauss, Practical conversion from torsion space to Cartesian space forin silico protein synthesis, Journal of Computational Chemistry, 2005, 26, 1063–1068.  "
   ]
  },
  {
   "cell_type": "markdown",
   "metadata": {
    "slideshow": {
     "slide_type": "subslide"
    }
   },
   "source": [
    "### Results:\n",
    "- Low acceptance ratio: \n",
    "- Minima 1-6 (sorted from the **G**lobal **E**nergy **M**inimum) found within **200** iterations. \n",
    "- But more than **1000** (at 430 K) are needed to detect structures VII and VIII."
   ]
  },
  {
   "cell_type": "markdown",
   "metadata": {
    "slideshow": {
     "slide_type": "fragment"
    }
   },
   "source": [
    "<div>\n",
    "<img src=\"gly_pes_3d.png\" width=\"600\"/>\n",
    "</div>"
   ]
  },
  {
   "cell_type": "markdown",
   "metadata": {
    "slideshow": {
     "slide_type": "subslide"
    }
   },
   "source": [
    "**<font color='red'>How can we reduce the computational cost?</font>**"
   ]
  },
  {
   "cell_type": "markdown",
   "metadata": {
    "slideshow": {
     "slide_type": "fragment"
    }
   },
   "source": [
    "1. Improve the search efficency\n",
    "2. Reduce the cost per step"
   ]
  },
  {
   "cell_type": "markdown",
   "metadata": {
    "slideshow": {
     "slide_type": "fragment"
    }
   },
   "source": [
    "Biased MC variant: after being stuck for more than an fixed amount of steps restart from the *highest energy structure* sampled so far.\n",
    "Marginally efficent does not recover structure $\\mathbf{VIIIn}$."
   ]
  },
  {
   "cell_type": "markdown",
   "metadata": {
    "slideshow": {
     "slide_type": "fragment"
    }
   },
   "source": [
    "We need a more efficent exploring algorithm. More on that later."
   ]
  },
  {
   "cell_type": "markdown",
   "metadata": {
    "slideshow": {
     "slide_type": "skip"
    }
   },
   "source": [
    "<a id=\"strike\"></a>"
   ]
  },
  {
   "cell_type": "markdown",
   "metadata": {
    "slideshow": {
     "slide_type": "slide"
    }
   },
   "source": [
    "## Strike a balance: heavy scheme vs cheap scheme"
   ]
  },
  {
   "cell_type": "markdown",
   "metadata": {
    "slideshow": {
     "slide_type": "subslide"
    }
   },
   "source": [
    "1. Exploit the good performance of low level semi-empirical methods or MM methods in generating correct geometries but less accurate energies.  \n",
    "2. Use a QM/QM’ scheme → perform the geometry optimization at low level and evaluate energy higher level.  \n",
    "3. Use a method applicable to the whole periodic table without the necessity of new training → semiempiricals."
   ]
  },
  {
   "cell_type": "markdown",
   "metadata": {
    "slideshow": {
     "slide_type": "fragment"
    }
   },
   "source": [
    "Let's try again the glycine benchmark with the DFTBA[1] and PM7 methods[2]:\n",
    "\n",
    "1. D. Porezag, Th. Frauenheim, Th. Köhler, G. Seifert and R. Kaschner, Construction of tight-binding-like potentials on the basis of density-functional theory: Application to carbon, Phys. Rev. B, 1995, 51, 12947–12957.\n",
    "2. J. J. P. Stewart, Optimization of parameters for semiempirical methods VI: more modifications to the NDDO approximations and re-optimization of parameters, J Mol Model, 2013, 19, 1–32."
   ]
  },
  {
   "cell_type": "markdown",
   "metadata": {
    "slideshow": {
     "slide_type": "subslide"
    }
   },
   "source": [
    "**Cheap scheme**: \n",
    "1. Contrained geometry optmization (a specific point in the dihedral grid) with low level method _then single point energy_\n",
    "2. Filter sampled structures: keep only those within a given threshold from the GEM (20 kJ/mol)\n",
    "3. Reoptimize these structures after a redundancy check at DFT level (B3LYP/6-31+g(d)-D3))."
   ]
  },
  {
   "cell_type": "markdown",
   "metadata": {
    "slideshow": {
     "slide_type": "fragment"
    }
   },
   "source": [
    "| Minima        | $\\Delta E_{DFT}$ | $\\Delta E_{DFTBA}$ | $\\Delta E_{PM7}$ |\n",
    "|---------------|------------------|--------------------|------------------|\n",
    "| $Ip_{ttt}$    |    0.0           |   0.0              |  0.0             |\n",
    "| $IIn_{ccc}$   |    2.9           |   8.5              |  5.6             |\n",
    "| $IIIp_{tct}$  |    5.9           |   4.4              |  6.7             |\n",
    "| $IVn_{gtt}$   |    7.5           |   2.5              |  4.2             |\n",
    "| $Vn_{gtc}$    |   12.0           |  19.1              |  2.1             |\n",
    "| $VIp_{ttc}$   |   24.1           |  14.3              | 19.3             |\n",
    "| $VIIp_{tcc}$  |    2.9           |  29.7              | 30.1             |\n",
    "| $VIIIn_{gtc}$ |   32.5           |  31.5              | 24.1             |"
   ]
  },
  {
   "cell_type": "markdown",
   "metadata": {
    "slideshow": {
     "slide_type": "subslide"
    }
   },
   "source": [
    "Let's try a more complex example: Threonine in gas phase"
   ]
  },
  {
   "cell_type": "markdown",
   "metadata": {
    "slideshow": {
     "slide_type": "fragment"
    }
   },
   "source": [
    "<div>\n",
    "<img src=\"thr.png\" width=\"300\"/>\n",
    "</div>"
   ]
  },
  {
   "cell_type": "markdown",
   "metadata": {
    "slideshow": {
     "slide_type": "subslide"
    }
   },
   "source": [
    "- Six rotatable bonds.\n",
    "- Complete systematic search at $30^\\circ$ resolution: $12^5$ points.\n",
    "- Szidarovszky et al:[1] 56 unique structures.\n",
    "- Authors performed 7776 full DTF optimizations B3LYP/6-311++G** refined with 1000+ MP2 calculations\n",
    "- Seven of them identified with MW spectroscopy[2]\n",
    "\n",
    "References:\n",
    "1. Szidarovszky, T., Czakó, G. & Császár, A. G. Conformers of gaseous threonine. Molecular Physics 107, 761–775 (2009).\n",
    "2. J. L. Alonso, C. Pe  ́rez, M. Eugenia Sanz, J. C. Lo ́pez and S. Blanco, Seven conformers of l-threonine in the gas phase: a LA-MB-FTMW study, Phys. Chem. Chem. Phys., 2009, 11, 617–627"
   ]
  },
  {
   "cell_type": "markdown",
   "metadata": {
    "slideshow": {
     "slide_type": "subslide"
    }
   },
   "source": [
    "The conformational search was performed (@400K) for 5000 iterations making random changes to just 3 out of 5 dihedrals, and evaluating the trial candidates. \n",
    "Restart if stuck: 100 steps ($2\\%$ of planned steps)"
   ]
  },
  {
   "cell_type": "markdown",
   "metadata": {
    "slideshow": {
     "slide_type": "fragment"
    }
   },
   "source": [
    "| Method   | %acceptance | Q1    |  Q3    | $\\Delta E_{max}$ | # found | RMSE  |\n",
    "|----------|-------------|-------|--------|-----------------|---------|-------|\n",
    "| DTBA     |  9.22       | 13.12 |  20.44 | 41.11           |  39     |  10.8 |\n",
    "| PM7      |  5.53       |  9.05 |  17.69 | 44.60           |  26     |  10.6 |\n",
    "| XTB[1]   |  7.16       |  9.86 |  17.90 | 79.90           |  27     |   9.1 |  \n",
    "\n",
    "\n",
    "1. C. Bannwarth, S. Ehlert, and S. Grimme, “GFN2-XTB—An accurate and broadly parametrized self-consistent tight-binding quantum chemical method with multipole electrostatics and density-dependent dispersion contributions,” J. Chem. Theory Comput. 15(3), 1652–1671 (2019)."
   ]
  },
  {
   "cell_type": "markdown",
   "metadata": {
    "slideshow": {
     "slide_type": "fragment"
    }
   },
   "source": [
    "- Q1, Q3: average energies of the first and third quartile.\n",
    "- Energies in kJ/mol\n",
    "- Complete data sets includes 56 structures\n",
    "- RMSE: Root Mean Square Error calculated wrt to nearest neighbour in reference"
   ]
  },
  {
   "cell_type": "markdown",
   "metadata": {
    "slideshow": {
     "slide_type": "subslide"
    }
   },
   "source": [
    "Distribution of structures:"
   ]
  },
  {
   "cell_type": "markdown",
   "metadata": {
    "slideshow": {
     "slide_type": "fragment"
    }
   },
   "source": [
    "<div>\n",
    "<img src=\"threonine_semi.png\" width=\"500\"/>\n",
    "</div>"
   ]
  },
  {
   "cell_type": "markdown",
   "metadata": {
    "slideshow": {
     "slide_type": "subslide"
    }
   },
   "source": [
    "B3LYP/6-31+G(d)-D3 geometries of the seven lowest-energy minima of L-Threonine. The relative energies and percentage probability of occurrence (in parenthesis) estimated at 400 K are reported. Heavy atom RMSD against corresponding MP2/6-311++G(d,p) geometries was less than 0.06 Å"
   ]
  },
  {
   "cell_type": "markdown",
   "metadata": {
    "slideshow": {
     "slide_type": "fragment"
    }
   },
   "source": [
    "<div>\n",
    "<img src=\"threonine_7.png\" width=\"500\"/>\n",
    "</div>"
   ]
  },
  {
   "cell_type": "markdown",
   "metadata": {
    "slideshow": {
     "slide_type": "subslide"
    }
   },
   "source": [
    "### Can MC be used for real world systems?"
   ]
  },
  {
   "cell_type": "markdown",
   "metadata": {
    "slideshow": {
     "slide_type": "fragment"
    }
   },
   "source": [
    "Ferrocene system studued with chiral spectroscopy (VCD)[1]. Very sensitive: small changes in conformation can completely change the shape.  \n",
    "No Molecular Mechanics FF available and 3 rotatable bonds -> perform search with MC.[2]\n",
    "\n",
    "1. Ravutsov, M.; Dobrikov, G. M.; Dangalov, M.; Nikolova, R.; Dimitrov, V.; Mazzeo, G.; Longhi, G.; Abbate, S.; Paoloni, L.; Fusè, M.; Barone, V. 1,2-Disubstituted Planar Chiral Ferrocene Derivatives from Sulfonamide-Directed Ortho -Lithiation: Synthesis, Absolute Configuration, and Chiroptical Properties. Organometallics 2021, 40 (5), 578–590. \n"
   ]
  },
  {
   "cell_type": "markdown",
   "metadata": {
    "slideshow": {
     "slide_type": "subslide"
    }
   },
   "source": [
    "Use PM7/B3LYP and PM7+_a posteriori_ refinement and calculate spectra with final 4 lowest lying states"
   ]
  },
  {
   "cell_type": "markdown",
   "metadata": {
    "slideshow": {
     "slide_type": "fragment"
    }
   },
   "source": [
    "<div>\n",
    "<img src=\"chiral_ferro.png\" width=\"500\"/>\n",
    "</div>"
   ]
  },
  {
   "cell_type": "markdown",
   "metadata": {
    "slideshow": {
     "slide_type": "subslide"
    }
   },
   "source": [
    "Final spectra[1] shows the importance of including every structure\n",
    "\n",
    "1. Chandramouli, B., Del Galdo, S., Fusè, M., Barone, V. & Mancini, G. Two-level stochastic search of low-energy conformers for molecular spectroscopy: implementation and validation of MM and QM models. Phys. Chem. Chem. Phys. 10.1039.C9CP03557E (2019). doi:10.1039/C9CP03557E"
   ]
  },
  {
   "cell_type": "markdown",
   "metadata": {
    "slideshow": {
     "slide_type": "fragment"
    }
   },
   "source": [
    "<div>\n",
    "<img src=\"ferro_vcd.png\" width=\"400\"/>\n",
    "</div>"
   ]
  },
  {
   "cell_type": "markdown",
   "metadata": {
    "slideshow": {
     "slide_type": "slide"
    }
   },
   "source": [
    "## Island model $(\\lambda+\\mu)$ EA"
   ]
  },
  {
   "cell_type": "markdown",
   "metadata": {
    "slideshow": {
     "slide_type": "fragment"
    }
   },
   "source": [
    "<div>\n",
    "<img src=\"fc.png\" width=\"600\"/>\n",
    "</div>"
   ]
  },
  {
   "cell_type": "markdown",
   "metadata": {
    "slideshow": {
     "slide_type": "subslide"
    }
   },
   "source": [
    "#### ($\\lambda+\\mu$) EA\n",
    "\n",
    "The standard GA creates a new population at eah step. In the ($\\lambda+\\mu$) version a population of $\\mu$ parents generate $\\lambda$ children and then selection shrink back the population to $\\mu$"
   ]
  },
  {
   "cell_type": "markdown",
   "metadata": {
    "slideshow": {
     "slide_type": "subslide"
    }
   },
   "source": [
    "**Avoid clashes**\n",
    "\n",
    "With long flexible chains it is possible to create clashes with arbitrary interpolation (during crossover) or generation of new structures (during mutation).\n",
    "\n",
    "Interpolation is done rotating in steps toward the max value until a clash is detected. Mutation is tried for a fixed number of steps. Using perception heuristics[1] we check that the adiancency matrix in the molecular graph does not change.\n",
    "\n",
    "1. Lazzari, F.; Salvadori, A.; Mancini, G.; Barone, V. Molecular Perception for Visualization and Computation: The Proxima Library. J. Chem. Inf. Model. 2020, acs.jcim.0c00076. https://doi.org/10.1021/acs.jcim.0c00076"
   ]
  },
  {
   "cell_type": "markdown",
   "metadata": {
    "slideshow": {
     "slide_type": "subslide"
    }
   },
   "source": [
    "#### Test 1\n",
    "- Run EA with 20 starting structures for 50 generations.\n",
    "- Selection pressure=0.5\n",
    "- Cross over and mutation probability=0.5, 0.2 (parents), 0.4 children\n",
    "- Total 1194 constrained semiempirical optimizations.\n",
    "- Found 39 unique structures and _all_ experimental ones"
   ]
  },
  {
   "cell_type": "markdown",
   "metadata": {
    "slideshow": {
     "slide_type": "fragment"
    }
   },
   "source": [
    "<div>\n",
    "<img src=\"thr_ea1.png\" width=\"500\"/>\n",
    "</div>"
   ]
  },
  {
   "cell_type": "markdown",
   "metadata": {
    "slideshow": {
     "slide_type": "subslide"
    }
   },
   "source": [
    "#### Island model variant\n",
    "\n",
    "Take a bigger population ($n=100$) for fewer steps ($g=20$) and divide in equal size _islands_ ($n_i=4$); selection takes place within islands. Every few generation a new operator, **Migration** overwrites the *less similar* of the next island with its best one in a Round Robin fashion using the $L_{\\infty}$. Islands works on subsets of dihedrals.  "
   ]
  },
  {
   "cell_type": "markdown",
   "metadata": {
    "slideshow": {
     "slide_type": "subslide"
    }
   },
   "source": [
    "Best replica (PM7/B3LYP-D3) 550 Full DFT optimization needed to recover all but 1 (number 21 at 19.45 kJ/mol above GEM) "
   ]
  },
  {
   "cell_type": "markdown",
   "metadata": {
    "slideshow": {
     "slide_type": "fragment"
    }
   },
   "source": [
    "<div>\n",
    "<img src=\"thr_ea2.png\" width=\"500\"/>\n",
    "</div>"
   ]
  },
  {
   "cell_type": "markdown",
   "metadata": {
    "slideshow": {
     "slide_type": "subslide"
    }
   },
   "source": [
    "### Further benchmarks: serine and cysteine\n",
    "\n",
    "**Serine**: five rotatable bonds. Complete systematic search at 30° resolution: 248832 points. He and Allen et al[1]: 15552 HF/6-31G* calculations, 89 refined at MP2/cc-pVTZ. Found 85 unique structures. 1200 calculationf from EA to find all but three (1600 all but one).\n",
    "\n",
    "**Cysteine**: five rotatable bonds. Wilke et al.[2]: 11 664 structures @ HF/3-21G yielded 71 structures refined at MP2/cc-PVTZ. 67 of 71 structures found after 1200 calculations"
   ]
  },
  {
   "cell_type": "markdown",
   "metadata": {},
   "source": [
    "1. He, K. & Allen, W. D. Conformers of Gaseous Serine. J. Chem. Theory Comput. 12, 3571–3582 (2016).\n",
    "2. Wilke, J. J., Lind, M. C., Schaefer, H. F., Császár, A. G. & Allen, W. D. Conformers of Gaseous Cysteine. J. Chem. Theory Comput. 5, 1511–1523 (2009)"
   ]
  },
  {
   "cell_type": "markdown",
   "metadata": {
    "slideshow": {
     "slide_type": "subslide"
    }
   },
   "source": [
    "Cysteine structures retrieved in searches with a RMSD thresholds of 0.2 Å and 0.125 Å"
   ]
  },
  {
   "cell_type": "markdown",
   "metadata": {
    "slideshow": {
     "slide_type": "fragment"
    }
   },
   "source": [
    "<div>\n",
    "<img src=\"cys.png\" width=\"600\"/>\n",
    "</div>"
   ]
  },
  {
   "cell_type": "markdown",
   "metadata": {
    "slideshow": {
     "slide_type": "subslide"
    }
   },
   "source": [
    "Cysteine structures retrieved in searches with a RMSD thresholds of 0.2 Å and 0.125 Å"
   ]
  },
  {
   "cell_type": "markdown",
   "metadata": {
    "slideshow": {
     "slide_type": "fragment"
    }
   },
   "source": [
    "<div>\n",
    "<img src=\"ser.png\" width=\"600\"/>\n",
    "</div>"
   ]
  },
  {
   "cell_type": "markdown",
   "metadata": {
    "slideshow": {
     "slide_type": "subslide"
    }
   },
   "source": [
    "### Rhodium complexes"
   ]
  },
  {
   "cell_type": "markdown",
   "metadata": {
    "slideshow": {
     "slide_type": "fragment"
    }
   },
   "source": [
    "Two rhodium coordination complexes described in ref. [1]. Carry out PES exploration to calculate VCD spectra. The role of two explicit solvent molecules (CD3CN) filling the axial positions of the octahedral coordination shell of rhodium atoms is also investigated.\n",
    "\n",
    "1. G. Szilvágyi, Z. Majer, E. Vass, and M. Hollósi, “Conformational studies on chiral rhodium complexes by ECD and VCD spectroscopy,” Chirality 23(4), 294–299 (2011)"
   ]
  },
  {
   "cell_type": "markdown",
   "metadata": {
    "slideshow": {
     "slide_type": "fragment"
    }
   },
   "source": [
    "<div>\n",
    "<img src=\"dirhodium.png\" width=\"600\"/>\n",
    "</div>"
   ]
  },
  {
   "cell_type": "markdown",
   "metadata": {
    "slideshow": {
     "slide_type": "subslide"
    }
   },
   "source": [
    "Procedure:\n",
    "- Even single point DFT energy is too expensive $\\rightarrow$ exploration carried out only at PM7 level.  \n",
    "- Filter out structures above 25 kJ/mol from the GEM then cluster remaining ones with _Partition around medoids_. Feature space of dihedrals and $L_{\\infty}$ distance.\n",
    "- Find the best number of clusters with multiple scores and pick the centroid of each."
   ]
  },
  {
   "cell_type": "markdown",
   "metadata": {
    "slideshow": {
     "slide_type": "fragment"
    }
   },
   "source": [
    "<div>\n",
    "<img src=\"scores.png\" width=\"600\"/>\n",
    "</div>"
   ]
  },
  {
   "cell_type": "markdown",
   "metadata": {
    "slideshow": {
     "slide_type": "subslide"
    }
   },
   "source": [
    "Before 2nd step 14-24 structures for each complex, futher reduced by full optimization at DFT. Final VCD calculated on the four lowest lying."
   ]
  },
  {
   "cell_type": "markdown",
   "metadata": {
    "slideshow": {
     "slide_type": "fragment"
    }
   },
   "source": [
    "<div>\n",
    "<img src=\"rhspec.png\" width=\"600\"/>\n",
    "</div>"
   ]
  },
  {
   "cell_type": "markdown",
   "metadata": {
    "slideshow": {
     "slide_type": "skip"
    }
   },
   "source": [
    "<a id=\"silver\"></a>"
   ]
  },
  {
   "cell_type": "markdown",
   "metadata": {
    "slideshow": {
     "slide_type": "slide"
    }
   },
   "source": [
    "## Beyond dihedral angles"
   ]
  },
  {
   "cell_type": "markdown",
   "metadata": {
    "slideshow": {
     "slide_type": "subslide"
    }
   },
   "source": [
    "While covering a very wide chemical space, dihedral angles are not the only possible coordinate. For instance, what about a coordination complex?"
   ]
  },
  {
   "cell_type": "markdown",
   "metadata": {
    "slideshow": {
     "slide_type": "fragment"
    }
   },
   "source": [
    "Silver aqua ion test case:"
   ]
  },
  {
   "cell_type": "markdown",
   "metadata": {
    "slideshow": {
     "slide_type": "fragment"
    }
   },
   "source": [
    "<div>\n",
    "<img src=\"silver_head.png\" width=\"600\"/>\n",
    "</div>"
   ]
  },
  {
   "cell_type": "markdown",
   "metadata": {
    "slideshow": {
     "slide_type": "subslide"
    }
   },
   "source": [
    "LAXS and EXAFS data indicate a linear coordination for the $\\textit{Ag}^+$ ion which is in agreement with CPMD simulations"
   ]
  },
  {
   "cell_type": "markdown",
   "metadata": {
    "slideshow": {
     "slide_type": "fragment"
    }
   },
   "source": [
    "<div>\n",
    "<img src=\"silver_coord.png\" width=\"600\"/>\n",
    "</div>"
   ]
  },
  {
   "cell_type": "markdown",
   "metadata": {
    "slideshow": {
     "slide_type": "subslide"
    }
   },
   "source": [
    "How to perform this search?"
   ]
  },
  {
   "cell_type": "markdown",
   "metadata": {
    "slideshow": {
     "slide_type": "fragment"
    }
   },
   "source": [
    " Devise new operators to work in cartesian space:"
   ]
  },
  {
   "cell_type": "markdown",
   "metadata": {
    "slideshow": {
     "slide_type": "fragment"
    }
   },
   "source": [
    "**Cross over** is carried out interpolating coordinates using the _Simulated Binary Crossover_ (SBX)[1]:\n",
    "- extract a uniformly distributed random number $\\mu \\in [0,1]$ and fix a parameter $\\eta$ which measures the closeness of offspring to parents then calculate $\\beta$:\n",
    "$$\\mu \\in [0,0.5] \\rightarrow \\beta = 2\\mu^{\\frac{1}{\\eta+1}}$$\n",
    "$$\\mu \\in [0.5,1] \\rightarrow \\beta = \\frac{1}{2}(1-\\mu)^{\\frac{1}{\\eta+1}}$$\n",
    "\n",
    "then interpolate the parent's coordinates:\n",
    "\n",
    "$$C_1 = 0.5[(1+\\beta)P_1 - (1-\\beta)P_2]$$\n",
    "$$C_2 = 0.5[(1+\\beta)P_2 + (1-\\beta)P_1]$$\n",
    "\n",
    "the operation is carried out on nearest neighbour fragments.\n",
    "\n",
    "1. Llanio-Trujillo, J. L.; Marques, J. M. C.; Pereira, F. B. An Evolutionary Algorithm for the Global Optimization of Molecular Clusters: Application to Water, Benzene, and Benzene Cation. The Journal of Physical Chemistry A 2011, 115 (11), 2130–2138."
   ]
  },
  {
   "cell_type": "markdown",
   "metadata": {
    "slideshow": {
     "slide_type": "subslide"
    }
   },
   "source": [
    "**Mutation** is performed selecting among six different types of motions::\n",
    "- _rattle_, which applies a  gaussian displacement to atomic coordinates of the selected fragment; \n",
    "- _rotate_ applies a random quaternion to a fragment c.o.m.\n",
    "- _orbit_ applies a random quaternion to fragment in the whole complex c.o.m\n",
    "- _swap_ which swaps the center of mass of the fragment with another one\n",
    "- _mirror_ which reflects the coordinates of a fragment through a random plane"
   ]
  },
  {
   "cell_type": "markdown",
   "metadata": {
    "slideshow": {
     "slide_type": "subslide"
    }
   },
   "source": [
    "From the previous results design a minimal system and start searches from _unphysical coordinates_.  \n",
    "Details: \n",
    "- $\\textit{Ag}(\\textit{H}_2\\textit{O})_6^+$\n",
    "- try both two stage (semiempirical opt. + DFT s. p.) and one stage (DFT opt.)\n",
    "- use mean field to simulate the rest of the solvent"
   ]
  },
  {
   "cell_type": "markdown",
   "metadata": {
    "slideshow": {
     "slide_type": "subslide"
    }
   },
   "source": [
    "Since in this system flexibility is quite high, using distances, angles or RMSD is not a very efficent distance measure. We used the Ultrafast Shape Recognition method of Ballester and coworkers to run the cluster analysis.[1]\n",
    "\n",
    "1. Ballester, P. J.; Westwood, I.; Laurieri, N.; Sim, E.; Richards, W. G. Prospective Virtual Screening with Ultrafast Shape Recognition: The Identification of Novel Inhibitors of Arylamine N -Acetyltransferases. J. R. Soc. Interface 2010, 7 (43), 335–342."
   ]
  },
  {
   "cell_type": "markdown",
   "metadata": {
    "slideshow": {
     "slide_type": "subslide"
    }
   },
   "source": [
    "Searches carried out with semiempiricals (PM7, HFM1[1] and GNF-xTB) tend to produce antiprismic or 4+2 coordination quite early (HFM centroids shown):\n",
    "\n",
    "1. V. K. Prasad, A. Otero-de-la-Roza, and G. A. DiLabio, “Atom-centered potentials with dispersion-corrected minimal-basis-set Hartree–Fock: An efficient and accurate computational approach for large molecular systems,” J. Chem. Theory Comput. 14(2), 726–738 (2018)"
   ]
  },
  {
   "cell_type": "markdown",
   "metadata": {
    "slideshow": {
     "slide_type": "fragment"
    }
   },
   "source": [
    "<div>\n",
    "<img src=\"centroids_hfm.png\" width=\"500\"/>\n",
    "</div>"
   ]
  },
  {
   "cell_type": "markdown",
   "metadata": {
    "slideshow": {
     "slide_type": "subslide"
    }
   },
   "source": [
    "B3LYP however finds the following structure located +0.57 kJ/mol from the GEM of the search:"
   ]
  },
  {
   "cell_type": "markdown",
   "metadata": {
    "slideshow": {
     "slide_type": "fragment"
    }
   },
   "source": [
    "<div>\n",
    "<img src=\"silver_b3lyp.png\" width=\"400\"/>\n",
    "</div>"
   ]
  },
  {
   "cell_type": "markdown",
   "metadata": {
    "slideshow": {
     "slide_type": "subslide"
    }
   },
   "source": [
    "To further investigate the source of linearity and the limits of the used electronic methods we reoptimized one cluster centroid obtained with a semiempirical employing a modified SDD Effective Core Potentials with just one electron:"
   ]
  },
  {
   "cell_type": "markdown",
   "metadata": {
    "slideshow": {
     "slide_type": "fragment"
    }
   },
   "source": [
    "<div>\n",
    "<img src=\"nuovoecp.png\" width=\"700\"/>\n",
    "</div>"
   ]
  },
  {
   "cell_type": "markdown",
   "metadata": {
    "slideshow": {
     "slide_type": "subslide"
    }
   },
   "source": [
    "Note that this is yet another specific case: there is no need to use only **either** dihedrals **or** quaternion coordinates, they can be mixed with the proper manipulation tools."
   ]
  },
  {
   "cell_type": "markdown",
   "metadata": {
    "slideshow": {
     "slide_type": "fragment"
    }
   },
   "source": [
    "More general: as long as there is a mapping from one set of coordinates to another and constraints can be expressed on both the coordinates used in the GA **do need not** to be the same used in the Electronic Structure Code (**ESC**), which can choose the ones it likes."
   ]
  },
  {
   "cell_type": "markdown",
   "metadata": {
    "slideshow": {
     "slide_type": "fragment"
    }
   },
   "source": [
    "*Flexible*: we can mix different ESCs under the same representation at EA level."
   ]
  },
  {
   "cell_type": "markdown",
   "metadata": {
    "slideshow": {
     "slide_type": "fragment"
    }
   },
   "source": [
    "**More flexible**: Proxima could take care of giving the features at EA level. Search and reduction/filtering carried out with the same representation."
   ]
  },
  {
   "cell_type": "markdown",
   "metadata": {
    "slideshow": {
     "slide_type": "skip"
    }
   },
   "source": [
    "<a id=\"latin\"></a>"
   ]
  },
  {
   "cell_type": "markdown",
   "metadata": {
    "slideshow": {
     "slide_type": "slide"
    }
   },
   "source": [
    "## The importance of seeding\n",
    "### and one last case study"
   ]
  },
  {
   "cell_type": "markdown",
   "metadata": {
    "slideshow": {
     "slide_type": "subslide"
    }
   },
   "source": [
    "Metaheuristics, including the present $(\\lambda+\\mu)$ IM are developed to avoid to early convergence. The results shown so far (and in the literature) show that they perform quite well on chemical Potential Energy Surfaces."
   ]
  },
  {
   "cell_type": "markdown",
   "metadata": {
    "slideshow": {
     "slide_type": "fragment"
    }
   },
   "source": [
    "Question 1: disregarding the specific algorithm used, how it is possibile to further improve perfomance? Can some existing knowledge be used to create populations?  \n",
    "Question 2: how well the $(\\lambda+\\mu)$ IM performs with respect to other methods, e.g. accellerated sampling?  "
   ]
  },
  {
   "cell_type": "markdown",
   "metadata": {
    "slideshow": {
     "slide_type": "subslide"
    }
   },
   "source": [
    "New case study: aspartic acid in gas phase. Investigated with microwave spectroscopy[1] and accelerated sampling[2]. \n",
    "Calculations identifed 19 distinct structures after B3LYP/6-311G++ and MP2 calculations\n",
    "\n",
    "1. M. E. Sanz, J. C. López, and J. L. Alonso, Phys. Chem. Chem. Phys. 12, 3573 (2010).\n",
    "2. Comitani, F.; Rossi, K.; Ceriotti, M.; Sanz, M. E.; Molteni, C. The Journal of Chemical Physics 2017, 146 (14), 145102."
   ]
  },
  {
   "cell_type": "markdown",
   "metadata": {
    "slideshow": {
     "slide_type": "fragment"
    }
   },
   "source": [
    "<div>\n",
    "<img src=\"asp.png\" width=\"700\"/>\n",
    "</div>"
   ]
  },
  {
   "cell_type": "markdown",
   "metadata": {
    "slideshow": {
     "slide_type": "subslide"
    }
   },
   "source": [
    "Case study details: perform four replica searchs of Asp with:\n",
    "- $(\\lambda+\\mu)$ IM same settings as for Thr, Ser, Cys\n",
    "- $(\\lambda+\\mu)$ IM with optimized initial population\n",
    "- CREST[1] as accelerated sampling method\n",
    "- use always GFN-xTB for energy and geometry optimization"
   ]
  },
  {
   "cell_type": "markdown",
   "metadata": {
    "slideshow": {
     "slide_type": "subslide"
    }
   },
   "source": [
    "**Optimized initial population**  \n",
    "In the space of the six dihedrals we generate, instead of a uniform distribution, a **Latin Hypercube**[1] to ensure that the initial population is as diverse as possible.\n",
    "A Latin Hypercube distribution in 2D is like having a rooks in chessboard that cannot threaten each one:\n",
    "\n",
    "1. McKay, M.D.; Beckman, R.J.; Conover, W.J. (May 1979). \"A Comparison of Three Methods for Selecting Values of Input Variables in the Analysis of Output from a Computer Code\". Technometrics. American Statistical Association. 21 (2): 239–245"
   ]
  },
  {
   "cell_type": "markdown",
   "metadata": {
    "slideshow": {
     "slide_type": "fragment"
    }
   },
   "source": [
    "# <div>\n",
    "<img src=\"chessboard.png\" width=\"400\"/>\n",
    "</div>"
   ]
  },
  {
   "cell_type": "markdown",
   "metadata": {
    "slideshow": {
     "slide_type": "subslide"
    }
   },
   "source": [
    "Results with respect to the original MP2 structures:"
   ]
  },
  {
   "cell_type": "markdown",
   "metadata": {
    "slideshow": {
     "slide_type": "fragment"
    }
   },
   "source": [
    "run        |  convergence | not found | max RMSD (Ang)  | min DE (kJ/mol)\n",
    "-----------|--------------|-----------|-----------------|----------------\n",
    "EA/LH/run1 |  2250        |  9, 17    | 0.215           |  > 20\n",
    "EA/LH/run2 |  2850        |  **0**    | NA              |  NA \n",
    "EA/LH/run3 |  2250        |  **0**    | NA              |  NA\n",
    "EA/LH/run4 |  3650        |  9, 14    | 0.246           |  > 20\n",
    "EA/run1    |  1750        |  9, 17    | 0.352           |  > 20\n",
    "EA/run2    |  2950        |  **0**    | NA              |  NA \n",
    "EA/run3    |  3450        |  2        | 0.248           |  > 20\n",
    "EA/run4    |  3150        |  **0**    | NA              |  NA   \n",
    "crest/run1 |  107\\2500    | 15        | 0.311           |  > 20\n",
    "crest/run2 |  107\\2500    | 15        | 0.326           |  > 20\n",
    "crest/run3 |  108\\2520    | 15        | 0.313           |  > 20\n",
    "crest/run4 |  103\\2560    | 15        | 0.310           |  > 20"
   ]
  },
  {
   "cell_type": "markdown",
   "metadata": {
    "slideshow": {
     "slide_type": "fragment"
    }
   },
   "source": [
    "- EA   average convergence:  2825 +/- 645, **no miss** \n",
    "- EA/LH average convergence: 2750 +/- 574, **no miss**\n",
    "- CREST average convergence: 2520 +/- ? (not directly available), **one miss**  \n",
    "\n",
    "Note that CREST uses gradients ..."
   ]
  },
  {
   "cell_type": "markdown",
   "metadata": {
    "slideshow": {
     "slide_type": "subslide"
    }
   },
   "source": [
    "Searches started LH find low energy structures earlier:"
   ]
  },
  {
   "cell_type": "markdown",
   "metadata": {
    "slideshow": {
     "slide_type": "fragment"
    }
   },
   "source": [
    "<div>\n",
    "<img src=\"convergence.png\" width=\"800\"/>\n",
    "</div>"
   ]
  },
  {
   "cell_type": "markdown",
   "metadata": {
    "slideshow": {
     "slide_type": "subslide"
    }
   },
   "source": [
    "Further tests carried out with other semiempirical methods (EA only) do not find all the 19 structures:"
   ]
  },
  {
   "cell_type": "markdown",
   "metadata": {
    "slideshow": {
     "slide_type": "fragment"
    }
   },
   "source": [
    "GFN-xTB understimate barriers which is actually advantageous:"
   ]
  },
  {
   "cell_type": "markdown",
   "metadata": {
    "slideshow": {
     "slide_type": "fragment"
    }
   },
   "source": [
    "<div>\n",
    "<img src=\"tsne_2D_dftba.png\" width=\"600\"/>\n",
    "</div>"
   ]
  },
  {
   "cell_type": "markdown",
   "metadata": {
    "slideshow": {
     "slide_type": "subslide"
    }
   },
   "source": [
    "We tried to measure this difference using the **Gini coefficent**[1], an indicator of the asymmetry of values in a distribution (often used in economics). It is defined as \n",
    "\n",
    "$$ G = \\frac{\\sum_{i=1}^n \\sum_{j=1}^n |x_i-x_j|}{2 n^2 \\langle x \\rangle} $$\n",
    "\n",
    "1. Gini, Corrado (1936). \"On the Measure of Concentration with Special Reference to Income and Statistics\", Colorado College Publication, General Series No. 208, 73–79."
   ]
  },
  {
   "cell_type": "markdown",
   "metadata": {
    "slideshow": {
     "slide_type": "subslide"
    }
   },
   "source": [
    "Gini coeffincient of $-\\Delta E$\n",
    "\n",
    "| Search  | GC    |\n",
    "|---------|-------|\n",
    "| DFTBA/1 | 0.431 |\n",
    "| DFTBA/2 | 0.422 |\n",
    "| DFTBA/3 | 0.447 |\n",
    "| DFTBA/4 | 0.493 |\n",
    "| xTB/1   | 0.304 |\n",
    "| xTB/2   | 0.308 |\n",
    "| xTB/3   | 0.300 |\n",
    "| xTB/4   | 0.296 |"
   ]
  },
  {
   "cell_type": "markdown",
   "metadata": {
    "slideshow": {
     "slide_type": "fragment"
    }
   },
   "source": [
    "DFTBA is more elitist than xTB!"
   ]
  },
  {
   "cell_type": "markdown",
   "metadata": {
    "slideshow": {
     "slide_type": "subslide"
    }
   },
   "source": [
    "The Latin Hypercube is a black box sampling method. But stable forms in the conformer space are not uniformly sparse $\\rightarrow$ exploit perception and domain knowledge to:\n",
    "- check against databases for fragments\n",
    "- generate *sensible* structures"
   ]
  }
 ],
 "metadata": {
  "celltoolbar": "Slideshow",
  "kernelspec": {
   "display_name": "Python 3",
   "language": "python",
   "name": "python3"
  },
  "language_info": {
   "codemirror_mode": {
    "name": "ipython",
    "version": 3
   },
   "file_extension": ".py",
   "mimetype": "text/x-python",
   "name": "python",
   "nbconvert_exporter": "python",
   "pygments_lexer": "ipython3",
   "version": "3.8.10"
  }
 },
 "nbformat": 4,
 "nbformat_minor": 4
}
