{
 "cells": [
  {
   "cell_type": "markdown",
   "metadata": {
    "slideshow": {
     "slide_type": "slide"
    }
   },
   "source": [
    "# Metaheuristics"
   ]
  },
  {
   "cell_type": "markdown",
   "metadata": {
    "slideshow": {
     "slide_type": "subslide"
    }
   },
   "source": [
    "# Outline\n",
    "\n",
    "1. [Metaheuristics: motivation](#motivation)\n",
    "2. [Genetic algorithms: the idea](#ga)\n",
    "3. [Function optimization](#func)\n",
    "4. [Traveling salesman problem](#tsp)\n",
    "5. [N queens problem](#nqueen)\n",
    "6. [Conformer search](#conf)"
   ]
  },
  {
   "cell_type": "markdown",
   "metadata": {
    "slideshow": {
     "slide_type": "subslide"
    }
   },
   "source": [
    "### Setup"
   ]
  },
  {
   "cell_type": "code",
   "execution_count": 1,
   "metadata": {
    "slideshow": {
     "slide_type": "fragment"
    }
   },
   "outputs": [],
   "source": [
    "from mpl_toolkits.mplot3d import Axes3D\n",
    "import math\n",
    "import matplotlib as mpl\n",
    "import matplotlib.pyplot as plt\n",
    "import numpy as np"
   ]
  },
  {
   "cell_type": "markdown",
   "metadata": {
    "slideshow": {
     "slide_type": "skip"
    }
   },
   "source": [
    "<a id=\"motivation\"></a>"
   ]
  },
  {
   "cell_type": "markdown",
   "metadata": {
    "slideshow": {
     "slide_type": "slide"
    }
   },
   "source": [
    "## Metaheuristics: motivation"
   ]
  },
  {
   "cell_type": "markdown",
   "metadata": {
    "slideshow": {
     "slide_type": "subslide"
    }
   },
   "source": [
    "- Direct techniques (blind search) are not always possible (they require too much time or memory).\n",
    "- Weak techniques can be effective if applied correctly on the right kinds of tasks.\n",
    "    - Typically require domain specific information."
   ]
  },
  {
   "cell_type": "markdown",
   "metadata": {
    "slideshow": {
     "slide_type": "fragment"
    }
   },
   "source": [
    "**Heuristic**: an algorithm which locates 'good enoughì solutions to a problem\n",
    "- do not concerns too much on formal correctness  \n",
    "Trade-off between precision, quality, and accuracy in favor of **feasibility** (computational cost)  \n",
    "Example: greedy search procedure; only takes cost-improving steps."
   ]
  },
  {
   "cell_type": "markdown",
   "metadata": {
    "slideshow": {
     "slide_type": "fragment"
    }
   },
   "source": [
    "**Metaheuristics** are intended to extend the capabilities of heuristics by combining one or more heuristic methods (**procedures**) using a higher-level strategy (hence 'meta'). A procedure in a metaheuristic is considered black-box in that little (if any) prior knowledge is known about it by the metaheuristic, and as such it may be replaced with a different procedure."
   ]
  },
  {
   "cell_type": "markdown",
   "metadata": {
    "slideshow": {
     "slide_type": "subslide"
    }
   },
   "source": [
    "### Artificial intelligence"
   ]
  },
  {
   "cell_type": "markdown",
   "metadata": {
    "slideshow": {
     "slide_type": "fragment"
    }
   },
   "source": [
    "AI is a cross-disciplinary field of research that is generally concerned with developing and investigating systems that operate or act intelligently"
   ]
  },
  {
   "cell_type": "markdown",
   "metadata": {
    "slideshow": {
     "slide_type": "fragment"
    }
   },
   "source": [
    "AI investigates mechanisms underlying intelligent behavior. Traditionally, AI employed a symbolic basis for these mechanisms. A (relatively) newer approach (**scruffy AI**) or soft computing does not necessarily use a symbolic basis, instead patterning these mechanisms after biological or natural processes."
   ]
  },
  {
   "cell_type": "markdown",
   "metadata": {
    "slideshow": {
     "slide_type": "fragment"
    }
   },
   "source": [
    "Metaheurstics (MH) is another name for *scruffy AI*"
   ]
  },
  {
   "cell_type": "markdown",
   "metadata": {
    "slideshow": {
     "slide_type": "subslide"
    }
   },
   "source": [
    "[Blum and Roli](#blum) define nine properties of MH.\n",
    "1. Strategies to __guide__ the search process.  \n",
    "2. The goal is to efficiently explore the search space in order to find (near-)optimal solutions.  \n",
    "3. They range from simple local search procedures to complex learning processes.  \n",
    "4. MH algorithms are approximate and usually non-deterministic.  \n",
    "5. Usually incorporate mechanisms to avoid getting trapped in confined areas of the search space.\n",
    "6. The basic concepts of metaheuristics allow for an abstract level description.\n",
    "7. Not problem-specific.\n",
    "8. MH may make use of domain-specific knowledge in the form of heuristics that are controlled by the upper level strategy.\n",
    "9. They have some sort of memory i. e. they __learn__ progressively about the search space"
   ]
  },
  {
   "cell_type": "markdown",
   "metadata": {
    "slideshow": {
     "slide_type": "fragment"
    }
   },
   "source": [
    "<a id=\"blum\"></a> C. Blum and A. Roli. Metaheuristics in combinatorial optimization: Overview and conceptual comparison. ACM Computing Surveys (CSUR), 35(3):268–308, 2003."
   ]
  },
  {
   "cell_type": "markdown",
   "metadata": {
    "slideshow": {
     "slide_type": "subslide"
    }
   },
   "source": [
    "### Optimization"
   ]
  },
  {
   "cell_type": "markdown",
   "metadata": {
    "slideshow": {
     "slide_type": "fragment"
    }
   },
   "source": [
    "the search for a combination of parameters (__decision variables__) $x={x_1,x_2,\\ldots x_n}$ which minimize or maximize some ordinal quantity $c$ (a scalar called __score__ or __cost__) assigned by an objective or cost function $f$ that maps $R^n \\rightarrow R$ under a set of constraints $g={g_1,g_2,\\ldots g_n}$"
   ]
  },
  {
   "cell_type": "markdown",
   "metadata": {
    "slideshow": {
     "slide_type": "subslide"
    }
   },
   "source": [
    "### Black box algorithms"
   ]
  },
  {
   "cell_type": "markdown",
   "metadata": {
    "slideshow": {
     "slide_type": "subslide"
    }
   },
   "source": [
    "Use little, _if any_, information from a problem domain in order to devise a solution. Domain specific knowledge refers to _known relationships between solution representations and the objective\n",
    "cost function_.   \n",
    "_Flexibility_ vs _efficency_ tradeoff.  \n",
    "Example: _random search_. Most general and most flexible black box approach and is also the most flexible requiring\n",
    "only the generation of random solutions for a given problem.  \n",
    "Worst case behavior: cost is higher than enumerating the entire search domain. "
   ]
  },
  {
   "cell_type": "markdown",
   "metadata": {
    "slideshow": {
     "slide_type": "subslide"
    }
   },
   "source": [
    "### No free lunch theorem"
   ]
  },
  {
   "cell_type": "markdown",
   "metadata": {
    "slideshow": {
     "slide_type": "fragment"
    }
   },
   "source": [
    "The [No-Free-Lunch Theorem](#lunch) of search and optimization by Wolpert and Macready proposes that all black box optimization algorithms are the same for searching for the extremum of a cost function when averaged over all\n",
    "possible functions.  \n",
    "Consequence: no __best__ general purpose black box optimization algorithm is theoretically possible."
   ]
  },
  {
   "cell_type": "markdown",
   "metadata": {
    "slideshow": {
     "slide_type": "fragment"
    }
   },
   "source": [
    "<a id=\"lunch\"></a> D. H. Wolpert and W. G. Macready. No free lunch theorems for optimization. IEEE Transactions on Evolutionary Computation, 1(67):67–82, 1997."
   ]
  },
  {
   "cell_type": "markdown",
   "metadata": {
    "slideshow": {
     "slide_type": "subslide"
    }
   },
   "source": [
    "### Optimization, 2"
   ]
  },
  {
   "cell_type": "markdown",
   "metadata": {
    "slideshow": {
     "slide_type": "subslide"
    }
   },
   "source": [
    "Consider the following function:\n",
    "    \n",
    "$$ 1+\\frac{1}{4000}\\sum_i^n x_i^2 - \\prod_i^n cos(\\frac{x_i}{\\sqrt{i}})  $$\n",
    "\n",
    "named _Griewank_ function. "
   ]
  },
  {
   "cell_type": "markdown",
   "metadata": {
    "slideshow": {
     "slide_type": "subslide"
    }
   },
   "source": [
    "These are the _first_ and _third_ order Griewank functions:"
   ]
  },
  {
   "cell_type": "markdown",
   "metadata": {
    "slideshow": {
     "slide_type": "fragment"
    }
   },
   "source": [
    "<div>\n",
    "<img src=\"griewank.png\" width=\"600\"/>\n",
    "</div>"
   ]
  },
  {
   "cell_type": "markdown",
   "metadata": {
    "slideshow": {
     "slide_type": "subslide"
    }
   },
   "source": [
    "How to find the __Global Minimum__ of these functions?"
   ]
  },
  {
   "cell_type": "markdown",
   "metadata": {
    "slideshow": {
     "slide_type": "fragment"
    }
   },
   "source": [
    "How would Gradient Descent perform on these surfaces?"
   ]
  },
  {
   "cell_type": "markdown",
   "metadata": {
    "slideshow": {
     "slide_type": "subslide"
    }
   },
   "source": [
    "THe Griewank function is one example of rugged function often used as a benchmark in optimization problems.  \n",
    "Other examples include:\n",
    "- _Rastrigin_ function: $f(x) = An + \\sum_{i=1}^n x_i^2 - A cos(2\\pi x_i); A=10, x\\in[-5.12,5.12],\\ f(x=0) = 0$  \n",
    "- _Ackley_ function: $f(x,y) = -20 e^{-0.2 \\sqrt{x^2+y^2}} -e^{-0.5(cos( 2\\pi x) + cos (2 \\pi y))} + e + 20; f(x=0)=0$  \n",
    "- _Rosenbrock_ function $f(x,y) = (a-x^2)^2 + b(y-x^2)^2; a=1, b=100$ minimum in $(a,a^2)$.\n",
    "\n",
    "and many more: see https://en.wikipedia.org/wiki/Test_functions_for_optimization"
   ]
  },
  {
   "cell_type": "markdown",
   "metadata": {
    "slideshow": {
     "slide_type": "subslide"
    }
   },
   "source": [
    "### Exercise 1"
   ]
  },
  {
   "cell_type": "markdown",
   "metadata": {
    "slideshow": {
     "slide_type": "fragment"
    }
   },
   "source": [
    "Plot the contours of the 2nd order listed functions.  \n",
    "Hint: _numpy meshgrid_.  \n",
    "Hint: domains for the functions:\n",
    "- Ackley $x_i\\in[-30,30]$\n",
    "- Rosembrock $x\\in[-2,2], y\\in[-1,3]$"
   ]
  },
  {
   "cell_type": "markdown",
   "metadata": {
    "slideshow": {
     "slide_type": "fragment"
    }
   },
   "source": [
    "<div>\n",
    "<img src=\"gears.png\" width=\"600\"/>\n",
    "</div>"
   ]
  },
  {
   "cell_type": "markdown",
   "metadata": {
    "slideshow": {
     "slide_type": "subslide"
    }
   },
   "source": [
    "### Solution"
   ]
  },
  {
   "cell_type": "markdown",
   "metadata": {
    "slideshow": {
     "slide_type": "subslide"
    }
   },
   "source": [
    "#### Rastrigin"
   ]
  },
  {
   "cell_type": "code",
   "execution_count": 2,
   "metadata": {
    "slideshow": {
     "slide_type": "fragment"
    }
   },
   "outputs": [],
   "source": [
    "x1 = np.linspace(-5.1, 5.1, 200)    \n",
    "x2 = np.linspace(-5.1, 5.1, 200)    \n",
    "x1, x2 = np.meshgrid(x1, x2)\n",
    "fx = (x1**2 - 10 * np.cos(2 * np.pi * x1)) + (x2**2 - 10 * np.cos(2 * np.pi * x2)) + 20"
   ]
  },
  {
   "cell_type": "code",
   "execution_count": 3,
   "metadata": {
    "slideshow": {
     "slide_type": "subslide"
    }
   },
   "outputs": [
    {
     "data": {
      "image/png": "[encoded data removed]",
      "text/plain": [
       "<Figure size 432x288 with 1 Axes>"
      ]
     },
     "metadata": {
      "needs_background": "light"
     },
     "output_type": "display_data"
    }
   ],
   "source": [
    "fig = plt.figure()\n",
    "ax = fig.gca(projection='3d')\n",
    "surf = ax.plot_surface(x1, x2, fx, rstride=1, cstride=1, cmap=mpl.cm.inferno, linewidth=0.1)"
   ]
  },
  {
   "cell_type": "markdown",
   "metadata": {
    "slideshow": {
     "slide_type": "subslide"
    }
   },
   "source": [
    "#### Ackley"
   ]
  },
  {
   "cell_type": "code",
   "execution_count": 4,
   "metadata": {
    "slideshow": {
     "slide_type": "fragment"
    }
   },
   "outputs": [],
   "source": [
    "x1 = np.linspace(-5, 5, 200)    \n",
    "x2 = np.linspace(-5, 5, 200)    \n",
    "x1, x2 = np.meshgrid(x1, x2)\n",
    "\n",
    "fx = -20. * np.exp(-0.2 * np.sqrt(x1**2 + x2**2) ) \\\n",
    "    -np.exp(0.5*(np.cos(2*np.pi*x1) + np.cos(2*np.pi*x2)) ) +\\\n",
    "    np.exp(1) + 20."
   ]
  },
  {
   "cell_type": "code",
   "execution_count": 5,
   "metadata": {
    "slideshow": {
     "slide_type": "subslide"
    }
   },
   "outputs": [
    {
     "data": {
      "image/png": "[encoded data removed]",
      "text/plain": [
       "<Figure size 432x288 with 1 Axes>"
      ]
     },
     "metadata": {
      "needs_background": "light"
     },
     "output_type": "display_data"
    }
   ],
   "source": [
    "fig = plt.figure()\n",
    "ax = fig.gca(projection='3d')\n",
    "surf = ax.plot_surface(x1, x2, fx, rstride=1, cstride=1, cmap=mpl.cm.inferno, linewidth=0.1)"
   ]
  },
  {
   "cell_type": "markdown",
   "metadata": {
    "slideshow": {
     "slide_type": "subslide"
    }
   },
   "source": [
    "#### Rosenbrock"
   ]
  },
  {
   "cell_type": "code",
   "execution_count": 6,
   "metadata": {
    "slideshow": {
     "slide_type": "fragment"
    }
   },
   "outputs": [],
   "source": [
    "x1 = np.linspace(-2, 2, 200)    \n",
    "x2 = np.linspace(-1, 3, 200)    \n",
    "x1, x2 = np.meshgrid(x1, x2)\n",
    "\n",
    "fx = (1-x1**2)**2 + 100.*(x2-x1**2)**2"
   ]
  },
  {
   "cell_type": "code",
   "execution_count": 7,
   "metadata": {
    "slideshow": {
     "slide_type": "subslide"
    }
   },
   "outputs": [
    {
     "data": {
      "image/png": "[encoded data removed]",
      "text/plain": [
       "<Figure size 432x288 with 1 Axes>"
      ]
     },
     "metadata": {
      "needs_background": "light"
     },
     "output_type": "display_data"
    }
   ],
   "source": [
    "fig = plt.figure()\n",
    "ax = fig.gca(projection='3d')\n",
    "surf = ax.plot_surface(x1, x2, fx, rstride=1, cstride=1, cmap=mpl.cm.gist_heat_r, linewidth=0.1)"
   ]
  },
  {
   "cell_type": "markdown",
   "metadata": {
    "slideshow": {
     "slide_type": "skip"
    }
   },
   "source": [
    "<a id=\"ga\"></a>"
   ]
  },
  {
   "cell_type": "markdown",
   "metadata": {
    "slideshow": {
     "slide_type": "slide"
    }
   },
   "source": [
    "## Genetic Algorithms: the idea"
   ]
  },
  {
   "cell_type": "markdown",
   "metadata": {
    "slideshow": {
     "slide_type": "subslide"
    }
   },
   "source": [
    "__Genetic Algorithms__ were first proposed by [John Holland](#holland) in the '70s and are one of the first proposed metaheuristics.  \n",
    "The idea is to mimick the mechanisms of Dawrinian selection, inheritance and sexual reproduction to explore a search space: starting with a set of candidate solutions these are allowed to change and mix selecting at each step the best ones so far (__survival of the fittest__)."
   ]
  },
  {
   "cell_type": "markdown",
   "metadata": {
    "slideshow": {
     "slide_type": "fragment"
    }
   },
   "source": [
    "<a id=\"holland\"></a>\n",
    "(1) Holland, J. H. Adaptation in Natural and Artificial Systems: An Introductory Analysis with Applications to Biology, Control, and Artificial Intelligence, 1st MIT Press ed.; Complex adaptive systems; MIT Press: Cambridge, Mass, 1992.  \n",
    "(2) Goldberg, D. E. Genetic Algorithms in Search, Optimization, and Machine Learning; Addison-Wesley Pub. Co: Reading, Mass, 1989."
   ]
  },
  {
   "cell_type": "markdown",
   "metadata": {
    "slideshow": {
     "slide_type": "fragment"
    }
   },
   "source": [
    "<div>\n",
    "<img src=\"darwin.png\" width=\"600\"/>\n",
    "</div>"
   ]
  },
  {
   "cell_type": "markdown",
   "metadata": {
    "slideshow": {
     "slide_type": "subslide"
    }
   },
   "source": [
    "The evolution usually starts from a population of randomly generated individuals and happens in generations. "
   ]
  },
  {
   "cell_type": "markdown",
   "metadata": {
    "slideshow": {
     "slide_type": "fragment"
    }
   },
   "source": [
    "In each generation, the feasibility (fitness) of every individual in the population is evaluated.  \n",
    "_Based on their fitness_, parents are selected to reproduce offspring for a new generation; fitter individuals _have more chances to reproduce_.   \n",
    "Offspring _has combination of properties of two parents_.   \n",
    "\n",
    "Reproduction is coupled by _forcing stochastic terms_ (mutation) is shaping individuals."
   ]
  },
  {
   "cell_type": "markdown",
   "metadata": {
    "slideshow": {
     "slide_type": "fragment"
    }
   },
   "source": [
    "The simulation terminates when either a maximum number of generations has been produced, or a satisfactory fitness level has been reached for the population. "
   ]
  },
  {
   "cell_type": "markdown",
   "metadata": {
    "slideshow": {
     "slide_type": "subslide"
    }
   },
   "source": [
    "#### Terminology"
   ]
  },
  {
   "cell_type": "markdown",
   "metadata": {
    "slideshow": {
     "slide_type": "fragment"
    }
   },
   "source": [
    "**population**, **chromosomes**, **genome**, **genotype**: the current set of candidate solutions  \n",
    "**chromosome**, **specimen**, **individual**: one specific candidate solution  \n",
    "**generation**: one step of GA  \n",
    "**fitness**: the optimization goal e.g. the value of a function"
   ]
  },
  {
   "cell_type": "markdown",
   "metadata": {
    "slideshow": {
     "slide_type": "fragment"
    }
   },
   "source": [
    "**operator** a part of the procedure that mimicks one specific mechanism (e. g. mutation)  \n",
    "**search space**  the set of all possible solutions  \n",
    "**encoding** how the solutions are represented in the procedure\n",
    "__chromosome__ blueprint for a __specimen__   \n",
    "__trait__ possible aspect (features) of a specimen\n",
    "__allele__ possible settings of trait (value of a feature or coordinate)  \n",
    "__locus__ the position of a gene on the chromosome  \n",
    "__genome__ collection of all chromosomes for an individual "
   ]
  },
  {
   "cell_type": "markdown",
   "metadata": {
    "slideshow": {
     "slide_type": "subslide"
    }
   },
   "source": [
    "A typical genetic algorithm requires two things to be defined:\n",
    "- a genetic representation of the solution domain, and\n",
    "- a fitness function to evaluate the solution domain."
   ]
  },
  {
   "cell_type": "markdown",
   "metadata": {
    "slideshow": {
     "slide_type": "subslide"
    }
   },
   "source": [
    "#### GA flowchart"
   ]
  },
  {
   "cell_type": "markdown",
   "metadata": {
    "slideshow": {
     "slide_type": "fragment"
    }
   },
   "source": [
    "<div>\n",
    "<img src=\"gaflow.png\" width=\"600\"/>\n",
    "</div>"
   ]
  },
  {
   "cell_type": "markdown",
   "metadata": {
    "slideshow": {
     "slide_type": "subslide"
    }
   },
   "source": [
    "#### GA operators"
   ]
  },
  {
   "cell_type": "markdown",
   "metadata": {
    "slideshow": {
     "slide_type": "subslide"
    }
   },
   "source": [
    "__Parent Selection__  \n",
    "At each generation, a fraction of the current population breeds new specimens.  \n",
    "Fitter parents have a higher chance to reproduce. \n",
    "Commont parent selection methods include:\n",
    "- roulette wheel seection (the method originally proposed by Holland); each specimen gets a probability of being selected proportional to its fitness\n",
    "- rank selection (aka elitism); the best $m$ specimens are selected as parents\n",
    "- tournament: if $m$ parents are needed, $m$ groups of size $t$ (the _tournament size_) are selected randomly and in each group the best are chosen  "
   ]
  },
  {
   "cell_type": "markdown",
   "metadata": {
    "slideshow": {
     "slide_type": "subslide"
    }
   },
   "source": [
    "__Crossover__ or __Inheritance__  or __Recombination__\n",
    "Parents are grouped in pairs and pass their genes to offspring. Each new specimen gets copies half the alleles for each parent. Under a given probability (_crossover probability_) this may involve reordering of bits (in binary representation):"
   ]
  },
  {
   "cell_type": "markdown",
   "metadata": {
    "slideshow": {
     "slide_type": "fragment"
    }
   },
   "source": [
    "<div>\n",
    "<img src=\"OnePointCrossover.svg.png\"/>\n",
    "</div>"
   ]
  },
  {
   "cell_type": "markdown",
   "metadata": {
    "slideshow": {
     "slide_type": "subslide"
    }
   },
   "source": [
    "or different interpolation"
   ]
  },
  {
   "cell_type": "markdown",
   "metadata": {
    "slideshow": {
     "slide_type": "fragment"
    }
   },
   "source": [
    "$$p_0 =[p_{00},p_{01}],p_1 =[p_{10},p_{11}]$$  \n",
    "without crossover:\n",
    "$$c_0 = [0.5(p_{00}+,p_{10}], [0.5(p_{01}+,p_{11}]$$\n",
    "with crossover:\n"
   ]
  },
  {
   "cell_type": "markdown",
   "metadata": {
    "slideshow": {
     "slide_type": "subslide"
    }
   },
   "source": [
    "__Mutation__  \n",
    "All individuals have a chance (_mutation probability_) that a randomly selected locus will change allele i. e. a coordinate gets a new value sampled from the search space."
   ]
  },
  {
   "cell_type": "markdown",
   "metadata": {
    "slideshow": {
     "slide_type": "subslide"
    }
   },
   "source": [
    "__Evaluation__ or __Fit selection__  \n",
    "After children have been added to the population a fraction of the of less fit solutions (children, parents or both) are __selected__ i. e. eliminated. This helps keep the diversity of the population large, preventing premature convergence on poor solutions. Popular and well-studied selection methods include roulette wheel selection and tournament selection."
   ]
  },
  {
   "cell_type": "markdown",
   "metadata": {
    "slideshow": {
     "slide_type": "subslide"
    }
   },
   "source": [
    "__Encoding__  \n",
    "Chromosomes may be:\n",
    "- Bit strings (0101 ... 1100)  \n",
    "- Real numbers (43.2 -33.1 ... 0.0 89.2) \n",
    "- Permutations of elements (E11 E3 E7 ... E1 E15)\n",
    "- Lists of rules (R1 R2 R3 ... R22 R23)\n",
    "- Any data structure ..."
   ]
  },
  {
   "cell_type": "markdown",
   "metadata": {
    "slideshow": {
     "slide_type": "fragment"
    }
   },
   "source": [
    "<div>\n",
    "    <img src=\"chromosome.png\" width=\"500\"/>\n",
    "</div>"
   ]
  },
  {
   "cell_type": "markdown",
   "metadata": {
    "slideshow": {
     "slide_type": "fragment"
    }
   },
   "source": [
    "In Holland's original formulation and in many textbooks and papers chromosomes are bit strings."
   ]
  },
  {
   "cell_type": "markdown",
   "metadata": {
    "slideshow": {
     "slide_type": "subslide"
    }
   },
   "source": [
    "__Limitations of binary encoding__:  \n",
    "1. Needs an effort to convert into binary from  \n",
    "2. Accuarcy depends on the binary reprresentation  \n",
    "\n",
    "__Advantages__:  \n",
    "1. Since operations with binary represntation is faster, it provide a faster implementations of all GA operators and hence the execution of GAs.  \n",
    "2. Any optimization problem has it binary-coded GA implementation  "
   ]
  },
  {
   "cell_type": "markdown",
   "metadata": {
    "slideshow": {
     "slide_type": "subslide"
    }
   },
   "source": [
    "#### The Schema Theorem \n",
    "Suppose that the set of chromosomes is represented by by binary strings of length 4, the __schema__ (pattern) 1\\*01 represents all those chromosomes beginning with 1 and terminating with 01"
   ]
  },
  {
   "cell_type": "markdown",
   "metadata": {
    "slideshow": {
     "slide_type": "fragment"
    }
   },
   "source": [
    "For each schema, we can assign two measurements:\n",
    "- __Order__: The number of digits that are fixed (not wildcards)\n",
    "- __Defining length__: The distance between the two furthermost fixed digits"
   ]
  },
  {
   "cell_type": "markdown",
   "metadata": {
    "slideshow": {
     "slide_type": "subslide"
    }
   },
   "source": [
    "Examples of 4 digit _schemata_:\n",
    "\n",
    "| Schema  |  Order  |  Defining Lenght  |\n",
    "|---------|---------|-------------------|\n",
    "|   1101  |  4      |  3                |\n",
    "|  \\*001  |  3      |  2                |\n",
    "| \\*\\*10  |  2      |  1                |\n",
    "| 1\\*\\*\\* |  1      |  0                |\n",
    "|  1\\*\\*1 |  2      |  3                |"
   ]
  },
  {
   "cell_type": "markdown",
   "metadata": {
    "slideshow": {
     "slide_type": "subslide"
    }
   },
   "source": [
    "Each chromosome _can match_ different schemata. The higher the fitness a chromosome, the higher the chances that it will suvive and with it the schemata it matches.  \n",
    "Genetic operators will change the schemata matched by chromosomes and the schemata of low order and short defining length are the ones more likely to survive (e. g. \\*\\*\\*\\*)."
   ]
  },
  {
   "cell_type": "markdown",
   "metadata": {
    "slideshow": {
     "slide_type": "fragment"
    }
   },
   "source": [
    "As a consequence, the frequency of schemata of low order, short defining length, and above-average fitness increases exponentially in successive generations.  \n",
    "I. e. the smaller, simpler sequences correlated to better solutions will become more frequent with passing generations."
   ]
  },
  {
   "cell_type": "markdown",
   "metadata": {
    "slideshow": {
     "slide_type": "subslide"
    }
   },
   "source": [
    "__Advantages of GA__:\n",
    "- No derivatives needed  \n",
    "- Easy to parallelize  \n",
    "- Can escape local minima  \n",
    "- Works on a wide range of problems  "
   ]
  },
  {
   "cell_type": "markdown",
   "metadata": {
    "slideshow": {
     "slide_type": "fragment"
    }
   },
   "source": [
    "__Disadvantages__:  \n",
    "- Need much more function evaluations than linearized methods  \n",
    "- No guaranteed convergence even to local minimum  \n",
    "- Have to discretize parameter space  "
   ]
  },
  {
   "cell_type": "markdown",
   "metadata": {
    "slideshow": {
     "slide_type": "skip"
    }
   },
   "source": [
    "<a id=\"func\"></a>"
   ]
  },
  {
   "cell_type": "markdown",
   "metadata": {
    "slideshow": {
     "slide_type": "slide"
    }
   },
   "source": [
    "## Function optimization"
   ]
  },
  {
   "cell_type": "markdown",
   "metadata": {
    "slideshow": {
     "slide_type": "subslide"
    }
   },
   "source": [
    "Let's code a simple GA with real encoding a search the GM of the Griewank function. Assume that the population and fitness are real values stored in numpy arrays.  \n",
    "Also, assume the chromosomes are __sorted__."
   ]
  },
  {
   "cell_type": "code",
   "execution_count": 8,
   "metadata": {
    "slideshow": {
     "slide_type": "subslide"
    }
   },
   "outputs": [],
   "source": [
    "def griewank(X, *args, **kwargs):\n",
    "    \"\"\"\n",
    "    Return Griewank function for an array\n",
    "    \"\"\"\n",
    "    squaresSum = np.sum(X**2) / 4000.\n",
    "    den = np.sqrt(np.arange(1, X.shape[0]+1))\n",
    "    cosProd = np.prod(np.cos(X/den))\n",
    "    f = squaresSum - cosProd + 1.0\n",
    "    return f"
   ]
  },
  {
   "cell_type": "code",
   "execution_count": 9,
   "metadata": {
    "slideshow": {
     "slide_type": "fragment"
    }
   },
   "outputs": [],
   "source": [
    "def init_population(nspecimen, ndim, sspace):\n",
    "    \"\"\"\n",
    "    Generate nspecimen vectors in ndim dimensions\n",
    "    from the given search space\n",
    "    \"\"\"\n",
    "    datapoints = list()\n",
    "    for i in range(nspecimen):\n",
    "        datapoints.append(np.asarray([np.random.choice(sspace) for i in range(ndim)]))\n",
    "    datapoints = np.asarray(datapoints)\n",
    "    return datapoints"
   ]
  },
  {
   "cell_type": "code",
   "execution_count": 10,
   "metadata": {
    "slideshow": {
     "slide_type": "subslide"
    }
   },
   "outputs": [],
   "source": [
    "def main_ga_loop(ngeneration, population, sel_press, pCO, pMut, sspace, ffunc, **kwargs):\n",
    "    \"\"\"\n",
    "    Applies the GA loop to the input population and returns the best\n",
    "    chromosome, its fitness and the final population\n",
    "    \"\"\"\n",
    "    if not \"tsize\" in kwargs.keys():\n",
    "        kwargs[\"tsize\"] = 2\n",
    "    if not \"vstep\" in kwargs.keys():\n",
    "        kwargs[\"vstep\"] = 50\n",
    "    if not \"sel_meth\" in kwargs.keys():\n",
    "        kwargs[\"sel_meth\"] = \"rank\"\n",
    "    if not \"co_meth\" in kwargs.keys():\n",
    "        kwargs[\"co_meth\"] = \"interp\"\n",
    "    if not \"alpha\" in kwargs.keys():\n",
    "        kwargs[\"alpha\"] = 0.5        \n",
    "    if not \"mut_meth\" in kwargs.keys():\n",
    "        kwargs[\"mut_meth\"] = \"const\"\n",
    "    if not \"tol\" in kwargs.keys():\n",
    "        kwargs[\"tol\"] = 1e-5  \n",
    "    if not \"ffkwds\" in kwargs.keys():\n",
    "        kwargs[\"ffkwds\"] = dict()          \n",
    "    fitness, population = calc_fitness(min_best, ffunc, population, kwargs[\"ffkwds\"])\n",
    "    best_previous = fitness[0]\n",
    "    for gen in range(ngeneration):\n",
    "        # select fitter specimens for reproduction\n",
    "        nmating, parents = ParentSelection(sel_press, kwargs[\"sel_meth\"], population, kwargs[\"tsize\"])\n",
    "        # generate offspring and check cross over probability\n",
    "        offspring = crossover(pCO, kwargs[\"alpha\"], nmating, parents, population, method=kwargs[\"co_meth\"])\n",
    "        population = np.concatenate((population, offspring))   \n",
    "        # mutate\n",
    "        mutated, population = mutation(pMut, kwargs[\"mut_meth\"], population, sspace)\n",
    "        # calculate fitness\n",
    "        fitness, population = calc_fitness(min_best, ffunc, population, kwargs[\"ffkwds\"])\n",
    "        if gen % kwargs[\"vstep\"]== 0:\n",
    "            print(\"Generation \",gen, \" best specimen \",fitness[0])        \n",
    "        # remove less fit individuals\n",
    "        population = fit_selection(nmating, population)\n",
    "        gain = abs(fitness[0]-best_previous)\n",
    "        if gen > kwargs[\"vstep\"] and gain < kwargs[\"tol\"]:\n",
    "            print(\"Gain/loss less than tolerance: \",gain)\n",
    "            break\n",
    "    return gen, fitness[0], population"
   ]
  },
  {
   "cell_type": "code",
   "execution_count": 11,
   "metadata": {
    "slideshow": {
     "slide_type": "subslide"
    }
   },
   "outputs": [],
   "source": [
    "def calc_fitness(min_best, ffunc, population, ffkwds):\n",
    "    fitness = np.apply_along_axis(ffunc, 1, population, **ffkwds)\n",
    "    order = np.argsort(fitness)\n",
    "    if not min_best:\n",
    "        order = order[::-1]\n",
    "    population = population[order]\n",
    "    fitness = fitness[order]\n",
    "    return fitness, population"
   ]
  },
  {
   "cell_type": "code",
   "execution_count": 12,
   "metadata": {
    "slideshow": {
     "slide_type": "subslide"
    }
   },
   "outputs": [],
   "source": [
    "def ParentSelection(sel_press, sel_meth, pop, tsize):\n",
    "    nmating = math.ceil(sel_press * pop.shape[0])\n",
    "    if nmating % 2 !=0:\n",
    "        nmating = nmating - 1\n",
    "    M = list(range(pop.shape[0]))\n",
    "    if nmating <= 1: \n",
    "        nmating = 2     \n",
    "    if sel_meth == \"tournament\":\n",
    "        parents = TournamentSelection(nmating,  M, pop, tsize)\n",
    "    elif sel_meth == \"rank\":\n",
    "        parents = list(range(nmating))\n",
    "    return nmating, parents      "
   ]
  },
  {
   "cell_type": "code",
   "execution_count": 13,
   "metadata": {
    "slideshow": {
     "slide_type": "subslide"
    }
   },
   "outputs": [],
   "source": [
    "def crossover(pCO, alpha, nmating,parents, population, method=None):\n",
    "    if method == None:\n",
    "        raise ValueError(\"No Crossover method selected\")\n",
    "    elif method == \"interp\":\n",
    "        offspring = interp_crossover(pCO, alpha, nmating, parents, population)\n",
    "    return offspring"
   ]
  },
  {
   "cell_type": "code",
   "execution_count": 14,
   "metadata": {
    "slideshow": {
     "slide_type": "fragment"
    }
   },
   "outputs": [],
   "source": [
    "def interp_crossover(pCO, alpha, nmating, parents, population):\n",
    "    offspring = list()\n",
    "    for i in range(0,nmating-1,2): \n",
    "        p0 = population[parents[i]]\n",
    "        p1 = population[parents[i+1]]\n",
    "        coin = np.random.rand()\n",
    "        if coin <= pCO:\n",
    "            child0 = alpha*p0 + (1.-alpha)*p1\n",
    "            child1 = (1.-alpha)*p0 + alpha*p1\n",
    "        else:    \n",
    "            child0 = p0\n",
    "            child1 = p1\n",
    "        offspring.append(child0)\n",
    "        offspring.append(child1)\n",
    "    return np.asarray(offspring)"
   ]
  },
  {
   "cell_type": "code",
   "execution_count": 15,
   "metadata": {
    "slideshow": {
     "slide_type": "subslide"
    }
   },
   "outputs": [],
   "source": [
    "def mutation(prob, mut_meth, population, sspace):\n",
    "    if mut_meth == \"const\":\n",
    "        mutated, population = mutation_const(prob, population, sspace)\n",
    "    elif mut_meth == \"prop\":\n",
    "        mutated, population = mutation_prop(prob, population, sspace)\n",
    "    return mutated, population "
   ]
  },
  {
   "cell_type": "code",
   "execution_count": 16,
   "metadata": {
    "slideshow": {
     "slide_type": "fragment"
    }
   },
   "outputs": [],
   "source": [
    "def mutation_const(prob, population, sspace): \n",
    "        mutated = list()\n",
    "        for s in range(population.shape[0]):\n",
    "            coin = np.random.rand()\n",
    "            if coin < prob:\n",
    "                newallele  = np.random.choice(sspace)\n",
    "                locus = np.random.choice(population.shape[1])\n",
    "                population[s, locus]=newallele\n",
    "        return mutated, population"
   ]
  },
  {
   "cell_type": "code",
   "execution_count": 17,
   "metadata": {
    "slideshow": {
     "slide_type": "subslide"
    }
   },
   "outputs": [],
   "source": [
    "def fit_selection(nmating, population):\n",
    "    return population[:-nmating]"
   ]
  },
  {
   "cell_type": "markdown",
   "metadata": {
    "slideshow": {
     "slide_type": "subslide"
    }
   },
   "source": [
    "Let's see if it find the minimum."
   ]
  },
  {
   "cell_type": "code",
   "execution_count": 18,
   "metadata": {
    "slideshow": {
     "slide_type": "fragment"
    }
   },
   "outputs": [],
   "source": [
    "ndim = 3\n",
    "domain = (-200.,200.)\n",
    "sspace = np.arange(domain[0],domain[1],0.001)\n",
    "min_best = True"
   ]
  },
  {
   "cell_type": "code",
   "execution_count": 19,
   "metadata": {
    "slideshow": {
     "slide_type": "fragment"
    }
   },
   "outputs": [
    {
     "data": {
      "text/plain": [
       "(100, 3)"
      ]
     },
     "execution_count": 19,
     "metadata": {},
     "output_type": "execute_result"
    }
   ],
   "source": [
    "mypop = init_population(100, 3, sspace)\n",
    "mypop.shape"
   ]
  },
  {
   "cell_type": "code",
   "execution_count": 20,
   "metadata": {
    "slideshow": {
     "slide_type": "subslide"
    }
   },
   "outputs": [
    {
     "name": "stdout",
     "output_type": "stream",
     "text": [
      "Generation  0  best specimen  0.5350616167256714\n",
      "Generation  50  best specimen  0.16501455924501995\n",
      "Generation  100  best specimen  0.05295697476504724\n",
      "Generation  150  best specimen  0.04702791944669116\n",
      "Generation  200  best specimen  0.04702791944669116\n",
      "Generation  250  best specimen  0.045368710071572504\n",
      "Generation  300  best specimen  0.039914583506333146\n",
      "Generation  350  best specimen  0.039914583506333146\n",
      "Generation  400  best specimen  0.039914583506333146\n",
      "Generation  450  best specimen  0.014954405828998207\n",
      "Final gen  499 best fitness  0.013102314639136137 best solution  [-0.028 -4.476 -5.448]\n"
     ]
    }
   ],
   "source": [
    "#def main_ga_loop(ngeneration, population, sel_press, pCO, pMut, sspace, ffunc, sel_meth=\"tournament\",\\\n",
    "#                    tsize=2,, mut_meth=\"const\", min_best=False, alpha=0.5, tol=1e-5, vstep)\n",
    "gen, final_value, final_pop = main_ga_loop(500, mypop, 0.5, 0.5, 0.1, sspace, griewank,sel_meth=\"rank\",\\\n",
    "                                   min_best=True,vstep=50)\n",
    "print(\"Final gen \", gen, \"best fitness \", final_value, \"best solution \", final_pop[0])"
   ]
  },
  {
   "cell_type": "markdown",
   "metadata": {
    "slideshow": {
     "slide_type": "subslide"
    }
   },
   "source": [
    "### Exercise 2"
   ]
  },
  {
   "cell_type": "markdown",
   "metadata": {
    "slideshow": {
     "slide_type": "fragment"
    }
   },
   "source": [
    "1. Implement the tournament selection method\n",
    "2. Implement a mutation method such that the number of mutated genes is proportional _to the number of genes in the population_\n",
    "3. Test on one of the other test functions"
   ]
  },
  {
   "cell_type": "markdown",
   "metadata": {
    "slideshow": {
     "slide_type": "fragment"
    }
   },
   "source": [
    "<div>\n",
    "<img src=\"gears.png\" width=\"600\"/>\n",
    "</div>"
   ]
  },
  {
   "cell_type": "markdown",
   "metadata": {
    "slideshow": {
     "slide_type": "subslide"
    }
   },
   "source": [
    "### Solution"
   ]
  },
  {
   "cell_type": "code",
   "execution_count": 21,
   "metadata": {
    "slideshow": {
     "slide_type": "fragment"
    }
   },
   "outputs": [],
   "source": [
    "def TournamentSelection(nmating, M, pop, tsize):\n",
    "    parents = list()\n",
    "    for i in range(nmating): \n",
    "    # selected random parents and sort stsize with best fitness\n",
    "        competitors = np.random.choice(M, size=tsize)\n",
    "        added = False\n",
    "        for i in competitors:\n",
    "            if i in parents:\n",
    "                continue\n",
    "            else:\n",
    "                parents.append(i)\n",
    "                added = True\n",
    "                break\n",
    "        if added is False:    \n",
    "            parents.append(competitors[0])\n",
    "    return parents"
   ]
  },
  {
   "cell_type": "markdown",
   "metadata": {
    "slideshow": {
     "slide_type": "subslide"
    }
   },
   "source": [
    "#### Q 2"
   ]
  },
  {
   "cell_type": "code",
   "execution_count": 22,
   "metadata": {
    "slideshow": {
     "slide_type": "fragment"
    }
   },
   "outputs": [],
   "source": [
    "def mutation_prop(prob, population, sspace):\n",
    "    tot_genes = population.size\n",
    "    num_mut = math.ceil(prob* tot_genes)\n",
    "    mut_alleles = np.random.choice(sspace, size=num_mut)\n",
    "    nspec = num_mut//population.shape[1]\n",
    "    mut_spec = np.random.choice(sspace, size=num_mut)\n",
    "    mut_alleles.shape = (nspec, population.shape[1])\n",
    "    mut_spec = np.random.choice(population.shape[0], size=nspec)\n",
    "    population[mut_spec] = mut_alleles\n",
    "    return mut_spec, population"
   ]
  },
  {
   "cell_type": "markdown",
   "metadata": {
    "slideshow": {
     "slide_type": "subslide"
    }
   },
   "source": [
    "#### Q 3 -  Rastrigin function"
   ]
  },
  {
   "cell_type": "code",
   "execution_count": 23,
   "metadata": {
    "slideshow": {
     "slide_type": "fragment"
    }
   },
   "outputs": [],
   "source": [
    "def rastrigin(X, *args, **kwargs):\n",
    "    return (X[0]**2 - 10 * np.cos(2 * np.pi * X[0])) +\\\n",
    "        (X[1]**2 - 10 * np.cos(2 * np.pi * X[1])) + 20"
   ]
  },
  {
   "cell_type": "code",
   "execution_count": 24,
   "metadata": {
    "slideshow": {
     "slide_type": "fragment"
    }
   },
   "outputs": [],
   "source": [
    "ndim = 2\n",
    "domain = (-5.1,5.1)\n",
    "sspace = np.arange(domain[0],domain[1],0.001)\n",
    "min_best = True"
   ]
  },
  {
   "cell_type": "code",
   "execution_count": 25,
   "metadata": {
    "slideshow": {
     "slide_type": "fragment"
    }
   },
   "outputs": [
    {
     "data": {
      "text/plain": [
       "(100, 2)"
      ]
     },
     "execution_count": 25,
     "metadata": {},
     "output_type": "execute_result"
    }
   ],
   "source": [
    "mypop = init_population(100, 2, sspace)\n",
    "mypop.shape"
   ]
  },
  {
   "cell_type": "markdown",
   "metadata": {
    "slideshow": {
     "slide_type": "subslide"
    }
   },
   "source": [
    "#### Rastrigin function with tournament selection and proportional mutation"
   ]
  },
  {
   "cell_type": "code",
   "execution_count": 26,
   "metadata": {
    "slideshow": {
     "slide_type": "fragment"
    }
   },
   "outputs": [
    {
     "name": "stdout",
     "output_type": "stream",
     "text": [
      "Generation  0  best specimen  5.410976697757999\n",
      "Generation  50  best specimen  0.37710489029731065\n",
      "Generation  100  best specimen  1.0013332521343585\n",
      "Generation  150  best specimen  1.0013332521343585\n",
      "Generation  200  best specimen  1.0013332521343585\n",
      "Generation  250  best specimen  1.0013332521343585\n",
      "Generation  300  best specimen  1.0013332521343585\n",
      "Generation  350  best specimen  1.0013332521343585\n",
      "Generation  400  best specimen  1.0013332521343585\n",
      "Generation  450  best specimen  1.0013332521343585\n",
      "Final gen  499 best fitness  1.0013332521343585 best solution  [ 0.00548533 -0.99352873]\n"
     ]
    }
   ],
   "source": [
    "gen, final_value, final_pop = main_ga_loop(500, mypop, 0.5, 0.5, 0.2, sspace, rastrigin,sel_meth=\"tournament\",\\\n",
    "                                   mut_meth=\"prop\", min_best=True,vstep=50)\n",
    "print(\"Final gen \", gen, \"best fitness \", final_value, \"best solution \", final_pop[0])"
   ]
  },
  {
   "cell_type": "markdown",
   "metadata": {
    "slideshow": {
     "slide_type": "subslide"
    }
   },
   "source": [
    "#### Rastrigin function with elitism and constant mutation"
   ]
  },
  {
   "cell_type": "code",
   "execution_count": 27,
   "metadata": {
    "scrolled": false,
    "slideshow": {
     "slide_type": "fragment"
    }
   },
   "outputs": [
    {
     "name": "stdout",
     "output_type": "stream",
     "text": [
      "Generation  0  best specimen  5.403740384929639\n",
      "Generation  50  best specimen  0.00256061560973464\n",
      "Generation  100  best specimen  0.00256061560973464\n",
      "Generation  150  best specimen  0.00256061560973464\n",
      "Generation  200  best specimen  0.00256061560973464\n",
      "Generation  250  best specimen  0.00046536536959962405\n",
      "Generation  300  best specimen  0.00046536536959962405\n",
      "Generation  350  best specimen  0.00046536536959962405\n",
      "Generation  400  best specimen  0.00046536536959962405\n",
      "Generation  450  best specimen  0.00046536536959962405\n",
      "Final gen  499 best fitness  0.00046536536959962405 best solution  [-1.53125000e-03 -3.12499983e-05]\n"
     ]
    }
   ],
   "source": [
    "gen, final_value, final_pop = main_ga_loop(500, mypop, 0.5, 0.5, 0.1, sspace, rastrigin,sel_meth=\"rank\",\\\n",
    "                                   mut_meth=\"const\", min_best=True,vstep=50)\n",
    "print(\"Final gen \", gen, \"best fitness \", final_value, \"best solution \", final_pop[0])"
   ]
  },
  {
   "cell_type": "markdown",
   "metadata": {
    "slideshow": {
     "slide_type": "subslide"
    }
   },
   "source": [
    "#### Q 3 -  Ackley function"
   ]
  },
  {
   "cell_type": "code",
   "execution_count": 28,
   "metadata": {
    "slideshow": {
     "slide_type": "fragment"
    }
   },
   "outputs": [],
   "source": [
    "def ackley(X, *args, a=20, b=0.2, c=0.5, d=2.*np.pi, **kwargs):\n",
    "    return -a * np.exp(-b * np.sqrt(X[0]**2 + X[1]**2) ) \\\n",
    "    -np.exp(c*(np.cos(d*X[0]) + np.cos(d*X[1])) ) + np.exp(1) + a"
   ]
  },
  {
   "cell_type": "code",
   "execution_count": 29,
   "metadata": {
    "slideshow": {
     "slide_type": "fragment"
    }
   },
   "outputs": [],
   "source": [
    "ndim = 2\n",
    "domain = (-30,30)\n",
    "sspace = np.arange(domain[0],domain[1],0.001)\n",
    "min_best = True"
   ]
  },
  {
   "cell_type": "code",
   "execution_count": 30,
   "metadata": {
    "slideshow": {
     "slide_type": "fragment"
    }
   },
   "outputs": [
    {
     "data": {
      "text/plain": [
       "(100, 2)"
      ]
     },
     "execution_count": 30,
     "metadata": {},
     "output_type": "execute_result"
    }
   ],
   "source": [
    "mypop = init_population(100, 2, sspace)\n",
    "mypop.shape"
   ]
  },
  {
   "cell_type": "code",
   "execution_count": 31,
   "metadata": {
    "slideshow": {
     "slide_type": "subslide"
    }
   },
   "outputs": [
    {
     "name": "stdout",
     "output_type": "stream",
     "text": [
      "Generation  0  best specimen  5.371983567859978\n",
      "Generation  50  best specimen  0.09601975133109875\n",
      "Generation  100  best specimen  0.24369942058259753\n",
      "Generation  150  best specimen  0.3040469418168392\n",
      "Generation  200  best specimen  0.30445633743849143\n",
      "Generation  250  best specimen  0.20839992714781985\n",
      "Generation  300  best specimen  0.1809556702168642\n",
      "Generation  350  best specimen  0.06814929649954848\n",
      "Generation  400  best specimen  0.1066846594198303\n",
      "Generation  450  best specimen  0.10850353563472837\n",
      "Final gen  499 best fitness  0.10852763249351582 best solution  [ 0.00881785 -0.02178144]\n"
     ]
    }
   ],
   "source": [
    "gen, final_value, final_pop = main_ga_loop(500, mypop, 0.5, 0.5, 0.3, sspace, ackley,sel_meth=\"tournament\",\\\n",
    "                                   mut_meth=\"const\", min_best=True,vstep=50)\n",
    "print(\"Final gen \", gen, \"best fitness \", final_value, \"best solution \", final_pop[0])"
   ]
  },
  {
   "cell_type": "markdown",
   "metadata": {
    "slideshow": {
     "slide_type": "subslide"
    }
   },
   "source": [
    "#### Q 3 -  Rosenbrock function"
   ]
  },
  {
   "cell_type": "code",
   "execution_count": 32,
   "metadata": {
    "slideshow": {
     "slide_type": "fragment"
    }
   },
   "outputs": [],
   "source": [
    "def rosembrock(X, *args, a=1, b=100, **kwargs):\n",
    "    return (a-X[0]**2)**2 + b*(X[1]-X[0]**2)**2"
   ]
  },
  {
   "cell_type": "code",
   "execution_count": 33,
   "metadata": {
    "slideshow": {
     "slide_type": "fragment"
    }
   },
   "outputs": [],
   "source": [
    "ndim = 2\n",
    "domain = (-3,3)\n",
    "sspace = np.arange(domain[0],domain[1],0.001)\n",
    "min_best = True"
   ]
  },
  {
   "cell_type": "code",
   "execution_count": 34,
   "metadata": {
    "slideshow": {
     "slide_type": "fragment"
    }
   },
   "outputs": [
    {
     "data": {
      "text/plain": [
       "(100, 2)"
      ]
     },
     "execution_count": 34,
     "metadata": {},
     "output_type": "execute_result"
    }
   ],
   "source": [
    "mypop = init_population(100, 2, sspace)\n",
    "mypop.shape"
   ]
  },
  {
   "cell_type": "code",
   "execution_count": 35,
   "metadata": {
    "slideshow": {
     "slide_type": "subslide"
    }
   },
   "outputs": [
    {
     "name": "stdout",
     "output_type": "stream",
     "text": [
      "Generation  0  best specimen  0.32231569099062896\n",
      "Generation  50  best specimen  2.6594079792917972e-11\n",
      "Generation  100  best specimen  4.029017538972458e-18\n",
      "Generation  150  best specimen  1.0845788320160675e-20\n",
      "Generation  200  best specimen  1.0845327051101287e-20\n",
      "Generation  250  best specimen  1.0845327051101287e-20\n",
      "Generation  300  best specimen  1.0845327051101287e-20\n",
      "Generation  350  best specimen  1.0845327051101287e-20\n",
      "Generation  400  best specimen  1.0845327051101287e-20\n",
      "Generation  450  best specimen  1.0845327051101287e-20\n",
      "Final gen  499 best fitness  1.0845327051101287e-20 best solution  [-1.  1.]\n"
     ]
    }
   ],
   "source": [
    "gen, final_value, final_pop = main_ga_loop(500, mypop, 0.5, 0.5, 0.1, sspace, rosembrock,sel_meth=\"tournament\",\\\n",
    "                                   mut_meth=\"prop\", min_best=True,vstep=50)\n",
    "print(\"Final gen \", gen, \"best fitness \", final_value, \"best solution \", final_pop[0])"
   ]
  },
  {
   "cell_type": "markdown",
   "metadata": {
    "slideshow": {
     "slide_type": "skip"
    }
   },
   "source": [
    "<a id=\"TSP\"></a>"
   ]
  },
  {
   "cell_type": "markdown",
   "metadata": {
    "slideshow": {
     "slide_type": "slide"
    }
   },
   "source": [
    "## Traveling Salesman Problem"
   ]
  },
  {
   "cell_type": "markdown",
   "metadata": {
    "slideshow": {
     "slide_type": "subslide"
    }
   },
   "source": [
    "The traveling salesman problem (TSP) is a famous problem in computer science. It might be summarized as follows:\n",
    "- you are a salesperson who needs to visit some number of cities \n",
    "- you want to minimize costs spent on traveling   \n",
    "hence you want to find out the _most efficient route_, one that will require the least amount of traveling. You are given a coordinate of the cities to visit on a map. How can you find the optimal route?"
   ]
  },
  {
   "cell_type": "markdown",
   "metadata": {
    "slideshow": {
     "slide_type": "fragment"
    }
   },
   "source": [
    "What about _brute force_? You consider all the different possibilities, calculate the estimated distance for each, and choose the one that is the shortest path. The computational cost would be an __O(n!)__!  \n",
    "Sad conclusion: when brute force cannot solve your problem you do not have enough."
   ]
  },
  {
   "cell_type": "markdown",
   "metadata": {
    "slideshow": {
     "slide_type": "subslide"
    }
   },
   "source": [
    "### Encoding"
   ]
  },
  {
   "cell_type": "markdown",
   "metadata": {
    "slideshow": {
     "slide_type": "fragment"
    }
   },
   "source": [
    "We use once again a real encoding. We construct a matrix that represent distances between cities $i$ and $j$ such that $A_{ij}$ represents the distance between those two cities. We will represent cities by their indices."
   ]
  },
  {
   "cell_type": "code",
   "execution_count": 36,
   "metadata": {
    "slideshow": {
     "slide_type": "fragment"
    }
   },
   "outputs": [],
   "source": [
    "cities = [0, 1, 2, 3, 4]\n",
    "\n",
    "adjacency_mat = np.asarray(\n",
    "    [\n",
    "        [0.00, 28.02, 17.12, 27.46, 46.07],\n",
    "        [28.02, 0.00, 34.00, 25.55, 25.55],\n",
    "        [17.12, 34.00, 0.00, 18.03, 57.38],\n",
    "        [27.46, 25.55, 18.03, 0.00, 51.11],\n",
    "        [46.07, 25.55, 57.38, 51.11, 0.00],\n",
    "    ]\n",
    ")"
   ]
  },
  {
   "cell_type": "markdown",
   "metadata": {
    "slideshow": {
     "slide_type": "subslide"
    }
   },
   "source": [
    "We can represent a single specimen using a sequence of cities. Each chromosome is a route:"
   ]
  },
  {
   "cell_type": "code",
   "execution_count": 37,
   "metadata": {
    "slideshow": {
     "slide_type": "fragment"
    }
   },
   "outputs": [
    {
     "data": {
      "text/plain": [
       "array([[1, 0, 4, 2, 3],\n",
       "       [4, 3, 2, 1, 0],\n",
       "       [4, 1, 0, 2, 3],\n",
       "       [0, 3, 2, 1, 4],\n",
       "       [4, 1, 0, 3, 2],\n",
       "       [1, 0, 4, 3, 2],\n",
       "       [4, 0, 3, 1, 2],\n",
       "       [0, 2, 1, 4, 3],\n",
       "       [2, 0, 3, 1, 4],\n",
       "       [2, 3, 0, 1, 4]])"
      ]
     },
     "execution_count": 37,
     "metadata": {},
     "output_type": "execute_result"
    }
   ],
   "source": [
    "def init_population(cities, nspecimen):\n",
    "    return np.asarray([np.random.permutation(cities) for i in range(nspecimen)])\n",
    "example_pop = init_population(cities,10)\n",
    "example_pop"
   ]
  },
  {
   "cell_type": "markdown",
   "metadata": {
    "slideshow": {
     "slide_type": "subslide"
    }
   },
   "source": [
    "The fitness will be the sum of distances along the route:"
   ]
  },
  {
   "cell_type": "code",
   "execution_count": 38,
   "metadata": {
    "slideshow": {
     "slide_type": "fragment"
    }
   },
   "outputs": [],
   "source": [
    "def route_fitness(route, amat=adjacency_mat):\n",
    "    dist = 0.\n",
    "    for city in range(len(route)-1):\n",
    "        dist = dist + amat[route[city], route[city+1]]\n",
    "    return dist"
   ]
  },
  {
   "cell_type": "code",
   "execution_count": 39,
   "metadata": {
    "slideshow": {
     "slide_type": "fragment"
    }
   },
   "outputs": [
    {
     "data": {
      "text/plain": [
       "array([149.5 , 131.16,  88.72, 105.04,  99.06, 143.23, 133.08, 127.78,\n",
       "        95.68,  99.06])"
      ]
     },
     "execution_count": 39,
     "metadata": {},
     "output_type": "execute_result"
    }
   ],
   "source": [
    "np.apply_along_axis(route_fitness, 1, example_pop, amat=adjacency_mat)"
   ]
  },
  {
   "cell_type": "markdown",
   "metadata": {
    "slideshow": {
     "slide_type": "subslide"
    }
   },
   "source": [
    "Mutation can be achieved in different ways as well but:\n",
    "- we cannot just change a random city since each route is complete\n",
    "- a random switch can be highly destructive of the fitness of a given route  \n",
    "\n",
    "so we try to carry out mutation by switching two neighbour cities in a route. In binary encoding this is a __swap mutation__."
   ]
  },
  {
   "cell_type": "code",
   "execution_count": 40,
   "metadata": {
    "slideshow": {
     "slide_type": "fragment"
    }
   },
   "outputs": [],
   "source": [
    "def mutation(prob, mut_meth, population, sspace):\n",
    "    if mut_meth == \"const\":\n",
    "        mutated, population = mutation_const(prob, population, sspace)\n",
    "    elif mut_meth == \"prop\":\n",
    "        mutated, population = mutation_prop(prob, population, sspace)\n",
    "    elif mut_meth == \"swap\":\n",
    "        mutated, population = mutation_swap(prob, population, sspace)        \n",
    "    return mutated, population"
   ]
  },
  {
   "cell_type": "code",
   "execution_count": 41,
   "metadata": {
    "slideshow": {
     "slide_type": "subslide"
    }
   },
   "outputs": [],
   "source": [
    "def mutation_swap(prob, population, sspace):\n",
    "    tot_genes = population.size\n",
    "    num_swaps = math.ceil(prob * tot_genes)\n",
    "    nspec = num_swaps//population.shape[1]\n",
    "    mut_spec = np.random.choice(population.shape[0], size=num_swaps)\n",
    "    for ms in mut_spec:\n",
    "        MS = population[ms]\n",
    "        locus = np.random.choice(len(MS)-1)\n",
    "        sign = int(np.sign(np.random.rand()-0.5))\n",
    "        tmp = MS[locus] \n",
    "        MS[locus] = MS[locus+1*sign]\n",
    "        MS[locus+1*sign] = tmp\n",
    "    return mut_spec, population"
   ]
  },
  {
   "cell_type": "markdown",
   "metadata": {
    "slideshow": {
     "slide_type": "subslide"
    }
   },
   "source": [
    "We can now try to optmize the route of a bigger number of cities. For a given number of cities the number of routes is $n!$ which can be approximated with the Stirling formula or calculated with a recursive function.  \n",
    "_But we need to calculate the adiacency matrix as well_.  "
   ]
  },
  {
   "cell_type": "markdown",
   "metadata": {
    "slideshow": {
     "slide_type": "subslide"
    }
   },
   "source": [
    "### Exercise 3"
   ]
  },
  {
   "cell_type": "markdown",
   "metadata": {
    "slideshow": {
     "slide_type": "fragment"
    }
   },
   "source": [
    "1. Implement the tournament selection method\n",
    "2. Implement a mutation method such that the number of mutated genes is proportional _to the number of genes in the population_\n",
    "3. Test on one of the other test functions"
   ]
  },
  {
   "cell_type": "markdown",
   "metadata": {
    "slideshow": {
     "slide_type": "fragment"
    }
   },
   "source": [
    "<div>\n",
    "<img src=\"gears.png\" width=\"600\"/>\n",
    "</div>"
   ]
  },
  {
   "cell_type": "markdown",
   "metadata": {
    "slideshow": {
     "slide_type": "subslide"
    }
   },
   "source": [
    "### Solution"
   ]
  },
  {
   "cell_type": "code",
   "execution_count": 42,
   "metadata": {
    "slideshow": {
     "slide_type": "fragment"
    }
   },
   "outputs": [],
   "source": [
    "def calc_amat(cities, min_dist, max_dist):\n",
    "    n = len(cities)\n",
    "    amat = np.zeros((n,n))\n",
    "    for i in range(n-1):\n",
    "        amat[i, i+1:] = (max_dist-min_dist)*np.random.rand(n-i-1) + min_dist\n",
    "        amat[i+1:, i] = amat[i, i+1]\n",
    "    return amat"
   ]
  },
  {
   "cell_type": "code",
   "execution_count": 43,
   "metadata": {
    "scrolled": true
   },
   "outputs": [
    {
     "data": {
      "text/plain": [
       "array([[ 0.        , 18.96151375, 40.59670857, 17.60633248, 11.2507711 ],\n",
       "       [18.96151375,  0.        , 43.55992833, 37.09150883, 38.19909096],\n",
       "       [18.96151375, 43.55992833,  0.        , 20.1158192 , 49.64457155],\n",
       "       [18.96151375, 43.55992833, 20.1158192 ,  0.        , 14.99207675],\n",
       "       [18.96151375, 43.55992833, 20.1158192 , 14.99207675,  0.        ]])"
      ]
     },
     "execution_count": 43,
     "metadata": {},
     "output_type": "execute_result"
    }
   ],
   "source": [
    "calc_amat(cities, 10, 50)"
   ]
  },
  {
   "cell_type": "markdown",
   "metadata": {
    "slideshow": {
     "slide_type": "subslide"
    }
   },
   "source": [
    "### Crossover of permutations"
   ]
  },
  {
   "cell_type": "markdown",
   "metadata": {
    "slideshow": {
     "slide_type": "subslide"
    }
   },
   "source": [
    "For crossover we need to take subroutes from either parent and mix them; we _cannot_ just mix cities because _each city must be visited once_"
   ]
  },
  {
   "cell_type": "markdown",
   "metadata": {
    "slideshow": {
     "slide_type": "fragment"
    }
   },
   "source": [
    "<div>\n",
    "    <img src=\"order_crossover.png\" width=\"300\"/>\n",
    "</div>"
   ]
  },
  {
   "cell_type": "code",
   "execution_count": 44,
   "metadata": {
    "slideshow": {
     "slide_type": "subslide"
    }
   },
   "outputs": [],
   "source": [
    "def crossover(pCO, alpha, nmating,parents, population, method=None):\n",
    "    if method == None:\n",
    "        raise ValueError(\"No Crossover method selected\")\n",
    "    elif method == \"interp\":\n",
    "        offspring = interp_crossover(pCO, alpha, nmating, parents, population)\n",
    "    elif method == \"ordered\":\n",
    "        offspring = ordered_crossover(pCO, nmating, parents, population)\n",
    "    return offspring"
   ]
  },
  {
   "cell_type": "code",
   "execution_count": 45,
   "metadata": {
    "slideshow": {
     "slide_type": "fragment"
    }
   },
   "outputs": [],
   "source": [
    "def ordered_crossover(pCO, nmating, parents, population):\n",
    "    offspring = list()\n",
    "    for i in range(0,nmating-1,2): \n",
    "        p0 = population[parents[i]]\n",
    "        p1 = population[parents[i+1]]\n",
    "        coin = np.random.rand()\n",
    "        if coin <= pCO:\n",
    "            pbreak = np.random.choice(len(p0)-1)\n",
    "            lbreak = np.random.choice(len(p0)-pbreak)\n",
    "            child0      = -1*np.ones(len(p0), dtype='int')\n",
    "            child1      = -1*np.ones(len(p1), dtype='int')\n",
    "            for locus, al in enumerate(p0):\n",
    "                if locus < pbreak or locus >= pbreak+lbreak:\n",
    "                    l1 = np.where(p1==al)[0][0]\n",
    "                    child0[locus] = p1[l1]\n",
    "                    l1 = np.where(p0==p1[locus])[0][0]\n",
    "                    child1[locus] = p0[l1]\n",
    "                else:\n",
    "                    child0[locus] = p0[locus]\n",
    "                    child1[locus] = p1[locus]\n",
    "            if np.any(child0==-1) or np.any(child1==-1) \\\n",
    "            or len(set(child0))!=len(p0) or len(set(child1))!=len(p1):\n",
    "                raise ValueError\n",
    "        else:    \n",
    "            child0 = p0\n",
    "            child1 = p1\n",
    "        offspring.append(child0)\n",
    "        offspring.append(child1)\n",
    "    return np.asarray(offspring)"
   ]
  },
  {
   "cell_type": "markdown",
   "metadata": {
    "slideshow": {
     "slide_type": "subslide"
    }
   },
   "source": [
    "### Try to solve the TSP problem"
   ]
  },
  {
   "cell_type": "code",
   "execution_count": 46,
   "metadata": {
    "slideshow": {
     "slide_type": "fragment"
    }
   },
   "outputs": [
    {
     "data": {
      "text/plain": [
       "(690.3108146250053, 486.64332085899383, 580.9880277649031, 42.16345253849838)"
      ]
     },
     "execution_count": 46,
     "metadata": {},
     "output_type": "execute_result"
    }
   ],
   "source": [
    "cities = list(range(20))\n",
    "adjacency_mat = calc_amat(cities, 10., 50.)\n",
    "mypop = init_population(cities,100)\n",
    "fitness = np.apply_along_axis(route_fitness, 1, mypop, amat=adjacency_mat)\n",
    "np.max(fitness), np.min(fitness), np.mean(fitness), np.std(fitness)"
   ]
  },
  {
   "cell_type": "code",
   "execution_count": 47,
   "metadata": {
    "scrolled": false,
    "slideshow": {
     "slide_type": "subslide"
    }
   },
   "outputs": [
    {
     "name": "stdout",
     "output_type": "stream",
     "text": [
      "Generation  0  best specimen  463.5068317576499\n",
      "Generation  50  best specimen  414.82758274990607\n",
      "Generation  100  best specimen  433.22864058303094\n",
      "Generation  150  best specimen  444.46824004995887\n",
      "Generation  200  best specimen  380.7974999004833\n",
      "Generation  250  best specimen  419.11883554550565\n",
      "Generation  300  best specimen  416.52403665579857\n",
      "Generation  350  best specimen  433.2767581801952\n",
      "Generation  400  best specimen  426.7718644537731\n",
      "Generation  450  best specimen  422.02222880391827\n"
     ]
    }
   ],
   "source": [
    "ffkwds = dict()\n",
    "ffkwds['amat']=adjacency_mat\n",
    "gen, final_value, final_pop = main_ga_loop(500, mypop, 0.5, 0.5, 0.3, sspace, route_fitness,sel_meth=\"rank\",\\\n",
    "                                   mut_meth=\"swap\",co_meth=\"ordered\",ffkwds=ffkwds)"
   ]
  },
  {
   "cell_type": "code",
   "execution_count": 48,
   "metadata": {
    "slideshow": {
     "slide_type": "fragment"
    }
   },
   "outputs": [
    {
     "data": {
      "text/plain": [
       "(array([ 6, 11, 13,  5, 14, 10,  1,  4, 19,  9, 12,  0,  8, 17,  3,  2,  7,\n",
       "        16, 18, 15]),\n",
       " 20)"
      ]
     },
     "execution_count": 48,
     "metadata": {},
     "output_type": "execute_result"
    }
   ],
   "source": [
    "final_pop[0], len(set(final_pop[0]))"
   ]
  },
  {
   "cell_type": "markdown",
   "metadata": {
    "slideshow": {
     "slide_type": "skip"
    }
   },
   "source": [
    "<a id=\"nqueen\"></a>"
   ]
  },
  {
   "cell_type": "markdown",
   "metadata": {
    "slideshow": {
     "slide_type": "slide"
    }
   },
   "source": [
    "## N Queens problem"
   ]
  },
  {
   "cell_type": "code",
   "execution_count": null,
   "metadata": {},
   "outputs": [],
   "source": []
  }
 ],
 "metadata": {
  "celltoolbar": "Slideshow",
  "kernelspec": {
   "display_name": "Python 3",
   "language": "python",
   "name": "python3"
  },
  "language_info": {
   "codemirror_mode": {
    "name": "ipython",
    "version": 3
   },
   "file_extension": ".py",
   "mimetype": "text/x-python",
   "name": "python",
   "nbconvert_exporter": "python",
   "pygments_lexer": "ipython3",
   "version": "3.8.10"
  }
 },
 "nbformat": 4,
 "nbformat_minor": 4
}
