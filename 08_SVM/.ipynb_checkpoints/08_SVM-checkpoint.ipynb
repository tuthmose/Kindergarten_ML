{
 "cells": [
  {
   "cell_type": "markdown",
   "metadata": {
    "slideshow": {
     "slide_type": "slide"
    }
   },
   "source": [
    "# Support Vector Machines"
   ]
  },
  {
   "cell_type": "markdown",
   "metadata": {
    "slideshow": {
     "slide_type": "subslide"
    }
   },
   "source": [
    "# Outline\n",
    "\n",
    "1. [Support Vector Machines: motivation](#svm)\n",
    "2. [Maximum margin hyperplane](#hyper)\n",
    "3. [SVM Implementation](#impl)\n",
    "4. [Kernel trick](#kernel)\n",
    "5. [Dual SVM problem](#dual)\n",
    "6. [Support vector regression](#svr)"
   ]
  },
  {
   "cell_type": "markdown",
   "metadata": {
    "slideshow": {
     "slide_type": "subslide"
    }
   },
   "source": [
    "### Setup"
   ]
  },
  {
   "cell_type": "code",
   "execution_count": 1,
   "metadata": {
    "slideshow": {
     "slide_type": "fragment"
    }
   },
   "outputs": [],
   "source": [
    "import math\n",
    "import matplotlib as mpl\n",
    "import matplotlib.pyplot as plt\n",
    "import numpy as np\n",
    "import scipy as sp\n",
    "import sklearn.datasets as datasets\n",
    "import sklearn.model_selection as model_selection\n",
    "import sklearn.metrics.pairwise as pairwise\n",
    "from sklearn.metrics.pairwise import pairwise_kernels"
   ]
  },
  {
   "cell_type": "markdown",
   "metadata": {
    "slideshow": {
     "slide_type": "skip"
    }
   },
   "source": [
    "<a id=\"svm\"></a>"
   ]
  },
  {
   "cell_type": "markdown",
   "metadata": {
    "slideshow": {
     "slide_type": "slide"
    }
   },
   "source": [
    "## Support vector machines: motivation"
   ]
  },
  {
   "cell_type": "markdown",
   "metadata": {
    "slideshow": {
     "slide_type": "subslide"
    }
   },
   "source": [
    "Types of classification techniques:\n",
    "- generative methods: the model learns the distribution of the underlying class and assigns new points with a probability; examples: **kNN**, naive Bayes\n",
    "- discriminative methods: try to find a boundary (a curve or hyperplane) dividing the training set and use it to make predictions on new data points; examples: **logistic regression**"
   ]
  },
  {
   "cell_type": "markdown",
   "metadata": {
    "slideshow": {
     "slide_type": "subslide"
    }
   },
   "source": [
    "From [Wikipedia](#https://en.wikipedia.org/wiki/Support-vector_machine): Support-Vector Machines (SVMs) are supervised learning models with associated learning algorithms that analyze data for classification and regression analysis."
   ]
  },
  {
   "cell_type": "markdown",
   "metadata": {
    "slideshow": {
     "slide_type": "fragment"
    }
   },
   "source": [
    "Cortes, Corinna; Vladimir Vapnik (1995).\"Support-Vector Networks\". Machine Learning. 20 (3): 273–297. doi:10.1007/BF00994018."
   ]
  },
  {
   "cell_type": "markdown",
   "metadata": {
    "slideshow": {
     "slide_type": "subslide"
    }
   },
   "source": [
    "The SVM algorithm was initially developed by Vladimir Vapnik in 1963 while working on the _Generalized Portrait Algorithm_ (GPA). He then developed the __VC theory__ with Alexey Chervonenkis, which attempts to explain the learning process from a statistical point of view.  Both scientist developed the SVM theory."
   ]
  },
  {
   "cell_type": "markdown",
   "metadata": {
    "slideshow": {
     "slide_type": "fragment"
    }
   },
   "source": [
    "SVMs are a very performant off-the-shelf supervised machine learning algorithm. _off-the-shelf_ means that running a SVM on a problem will often give robust and accurate results without many tweaks."
   ]
  },
  {
   "cell_type": "markdown",
   "metadata": {
    "slideshow": {
     "slide_type": "skip"
    }
   },
   "source": [
    "<a id=\"hyper\"></a>"
   ]
  },
  {
   "cell_type": "markdown",
   "metadata": {
    "slideshow": {
     "slide_type": "slide"
    }
   },
   "source": [
    "## The maximum margin hyperplane"
   ]
  },
  {
   "cell_type": "markdown",
   "metadata": {
    "slideshow": {
     "slide_type": "subslide"
    }
   },
   "source": [
    "Suppose we have a __linearly__ separable 2D data set:"
   ]
  },
  {
   "cell_type": "code",
   "execution_count": 2,
   "metadata": {
    "slideshow": {
     "slide_type": "fragment"
    }
   },
   "outputs": [
    {
     "data": {
      "image/png": "[encoded data removed]",
      "text/plain": [
       "<Figure size 432x288 with 1 Axes>"
      ]
     },
     "metadata": {
      "needs_background": "light"
     },
     "output_type": "display_data"
    }
   ],
   "source": [
    "X, y = datasets.make_blobs(n_samples=200, centers=2,\n",
    "                  random_state=0, cluster_std=.35)\n",
    "plt.scatter(X[:, 0], X[:, 1], marker='s', c=y, s=10, cmap='plasma');"
   ]
  },
  {
   "cell_type": "markdown",
   "metadata": {
    "slideshow": {
     "slide_type": "subslide"
    }
   },
   "source": [
    "This data is easy to handle with a linear classifier"
   ]
  },
  {
   "cell_type": "code",
   "execution_count": 3,
   "metadata": {
    "slideshow": {
     "slide_type": "fragment"
    }
   },
   "outputs": [
    {
     "data": {
      "image/png": "[encoded data removed]",
      "text/plain": [
       "<Figure size 432x288 with 1 Axes>"
      ]
     },
     "metadata": {
      "needs_background": "light"
     },
     "output_type": "display_data"
    }
   ],
   "source": [
    "plt.scatter(X[:, 0], X[:, 1], marker='s', c=y, s=10, cmap='winter')\n",
    "outlier = (1,2.2)\n",
    "plt.scatter(outlier[0], outlier[1], marker='o', color='red',s=200)\n",
    "plt.xlim(-0.5,3.5)\n",
    "plt.ylim(-1,5.5)\n",
    "classifier = np.linspace(-1, 4.)\n",
    "M = (0.5, 1.5, -0.25)\n",
    "Q = (1.2, 0.,3.)\n",
    "S = iter(('-','-.','--'))\n",
    "\n",
    "for m,q in zip(M,Q):\n",
    "    plt.plot(classifier, m*classifier+q, c='k', ls=next(S))"
   ]
  },
  {
   "cell_type": "markdown",
   "metadata": {
    "slideshow": {
     "slide_type": "subslide"
    }
   },
   "source": [
    "Binary classification can thus be viewed as the task of separating classes in feature space (defining a *decision boundary*):\n",
    "- on a line: $\\mathbf{w}^T\\mathbf{x} + b =0$\n",
    "- above a line (class 1): $\\mathbf{w}^T\\mathbf{x} + b > 0$\n",
    "- below a line (class 0): $\\mathbf{w}^T\\mathbf{x} + b < 0$  \n",
    "\n",
    "In general the output will be:\n",
    "$$ f(\\mathbf{x}) = sign(\\mathbf{w}^T\\mathbf{x}+b) $$  \n",
    "\n",
    "with $i={0,\\ldots,n}$ features and $j={0,\\ldots,m}$ points: $\\mathbf{w}^T\\in \\mathbb{R}^{1\\times n}$ and \n",
    "$\\mathbf{x}\\in \\mathbb{R}^{n\\times m}$"
   ]
  },
  {
   "cell_type": "markdown",
   "metadata": {
    "slideshow": {
     "slide_type": "subslide"
    }
   },
   "source": [
    "Depending on how the line is drawn the red outlier is assigned to either class. But the lines are not all the same; they leave more space for points from class or another. "
   ]
  },
  {
   "cell_type": "code",
   "execution_count": 4,
   "metadata": {
    "slideshow": {
     "slide_type": "subslide"
    }
   },
   "outputs": [
    {
     "name": "stdout",
     "output_type": "stream",
     "text": [
      "(0.5, 1.2, '-', 0.2)\n",
      "(1.5, 0.0, '-.', 0.35)\n",
      "(-0.25, 3.0, '--', 0.6)\n"
     ]
    },
    {
     "data": {
      "image/png": "[encoded data removed]",
      "text/plain": [
       "<Figure size 432x288 with 1 Axes>"
      ]
     },
     "metadata": {
      "needs_background": "light"
     },
     "output_type": "display_data"
    }
   ],
   "source": [
    "plt.scatter(X[:, 0], X[:, 1], marker='s', c=y, s=10, cmap='winter')\n",
    "outlier = (1,2.2)\n",
    "plt.scatter(outlier[0], outlier[1], marker='o', color='red',s=200)\n",
    "plt.xlim(-0.5,3.5)\n",
    "plt.ylim(-1,5.5)\n",
    "M = (0.5, 1.5, -0.25)\n",
    "Q = (1.2, 0.,3.)\n",
    "classifier = np.linspace(-1, 4.)\n",
    "elements = ((0.5, 1.2, \"-\", 0.2),(1.5, 0., \"-.\", 0.35),(-0.25, 3., \"--\", 0.6))\n",
    "for e in elements:\n",
    "    print(e)\n",
    "    yy = e[0]*classifier+e[1]\n",
    "    plt.plot(classifier, yy , c='k', ls=e[2])\n",
    "    plt.fill_between(classifier, yy-e[3], yy + e[3], edgecolor='none',color='#AAAAAA', alpha=0.4)"
   ]
  },
  {
   "cell_type": "markdown",
   "metadata": {
    "slideshow": {
     "slide_type": "subslide"
    }
   },
   "source": [
    "Each line has a different width or __margin__ that separates it from the nearest point in the data. We must somehow determine the separator with the greatest margin because it will yield the minimum of false classifications. We may define also the two hyperplanes lying exactly on the border of one class (__positive__ and __negative__ hyperplane)."
   ]
  },
  {
   "cell_type": "markdown",
   "metadata": {
    "slideshow": {
     "slide_type": "fragment"
    }
   },
   "source": [
    "We define these hyperplanes as:\n",
    "- $\\mathbf{w}\\mathbf{x} -b = 1$; all points above this line are class 1\n",
    "- $\\mathbf{w}\\mathbf{x} -b = - 1$; all points below this line are class -1\n",
    "- $\\mathbf{w}\\mathbf{x} -b = 0 $; mid way between the two classes\n",
    "\n",
    "where $\\mathbf{w}$ is normal vector to the plane: ($\\mathbf{n}\\cdot(\\mathbf{r}-\\mathbf{r}_0)=0$) with $n\\rightarrow w$."
   ]
  },
  {
   "cell_type": "markdown",
   "metadata": {
    "slideshow": {
     "slide_type": "subslide"
    }
   },
   "source": [
    "<div>\n",
    "<img src=\"boundary.png\" width=\"400\"/>\n",
    "</div>"
   ]
  },
  {
   "cell_type": "markdown",
   "metadata": {
    "slideshow": {
     "slide_type": "subslide"
    }
   },
   "source": [
    "To define the margin we need to calculate the distance $\\rho$ between the two extreme hyperplanes. By definition $\\rho\\frac{\\mathbf{w}}{\\mid\\mid \\mathbf{w}\\mid\\mid}$ is a vector between the two hyperplanes.  \n",
    "Let $\\mathbf{x}_1$ be a point on the positive hyperplane: $\\mathbf{w}\\mathbf{x}_1-b=1$. By definition\n",
    "$$ \\mathbf{x}_{-1} = \\mathbf{x}_1-\\rho\\frac{\\mathbf{w}}{\\mid\\mid \\mathbf{w}\\mid\\mid} = -1$$ \n",
    "since $\\mathbf{x}_{-1}$ must lie on the other hyperplane. Thus:\n",
    "$$ \\mathbf{w}(\\mathbf{x}_1-\\rho\\frac{\\mathbf{w}}{\\mid\\mid \\mathbf{w}\\mid\\mid})-b = -1$$"
   ]
  },
  {
   "cell_type": "markdown",
   "metadata": {
    "slideshow": {
     "slide_type": "fragment"
    }
   },
   "source": [
    "Expanding (with $ \\mathbf{w}\\mathbf{x}_1-b=1$ by definition):\n",
    "$$ \\mathbf{w}\\mathbf{x}_1-\\rho\\frac{\\mid\\mid \\mathbf{w}\\mid\\mid^2}{\\mid\\mid \\mathbf{w}\\mid\\mid}-b = -1 $$\n",
    "$$ \\mathbf{w}\\mathbf{x}_1-\\rho \\mid\\mid \\mathbf{w}\\mid\\mid-b = -1 $$\n",
    "$$ \\mathbf{w}\\mathbf{x}_1-b = -1 +\\rho \\mid\\mid \\mathbf{w}\\mid\\mid$$\n",
    "$$ \\frac{2}{\\mid\\mid\\mathbf{w}\\mid\\mid} = \\rho $$"
   ]
  },
  {
   "cell_type": "markdown",
   "metadata": {
    "slideshow": {
     "slide_type": "subslide"
    }
   },
   "source": [
    "More simply, if $\\mathbf{x}_1$ and $\\mathbf{x}_{-1}$ are points lying on the two hyperplanes we have:\n",
    "$$\\mathbf{w}\\mathbf{x}_1-b=1$$\n",
    "$$\\mathbf{w}\\mathbf{x}_{-1}-b=-1$$\n",
    "Subtracting the second definition from the first:\n",
    "$$\\mathbf{w}\\mathbf{x}_1-\\mathbf{w}\\mathbf{x}_{-1} = 2 $$\n",
    "and dividing by $\\mid\\mid \\mathbf{w}\\mid\\mid$:\n",
    "$$x_1 - x_{-1} = \\rho = \\frac{2}{\\mid\\mid\\mathbf{w}\\mid\\mid} $$"
   ]
  },
  {
   "cell_type": "markdown",
   "metadata": {
    "slideshow": {
     "slide_type": "subslide"
    }
   },
   "source": [
    "To constrain points to lie on the \"correct side\" we write:\n",
    "$$y_j=1 \\rightarrow \\mathbf{w}\\mathbf{x}_j -b\\geq 1$$  \n",
    "$$y_j=-1 \\rightarrow \\mathbf{w}\\mathbf{x}_j -b\\leq -1$$  \n",
    "or simply\n",
    "$$y_j\\cdot(\\mathbf{w}\\mathbf{x}_j-b)\\geq 1\\ \\forall\\ j$$"
   ]
  },
  {
   "cell_type": "markdown",
   "metadata": {
    "slideshow": {
     "slide_type": "fragment"
    }
   },
   "source": [
    "Points closest to the hyperplane are __support vectors__ and determine the _maximum margin_.\n",
    "We must determine the $w $ that minimize $\\mid\\mid w\\mid\\mid$ under the constraint above."
   ]
  },
  {
   "cell_type": "markdown",
   "metadata": {
    "slideshow": {
     "slide_type": "subslide"
    }
   },
   "source": [
    "What if the points are not linearly separable? We may define a cost function to be minimized and try to strike a balance."
   ]
  },
  {
   "cell_type": "markdown",
   "metadata": {
    "slideshow": {
     "slide_type": "subslide"
    }
   },
   "source": [
    "### Cost function"
   ]
  },
  {
   "cell_type": "markdown",
   "metadata": {
    "slideshow": {
     "slide_type": "fragment"
    }
   },
   "source": [
    "Having defined goal and constraints we can derive the cost function $J$:\n",
    "$$J(\\mathbf{w},b) = \\frac{1}{m}\\sum_{i=1}^m max[0,\\ 1-y_i(\\mathbf{w}\\cdot \\mathbf{x}_i)-b)] +\\frac{\\lambda}{2}\\mid\\mid w\\mid\\mid^2$$\n",
    "where the first term is called __hinge loss__."
   ]
  },
  {
   "cell_type": "markdown",
   "metadata": {
    "slideshow": {
     "slide_type": "fragment"
    }
   },
   "source": [
    "the second term maximizes the margin and the second one applies the constraints."
   ]
  },
  {
   "cell_type": "markdown",
   "metadata": {
    "slideshow": {
     "slide_type": "subslide"
    }
   },
   "source": [
    "We use once again _gradient descent_ for local minimization ($J$ is convex). The presence of the max function generates two cases:\n",
    "$$\n",
    "\\begin{cases}\n",
    "  J_j = \\frac{\\lambda}{2}\\mid\\mid w\\mid\\mid^2 & \\text{if } y_j(\\mathbf{w x}_j-b)\\geq 1\\\\    \n",
    "  J_j = \\frac{\\lambda}{2}\\mid\\mid w\\mid\\mid^2 +1-y_j(\\mathbf{w x}_j-b) & \\text{otherwise}\n",
    "\\end{cases}\n",
    "$$"
   ]
  },
  {
   "cell_type": "markdown",
   "metadata": {
    "slideshow": {
     "slide_type": "subslide"
    }
   },
   "source": [
    "Hence we have the following partial derivatives:"
   ]
  },
  {
   "cell_type": "markdown",
   "metadata": {
    "slideshow": {
     "slide_type": "fragment"
    }
   },
   "source": [
    "__case__ 1:\n",
    "$$\n",
    "\\begin{align}\n",
    "    \\frac{\\partial J_j}{\\partial w_i} = & \\lambda w_i \\\\\n",
    "    \\frac{\\partial J_j}{\\partial b} = & 0 \\\\\n",
    "\\end{align} \n",
    "$$"
   ]
  },
  {
   "cell_type": "markdown",
   "metadata": {
    "slideshow": {
     "slide_type": "fragment"
    }
   },
   "source": [
    "__case__ 2:\n",
    "$$\n",
    "\\begin{align}\n",
    "    \\frac{\\partial J_j}{\\partial w_i} = & \\lambda w_k -y_j \\mathbf{x}_j\\\\\n",
    "    \\frac{\\partial J_j}{\\partial b} = & -y_j \\\\\n",
    "\\end{align} \n",
    "$$"
   ]
  },
  {
   "cell_type": "markdown",
   "metadata": {
    "slideshow": {
     "slide_type": "subslide"
    }
   },
   "source": [
    "we have now set up the main formal aspects. Let's try to implement it"
   ]
  },
  {
   "cell_type": "markdown",
   "metadata": {
    "slideshow": {
     "slide_type": "skip"
    }
   },
   "source": [
    "<a id=\"impl\"></a>"
   ]
  },
  {
   "cell_type": "markdown",
   "metadata": {
    "slideshow": {
     "slide_type": "subslide"
    }
   },
   "source": [
    "### SVM implementation"
   ]
  },
  {
   "cell_type": "markdown",
   "metadata": {
    "slideshow": {
     "slide_type": "subslide"
    }
   },
   "source": [
    "What we want to do is:\n",
    "1. Get initial values for $\\mathbf{w}$ and $b$\n",
    "2. Map points in the two classes 1,-1\n",
    "3. Minimize J with gradient descent\n",
    "4. Test predictions."
   ]
  },
  {
   "cell_type": "code",
   "execution_count": 5,
   "metadata": {
    "slideshow": {
     "slide_type": "subslide"
    }
   },
   "outputs": [],
   "source": [
    "class SVM:\n",
    "    \"\"\"\n",
    "    helper function for SVM classifier\n",
    "    \"\"\"\n",
    "    def __init__(self, alpha=5e-4, reg=0.5, verbose=10):\n",
    "        #lambda is a reserved kwd\n",
    "        \"\"\"\n",
    "        - alpha: GD learning rate\n",
    "        - lambda: regularization parameter\n",
    "        \"\"\"\n",
    "        self.alpha = alpha\n",
    "        self.reg   = reg\n",
    "        self.verbose = verbose\n",
    "\n",
    "    def _init_data(self, X):\n",
    "        \"\"\"\n",
    "        initializes w and b to the correct shape\n",
    "        \"\"\"\n",
    "        n_features = X.shape[1]\n",
    "        self.ninv = 1./n_features\n",
    "        self.w = np.zeros(n_features)\n",
    "        self.b = 0\n",
    "                \n",
    "    def predict(self, X):\n",
    "        \"\"\"\n",
    "        Predict the class\n",
    "        \"\"\"\n",
    "        prediction = np.sign(np.dot(X, self.w) + self.b)\n",
    "        return prediction  \n",
    "    \n",
    "    def _cost(self):\n",
    "        pass\n",
    "    \n",
    "    def fit(self):\n",
    "        \"\"\"\n",
    "        Train SVM classifier.\n",
    "        - X mxn are the features\n",
    "        - y {-1,1}xn are the classes\n",
    "        \"\"\"\n",
    "        if self.verbose > 0:\n",
    "            nprint = niter // self.verbose\n",
    "        self._init_data(X)\n",
    "        # run GD\n",
    "        for n in range(niter):\n",
    "            pass\n",
    "        if (n+1) % nprint == 0:\n",
    "            J = self._cost(X, y)\n",
    "            print(\"------ Step {} -> Cost = {} -----\".format(n, J))"
   ]
  },
  {
   "cell_type": "markdown",
   "metadata": {
    "slideshow": {
     "slide_type": "subslide"
    }
   },
   "source": [
    "### Exercise 1\n",
    "\n",
    "a. Implement the Gradient descent method.  \n",
    "b. How to check for convergence?  \n",
    "c. How to check for correctness?\n",
    "\n",
    "Note: there no private and public methods in Python ma those which should be private are often written as:  \n",
    "        `_some_method  `  \n",
    "while those that expose functionalities as:  \n",
    "        `some_method  `"
   ]
  },
  {
   "cell_type": "markdown",
   "metadata": {
    "slideshow": {
     "slide_type": "fragment"
    }
   },
   "source": [
    "<div>\n",
    "<img src=\"gears.png\" width=\"400\"/>\n",
    "</div>"
   ]
  },
  {
   "cell_type": "markdown",
   "metadata": {
    "slideshow": {
     "slide_type": "subslide"
    }
   },
   "source": [
    "### Solution 1\n",
    "\n",
    "a+b"
   ]
  },
  {
   "cell_type": "code",
   "execution_count": 6,
   "metadata": {
    "slideshow": {
     "slide_type": "subslide"
    }
   },
   "outputs": [],
   "source": [
    "class SVM:\n",
    "    \"\"\"\n",
    "    helper function for VMS classifier\n",
    "    \"\"\"\n",
    "    def __init__(self, alpha=1e-3, reg=1e-2, verbose=10):\n",
    "        #lambda is a reserved kwd\n",
    "        \"\"\"\n",
    "        - alpha: GD learning rate\n",
    "        - lambda: regularization parameter\n",
    "        \"\"\"\n",
    "        self.alpha = alpha\n",
    "        self.reg   = reg\n",
    "        self.verbose = verbose\n",
    "\n",
    "    def _init_data(self, X):\n",
    "        \"\"\"\n",
    "        initializes w and b to the correct shape\n",
    "        \"\"\"\n",
    "        n_features = X.shape[1]\n",
    "        self.ninv = 1./n_features\n",
    "        self.w = np.zeros(n_features)\n",
    "        self.b = 0\n",
    "        \n",
    "    def cost_function(self, X, y):\n",
    "        sum_terms = 1-y*(np.dot(X,self.w)-self.b)\n",
    "        sum_terms = np.where(sum_terms<0,0,sum_terms)\n",
    "        J = self.reg*np.sum(self.w**2)/2. +np.sum(sum_terms)/y.shape[0]\n",
    "        return J         \n",
    "\n",
    "    def fit(self, X, y, niter=500):\n",
    "        \"\"\"\n",
    "        Train SVM classifier.\n",
    "        - X mxn are the features\n",
    "        - y {-1,1}xn are the classes\n",
    "        \"\"\"\n",
    "        if self.verbose > 0:\n",
    "            nprint = niter // self.verbose\n",
    "        self._init_data(X)\n",
    "        # run GD\n",
    "        for n in range(niter):\n",
    "            for index, x_i in enumerate(X):\n",
    "                case = y[index] * (np.dot(x_i, self.w) - self.b) >= 1\n",
    "                if case:\n",
    "                    self.w -= self.alpha*(self.reg * self.w)\n",
    "                else:\n",
    "                    self.w -= self.alpha*(self.reg * self.w - np.dot(x_i, y[index])\n",
    "                    )\n",
    "                    self.b -= self.alpha * y[index]\n",
    "            if (n+1) % nprint == 0:\n",
    "                J = self.cost_function(X, y)\n",
    "                print(\"------ Step {} -> Cost = {} -----\".format(n, J))\n",
    "                \n",
    "    def predict(self, X):\n",
    "        \"\"\"\n",
    "        Predict the class of points in X\n",
    "        \"\"\"\n",
    "        prediction = np.sign(np.dot(X, self.w) - self.b)\n",
    "        return prediction"
   ]
  },
  {
   "cell_type": "markdown",
   "metadata": {
    "slideshow": {
     "slide_type": "subslide"
    }
   },
   "source": [
    "c. Just check the number of correct predictions ..."
   ]
  },
  {
   "cell_type": "code",
   "execution_count": 7,
   "metadata": {
    "slideshow": {
     "slide_type": "fragment"
    }
   },
   "outputs": [],
   "source": [
    "def accuracy(y_true, y_pred):\n",
    "    \"\"\"\n",
    "    print the ratio of correct predictions\n",
    "    \"\"\"\n",
    "    accuracy = np.sum(y_true==y_pred) / len(y_true)\n",
    "    return accuracy"
   ]
  },
  {
   "cell_type": "markdown",
   "metadata": {
    "slideshow": {
     "slide_type": "subslide"
    }
   },
   "source": [
    "Remap classes in the correct range!"
   ]
  },
  {
   "cell_type": "code",
   "execution_count": 8,
   "metadata": {
    "slideshow": {
     "slide_type": "fragment"
    }
   },
   "outputs": [],
   "source": [
    "y = np.where(y <= 0, -1, 1)"
   ]
  },
  {
   "cell_type": "markdown",
   "metadata": {
    "slideshow": {
     "slide_type": "subslide"
    }
   },
   "source": [
    "Test the SVM. We create a _test_ and _train_ set with SciKit Learn."
   ]
  },
  {
   "cell_type": "code",
   "execution_count": 9,
   "metadata": {
    "slideshow": {
     "slide_type": "fragment"
    }
   },
   "outputs": [
    {
     "name": "stdout",
     "output_type": "stream",
     "text": [
      "(180, 2) (20, 2)\n",
      "(180,) (20,)\n"
     ]
    }
   ],
   "source": [
    "X_train, X_test, y_train, y_test = model_selection.train_test_split(X, y, test_size=0.1, shuffle=True, random_state=1)\n",
    "print(X_train.shape, X_test.shape)\n",
    "print(y_train.shape, y_test.shape)"
   ]
  },
  {
   "cell_type": "code",
   "execution_count": 10,
   "metadata": {
    "slideshow": {
     "slide_type": "fragment"
    }
   },
   "outputs": [
    {
     "name": "stdout",
     "output_type": "stream",
     "text": [
      "------ Step 199 -> Cost = 0.011432175853096874 -----\n",
      "------ Step 399 -> Cost = 0.0103367681250282 -----\n",
      "------ Step 599 -> Cost = 0.009380446058166144 -----\n",
      "------ Step 799 -> Cost = 0.008533074953960683 -----\n",
      "------ Step 999 -> Cost = 0.007765643558682534 -----\n",
      "------ Step 1199 -> Cost = 0.007071279515443061 -----\n",
      "------ Step 1399 -> Cost = 0.0065377417379158375 -----\n",
      "------ Step 1599 -> Cost = 0.006217587931846694 -----\n",
      "------ Step 1799 -> Cost = 0.0059463657836514895 -----\n",
      "------ Step 1999 -> Cost = 0.005702522609349589 -----\n",
      "1.0\n"
     ]
    }
   ],
   "source": [
    "mySVM = SVM()\n",
    "mySVM.fit(X_train, y_train, niter=2000)\n",
    "predictions = mySVM.predict(X_test)\n",
    "print(accuracy(y_test, predictions))"
   ]
  },
  {
   "cell_type": "markdown",
   "metadata": {
    "slideshow": {
     "slide_type": "subslide"
    }
   },
   "source": [
    "Let's have a look"
   ]
  },
  {
   "cell_type": "code",
   "execution_count": 11,
   "metadata": {
    "slideshow": {
     "slide_type": "fragment"
    }
   },
   "outputs": [
    {
     "data": {
      "text/plain": [
       "(array([ 0.33511407, -0.88137076]), -1.8209999999999102)"
      ]
     },
     "execution_count": 11,
     "metadata": {},
     "output_type": "execute_result"
    }
   ],
   "source": [
    "mySVM.w, mySVM.b"
   ]
  },
  {
   "cell_type": "markdown",
   "metadata": {
    "slideshow": {
     "slide_type": "subslide"
    }
   },
   "source": [
    "How to draw the boundaries?"
   ]
  },
  {
   "cell_type": "code",
   "execution_count": 12,
   "metadata": {
    "slideshow": {
     "slide_type": "fragment"
    }
   },
   "outputs": [],
   "source": [
    "def hyper_y(w,b,x,off=0):\n",
    "    \"\"\"\n",
    "    Return the y coordinate of a point on the\n",
    "    decision boundary or on the positive (off=1)\n",
    "    or negative (off=-1) line\n",
    "    \"\"\"\n",
    "    # in 2D wx-b is just ax+by+c=0 for a straight line\n",
    "    return (-w[0] * x + b + off) / w[1]"
   ]
  },
  {
   "cell_type": "code",
   "execution_count": 13,
   "metadata": {
    "slideshow": {
     "slide_type": "fragment"
    }
   },
   "outputs": [],
   "source": [
    "def draw_lines(model, X):\n",
    "    \"\"\"\n",
    "    Given 2D SVM classifier and a data set\n",
    "    draw the decision boundary and the positive\n",
    "    and negative lines\n",
    "    \"\"\"\n",
    "    xmin = np.min(X[:,0])\n",
    "    xmax = np.max(X[:,0])\n",
    "    dec_min = hyper_y(model.w, model.b, xmin)\n",
    "    dec_max = hyper_y(model.w, model.b, xmax)\n",
    "    pp_min  = hyper_y(model.w, model.b, xmin, off=1)\n",
    "    pp_max  = hyper_y(model.w, model.b, xmax, off=1)\n",
    "    pn_min  = hyper_y(model.w, model.b, xmin, off=-1)\n",
    "    pn_max  = hyper_y(model.w, model.b, xmax, off=-1)\n",
    "    return ((dec_min,dec_max),(pp_min,pp_max),(pn_min,pn_max))"
   ]
  },
  {
   "cell_type": "code",
   "execution_count": 14,
   "metadata": {
    "slideshow": {
     "slide_type": "subslide"
    }
   },
   "outputs": [
    {
     "data": {
      "image/png": "[encoded data removed]",
      "text/plain": [
       "<Figure size 432x288 with 1 Axes>"
      ]
     },
     "metadata": {
      "needs_background": "light"
     },
     "output_type": "display_data"
    }
   ],
   "source": [
    "plt.scatter(X_train[:, 0], X_train[:, 1], marker='s', c=y_train, s=10, cmap='winter')\n",
    "plt.scatter(X_test[:, 0], X_test[:, 1], marker='o', c=y_test, s=100, cmap='viridis')\n",
    "lines = draw_lines(mySVM, X_train)\n",
    "for s, S in enumerate(('--','-','-')):\n",
    "    plt.plot((np.min(X_train[:,0]),np.max(X_train[:,0])),lines[s],ls=S,c='k')"
   ]
  },
  {
   "cell_type": "markdown",
   "metadata": {
    "slideshow": {
     "slide_type": "subslide"
    }
   },
   "source": [
    "What happens if the data is more noisy?"
   ]
  },
  {
   "cell_type": "code",
   "execution_count": 16,
   "metadata": {
    "slideshow": {
     "slide_type": "fragment"
    }
   },
   "outputs": [],
   "source": [
    "X, y = datasets.make_blobs(n_samples=200, centers=2, random_state=0, cluster_std=1)\n",
    "y = np.where(y <= 0, -1, 1)"
   ]
  },
  {
   "cell_type": "code",
   "execution_count": 17,
   "metadata": {
    "slideshow": {
     "slide_type": "fragment"
    }
   },
   "outputs": [
    {
     "data": {
      "text/plain": [
       "<matplotlib.collections.PathCollection at 0x7f50ea886fa0>"
      ]
     },
     "execution_count": 17,
     "metadata": {},
     "output_type": "execute_result"
    },
    {
     "data": {
      "image/png": "[encoded data removed]",
      "text/plain": [
       "<Figure size 432x288 with 1 Axes>"
      ]
     },
     "metadata": {
      "needs_background": "light"
     },
     "output_type": "display_data"
    }
   ],
   "source": [
    "plt.scatter(X[:,0],X[:,1], c=y, cmap=\"viridis\")"
   ]
  },
  {
   "cell_type": "code",
   "execution_count": 18,
   "metadata": {
    "slideshow": {
     "slide_type": "subslide"
    }
   },
   "outputs": [
    {
     "name": "stdout",
     "output_type": "stream",
     "text": [
      "------ Step 499 -> Cost = 0.09239402369305928 -----\n",
      "------ Step 999 -> Cost = 0.08648439503480095 -----\n",
      "------ Step 1499 -> Cost = 0.08560844838347087 -----\n",
      "------ Step 1999 -> Cost = 0.08564411876871401 -----\n",
      "------ Step 2499 -> Cost = 0.08562912801898116 -----\n",
      "------ Step 2999 -> Cost = 0.08562883226113539 -----\n",
      "------ Step 3499 -> Cost = 0.08562246096465109 -----\n",
      "------ Step 3999 -> Cost = 0.08560970226968144 -----\n",
      "------ Step 4499 -> Cost = 0.08561483717709059 -----\n",
      "------ Step 4999 -> Cost = 0.08563891786696147 -----\n",
      "0.95\n"
     ]
    }
   ],
   "source": [
    "X_train, X_test, y_train, y_test = model_selection.train_test_split(X, y, test_size=0.1, shuffle=True, random_state=1)\n",
    "mySVM = SVM(verbose=10)\n",
    "mySVM.fit(X_train, y_train, niter=5000)\n",
    "predictions = mySVM.predict(X_test)\n",
    "print(accuracy(y_test, predictions))"
   ]
  },
  {
   "cell_type": "code",
   "execution_count": 19,
   "metadata": {
    "slideshow": {
     "slide_type": "subslide"
    }
   },
   "outputs": [
    {
     "data": {
      "image/png": "[encoded data removed]",
      "text/plain": [
       "<Figure size 432x288 with 1 Axes>"
      ]
     },
     "metadata": {
      "needs_background": "light"
     },
     "output_type": "display_data"
    }
   ],
   "source": [
    "plt.scatter(X_train[:, 0], X_train[:, 1], marker='s', c=y_train, s=10, cmap='winter')\n",
    "plt.scatter(X_test[:, 0], X_test[:, 1], marker='o', c=y_test, s=100, cmap='viridis')\n",
    "lines = draw_lines(mySVM, X_train)\n",
    "for s, S in enumerate(('--','-','-')):\n",
    "    plt.plot((np.min(X_train[:,0]),np.max(X_train[:,0])),lines[s],ls=S,c='k')"
   ]
  },
  {
   "cell_type": "markdown",
   "metadata": {
    "slideshow": {
     "slide_type": "skip"
    }
   },
   "source": [
    "<a id=\"kernel\"></a>"
   ]
  },
  {
   "cell_type": "markdown",
   "metadata": {
    "slideshow": {
     "slide_type": "slide"
    }
   },
   "source": [
    "## Kernel trick"
   ]
  },
  {
   "cell_type": "markdown",
   "metadata": {
    "slideshow": {
     "slide_type": "subslide"
    }
   },
   "source": [
    "From the dimensionality reduction class: __Higher dimensionality projection__ $\\rightarrow$ project linearly inseparable data onto a higher dimensional space where it becomes linearly separable."
   ]
  },
  {
   "cell_type": "code",
   "execution_count": 20,
   "metadata": {
    "slideshow": {
     "slide_type": "fragment"
    }
   },
   "outputs": [
    {
     "data": {
      "image/png": "[encoded data removed]",
      "text/plain": [
       "<Figure size 432x288 with 1 Axes>"
      ]
     },
     "metadata": {
      "needs_background": "light"
     },
     "output_type": "display_data"
    }
   ],
   "source": [
    "from sklearn.datasets import make_circles\n",
    "X, y = make_circles(n_samples=500, factor=0.3, noise=0.05, random_state=0)\n",
    "for i in range(2):\n",
    "    plt.scatter(X[y==i,0], X[y==i,1], cmap=plt.cm.get_cmap('RdBu'), alpha=0.5)"
   ]
  },
  {
   "cell_type": "markdown",
   "metadata": {
    "slideshow": {
     "slide_type": "subslide"
    }
   },
   "source": [
    "If we could just pull the small circle out of the screen ..."
   ]
  },
  {
   "cell_type": "markdown",
   "metadata": {
    "slideshow": {
     "slide_type": "fragment"
    }
   },
   "source": [
    "<div>\n",
    "    <img src=\"come_with_me.jpg\" width=\"500\"/>\n",
    "</div>"
   ]
  },
  {
   "cell_type": "markdown",
   "metadata": {
    "slideshow": {
     "slide_type": "subslide"
    }
   },
   "source": [
    "We do lift using a polynomial kernel $\\phi(x_1, x_2) = [x_1^2, x_2^2, \\sqrt{2}x_1 x_2]$ instead of a barbell:"
   ]
  },
  {
   "cell_type": "code",
   "execution_count": 21,
   "metadata": {
    "slideshow": {
     "slide_type": "fragment"
    }
   },
   "outputs": [],
   "source": [
    "def poly_transformation(X):\n",
    "    last = np.sqrt(2)*X[:,0]*X[:,1]\n",
    "    return np.c_[ X*X, last]\n",
    "X3d = poly_transformation(X)"
   ]
  },
  {
   "cell_type": "code",
   "execution_count": 22,
   "metadata": {
    "slideshow": {
     "slide_type": "subslide"
    }
   },
   "outputs": [
    {
     "data": {
      "image/png": "[encoded data removed]",
      "text/plain": [
       "<Figure size 1152x576 with 2 Axes>"
      ]
     },
     "metadata": {
      "needs_background": "light"
     },
     "output_type": "display_data"
    }
   ],
   "source": [
    "fig = plt.figure(figsize=(16, 8))\n",
    "\n",
    "ax = fig.add_subplot(231)\n",
    "ax.scatter(X[:, 0], X[:, 1], c=y, cmap='RdBu')\n",
    "\n",
    "ax = fig.add_subplot(232, projection=\"3d\")\n",
    "ax.scatter(X3d[:, 0], X3d[:, 1], X3d[:, 2], c=y,  cmap='RdBu')\n",
    "ax.view_init(10, -60)"
   ]
  },
  {
   "cell_type": "markdown",
   "metadata": {
    "slideshow": {
     "slide_type": "fragment"
    }
   },
   "source": [
    "credits: I got the _lifting_ name [here](#https://gregorygundersen.com/blog/2019/12/10/kernel-trick/)"
   ]
  },
  {
   "cell_type": "markdown",
   "metadata": {
    "slideshow": {
     "slide_type": "subslide"
    }
   },
   "source": [
    "As we remember from the KPCA slides, direct projection on the higher dimension space is computationally costly. If the original data is $\\mathbb{R}^{n\\times d}$ and the kernel space is in $\\mathbb{R}^{n\\times k}$ with $k\\gt d$ we need $nk$ computations to do the transformation. "
   ]
  },
  {
   "cell_type": "markdown",
   "metadata": {
    "slideshow": {
     "slide_type": "subslide"
    }
   },
   "source": [
    "However with the _Kernel trick_ we can calculate:\n",
    "$$ \\mathbf{K}(\\vec{x}_i,\\vec{x}_j) = \\mathbf{k}(\\vec{x}_i)\\mathbf{k}(\\vec{x}_j)^T $$\n",
    "where $\\vec{x}_i \\in \\mathbb{R}^d$, $\\mathbf{k}(x_i)\\in \\mathbb{R}^k$, $k>d$"
   ]
  },
  {
   "cell_type": "markdown",
   "metadata": {
    "slideshow": {
     "slide_type": "subslide"
    }
   },
   "source": [
    "The kernel trick rests on [Mercer's theorem](#https://en.wikipedia.org/wiki/Mercer%27s_theorem): A symmetric function $k(\\mathbf{x}, \\mathbf{y})$ can be expressed as an inner product  \n",
    "\n",
    "$$ k(\\mathbf{x}, \\mathbf{y}) = \\langle \\varphi(\\mathbf{x}), \\varphi(\\mathbf{y}) \\rangle $$\n",
    "\n",
    "for some $\\varphi(\\cdot)$ if and only if $k(\\mathbf{x}, \\mathbf{y})k(x,y)$ is positive semidefinite, i.e.  \n",
    "\n",
    "$$\\int k(\\mathbf{x}, \\mathbf{y}) g(\\mathbf{x}) g(\\mathbf{y}) \\text{d}\\mathbf{x}\\text{d}\\mathbf{y} \\geq 0, \\qquad \\forall g $$"
   ]
  },
  {
   "cell_type": "markdown",
   "metadata": {
    "slideshow": {
     "slide_type": "subslide"
    }
   },
   "source": [
    "### Exploit the Kernel trick in SVM"
   ]
  },
  {
   "cell_type": "markdown",
   "metadata": {
    "slideshow": {
     "slide_type": "fragment"
    }
   },
   "source": [
    "Let's try to classify the donut data set."
   ]
  },
  {
   "cell_type": "code",
   "execution_count": 23,
   "metadata": {
    "slideshow": {
     "slide_type": "fragment"
    }
   },
   "outputs": [
    {
     "name": "stdout",
     "output_type": "stream",
     "text": [
      "------ Step 49 -> Cost = 0.9977270477503917 -----\n",
      "------ Step 99 -> Cost = 0.9956320358516463 -----\n",
      "------ Step 149 -> Cost = 0.9936507852277979 -----\n",
      "------ Step 199 -> Cost = 0.9924606233901185 -----\n",
      "------ Step 249 -> Cost = 0.9920421649528821 -----\n",
      "------ Step 299 -> Cost = 0.9917025321286146 -----\n",
      "------ Step 349 -> Cost = 0.9914333286876915 -----\n",
      "------ Step 399 -> Cost = 0.9912314490390411 -----\n",
      "------ Step 449 -> Cost = 0.9911929513417235 -----\n",
      "------ Step 499 -> Cost = 0.9911799999530367 -----\n",
      "0.46\n"
     ]
    }
   ],
   "source": [
    "y = np.where(y <= 0, -1, 1)\n",
    "X_train, X_test, y_train, y_test = model_selection.train_test_split(X, y, test_size=0.1, shuffle=True, random_state=1)\n",
    "mySVM = SVM()\n",
    "mySVM.fit(X_train, y_train)\n",
    "predictions = mySVM.predict(X_test)\n",
    "print(accuracy(y_test, predictions))"
   ]
  },
  {
   "cell_type": "markdown",
   "metadata": {
    "slideshow": {
     "slide_type": "subslide"
    }
   },
   "source": [
    "Now on the transformed data (__X3d__)"
   ]
  },
  {
   "cell_type": "code",
   "execution_count": 24,
   "metadata": {
    "slideshow": {
     "slide_type": "fragment"
    }
   },
   "outputs": [
    {
     "name": "stdout",
     "output_type": "stream",
     "text": [
      "------ Step 49 -> Cost = 0.07893732207009563 -----\n",
      "------ Step 99 -> Cost = 0.07759527274028952 -----\n",
      "------ Step 149 -> Cost = 0.07759391765399624 -----\n",
      "------ Step 199 -> Cost = 0.0775942151546618 -----\n",
      "------ Step 249 -> Cost = 0.07759870255225076 -----\n",
      "------ Step 299 -> Cost = 0.07760007039374377 -----\n",
      "------ Step 349 -> Cost = 0.0776043832017395 -----\n",
      "------ Step 399 -> Cost = 0.07760723962582507 -----\n",
      "------ Step 449 -> Cost = 0.0776074291990573 -----\n",
      "------ Step 499 -> Cost = 0.07760810218044503 -----\n",
      "1.0\n"
     ]
    }
   ],
   "source": [
    "X_train, X_test, y_train, y_test = model_selection.train_test_split(X3d, y, test_size=0.1, shuffle=True, random_state=1)\n",
    "mySVM = SVM()\n",
    "mySVM.fit(X_train, y_train)\n",
    "predictions = mySVM.predict(X_test)\n",
    "print(accuracy(y_test, predictions))"
   ]
  },
  {
   "cell_type": "code",
   "execution_count": 25,
   "metadata": {
    "slideshow": {
     "slide_type": "subslide"
    }
   },
   "outputs": [
    {
     "data": {
      "image/png": "[encoded data removed]",
      "text/plain": [
       "<Figure size 1152x576 with 2 Axes>"
      ]
     },
     "metadata": {
      "needs_background": "light"
     },
     "output_type": "display_data"
    }
   ],
   "source": [
    "fig = plt.figure(figsize=(16, 8))\n",
    "\n",
    "ax = fig.add_subplot(231, projection=\"3d\")\n",
    "ax.scatter(X_train[:, 0], X_train[:, 1], X_train[:, 2], c=y_train, cmap='RdBu')\n",
    "\n",
    "ax = fig.add_subplot(232, projection=\"3d\")\n",
    "ax.scatter(X_test[:, 0], X_test[:, 1], X_test[:, 2], c=predictions,  cmap='RdBu')\n",
    "ax.view_init(10, -60)"
   ]
  },
  {
   "cell_type": "markdown",
   "metadata": {
    "slideshow": {
     "slide_type": "subslide"
    }
   },
   "source": [
    "To fully exploit the kernel trick we have to reformulate the SVM optimization goal."
   ]
  },
  {
   "cell_type": "markdown",
   "metadata": {
    "slideshow": {
     "slide_type": "skip"
    }
   },
   "source": [
    "<a id=\"dual\"></a>"
   ]
  },
  {
   "cell_type": "markdown",
   "metadata": {
    "slideshow": {
     "slide_type": "slide"
    }
   },
   "source": [
    "## Dual SVM problem"
   ]
  },
  {
   "cell_type": "markdown",
   "metadata": {
    "slideshow": {
     "slide_type": "subslide"
    }
   },
   "source": [
    "### A recap on how to impose constraints"
   ]
  },
  {
   "cell_type": "markdown",
   "metadata": {
    "slideshow": {
     "slide_type": "fragment"
    }
   },
   "source": [
    "A constrained convex optimization problem can be generally solved with [Lagrange multipliers](#https://mathworld.wolfram.com/LagrangeMultiplier.html):\n",
    "\n",
    "$$\\begin{cases}\n",
    "    \\nabla f(x) = & c \\nabla g(x) \\\\\n",
    "     g(x) = & 0 \n",
    "\\end{cases}$$\n",
    "\n",
    "or we simply minimize:\n",
    "$$ L(x,c) = f(x) - c g(x) $$"
   ]
  },
  {
   "cell_type": "markdown",
   "metadata": {
    "slideshow": {
     "slide_type": "fragment"
    }
   },
   "source": [
    "for multiple constraints:\n",
    "$$ \\begin{align}\n",
    "    L(x,c) = & f(x) - \\sum_j c_j g_j(x) \\\\\n",
    "    \\nabla L(x,c) = 0\n",
    "\\end{align}$$"
   ]
  },
  {
   "cell_type": "markdown",
   "metadata": {
    "slideshow": {
     "slide_type": "subslide"
    }
   },
   "source": [
    "That's for equality constraints. For inequalities:\n",
    "$$\\begin{cases}\n",
    "g(x) \\geq 0 & \\rightarrow c \\geq 0 \\\\\n",
    "g(x) \\leq 0 & \\rightarrow c \\leq 0 \\\\\n",
    "g(x) = 0    & c\\ \\text{unconstrained}\n",
    "\\end{cases}$$"
   ]
  },
  {
   "cell_type": "markdown",
   "metadata": {
    "slideshow": {
     "slide_type": "fragment"
    }
   },
   "source": [
    "Rewrite the SVM problem:\n",
    "$$\\begin{align}\n",
    "\\text{minimize}\\  & \\frac{\\lambda}{2}\\mid\\mid \\mathbf{w}\\mid\\mid^2 \\\\\n",
    "\\text{subject to}\\ & y_j(\\mathbf{w}\\cdot\\mathbf{x}_j-)-1 \\geq 0 \n",
    "\\end{align}$$"
   ]
  },
  {
   "cell_type": "markdown",
   "metadata": {
    "slideshow": {
     "slide_type": "fragment"
    }
   },
   "source": [
    "Hence we have one objective $f$ and $m$ inequality constraints $g_i$"
   ]
  },
  {
   "cell_type": "markdown",
   "metadata": {
    "slideshow": {
     "slide_type": "subslide"
    }
   },
   "source": [
    "Let's write the Lagrangian SVM:\n",
    "$$ L(\\mathbf{w},b,c) = \\frac{1}{2}\\mid\\mid\\mathbf{w}\\mid\\mid^2 - \\sum_{i=1}^m c_j[y_j(\\mathbf{w\\cdot x}_j-b)-1] $$"
   ]
  },
  {
   "cell_type": "markdown",
   "metadata": {
    "slideshow": {
     "slide_type": "fragment"
    }
   },
   "source": [
    "We want to:\n",
    "$$\\begin{align}\n",
    "\\text{min}\\ (\\mathbf{w},b)\\ \\text{max}\\ c\\  & L(\\mathbf{w},b,c) \\\\\n",
    "\\text{subject to}\\ & c_j \\geq 0 \n",
    "\\end{align}$$"
   ]
  },
  {
   "cell_type": "markdown",
   "metadata": {
    "slideshow": {
     "slide_type": "subslide"
    }
   },
   "source": [
    "The gradients will be:\n",
    "$$\\begin{align}\n",
    "    \\frac{\\partial L}{\\partial \\mathbf{w}_i} = &  \\mathbf{w}_i - \\sum _j c_j y_j x_{ij} = 0\\\\\n",
    "    \\frac{\\partial L}{\\partial b} = & - \\sum_j c_j y_j = 0\n",
    "\\end{align}$$"
   ]
  },
  {
   "cell_type": "markdown",
   "metadata": {
    "slideshow": {
     "slide_type": "fragment"
    }
   },
   "source": [
    "Hence $ \\mathbf{w} = \\sum_j c_j y_j \\mathbf{x}_i $"
   ]
  },
  {
   "cell_type": "markdown",
   "metadata": {
    "slideshow": {
     "slide_type": "subslide"
    }
   },
   "source": [
    "Putting it in the $L$ definition we obtain:\n",
    "$$\\begin{align}\n",
    "L = & \\frac{1}{2} (\\sum_{j=1}^m c_j y_j\\mathbf{x}_j )\\cdot(\\sum_{k=1}^m c_k y_k\\mathbf{x}_k)-\\sum_{j=1}^m c_j[y_j((\\sum_{jk1}^m c_k y_k\\mathbf{x}_k)\\cdot \\mathbf{x}_k-b)-1] \\\\\n",
    "   = & \\frac{1}{2}\\sum_{jk} c_j c_k y_j y_k \\mathbf{x}_j\\cdot\\mathbf{x}_k - \\sum_{jk} c_j c_k y_j y_k \\mathbf{x}_i\\cdot\\mathbf{x}_j -b \\sum_ic_i y_i +\\sum_ic_i \\\\\n",
    "   = & \\sum_j c_j - \\frac{1}{2}\\sum_{jk} c_j c_k y_j y_k \\mathbf{x}_j\\cdot\\mathbf{x}_k\n",
    "\\end{align}$$"
   ]
  },
  {
   "cell_type": "markdown",
   "metadata": {
    "slideshow": {
     "slide_type": "fragment"
    }
   },
   "source": [
    "since we know the $b$ term sums to 0"
   ]
  },
  {
   "cell_type": "markdown",
   "metadata": {
    "slideshow": {
     "slide_type": "subslide"
    }
   },
   "source": [
    "The new problem is:\n",
    "$$\\begin{align}\n",
    "\\text{min}\\ c & \\frac{1}{2}\\sum_{jk} c_j c_k y_j y_k \\mathbf{x}_j\\cdot\\mathbf{x}_k - \\sum_j c_j \\\\\n",
    "\\text{subject to}\\ & c_j\\geq 0 \\forall\\ j \\\\\n",
    " & \\sum_j c_j y_j = 0\n",
    "\\end{align}$$"
   ]
  },
  {
   "cell_type": "markdown",
   "metadata": {
    "slideshow": {
     "slide_type": "fragment"
    }
   },
   "source": [
    "which is now exploitable for the Kernel trick. It can be demonstrated that $L$ is concave hence the change of sign."
   ]
  },
  {
   "cell_type": "markdown",
   "metadata": {
    "slideshow": {
     "slide_type": "subslide"
    }
   },
   "source": [
    "#### Karush-Kuhn-Tucker Conditions\n",
    "The [KKT](#https://en.wikipedia.org/wiki/Karush%E2%80%93Kuhn%E2%80%93Tucker_conditions) conditions are necessary to apply the Lagrange multiplier method to inequality constraints. We will not delve deeper about them."
   ]
  },
  {
   "cell_type": "markdown",
   "metadata": {
    "slideshow": {
     "slide_type": "subslide"
    }
   },
   "source": [
    "SciKit Learn has a support vector classfier that supports kernels. remember that we can use the `help`:"
   ]
  },
  {
   "cell_type": "code",
   "execution_count": 26,
   "metadata": {
    "slideshow": {
     "slide_type": "fragment"
    }
   },
   "outputs": [
    {
     "name": "stdout",
     "output_type": "stream",
     "text": [
      "Help on class SVC in module sklearn.svm._classes:\n",
      "\n",
      "class SVC(sklearn.svm._base.BaseSVC)\n",
      " |  SVC(*, C=1.0, kernel='rbf', degree=3, gamma='scale', coef0=0.0, shrinking=True, probability=False, tol=0.001, cache_size=200, class_weight=None, verbose=False, max_iter=-1, decision_function_shape='ovr', break_ties=False, random_state=None)\n",
      " |  \n",
      " |  C-Support Vector Classification.\n",
      " |  \n",
      " |  The implementation is based on libsvm. The fit time scales at least\n",
      " |  quadratically with the number of samples and may be impractical\n",
      " |  beyond tens of thousands of samples. For large datasets\n",
      " |  consider using :class:`sklearn.svm.LinearSVC` or\n",
      " |  :class:`sklearn.linear_model.SGDClassifier` instead, possibly after a\n",
      " |  :class:`sklearn.kernel_approximation.Nystroem` transformer.\n",
      " |  \n",
      " |  The multiclass support is handled according to a one-vs-one scheme.\n",
      " |  \n",
      " |  For details on the precise mathematical formulation of the provided\n",
      " |  kernel functions and how `gamma`, `coef0` and `degree` affect each\n",
      " |  other, see the corresponding section in the narrative documentation:\n",
      " |  :ref:`svm_kernels`.\n",
      " |  \n",
      " |  Read more in the :ref:`User Guide <svm_classification>`.\n",
      " |  \n",
      " |  Parameters\n",
      " |  ----------\n",
      " |  C : float, default=1.0\n",
      " |      Regularization parameter. The strength of the regularization is\n",
      " |      inversely proportional to C. Must be strictly positive. The penalty\n",
      " |      is a squared l2 penalty.\n",
      " |  \n",
      " |  kernel : {'linear', 'poly', 'rbf', 'sigmoid', 'precomputed'}, default='rbf'\n",
      " |      Specifies the kernel type to be used in the algorithm.\n",
      " |      It must be one of 'linear', 'poly', 'rbf', 'sigmoid', 'precomputed' or\n",
      " |      a callable.\n",
      " |      If none is given, 'rbf' will be used. If a callable is given it is\n",
      " |      used to pre-compute the kernel matrix from data matrices; that matrix\n",
      " |      should be an array of shape ``(n_samples, n_samples)``.\n",
      " |  \n",
      " |  degree : int, default=3\n",
      " |      Degree of the polynomial kernel function ('poly').\n",
      " |      Ignored by all other kernels.\n",
      " |  \n",
      " |  gamma : {'scale', 'auto'} or float, default='scale'\n",
      " |      Kernel coefficient for 'rbf', 'poly' and 'sigmoid'.\n",
      " |  \n",
      " |      - if ``gamma='scale'`` (default) is passed then it uses\n",
      " |        1 / (n_features * X.var()) as value of gamma,\n",
      " |      - if 'auto', uses 1 / n_features.\n",
      " |  \n",
      " |      .. versionchanged:: 0.22\n",
      " |         The default value of ``gamma`` changed from 'auto' to 'scale'.\n",
      " |  \n",
      " |  coef0 : float, default=0.0\n",
      " |      Independent term in kernel function.\n",
      " |      It is only significant in 'poly' and 'sigmoid'.\n",
      " |  \n",
      " |  shrinking : bool, default=True\n",
      " |      Whether to use the shrinking heuristic.\n",
      " |      See the :ref:`User Guide <shrinking_svm>`.\n",
      " |  \n",
      " |  probability : bool, default=False\n",
      " |      Whether to enable probability estimates. This must be enabled prior\n",
      " |      to calling `fit`, will slow down that method as it internally uses\n",
      " |      5-fold cross-validation, and `predict_proba` may be inconsistent with\n",
      " |      `predict`. Read more in the :ref:`User Guide <scores_probabilities>`.\n",
      " |  \n",
      " |  tol : float, default=1e-3\n",
      " |      Tolerance for stopping criterion.\n",
      " |  \n",
      " |  cache_size : float, default=200\n",
      " |      Specify the size of the kernel cache (in MB).\n",
      " |  \n",
      " |  class_weight : dict or 'balanced', default=None\n",
      " |      Set the parameter C of class i to class_weight[i]*C for\n",
      " |      SVC. If not given, all classes are supposed to have\n",
      " |      weight one.\n",
      " |      The \"balanced\" mode uses the values of y to automatically adjust\n",
      " |      weights inversely proportional to class frequencies in the input data\n",
      " |      as ``n_samples / (n_classes * np.bincount(y))``\n",
      " |  \n",
      " |  verbose : bool, default=False\n",
      " |      Enable verbose output. Note that this setting takes advantage of a\n",
      " |      per-process runtime setting in libsvm that, if enabled, may not work\n",
      " |      properly in a multithreaded context.\n",
      " |  \n",
      " |  max_iter : int, default=-1\n",
      " |      Hard limit on iterations within solver, or -1 for no limit.\n",
      " |  \n",
      " |  decision_function_shape : {'ovo', 'ovr'}, default='ovr'\n",
      " |      Whether to return a one-vs-rest ('ovr') decision function of shape\n",
      " |      (n_samples, n_classes) as all other classifiers, or the original\n",
      " |      one-vs-one ('ovo') decision function of libsvm which has shape\n",
      " |      (n_samples, n_classes * (n_classes - 1) / 2). However, one-vs-one\n",
      " |      ('ovo') is always used as multi-class strategy. The parameter is\n",
      " |      ignored for binary classification.\n",
      " |  \n",
      " |      .. versionchanged:: 0.19\n",
      " |          decision_function_shape is 'ovr' by default.\n",
      " |  \n",
      " |      .. versionadded:: 0.17\n",
      " |         *decision_function_shape='ovr'* is recommended.\n",
      " |  \n",
      " |      .. versionchanged:: 0.17\n",
      " |         Deprecated *decision_function_shape='ovo' and None*.\n",
      " |  \n",
      " |  break_ties : bool, default=False\n",
      " |      If true, ``decision_function_shape='ovr'``, and number of classes > 2,\n",
      " |      :term:`predict` will break ties according to the confidence values of\n",
      " |      :term:`decision_function`; otherwise the first class among the tied\n",
      " |      classes is returned. Please note that breaking ties comes at a\n",
      " |      relatively high computational cost compared to a simple predict.\n",
      " |  \n",
      " |      .. versionadded:: 0.22\n",
      " |  \n",
      " |  random_state : int or RandomState instance, default=None\n",
      " |      Controls the pseudo random number generation for shuffling the data for\n",
      " |      probability estimates. Ignored when `probability` is False.\n",
      " |      Pass an int for reproducible output across multiple function calls.\n",
      " |      See :term:`Glossary <random_state>`.\n",
      " |  \n",
      " |  Attributes\n",
      " |  ----------\n",
      " |  support_ : ndarray of shape (n_SV,)\n",
      " |      Indices of support vectors.\n",
      " |  \n",
      " |  support_vectors_ : ndarray of shape (n_SV, n_features)\n",
      " |      Support vectors.\n",
      " |  \n",
      " |  n_support_ : ndarray of shape (n_class,), dtype=int32\n",
      " |      Number of support vectors for each class.\n",
      " |  \n",
      " |  dual_coef_ : ndarray of shape (n_class-1, n_SV)\n",
      " |      Dual coefficients of the support vector in the decision\n",
      " |      function (see :ref:`sgd_mathematical_formulation`), multiplied by\n",
      " |      their targets.\n",
      " |      For multiclass, coefficient for all 1-vs-1 classifiers.\n",
      " |      The layout of the coefficients in the multiclass case is somewhat\n",
      " |      non-trivial. See the :ref:`multi-class section of the User Guide\n",
      " |      <svm_multi_class>` for details.\n",
      " |  \n",
      " |  coef_ : ndarray of shape (n_class * (n_class-1) / 2, n_features)\n",
      " |      Weights assigned to the features (coefficients in the primal\n",
      " |      problem). This is only available in the case of a linear kernel.\n",
      " |  \n",
      " |      `coef_` is a readonly property derived from `dual_coef_` and\n",
      " |      `support_vectors_`.\n",
      " |  \n",
      " |  intercept_ : ndarray of shape (n_class * (n_class-1) / 2,)\n",
      " |      Constants in decision function.\n",
      " |  \n",
      " |  fit_status_ : int\n",
      " |      0 if correctly fitted, 1 otherwise (will raise warning)\n",
      " |  \n",
      " |  classes_ : ndarray of shape (n_classes,)\n",
      " |      The classes labels.\n",
      " |  \n",
      " |  probA_ : ndarray of shape (n_class * (n_class-1) / 2)\n",
      " |  probB_ : ndarray of shape (n_class * (n_class-1) / 2)\n",
      " |      If `probability=True`, it corresponds to the parameters learned in\n",
      " |      Platt scaling to produce probability estimates from decision values.\n",
      " |      If `probability=False`, it's an empty array. Platt scaling uses the\n",
      " |      logistic function\n",
      " |      ``1 / (1 + exp(decision_value * probA_ + probB_))``\n",
      " |      where ``probA_`` and ``probB_`` are learned from the dataset [2]_. For\n",
      " |      more information on the multiclass case and training procedure see\n",
      " |      section 8 of [1]_.\n",
      " |  \n",
      " |  class_weight_ : ndarray of shape (n_class,)\n",
      " |      Multipliers of parameter C for each class.\n",
      " |      Computed based on the ``class_weight`` parameter.\n",
      " |  \n",
      " |  shape_fit_ : tuple of int of shape (n_dimensions_of_X,)\n",
      " |      Array dimensions of training vector ``X``.\n",
      " |  \n",
      " |  Examples\n",
      " |  --------\n",
      " |  >>> import numpy as np\n",
      " |  >>> from sklearn.pipeline import make_pipeline\n",
      " |  >>> from sklearn.preprocessing import StandardScaler\n",
      " |  >>> X = np.array([[-1, -1], [-2, -1], [1, 1], [2, 1]])\n",
      " |  >>> y = np.array([1, 1, 2, 2])\n",
      " |  >>> from sklearn.svm import SVC\n",
      " |  >>> clf = make_pipeline(StandardScaler(), SVC(gamma='auto'))\n",
      " |  >>> clf.fit(X, y)\n",
      " |  Pipeline(steps=[('standardscaler', StandardScaler()),\n",
      " |                  ('svc', SVC(gamma='auto'))])\n",
      " |  \n",
      " |  >>> print(clf.predict([[-0.8, -1]]))\n",
      " |  [1]\n",
      " |  \n",
      " |  See also\n",
      " |  --------\n",
      " |  SVR\n",
      " |      Support Vector Machine for Regression implemented using libsvm.\n",
      " |  \n",
      " |  LinearSVC\n",
      " |      Scalable Linear Support Vector Machine for classification\n",
      " |      implemented using liblinear. Check the See also section of\n",
      " |      LinearSVC for more comparison element.\n",
      " |  \n",
      " |  References\n",
      " |  ----------\n",
      " |  .. [1] `LIBSVM: A Library for Support Vector Machines\n",
      " |      <http://www.csie.ntu.edu.tw/~cjlin/papers/libsvm.pdf>`_\n",
      " |  \n",
      " |  .. [2] `Platt, John (1999). \"Probabilistic outputs for support vector\n",
      " |      machines and comparison to regularizedlikelihood methods.\"\n",
      " |      <http://citeseer.ist.psu.edu/viewdoc/summary?doi=10.1.1.41.1639>`_\n",
      " |  \n",
      " |  Method resolution order:\n",
      " |      SVC\n",
      " |      sklearn.svm._base.BaseSVC\n",
      " |      sklearn.base.ClassifierMixin\n",
      " |      sklearn.svm._base.BaseLibSVM\n",
      " |      sklearn.base.BaseEstimator\n",
      " |      builtins.object\n",
      " |  \n",
      " |  Methods defined here:\n",
      " |  \n",
      " |  __init__(self, *, C=1.0, kernel='rbf', degree=3, gamma='scale', coef0=0.0, shrinking=True, probability=False, tol=0.001, cache_size=200, class_weight=None, verbose=False, max_iter=-1, decision_function_shape='ovr', break_ties=False, random_state=None)\n",
      " |      Initialize self.  See help(type(self)) for accurate signature.\n",
      " |  \n",
      " |  ----------------------------------------------------------------------\n",
      " |  Data and other attributes defined here:\n",
      " |  \n",
      " |  __abstractmethods__ = frozenset()\n",
      " |  \n",
      " |  ----------------------------------------------------------------------\n",
      " |  Methods inherited from sklearn.svm._base.BaseSVC:\n",
      " |  \n",
      " |  decision_function(self, X)\n",
      " |      Evaluates the decision function for the samples in X.\n",
      " |      \n",
      " |      Parameters\n",
      " |      ----------\n",
      " |      X : array-like of shape (n_samples, n_features)\n",
      " |      \n",
      " |      Returns\n",
      " |      -------\n",
      " |      X : ndarray of shape (n_samples, n_classes * (n_classes-1) / 2)\n",
      " |          Returns the decision function of the sample for each class\n",
      " |          in the model.\n",
      " |          If decision_function_shape='ovr', the shape is (n_samples,\n",
      " |          n_classes).\n",
      " |      \n",
      " |      Notes\n",
      " |      -----\n",
      " |      If decision_function_shape='ovo', the function values are proportional\n",
      " |      to the distance of the samples X to the separating hyperplane. If the\n",
      " |      exact distances are required, divide the function values by the norm of\n",
      " |      the weight vector (``coef_``). See also `this question\n",
      " |      <https://stats.stackexchange.com/questions/14876/\n",
      " |      interpreting-distance-from-hyperplane-in-svm>`_ for further details.\n",
      " |      If decision_function_shape='ovr', the decision function is a monotonic\n",
      " |      transformation of ovo decision function.\n",
      " |  \n",
      " |  predict(self, X)\n",
      " |      Perform classification on samples in X.\n",
      " |      \n",
      " |      For an one-class model, +1 or -1 is returned.\n",
      " |      \n",
      " |      Parameters\n",
      " |      ----------\n",
      " |      X : {array-like, sparse matrix} of shape (n_samples, n_features) or                 (n_samples_test, n_samples_train)\n",
      " |          For kernel=\"precomputed\", the expected shape of X is\n",
      " |          (n_samples_test, n_samples_train).\n",
      " |      \n",
      " |      Returns\n",
      " |      -------\n",
      " |      y_pred : ndarray of shape (n_samples,)\n",
      " |          Class labels for samples in X.\n",
      " |  \n",
      " |  ----------------------------------------------------------------------\n",
      " |  Readonly properties inherited from sklearn.svm._base.BaseSVC:\n",
      " |  \n",
      " |  predict_log_proba\n",
      " |      Compute log probabilities of possible outcomes for samples in X.\n",
      " |      \n",
      " |      The model need to have probability information computed at training\n",
      " |      time: fit with attribute `probability` set to True.\n",
      " |      \n",
      " |      Parameters\n",
      " |      ----------\n",
      " |      X : array-like of shape (n_samples, n_features) or                 (n_samples_test, n_samples_train)\n",
      " |          For kernel=\"precomputed\", the expected shape of X is\n",
      " |          (n_samples_test, n_samples_train).\n",
      " |      \n",
      " |      Returns\n",
      " |      -------\n",
      " |      T : ndarray of shape (n_samples, n_classes)\n",
      " |          Returns the log-probabilities of the sample for each class in\n",
      " |          the model. The columns correspond to the classes in sorted\n",
      " |          order, as they appear in the attribute :term:`classes_`.\n",
      " |      \n",
      " |      Notes\n",
      " |      -----\n",
      " |      The probability model is created using cross validation, so\n",
      " |      the results can be slightly different than those obtained by\n",
      " |      predict. Also, it will produce meaningless results on very small\n",
      " |      datasets.\n",
      " |  \n",
      " |  predict_proba\n",
      " |      Compute probabilities of possible outcomes for samples in X.\n",
      " |      \n",
      " |      The model need to have probability information computed at training\n",
      " |      time: fit with attribute `probability` set to True.\n",
      " |      \n",
      " |      Parameters\n",
      " |      ----------\n",
      " |      X : array-like of shape (n_samples, n_features)\n",
      " |          For kernel=\"precomputed\", the expected shape of X is\n",
      " |          [n_samples_test, n_samples_train]\n",
      " |      \n",
      " |      Returns\n",
      " |      -------\n",
      " |      T : ndarray of shape (n_samples, n_classes)\n",
      " |          Returns the probability of the sample for each class in\n",
      " |          the model. The columns correspond to the classes in sorted\n",
      " |          order, as they appear in the attribute :term:`classes_`.\n",
      " |      \n",
      " |      Notes\n",
      " |      -----\n",
      " |      The probability model is created using cross validation, so\n",
      " |      the results can be slightly different than those obtained by\n",
      " |      predict. Also, it will produce meaningless results on very small\n",
      " |      datasets.\n",
      " |  \n",
      " |  probA_\n",
      " |  \n",
      " |  probB_\n",
      " |  \n",
      " |  ----------------------------------------------------------------------\n",
      " |  Methods inherited from sklearn.base.ClassifierMixin:\n",
      " |  \n",
      " |  score(self, X, y, sample_weight=None)\n",
      " |      Return the mean accuracy on the given test data and labels.\n",
      " |      \n",
      " |      In multi-label classification, this is the subset accuracy\n",
      " |      which is a harsh metric since you require for each sample that\n",
      " |      each label set be correctly predicted.\n",
      " |      \n",
      " |      Parameters\n",
      " |      ----------\n",
      " |      X : array-like of shape (n_samples, n_features)\n",
      " |          Test samples.\n",
      " |      \n",
      " |      y : array-like of shape (n_samples,) or (n_samples, n_outputs)\n",
      " |          True labels for X.\n",
      " |      \n",
      " |      sample_weight : array-like of shape (n_samples,), default=None\n",
      " |          Sample weights.\n",
      " |      \n",
      " |      Returns\n",
      " |      -------\n",
      " |      score : float\n",
      " |          Mean accuracy of self.predict(X) wrt. y.\n",
      " |  \n",
      " |  ----------------------------------------------------------------------\n",
      " |  Data descriptors inherited from sklearn.base.ClassifierMixin:\n",
      " |  \n",
      " |  __dict__\n",
      " |      dictionary for instance variables (if defined)\n",
      " |  \n",
      " |  __weakref__\n",
      " |      list of weak references to the object (if defined)\n",
      " |  \n",
      " |  ----------------------------------------------------------------------\n",
      " |  Methods inherited from sklearn.svm._base.BaseLibSVM:\n",
      " |  \n",
      " |  fit(self, X, y, sample_weight=None)\n",
      " |      Fit the SVM model according to the given training data.\n",
      " |      \n",
      " |      Parameters\n",
      " |      ----------\n",
      " |      X : {array-like, sparse matrix} of shape (n_samples, n_features)                 or (n_samples, n_samples)\n",
      " |          Training vectors, where n_samples is the number of samples\n",
      " |          and n_features is the number of features.\n",
      " |          For kernel=\"precomputed\", the expected shape of X is\n",
      " |          (n_samples, n_samples).\n",
      " |      \n",
      " |      y : array-like of shape (n_samples,)\n",
      " |          Target values (class labels in classification, real numbers in\n",
      " |          regression)\n",
      " |      \n",
      " |      sample_weight : array-like of shape (n_samples,), default=None\n",
      " |          Per-sample weights. Rescale C per sample. Higher weights\n",
      " |          force the classifier to put more emphasis on these points.\n",
      " |      \n",
      " |      Returns\n",
      " |      -------\n",
      " |      self : object\n",
      " |      \n",
      " |      Notes\n",
      " |      -----\n",
      " |      If X and y are not C-ordered and contiguous arrays of np.float64 and\n",
      " |      X is not a scipy.sparse.csr_matrix, X and/or y may be copied.\n",
      " |      \n",
      " |      If X is a dense array, then the other methods will not support sparse\n",
      " |      matrices as input.\n",
      " |  \n",
      " |  ----------------------------------------------------------------------\n",
      " |  Readonly properties inherited from sklearn.svm._base.BaseLibSVM:\n",
      " |  \n",
      " |  coef_\n",
      " |  \n",
      " |  n_support_\n",
      " |  \n",
      " |  ----------------------------------------------------------------------\n",
      " |  Methods inherited from sklearn.base.BaseEstimator:\n",
      " |  \n",
      " |  __getstate__(self)\n",
      " |  \n",
      " |  __repr__(self, N_CHAR_MAX=700)\n",
      " |      Return repr(self).\n",
      " |  \n",
      " |  __setstate__(self, state)\n",
      " |  \n",
      " |  get_params(self, deep=True)\n",
      " |      Get parameters for this estimator.\n",
      " |      \n",
      " |      Parameters\n",
      " |      ----------\n",
      " |      deep : bool, default=True\n",
      " |          If True, will return the parameters for this estimator and\n",
      " |          contained subobjects that are estimators.\n",
      " |      \n",
      " |      Returns\n",
      " |      -------\n",
      " |      params : mapping of string to any\n",
      " |          Parameter names mapped to their values.\n",
      " |  \n",
      " |  set_params(self, **params)\n",
      " |      Set the parameters of this estimator.\n",
      " |      \n",
      " |      The method works on simple estimators as well as on nested objects\n",
      " |      (such as pipelines). The latter have parameters of the form\n",
      " |      ``<component>__<parameter>`` so that it's possible to update each\n",
      " |      component of a nested object.\n",
      " |      \n",
      " |      Parameters\n",
      " |      ----------\n",
      " |      **params : dict\n",
      " |          Estimator parameters.\n",
      " |      \n",
      " |      Returns\n",
      " |      -------\n",
      " |      self : object\n",
      " |          Estimator instance.\n",
      "\n"
     ]
    }
   ],
   "source": [
    "from sklearn.svm import SVC\n",
    "help(SVC)"
   ]
  },
  {
   "cell_type": "code",
   "execution_count": 27,
   "metadata": {
    "slideshow": {
     "slide_type": "subslide"
    }
   },
   "outputs": [
    {
     "data": {
      "text/plain": [
       "SVC(kernel='poly')"
      ]
     },
     "execution_count": 27,
     "metadata": {},
     "output_type": "execute_result"
    }
   ],
   "source": [
    "mySVM = SVC(kernel='poly', degree=3)\n",
    "mySVM.fit(X_train, y_train)"
   ]
  },
  {
   "cell_type": "code",
   "execution_count": 28,
   "metadata": {
    "slideshow": {
     "slide_type": "fragment"
    }
   },
   "outputs": [
    {
     "name": "stdout",
     "output_type": "stream",
     "text": [
      "1.0\n"
     ]
    }
   ],
   "source": [
    "predictions = mySVM.predict(X_test)\n",
    "print(accuracy(y_test, predictions))"
   ]
  },
  {
   "cell_type": "code",
   "execution_count": 29,
   "metadata": {
    "slideshow": {
     "slide_type": "subslide"
    }
   },
   "outputs": [
    {
     "data": {
      "image/png": "[encoded data removed]",
      "text/plain": [
       "<Figure size 1152x576 with 2 Axes>"
      ]
     },
     "metadata": {
      "needs_background": "light"
     },
     "output_type": "display_data"
    }
   ],
   "source": [
    "fig = plt.figure(figsize=(16, 8))\n",
    "\n",
    "ax = fig.add_subplot(231, projection=\"3d\")\n",
    "ax.scatter(X_train[:, 0], X_train[:, 1], X_train[:, 2], c=y_train, cmap='RdBu')\n",
    "\n",
    "ax = fig.add_subplot(232, projection=\"3d\")\n",
    "ax.scatter(X_test[:, 0], X_test[:, 1], X_test[:, 2], c=predictions,  cmap='RdBu')\n",
    "ax.view_init(10, -60)"
   ]
  },
  {
   "cell_type": "markdown",
   "metadata": {
    "slideshow": {
     "slide_type": "subslide"
    }
   },
   "source": [
    "Let's check the iris data set"
   ]
  },
  {
   "cell_type": "code",
   "execution_count": 30,
   "metadata": {
    "slideshow": {
     "slide_type": "fragment"
    }
   },
   "outputs": [
    {
     "name": "stdout",
     "output_type": "stream",
     "text": [
      "{0, 1, 2}\n"
     ]
    }
   ],
   "source": [
    "from sklearn import datasets\n",
    "iris = datasets.load_iris()\n",
    "X = iris.data\n",
    "y = iris.target\n",
    "print(set(y))"
   ]
  },
  {
   "cell_type": "code",
   "execution_count": 31,
   "metadata": {
    "slideshow": {
     "slide_type": "fragment"
    }
   },
   "outputs": [],
   "source": [
    "X_train,X_test, y_train, y_test=model_selection.train_test_split(X,y,test_size=0.30)"
   ]
  },
  {
   "cell_type": "code",
   "execution_count": 32,
   "metadata": {
    "slideshow": {
     "slide_type": "subslide"
    }
   },
   "outputs": [],
   "source": [
    "mySVM = SVC(kernel='rbf')\n",
    "mySVM.fit(X_train, y_train)\n",
    "predictions = mySVM.predict(X_test)"
   ]
  },
  {
   "cell_type": "code",
   "execution_count": 33,
   "metadata": {
    "slideshow": {
     "slide_type": "fragment"
    }
   },
   "outputs": [
    {
     "name": "stdout",
     "output_type": "stream",
     "text": [
      "[[19  0  0]\n",
      " [ 0 12  2]\n",
      " [ 0  0 12]]\n"
     ]
    }
   ],
   "source": [
    "from sklearn.metrics import confusion_matrix\n",
    "print(confusion_matrix(y_test,predictions))"
   ]
  },
  {
   "cell_type": "markdown",
   "metadata": {
    "slideshow": {
     "slide_type": "skip"
    }
   },
   "source": [
    "<a id=\"svr\"></a>"
   ]
  },
  {
   "cell_type": "markdown",
   "metadata": {
    "slideshow": {
     "slide_type": "slide"
    }
   },
   "source": [
    "## Support vector regression"
   ]
  },
  {
   "cell_type": "markdown",
   "metadata": {
    "slideshow": {
     "slide_type": "subslide"
    }
   },
   "source": [
    "The formalism used until now can be \"reversed\" to be used in a regression problem: we set up the hyperplanes in orded to _include_ the points under a given threshold and use the middle hyperplane as a regression result."
   ]
  },
  {
   "cell_type": "markdown",
   "metadata": {
    "slideshow": {
     "slide_type": "fragment"
    }
   },
   "source": [
    "<div>\n",
    "    <img src=\"svr.png\" width=\"500\"/>\n",
    "</div>"
   ]
  }
 ],
 "metadata": {
  "celltoolbar": "Slideshow",
  "kernelspec": {
   "display_name": "Python 3",
   "language": "python",
   "name": "python3"
  },
  "language_info": {
   "codemirror_mode": {
    "name": "ipython",
    "version": 3
   },
   "file_extension": ".py",
   "mimetype": "text/x-python",
   "name": "python",
   "nbconvert_exporter": "python",
   "pygments_lexer": "ipython3",
   "version": "3.8.10"
  }
 },
 "nbformat": 4,
 "nbformat_minor": 4
}
