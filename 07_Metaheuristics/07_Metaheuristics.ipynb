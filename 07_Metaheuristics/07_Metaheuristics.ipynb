{
 "cells": [
  {
   "cell_type": "markdown",
   "metadata": {
    "slideshow": {
     "slide_type": "slide"
    }
   },
   "source": [
    "# Metaheuristics"
   ]
  },
  {
   "cell_type": "markdown",
   "metadata": {
    "slideshow": {
     "slide_type": "subslide"
    }
   },
   "source": [
    "# Outline\n",
    "\n",
    "1. [Metaheuristics: motivation](#motivation)\n",
    "2. [Genetic algorithms: the idea](#ga)\n",
    "3. [Function optimization](#func)\n",
    "4. [Traveling salesman problem](#tsp)\n",
    "5. [N Queens Problem](#queen)"
   ]
  },
  {
   "cell_type": "markdown",
   "metadata": {
    "slideshow": {
     "slide_type": "subslide"
    }
   },
   "source": [
    "### Setup"
   ]
  },
  {
   "cell_type": "code",
   "execution_count": 1,
   "metadata": {
    "slideshow": {
     "slide_type": "fragment"
    }
   },
   "outputs": [],
   "source": [
    "from mpl_toolkits.mplot3d import Axes3D\n",
    "from matplotlib.offsetbox import OffsetImage, AnnotationBbox\n",
    "import math\n",
    "import matplotlib as mpl\n",
    "import matplotlib.pyplot as plt\n",
    "import numpy as np\n",
    "import scipy as sp\n",
    "import scipy.special as spspecial"
   ]
  },
  {
   "cell_type": "markdown",
   "metadata": {
    "slideshow": {
     "slide_type": "skip"
    }
   },
   "source": [
    "<a id=\"motivation\"></a>"
   ]
  },
  {
   "cell_type": "markdown",
   "metadata": {
    "slideshow": {
     "slide_type": "slide"
    }
   },
   "source": [
    "## Metaheuristics: motivation"
   ]
  },
  {
   "cell_type": "markdown",
   "metadata": {
    "slideshow": {
     "slide_type": "subslide"
    }
   },
   "source": [
    "- Direct techniques (blind search) are not always possible (they require too much time or memory).\n",
    "- Weak techniques can be effective if applied correctly on the right kinds of tasks.\n",
    "    - Typically require domain specific information."
   ]
  },
  {
   "cell_type": "markdown",
   "metadata": {
    "slideshow": {
     "slide_type": "fragment"
    }
   },
   "source": [
    "**Heuristic**: an algorithm which locates 'good enoughì solutions to a problem\n",
    "- do not concerns too much on formal correctness  \n",
    "Trade-off between precision, quality, and accuracy in favor of **feasibility** (computational cost)  \n",
    "Example: greedy search procedure; only takes cost-improving steps."
   ]
  },
  {
   "cell_type": "markdown",
   "metadata": {
    "slideshow": {
     "slide_type": "fragment"
    }
   },
   "source": [
    "**Metaheuristics** are intended to extend the capabilities of heuristics by combining one or more heuristic methods (**procedures**) using a higher-level strategy (hence 'meta'). A procedure in a metaheuristic is considered black-box in that little (if any) prior knowledge is known about it by the metaheuristic, and as such it may be replaced with a different procedure."
   ]
  },
  {
   "cell_type": "markdown",
   "metadata": {
    "slideshow": {
     "slide_type": "subslide"
    }
   },
   "source": [
    "### Artificial intelligence"
   ]
  },
  {
   "cell_type": "markdown",
   "metadata": {
    "slideshow": {
     "slide_type": "fragment"
    }
   },
   "source": [
    "AI is a cross-disciplinary field of research that is generally concerned with developing and investigating systems that operate or act intelligently"
   ]
  },
  {
   "cell_type": "markdown",
   "metadata": {
    "slideshow": {
     "slide_type": "fragment"
    }
   },
   "source": [
    "AI investigates mechanisms underlying intelligent behavior. Traditionally, AI employed a symbolic basis for these mechanisms. A (relatively) newer approach (**scruffy AI**) or soft computing does not necessarily use a symbolic basis, instead patterning these mechanisms after biological or natural processes."
   ]
  },
  {
   "cell_type": "markdown",
   "metadata": {
    "slideshow": {
     "slide_type": "fragment"
    }
   },
   "source": [
    "Metaheurstics (MH) is another name for *scruffy AI*"
   ]
  },
  {
   "cell_type": "markdown",
   "metadata": {
    "slideshow": {
     "slide_type": "subslide"
    }
   },
   "source": [
    "[Blum and Roli](#blum) define nine properties of MH.\n",
    "1. Strategies to __guide__ the search process.  \n",
    "2. The goal is to efficiently explore the search space in order to find (near-)optimal solutions.  \n",
    "3. They range from simple local search procedures to complex learning processes.  \n",
    "4. MH algorithms are approximate and usually non-deterministic.  \n",
    "5. Usually incorporate mechanisms to avoid getting trapped in confined areas of the search space.\n",
    "6. The basic concepts of metaheuristics allow for an abstract level description.\n",
    "7. Not problem-specific.\n",
    "8. MH may make use of domain-specific knowledge in the form of heuristics that are controlled by the upper level strategy.\n",
    "9. They have some sort of memory i. e. they __learn__ progressively about the search space"
   ]
  },
  {
   "cell_type": "markdown",
   "metadata": {
    "slideshow": {
     "slide_type": "fragment"
    }
   },
   "source": [
    "<a id=\"blum\"></a> C. Blum and A. Roli. Metaheuristics in combinatorial optimization: Overview and conceptual comparison. ACM Computing Surveys (CSUR), 35(3):268–308, 2003."
   ]
  },
  {
   "cell_type": "markdown",
   "metadata": {
    "slideshow": {
     "slide_type": "subslide"
    }
   },
   "source": [
    "### Optimization"
   ]
  },
  {
   "cell_type": "markdown",
   "metadata": {
    "slideshow": {
     "slide_type": "fragment"
    }
   },
   "source": [
    "the search for a combination of parameters (__decision variables__) $x={x_1,x_2,\\ldots x_n}$ which minimize or maximize some ordinal quantity $c$ (a scalar called __score__ or __cost__) assigned by an objective or cost function $f$ that maps $R^n \\rightarrow R$ under a set of constraints $g={g_1,g_2,\\ldots g_n}$"
   ]
  },
  {
   "cell_type": "markdown",
   "metadata": {
    "slideshow": {
     "slide_type": "subslide"
    }
   },
   "source": [
    "### Black box algorithms"
   ]
  },
  {
   "cell_type": "markdown",
   "metadata": {
    "slideshow": {
     "slide_type": "subslide"
    }
   },
   "source": [
    "Use little, _if any_, information from a problem domain in order to devise a solution. Domain specific knowledge refers to _known relationships between solution representations and the objective\n",
    "cost function_.   \n",
    "_Flexibility_ vs _efficency_ tradeoff.  \n",
    "Example: _random search_. Most general and most flexible black box approach and is also the most flexible requiring\n",
    "only the generation of random solutions for a given problem.  \n",
    "Worst case behavior: cost is higher than enumerating the entire search domain. "
   ]
  },
  {
   "cell_type": "markdown",
   "metadata": {
    "slideshow": {
     "slide_type": "subslide"
    }
   },
   "source": [
    "### No free lunch theorem"
   ]
  },
  {
   "cell_type": "markdown",
   "metadata": {
    "slideshow": {
     "slide_type": "fragment"
    }
   },
   "source": [
    "The [No-Free-Lunch Theorem](#lunch) of search and optimization by Wolpert and Macready proposes that all black box optimization algorithms are the same for searching for the extremum of a cost function when averaged over all\n",
    "possible functions.  \n",
    "Consequence: no __best__ general purpose black box optimization algorithm is theoretically possible."
   ]
  },
  {
   "cell_type": "markdown",
   "metadata": {
    "slideshow": {
     "slide_type": "fragment"
    }
   },
   "source": [
    "<a id=\"lunch\"></a> D. H. Wolpert and W. G. Macready. No free lunch theorems for optimization. IEEE Transactions on Evolutionary Computation, 1(67):67–82, 1997."
   ]
  },
  {
   "cell_type": "markdown",
   "metadata": {
    "slideshow": {
     "slide_type": "subslide"
    }
   },
   "source": [
    "### Optimization, 2"
   ]
  },
  {
   "cell_type": "markdown",
   "metadata": {
    "slideshow": {
     "slide_type": "subslide"
    }
   },
   "source": [
    "Consider the following function:\n",
    "    \n",
    "$$ 1+\\frac{1}{4000}\\sum_i^n x_i^2 - \\prod_i^n cos(\\frac{x_i}{\\sqrt{i}})  $$\n",
    "\n",
    "named _Griewank_ function. "
   ]
  },
  {
   "cell_type": "markdown",
   "metadata": {
    "slideshow": {
     "slide_type": "subslide"
    }
   },
   "source": [
    "These are the _first_ and _third_ order Griewank functions:"
   ]
  },
  {
   "cell_type": "markdown",
   "metadata": {
    "slideshow": {
     "slide_type": "fragment"
    }
   },
   "source": [
    "<div>\n",
    "<img src=\"griewank.png\" width=\"600\"/>\n",
    "</div>"
   ]
  },
  {
   "cell_type": "markdown",
   "metadata": {
    "slideshow": {
     "slide_type": "subslide"
    }
   },
   "source": [
    "How to find the __Global Minimum__ of these functions?"
   ]
  },
  {
   "cell_type": "markdown",
   "metadata": {
    "slideshow": {
     "slide_type": "fragment"
    }
   },
   "source": [
    "How would Gradient Descent perform on these surfaces?"
   ]
  },
  {
   "cell_type": "markdown",
   "metadata": {
    "slideshow": {
     "slide_type": "subslide"
    }
   },
   "source": [
    "THe Griewank function is one example of rugged function often used as a benchmark in optimization problems.  \n",
    "Other examples include:\n",
    "- _Rastrigin_ function: $f(x) = An + \\sum_{i=1}^n x_i^2 - A cos(2\\pi x_i); A=10, x\\in[-5.12,5.12],\\ f(x=0) = 0$  \n",
    "- _Ackley_ function: $f(x,y) = -20 e^{-0.2 \\sqrt{x^2+y^2}} -e^{-0.5(cos( 2\\pi x) + cos (2 \\pi y))} + e + 20; f(x=0)=0$  \n",
    "- _Rosenbrock_ function $f(x,y) = (a-x^2)^2 + b(y-x^2)^2; a=1, b=100$ minimum in $(a,a^2)$.\n",
    "\n",
    "and many more: see https://en.wikipedia.org/wiki/Test_functions_for_optimization"
   ]
  },
  {
   "cell_type": "markdown",
   "metadata": {
    "slideshow": {
     "slide_type": "subslide"
    }
   },
   "source": [
    "### Exercise 1"
   ]
  },
  {
   "cell_type": "markdown",
   "metadata": {
    "slideshow": {
     "slide_type": "fragment"
    }
   },
   "source": [
    "Plot the contours of the 2nd order listed functions.  \n",
    "Hint: _numpy meshgrid_.  \n",
    "Hint: domains for the functions:\n",
    "- Ackley $x_i\\in[-5,5]$\n",
    "- Rosembrock $x\\in[-2,2], y\\in[-1,3]$"
   ]
  },
  {
   "cell_type": "markdown",
   "metadata": {
    "slideshow": {
     "slide_type": "fragment"
    }
   },
   "source": [
    "<div>\n",
    "<img src=\"gears.png\" width=\"400\"/>\n",
    "</div>"
   ]
  },
  {
   "cell_type": "markdown",
   "metadata": {
    "slideshow": {
     "slide_type": "subslide"
    }
   },
   "source": [
    "### Solution"
   ]
  },
  {
   "cell_type": "markdown",
   "metadata": {
    "slideshow": {
     "slide_type": "subslide"
    }
   },
   "source": [
    "#### Rastrigin"
   ]
  },
  {
   "cell_type": "code",
   "execution_count": 2,
   "metadata": {
    "slideshow": {
     "slide_type": "fragment"
    }
   },
   "outputs": [],
   "source": [
    "x1 = np.linspace(-5.1, 5.1, 200)    \n",
    "x2 = np.linspace(-5.1, 5.1, 200)    \n",
    "x1, x2 = np.meshgrid(x1, x2)\n",
    "fx = (x1**2 - 10 * np.cos(2 * np.pi * x1)) + (x2**2 - 10 * np.cos(2 * np.pi * x2)) + 20"
   ]
  },
  {
   "cell_type": "code",
   "execution_count": 3,
   "metadata": {
    "slideshow": {
     "slide_type": "subslide"
    }
   },
   "outputs": [
    {
     "name": "stderr",
     "output_type": "stream",
     "text": [
      "/tmp/ipykernel_1869140/1619146160.py:2: MatplotlibDeprecationWarning: Calling gca() with keyword arguments was deprecated in Matplotlib 3.4. Starting two minor releases later, gca() will take no keyword arguments. The gca() function should only be used to get the current axes, or if no axes exist, create new axes with default keyword arguments. To create a new axes with non-default arguments, use plt.axes() or plt.subplot().\n",
      "  ax = fig.gca(projection='3d')\n"
     ]
    },
    {
     "data": {
      "image/png": "[encoded data removed]",
      "text/plain": [
       "<Figure size 432x288 with 1 Axes>"
      ]
     },
     "metadata": {
      "needs_background": "light"
     },
     "output_type": "display_data"
    }
   ],
   "source": [
    "fig = plt.figure()\n",
    "ax = fig.gca(projection='3d')\n",
    "surf = ax.plot_surface(x1, x2, fx, rstride=1, cstride=1, cmap=mpl.cm.inferno, linewidth=0.1)"
   ]
  },
  {
   "cell_type": "markdown",
   "metadata": {
    "slideshow": {
     "slide_type": "subslide"
    }
   },
   "source": [
    "#### Ackley"
   ]
  },
  {
   "cell_type": "code",
   "execution_count": 4,
   "metadata": {
    "slideshow": {
     "slide_type": "fragment"
    }
   },
   "outputs": [],
   "source": [
    "x1 = np.linspace(-5, 5, 200)    \n",
    "x2 = np.linspace(-5, 5, 200)    \n",
    "x1, x2 = np.meshgrid(x1, x2)\n",
    "\n",
    "fx = -20. * np.exp(-0.2 * np.sqrt(x1**2 + x2**2) ) \\\n",
    "    -np.exp(0.5*(np.cos(2*np.pi*x1) + np.cos(2*np.pi*x2)) ) +\\\n",
    "    np.exp(1) + 20."
   ]
  },
  {
   "cell_type": "code",
   "execution_count": 5,
   "metadata": {
    "slideshow": {
     "slide_type": "subslide"
    }
   },
   "outputs": [
    {
     "name": "stderr",
     "output_type": "stream",
     "text": [
      "/tmp/ipykernel_1869140/1619146160.py:2: MatplotlibDeprecationWarning: Calling gca() with keyword arguments was deprecated in Matplotlib 3.4. Starting two minor releases later, gca() will take no keyword arguments. The gca() function should only be used to get the current axes, or if no axes exist, create new axes with default keyword arguments. To create a new axes with non-default arguments, use plt.axes() or plt.subplot().\n",
      "  ax = fig.gca(projection='3d')\n"
     ]
    },
    {
     "data": {
      "image/png": "[encoded data removed]",
      "text/plain": [
       "<Figure size 432x288 with 1 Axes>"
      ]
     },
     "metadata": {
      "needs_background": "light"
     },
     "output_type": "display_data"
    }
   ],
   "source": [
    "fig = plt.figure()\n",
    "ax = fig.gca(projection='3d')\n",
    "surf = ax.plot_surface(x1, x2, fx, rstride=1, cstride=1, cmap=mpl.cm.inferno, linewidth=0.1)"
   ]
  },
  {
   "cell_type": "markdown",
   "metadata": {
    "slideshow": {
     "slide_type": "subslide"
    }
   },
   "source": [
    "#### Rosenbrock"
   ]
  },
  {
   "cell_type": "code",
   "execution_count": 6,
   "metadata": {
    "slideshow": {
     "slide_type": "fragment"
    }
   },
   "outputs": [],
   "source": [
    "x1 = np.linspace(-2, 2, 200)    \n",
    "x2 = np.linspace(-1, 3, 200)    \n",
    "x1, x2 = np.meshgrid(x1, x2)\n",
    "\n",
    "fx = (1-x1**2)**2 + 100.*(x2-x1**2)**2"
   ]
  },
  {
   "cell_type": "code",
   "execution_count": 7,
   "metadata": {
    "slideshow": {
     "slide_type": "subslide"
    }
   },
   "outputs": [
    {
     "name": "stderr",
     "output_type": "stream",
     "text": [
      "/tmp/ipykernel_1869140/3032172243.py:2: MatplotlibDeprecationWarning: Calling gca() with keyword arguments was deprecated in Matplotlib 3.4. Starting two minor releases later, gca() will take no keyword arguments. The gca() function should only be used to get the current axes, or if no axes exist, create new axes with default keyword arguments. To create a new axes with non-default arguments, use plt.axes() or plt.subplot().\n",
      "  ax = fig.gca(projection='3d')\n"
     ]
    },
    {
     "data": {
      "image/png": "[encoded data removed]",
      "text/plain": [
       "<Figure size 432x288 with 1 Axes>"
      ]
     },
     "metadata": {
      "needs_background": "light"
     },
     "output_type": "display_data"
    }
   ],
   "source": [
    "fig = plt.figure()\n",
    "ax = fig.gca(projection='3d')\n",
    "surf = ax.plot_surface(x1, x2, fx, rstride=1, cstride=1, cmap=mpl.cm.gist_heat_r, linewidth=0.1)"
   ]
  },
  {
   "cell_type": "markdown",
   "metadata": {
    "slideshow": {
     "slide_type": "skip"
    }
   },
   "source": [
    "<a id=\"ga\"></a>"
   ]
  },
  {
   "cell_type": "markdown",
   "metadata": {
    "slideshow": {
     "slide_type": "slide"
    }
   },
   "source": [
    "## Genetic Algorithms: the idea"
   ]
  },
  {
   "cell_type": "markdown",
   "metadata": {
    "slideshow": {
     "slide_type": "subslide"
    }
   },
   "source": [
    "__Genetic Algorithms__ were first proposed by [John Holland](#holland) in the '70s and are one of the first proposed metaheuristics.  \n",
    "The idea is to mimick the mechanisms of Dawrinian selection, inheritance and sexual reproduction to explore a search space: starting with a set of candidate solutions these are allowed to change and mix selecting at each step the best ones so far (__survival of the fittest__)."
   ]
  },
  {
   "cell_type": "markdown",
   "metadata": {
    "slideshow": {
     "slide_type": "fragment"
    }
   },
   "source": [
    "<a id=\"holland\"></a>\n",
    "(1) Holland, J. H. Adaptation in Natural and Artificial Systems: An Introductory Analysis with Applications to Biology, Control, and Artificial Intelligence, 1st MIT Press ed.; Complex adaptive systems; MIT Press: Cambridge, Mass, 1992.  \n",
    "(2) Goldberg, D. E. Genetic Algorithms in Search, Optimization, and Machine Learning; Addison-Wesley Pub. Co: Reading, Mass, 1989."
   ]
  },
  {
   "cell_type": "markdown",
   "metadata": {
    "slideshow": {
     "slide_type": "fragment"
    }
   },
   "source": [
    "<div>\n",
    "<img src=\"darwin.png\" width=\"400\"/>\n",
    "</div>"
   ]
  },
  {
   "cell_type": "markdown",
   "metadata": {
    "slideshow": {
     "slide_type": "subslide"
    }
   },
   "source": [
    "The evolution usually starts from a population of randomly generated individuals and happens in generations. "
   ]
  },
  {
   "cell_type": "markdown",
   "metadata": {
    "slideshow": {
     "slide_type": "fragment"
    }
   },
   "source": [
    "In each generation, the feasibility (fitness) of every individual in the population is evaluated.  \n",
    "_Based on their fitness_, parents are selected to reproduce offspring for a new generation; fitter individuals _have more chances to reproduce_.   \n",
    "Offspring _has combination of properties of two parents_.   \n",
    "\n",
    "Reproduction is coupled by _forcing stochastic terms_ (mutation) is shaping individuals."
   ]
  },
  {
   "cell_type": "markdown",
   "metadata": {
    "slideshow": {
     "slide_type": "fragment"
    }
   },
   "source": [
    "The simulation terminates when either a maximum number of generations has been produced, or a satisfactory fitness level has been reached for the population. "
   ]
  },
  {
   "cell_type": "markdown",
   "metadata": {
    "slideshow": {
     "slide_type": "subslide"
    }
   },
   "source": [
    "#### Terminology"
   ]
  },
  {
   "cell_type": "markdown",
   "metadata": {
    "slideshow": {
     "slide_type": "fragment"
    }
   },
   "source": [
    "**population**, **chromosomes**, **genome**, **genotype**: the current set of candidate solutions  \n",
    "**chromosome**, **specimen**, **individual**: one specific candidate solution  \n",
    "**generation**: one step of GA  \n",
    "**fitness**: the optimization goal e.g. the value of a function"
   ]
  },
  {
   "cell_type": "markdown",
   "metadata": {
    "slideshow": {
     "slide_type": "fragment"
    }
   },
   "source": [
    "**operator** a part of the procedure that mimicks one specific mechanism (e. g. mutation)  \n",
    "**search space**  the set of all possible solutions  \n",
    "**encoding** how the solutions are represented in the procedure\n",
    "__chromosome__ blueprint for a __specimen__   \n",
    "__trait__ possible aspect (features) of a specimen\n",
    "__allele__ possible settings of trait (value of a feature or coordinate)  \n",
    "__locus__ the position of a gene on the chromosome  \n",
    "__genome__ collection of all chromosomes for an individual "
   ]
  },
  {
   "cell_type": "markdown",
   "metadata": {
    "slideshow": {
     "slide_type": "subslide"
    }
   },
   "source": [
    "A typical genetic algorithm requires two things to be defined:\n",
    "- a genetic representation of the solution domain, and\n",
    "- a fitness function to evaluate the solution domain."
   ]
  },
  {
   "cell_type": "markdown",
   "metadata": {
    "slideshow": {
     "slide_type": "subslide"
    }
   },
   "source": [
    "#### GA flowchart"
   ]
  },
  {
   "cell_type": "markdown",
   "metadata": {
    "slideshow": {
     "slide_type": "fragment"
    }
   },
   "source": [
    "<div>\n",
    "<img src=\"gaflow.png\" width=\"600\"/>\n",
    "</div>"
   ]
  },
  {
   "cell_type": "markdown",
   "metadata": {
    "slideshow": {
     "slide_type": "subslide"
    }
   },
   "source": [
    "#### GA operators"
   ]
  },
  {
   "cell_type": "markdown",
   "metadata": {
    "slideshow": {
     "slide_type": "subslide"
    }
   },
   "source": [
    "__Parent Selection__  \n",
    "At each generation, a fraction of the current population breeds new specimens.  \n",
    "Fitter parents have a higher chance to reproduce. \n",
    "Commont parent selection methods include:\n",
    "- roulette wheel seection (the method originally proposed by Holland); each specimen gets a probability of being selected proportional to its fitness\n",
    "- rank selection (aka elitism); the best $m$ specimens are selected as parents\n",
    "- tournament: if $m$ parents are needed, $m$ groups of size $t$ (the _tournament size_) are selected randomly and in each group the best are chosen  "
   ]
  },
  {
   "cell_type": "markdown",
   "metadata": {
    "slideshow": {
     "slide_type": "subslide"
    }
   },
   "source": [
    "__Crossover__ or __Inheritance__  or __Recombination__\n",
    "Parents are grouped in pairs and pass their genes to offspring. Each new specimen gets copies half the alleles for each parent. Under a given probability (_crossover probability_) this may involve reordering of bits (in binary representation):"
   ]
  },
  {
   "cell_type": "markdown",
   "metadata": {
    "slideshow": {
     "slide_type": "fragment"
    }
   },
   "source": [
    "<div>\n",
    "<img src=\"OnePointCrossover.svg.png\"/>\n",
    "</div>"
   ]
  },
  {
   "cell_type": "markdown",
   "metadata": {
    "slideshow": {
     "slide_type": "subslide"
    }
   },
   "source": [
    "or different interpolation"
   ]
  },
  {
   "cell_type": "markdown",
   "metadata": {
    "slideshow": {
     "slide_type": "fragment"
    }
   },
   "source": [
    "$$p_0 =[p_{00},p_{01}],p_1 =[p_{10},p_{11}]$$  \n",
    "without crossover:\n",
    "$$c_0 = [0.5(p_{00}+,p_{10}], [0.5(p_{01}+,p_{11}]$$\n",
    "with crossover:\n"
   ]
  },
  {
   "cell_type": "markdown",
   "metadata": {
    "slideshow": {
     "slide_type": "subslide"
    }
   },
   "source": [
    "__Mutation__  \n",
    "All individuals have a chance (_mutation probability_) that a randomly selected locus will change allele i. e. a coordinate gets a new value sampled from the search space."
   ]
  },
  {
   "cell_type": "markdown",
   "metadata": {
    "slideshow": {
     "slide_type": "subslide"
    }
   },
   "source": [
    "__Evaluation__ or __Fit selection__  \n",
    "After children have been added to the population a fraction of the of less fit solutions (children, parents or both) are __selected__ i. e. eliminated. This helps keep the diversity of the population large, preventing premature convergence on poor solutions. Popular and well-studied selection methods include roulette wheel selection and tournament selection."
   ]
  },
  {
   "cell_type": "markdown",
   "metadata": {
    "slideshow": {
     "slide_type": "subslide"
    }
   },
   "source": [
    "__Encoding__  \n",
    "Chromosomes may be:\n",
    "- Bit strings (0101 ... 1100)  \n",
    "- Real numbers (43.2 -33.1 ... 0.0 89.2) \n",
    "- Permutations of elements (E11 E3 E7 ... E1 E15)\n",
    "- Lists of rules (R1 R2 R3 ... R22 R23)\n",
    "- Any data structure ..."
   ]
  },
  {
   "cell_type": "markdown",
   "metadata": {
    "slideshow": {
     "slide_type": "fragment"
    }
   },
   "source": [
    "<div>\n",
    "    <img src=\"chromosome.png\" width=\"500\"/>\n",
    "</div>"
   ]
  },
  {
   "cell_type": "markdown",
   "metadata": {
    "slideshow": {
     "slide_type": "fragment"
    }
   },
   "source": [
    "In Holland's original formulation and in many textbooks and papers chromosomes are bit strings."
   ]
  },
  {
   "cell_type": "markdown",
   "metadata": {
    "slideshow": {
     "slide_type": "subslide"
    }
   },
   "source": [
    "__Limitations of binary encoding__:  \n",
    "1. Needs an effort to convert into binary from  \n",
    "2. Accuarcy depends on the binary reprresentation  \n",
    "\n",
    "__Advantages__:  \n",
    "1. Since operations with binary represntation is faster, it provide a faster implementations of all GA operators and hence the execution of GAs.  \n",
    "2. Any optimization problem has it binary-coded GA implementation  "
   ]
  },
  {
   "cell_type": "markdown",
   "metadata": {
    "slideshow": {
     "slide_type": "subslide"
    }
   },
   "source": [
    "#### The Schema Theorem \n",
    "Suppose that the set of chromosomes is represented by by binary strings of length 4, the __schema__ (pattern) 1\\*01 represents all those chromosomes beginning with 1 and terminating with 01"
   ]
  },
  {
   "cell_type": "markdown",
   "metadata": {
    "slideshow": {
     "slide_type": "fragment"
    }
   },
   "source": [
    "For each schema, we can assign two measurements:\n",
    "- __Order__: The number of digits that are fixed (not wildcards)\n",
    "- __Defining length__: The distance between the two furthermost fixed digits"
   ]
  },
  {
   "cell_type": "markdown",
   "metadata": {
    "slideshow": {
     "slide_type": "subslide"
    }
   },
   "source": [
    "Examples of 4 digit _schemata_:\n",
    "\n",
    "| Schema  |  Order  |  Defining Lenght  |\n",
    "|---------|---------|-------------------|\n",
    "|   1101  |  4      |  3                |\n",
    "|  \\*001  |  3      |  2                |\n",
    "| \\*\\*10  |  2      |  1                |\n",
    "| 1\\*\\*\\* |  1      |  0                |\n",
    "|  1\\*\\*1 |  2      |  3                |"
   ]
  },
  {
   "cell_type": "markdown",
   "metadata": {
    "slideshow": {
     "slide_type": "subslide"
    }
   },
   "source": [
    "Each chromosome _can match_ different schemata. The higher the fitness a chromosome, the higher the chances that it will suvive and with it the schemata it matches.  \n",
    "Genetic operators will change the schemata matched by chromosomes and the schemata of low order and short defining length are the ones more likely to survive (e. g. \\*\\*\\*\\*)."
   ]
  },
  {
   "cell_type": "markdown",
   "metadata": {
    "slideshow": {
     "slide_type": "fragment"
    }
   },
   "source": [
    "As a consequence, the frequency of schemata of low order, short defining length, and above-average fitness increases exponentially in successive generations.  \n",
    "I. e. the smaller, simpler sequences correlated to better solutions will become more frequent with passing generations."
   ]
  },
  {
   "cell_type": "markdown",
   "metadata": {
    "slideshow": {
     "slide_type": "subslide"
    }
   },
   "source": [
    "__Advantages of GA__:\n",
    "- No derivatives needed  \n",
    "- Easy to parallelize  \n",
    "- Can escape local minima  \n",
    "- Works on a wide range of problems  "
   ]
  },
  {
   "cell_type": "markdown",
   "metadata": {
    "slideshow": {
     "slide_type": "fragment"
    }
   },
   "source": [
    "__Disadvantages__:  \n",
    "- Need much more function evaluations than linearized methods  \n",
    "- No guaranteed convergence even to local minimum  \n",
    "- Have to discretize parameter space  "
   ]
  },
  {
   "cell_type": "markdown",
   "metadata": {
    "slideshow": {
     "slide_type": "skip"
    }
   },
   "source": [
    "<a id=\"func\"></a>"
   ]
  },
  {
   "cell_type": "markdown",
   "metadata": {
    "slideshow": {
     "slide_type": "slide"
    }
   },
   "source": [
    "## Function optimization"
   ]
  },
  {
   "cell_type": "markdown",
   "metadata": {
    "slideshow": {
     "slide_type": "subslide"
    }
   },
   "source": [
    "Let's code a simple GA with real encoding a search the GM of the Griewank function. Assume that the population and fitness are real values stored in numpy arrays.  \n",
    "Also, assume the chromosomes are __sorted__."
   ]
  },
  {
   "cell_type": "code",
   "execution_count": 8,
   "metadata": {
    "slideshow": {
     "slide_type": "subslide"
    }
   },
   "outputs": [],
   "source": [
    "def griewank(X, *args, **kwargs):\n",
    "    \"\"\"\n",
    "    Return Griewank function for an array\n",
    "    \"\"\"\n",
    "    squaresSum = np.sum(X**2) / 4000.\n",
    "    den = np.sqrt(np.arange(1, X.shape[0]+1))\n",
    "    cosProd = np.prod(np.cos(X/den))\n",
    "    f = squaresSum - cosProd + 1.0\n",
    "    return f"
   ]
  },
  {
   "cell_type": "code",
   "execution_count": 9,
   "metadata": {
    "slideshow": {
     "slide_type": "fragment"
    }
   },
   "outputs": [],
   "source": [
    "def init_population(nspecimen, ndim, sspace):\n",
    "    \"\"\"\n",
    "    Generate nspecimen vectors in ndim dimensions\n",
    "    from the given search space\n",
    "    \"\"\"\n",
    "    datapoints = list()\n",
    "    for i in range(nspecimen):\n",
    "        datapoints.append(np.asarray([np.random.choice(sspace) for i in range(ndim)]))\n",
    "    datapoints = np.asarray(datapoints)\n",
    "    return datapoints"
   ]
  },
  {
   "cell_type": "code",
   "execution_count": 10,
   "metadata": {
    "slideshow": {
     "slide_type": "subslide"
    }
   },
   "outputs": [],
   "source": [
    "def main_ga_loop(ngeneration, population, sel_press, pCO, pMut, sspace, ffunc, **kwargs):\n",
    "    \"\"\"\n",
    "    Applies the GA loop to the input population and returns the best\n",
    "    chromosome, its fitness and the final population\n",
    "    \"\"\"\n",
    "    if not \"tsize\" in kwargs.keys():\n",
    "        kwargs[\"tsize\"] = 2\n",
    "    if not \"vstep\" in kwargs.keys():\n",
    "        kwargs[\"vstep\"] = 50\n",
    "    if not \"sel_meth\" in kwargs.keys():\n",
    "        kwargs[\"sel_meth\"] = \"rank\"\n",
    "    if not \"co_meth\" in kwargs.keys():\n",
    "        kwargs[\"co_meth\"] = \"interp\"\n",
    "    if not \"alpha\" in kwargs.keys():\n",
    "        kwargs[\"alpha\"] = 0.5        \n",
    "    if not \"mut_meth\" in kwargs.keys():\n",
    "        kwargs[\"mut_meth\"] = \"const\"\n",
    "    if not \"tol\" in kwargs.keys():\n",
    "        kwargs[\"tol\"] = 1e-5  \n",
    "    if not \"ffkwds\" in kwargs.keys():\n",
    "        kwargs[\"ffkwds\"] = dict()          \n",
    "    fitness, population = calc_fitness(min_best, ffunc, population, kwargs[\"ffkwds\"])\n",
    "    best_previous = fitness[0]\n",
    "    best = list()\n",
    "    best_f = list()\n",
    "    for gen in range(ngeneration):\n",
    "        # select fitter specimens for reproduction\n",
    "        nmating, parents = ParentSelection(sel_press, kwargs[\"sel_meth\"], population, kwargs[\"tsize\"])\n",
    "        # generate offspring and check cross over probability\n",
    "        offspring = crossover(pCO, kwargs[\"alpha\"], nmating, parents, population, method=kwargs[\"co_meth\"])\n",
    "        population = np.concatenate((population, offspring))   \n",
    "        # mutate\n",
    "        mutated, population = mutation(pMut, kwargs[\"mut_meth\"], population, sspace)\n",
    "        # calculate fitness\n",
    "        fitness, population = calc_fitness(min_best, ffunc, population, kwargs[\"ffkwds\"])\n",
    "        if gen % kwargs[\"vstep\"]== 0:\n",
    "            print(\"Generation \",gen, \" best specimen \",fitness[0])        \n",
    "        # remove less fit individuals\n",
    "        population = fit_selection(nmating, population)\n",
    "        gain = abs(fitness[0]-best_previous)\n",
    "        if kwargs['tol'] > 0:\n",
    "            if gen > kwargs[\"vstep\"] and gain < kwargs[\"tol\"]:\n",
    "                print(\"Gain/loss less than tolerance: \",gain)\n",
    "                break\n",
    "        best.append(population[0])\n",
    "        best_f.append(fitness[0])\n",
    "    return gen, best_f, best"
   ]
  },
  {
   "cell_type": "code",
   "execution_count": 11,
   "metadata": {
    "slideshow": {
     "slide_type": "subslide"
    }
   },
   "outputs": [],
   "source": [
    "def calc_fitness(min_best, ffunc, population, ffkwds):\n",
    "    fitness = np.apply_along_axis(ffunc, 1, population, **ffkwds)\n",
    "    order = np.argsort(fitness)\n",
    "    if not min_best:\n",
    "        order = order[::-1]\n",
    "    population = population[order]\n",
    "    fitness = fitness[order]\n",
    "    return fitness, population"
   ]
  },
  {
   "cell_type": "code",
   "execution_count": 12,
   "metadata": {
    "slideshow": {
     "slide_type": "subslide"
    }
   },
   "outputs": [],
   "source": [
    "def ParentSelection(sel_press, sel_meth, pop, tsize):\n",
    "    nmating = math.ceil(sel_press * pop.shape[0])\n",
    "    if nmating % 2 !=0:\n",
    "        nmating = nmating - 1\n",
    "    M = list(range(pop.shape[0]))\n",
    "    if nmating <= 1: \n",
    "        nmating = 2     \n",
    "    if sel_meth == \"tournament\":\n",
    "        parents = TournamentSelection(nmating,  M, pop, tsize)\n",
    "    elif sel_meth == \"rank\":\n",
    "        parents = list(range(nmating))\n",
    "    return nmating, parents      "
   ]
  },
  {
   "cell_type": "code",
   "execution_count": 13,
   "metadata": {
    "slideshow": {
     "slide_type": "subslide"
    }
   },
   "outputs": [],
   "source": [
    "def crossover(pCO, alpha, nmating,parents, population, method=None):\n",
    "    if method == None:\n",
    "        raise ValueError(\"No Crossover method selected\")\n",
    "    elif method == \"interp\":\n",
    "        offspring = interp_crossover(pCO, alpha, nmating, parents, population)\n",
    "    return offspring"
   ]
  },
  {
   "cell_type": "code",
   "execution_count": 14,
   "metadata": {
    "slideshow": {
     "slide_type": "fragment"
    }
   },
   "outputs": [],
   "source": [
    "def interp_crossover(pCO, alpha, nmating, parents, population):\n",
    "    offspring = list()\n",
    "    for i in range(0,nmating-1,2): \n",
    "        p0 = population[parents[i]]\n",
    "        p1 = population[parents[i+1]]\n",
    "        coin = np.random.rand()\n",
    "        if coin <= pCO:\n",
    "            child0 = alpha*p0 + (1.-alpha)*p1\n",
    "            child1 = (1.-alpha)*p0 + alpha*p1\n",
    "        else:    \n",
    "            child0 = p0\n",
    "            child1 = p1\n",
    "        offspring.append(child0)\n",
    "        offspring.append(child1)\n",
    "    return np.asarray(offspring)"
   ]
  },
  {
   "cell_type": "code",
   "execution_count": 15,
   "metadata": {
    "slideshow": {
     "slide_type": "subslide"
    }
   },
   "outputs": [],
   "source": [
    "def mutation(prob, mut_meth, population, sspace):\n",
    "    if mut_meth == \"const\":\n",
    "        mutated, population = mutation_const(prob, population, sspace)\n",
    "    elif mut_meth == \"prop\":\n",
    "        mutated, population = mutation_prop(prob, population, sspace)\n",
    "    return mutated, population "
   ]
  },
  {
   "cell_type": "code",
   "execution_count": 16,
   "metadata": {
    "slideshow": {
     "slide_type": "fragment"
    }
   },
   "outputs": [],
   "source": [
    "def mutation_const(prob, population, sspace): \n",
    "        mutated = list()\n",
    "        for s in range(population.shape[0]):\n",
    "            coin = np.random.rand()\n",
    "            if coin < prob:\n",
    "                newallele  = np.random.choice(sspace)\n",
    "                locus = np.random.choice(population.shape[1])\n",
    "                population[s, locus]=newallele\n",
    "        return mutated, population"
   ]
  },
  {
   "cell_type": "code",
   "execution_count": 17,
   "metadata": {
    "slideshow": {
     "slide_type": "subslide"
    }
   },
   "outputs": [],
   "source": [
    "def fit_selection(nmating, population):\n",
    "    return population[:-nmating]"
   ]
  },
  {
   "cell_type": "markdown",
   "metadata": {
    "slideshow": {
     "slide_type": "subslide"
    }
   },
   "source": [
    "Let's see if it find the minimum."
   ]
  },
  {
   "cell_type": "code",
   "execution_count": 18,
   "metadata": {
    "slideshow": {
     "slide_type": "fragment"
    }
   },
   "outputs": [],
   "source": [
    "ndim = 3\n",
    "domain = (-200.,200.)\n",
    "sspace = np.arange(domain[0],domain[1],0.001)\n",
    "min_best = True"
   ]
  },
  {
   "cell_type": "code",
   "execution_count": 19,
   "metadata": {
    "slideshow": {
     "slide_type": "fragment"
    }
   },
   "outputs": [
    {
     "data": {
      "text/plain": [
       "(100, 3)"
      ]
     },
     "execution_count": 19,
     "metadata": {},
     "output_type": "execute_result"
    }
   ],
   "source": [
    "mypop = init_population(100, 3, sspace)\n",
    "mypop.shape"
   ]
  },
  {
   "cell_type": "code",
   "execution_count": 20,
   "metadata": {
    "slideshow": {
     "slide_type": "subslide"
    }
   },
   "outputs": [
    {
     "name": "stdout",
     "output_type": "stream",
     "text": [
      "Generation  0  best specimen  1.312997002038508\n",
      "Generation  50  best specimen  0.05162615685150784\n",
      "Generation  100  best specimen  0.05162615685150784\n",
      "Generation  150  best specimen  0.04977041926079451\n",
      "Generation  200  best specimen  0.0494499229099844\n",
      "Generation  250  best specimen  0.0494499229099844\n",
      "Generation  300  best specimen  0.04636480097501927\n",
      "Generation  350  best specimen  0.04636480097501927\n",
      "Generation  400  best specimen  0.02251518847524625\n",
      "Generation  450  best specimen  0.015716497787012562\n",
      "Final gen  499 best fitness  0.015716497787012562 best solution  [3.011      4.435875   0.00455859]\n"
     ]
    }
   ],
   "source": [
    "#def main_ga_loop(ngeneration, population, sel_press, pCO, pMut, sspace, ffunc, sel_meth=\"tournament\",\\\n",
    "#                    tsize=2,, mut_meth=\"const\", min_best=False, alpha=0.5, tol=1e-5, vstep)\n",
    "gen, best_f, best_spec = main_ga_loop(500, mypop, 0.5, 0.5, 0.1, sspace, griewank,sel_meth=\"rank\",\\\n",
    "                                   min_best=True,vstep=50)\n",
    "print(\"Final gen \", gen, \"best fitness \", best_f[-1], \"best solution \", best_spec[-1])"
   ]
  },
  {
   "cell_type": "markdown",
   "metadata": {
    "slideshow": {
     "slide_type": "subslide"
    }
   },
   "source": [
    "### Exercise 2"
   ]
  },
  {
   "cell_type": "markdown",
   "metadata": {
    "slideshow": {
     "slide_type": "fragment"
    }
   },
   "source": [
    "1. Implement the tournament selection method\n",
    "2. Implement a mutation method such that the number of mutated genes is proportional _to the number of genes in the population_\n",
    "3. Test on one of the other test functions"
   ]
  },
  {
   "cell_type": "markdown",
   "metadata": {
    "slideshow": {
     "slide_type": "fragment"
    }
   },
   "source": [
    "<div>\n",
    "<img src=\"gears.png\" width=\"400\"/>\n",
    "</div>"
   ]
  },
  {
   "cell_type": "markdown",
   "metadata": {
    "slideshow": {
     "slide_type": "subslide"
    }
   },
   "source": [
    "### Solution"
   ]
  },
  {
   "cell_type": "code",
   "execution_count": 21,
   "metadata": {
    "slideshow": {
     "slide_type": "fragment"
    }
   },
   "outputs": [],
   "source": [
    "def TournamentSelection(nmating, M, pop, tsize):\n",
    "    parents = list()\n",
    "    for i in range(nmating): \n",
    "    # selected random parents and sort stsize with best fitness\n",
    "        competitors = np.random.choice(M, size=tsize)\n",
    "        added = False\n",
    "        for i in competitors:\n",
    "            if i in parents:\n",
    "                continue\n",
    "            else:\n",
    "                parents.append(i)\n",
    "                added = True\n",
    "                break\n",
    "        if added is False:    \n",
    "            parents.append(competitors[0])\n",
    "    return parents"
   ]
  },
  {
   "cell_type": "markdown",
   "metadata": {
    "slideshow": {
     "slide_type": "subslide"
    }
   },
   "source": [
    "#### Q 2"
   ]
  },
  {
   "cell_type": "code",
   "execution_count": 22,
   "metadata": {
    "slideshow": {
     "slide_type": "fragment"
    }
   },
   "outputs": [],
   "source": [
    "def mutation_prop(prob, population, sspace):\n",
    "    tot_genes = population.size\n",
    "    num_mut = math.ceil(prob* tot_genes)\n",
    "    mut_alleles = np.random.choice(sspace, size=num_mut)\n",
    "    nspec = num_mut//population.shape[1]\n",
    "    mut_spec = np.random.choice(sspace, size=num_mut)\n",
    "    mut_alleles.shape = (nspec, population.shape[1])\n",
    "    mut_spec = np.random.choice(population.shape[0], size=nspec)\n",
    "    population[mut_spec] = mut_alleles\n",
    "    return mut_spec, population"
   ]
  },
  {
   "cell_type": "markdown",
   "metadata": {
    "slideshow": {
     "slide_type": "subslide"
    }
   },
   "source": [
    "#### Q 3 -  Rastrigin function"
   ]
  },
  {
   "cell_type": "code",
   "execution_count": 23,
   "metadata": {
    "slideshow": {
     "slide_type": "fragment"
    }
   },
   "outputs": [],
   "source": [
    "def rastrigin(X, *args, **kwargs):\n",
    "    return (X[0]**2 - 10 * np.cos(2 * np.pi * X[0])) +\\\n",
    "        (X[1]**2 - 10 * np.cos(2 * np.pi * X[1])) + 20"
   ]
  },
  {
   "cell_type": "code",
   "execution_count": 24,
   "metadata": {
    "slideshow": {
     "slide_type": "fragment"
    }
   },
   "outputs": [],
   "source": [
    "ndim = 2\n",
    "domain = (-5.1,5.1)\n",
    "sspace = np.arange(domain[0],domain[1],0.001)\n",
    "min_best = True"
   ]
  },
  {
   "cell_type": "code",
   "execution_count": 25,
   "metadata": {
    "slideshow": {
     "slide_type": "fragment"
    }
   },
   "outputs": [
    {
     "data": {
      "text/plain": [
       "(100, 2)"
      ]
     },
     "execution_count": 25,
     "metadata": {},
     "output_type": "execute_result"
    }
   ],
   "source": [
    "mypop = init_population(100, 2, sspace)\n",
    "mypop.shape"
   ]
  },
  {
   "cell_type": "markdown",
   "metadata": {
    "slideshow": {
     "slide_type": "subslide"
    }
   },
   "source": [
    "#### Rastrigin function with tournament selection and proportional mutation"
   ]
  },
  {
   "cell_type": "code",
   "execution_count": 26,
   "metadata": {
    "slideshow": {
     "slide_type": "fragment"
    }
   },
   "outputs": [
    {
     "name": "stdout",
     "output_type": "stream",
     "text": [
      "Generation  0  best specimen  1.8778970943601188\n",
      "Generation  50  best specimen  0.005220539563890014\n",
      "Generation  100  best specimen  0.005132043058956981\n",
      "Generation  150  best specimen  0.005132032290426025\n",
      "Generation  200  best specimen  0.005132032290426025\n",
      "Generation  250  best specimen  0.005132032290426025\n",
      "Generation  300  best specimen  0.005132032290426025\n",
      "Generation  350  best specimen  0.005132032290426025\n",
      "Generation  400  best specimen  0.005132032290426025\n",
      "Generation  450  best specimen  0.005132032290426025\n",
      "Final gen  499 best fitness  0.005132032290426025 best solution  [ 0.00422929 -0.00282533]\n"
     ]
    }
   ],
   "source": [
    "gen, best_f, best_spec = main_ga_loop(500, mypop, 0.5, 0.5, 0.2, sspace, rastrigin,sel_meth=\"tournament\",\\\n",
    "                                   mut_meth=\"prop\", min_best=True,vstep=50)\n",
    "print(\"Final gen \", gen, \"best fitness \", best_f[-1], \"best solution \", best_spec[-1])"
   ]
  },
  {
   "cell_type": "markdown",
   "metadata": {
    "slideshow": {
     "slide_type": "subslide"
    }
   },
   "source": [
    "#### Rastrigin function with elitism and constant mutation"
   ]
  },
  {
   "cell_type": "code",
   "execution_count": 27,
   "metadata": {
    "scrolled": false,
    "slideshow": {
     "slide_type": "fragment"
    }
   },
   "outputs": [
    {
     "name": "stdout",
     "output_type": "stream",
     "text": [
      "Generation  0  best specimen  1.8778970943601188\n",
      "Generation  50  best specimen  0.00113143421163997\n",
      "Generation  100  best specimen  0.00113143421163997\n",
      "Generation  150  best specimen  0.00113143421163997\n",
      "Generation  200  best specimen  0.00113143421163997\n",
      "Generation  250  best specimen  0.00113143421163997\n",
      "Generation  300  best specimen  0.00113143421163997\n",
      "Generation  350  best specimen  0.0011190347085054952\n",
      "Generation  400  best specimen  0.0011190347085054952\n",
      "Generation  450  best specimen  0.0011190347085054952\n",
      "Final gen  499 best fitness  0.00027244884655175383 best solution  [-1.17187500e-03  1.70352621e-12]\n"
     ]
    }
   ],
   "source": [
    "gen, best_f, best_spec = main_ga_loop(500, mypop, 0.5, 0.5, 0.1, sspace, rastrigin,sel_meth=\"rank\",\\\n",
    "                                   mut_meth=\"const\", min_best=True,vstep=50)\n",
    "print(\"Final gen \", gen, \"best fitness \", best_f[-1], \"best solution \", best_spec[-1])"
   ]
  },
  {
   "cell_type": "markdown",
   "metadata": {
    "slideshow": {
     "slide_type": "subslide"
    }
   },
   "source": [
    "#### Q 3 -  Ackley function"
   ]
  },
  {
   "cell_type": "code",
   "execution_count": 28,
   "metadata": {
    "slideshow": {
     "slide_type": "fragment"
    }
   },
   "outputs": [],
   "source": [
    "def ackley(X, *args, a=20, b=0.2, c=0.5, d=2.*np.pi, **kwargs):\n",
    "    return -a * np.exp(-b * np.sqrt(X[0]**2 + X[1]**2) ) \\\n",
    "    -np.exp(c*(np.cos(d*X[0]) + np.cos(d*X[1])) ) + np.exp(1) + a"
   ]
  },
  {
   "cell_type": "code",
   "execution_count": 29,
   "metadata": {
    "slideshow": {
     "slide_type": "fragment"
    }
   },
   "outputs": [],
   "source": [
    "ndim = 2\n",
    "domain = (-30,30)\n",
    "sspace = np.arange(domain[0],domain[1],0.001)\n",
    "min_best = True"
   ]
  },
  {
   "cell_type": "code",
   "execution_count": 30,
   "metadata": {
    "slideshow": {
     "slide_type": "fragment"
    }
   },
   "outputs": [
    {
     "data": {
      "text/plain": [
       "(100, 2)"
      ]
     },
     "execution_count": 30,
     "metadata": {},
     "output_type": "execute_result"
    }
   ],
   "source": [
    "mypop = init_population(100, 2, sspace)\n",
    "mypop.shape"
   ]
  },
  {
   "cell_type": "code",
   "execution_count": 31,
   "metadata": {
    "slideshow": {
     "slide_type": "subslide"
    }
   },
   "outputs": [
    {
     "name": "stdout",
     "output_type": "stream",
     "text": [
      "Generation  0  best specimen  11.397612289057916\n",
      "Generation  50  best specimen  0.08597273098619951\n",
      "Generation  100  best specimen  0.10942622623106502\n",
      "Generation  150  best specimen  0.1540940574454588\n",
      "Generation  200  best specimen  0.16616430969683194\n",
      "Generation  250  best specimen  0.06961316921567828\n",
      "Generation  300  best specimen  0.13297355779938158\n",
      "Generation  350  best specimen  0.088077616845041\n",
      "Generation  400  best specimen  0.12237125542499072\n",
      "Generation  450  best specimen  0.04543447968796244\n",
      "Final gen  499 best fitness  0.06859073210515021 best solution  [0.00527709 0.01462985]\n"
     ]
    }
   ],
   "source": [
    "gen, best_f, best_spec = main_ga_loop(500, mypop, 0.5, 0.5, 0.3, sspace, ackley,sel_meth=\"tournament\",\\\n",
    "                                   mut_meth=\"const\", min_best=True,vstep=50)\n",
    "print(\"Final gen \", gen, \"best fitness \", best_f[-1], \"best solution \", best_spec[-1])"
   ]
  },
  {
   "cell_type": "markdown",
   "metadata": {
    "slideshow": {
     "slide_type": "subslide"
    }
   },
   "source": [
    "#### Q 3 -  Rosenbrock function"
   ]
  },
  {
   "cell_type": "code",
   "execution_count": 32,
   "metadata": {
    "slideshow": {
     "slide_type": "fragment"
    }
   },
   "outputs": [],
   "source": [
    "def rosembrock(X, *args, a=1, b=100, **kwargs):\n",
    "    return (a-X[0]**2)**2 + b*(X[1]-X[0]**2)**2"
   ]
  },
  {
   "cell_type": "code",
   "execution_count": 33,
   "metadata": {
    "slideshow": {
     "slide_type": "fragment"
    }
   },
   "outputs": [],
   "source": [
    "ndim = 2\n",
    "domain = (-3,3)\n",
    "sspace = np.arange(domain[0],domain[1],0.001)\n",
    "min_best = True"
   ]
  },
  {
   "cell_type": "code",
   "execution_count": 34,
   "metadata": {
    "slideshow": {
     "slide_type": "fragment"
    }
   },
   "outputs": [
    {
     "data": {
      "text/plain": [
       "(100, 2)"
      ]
     },
     "execution_count": 34,
     "metadata": {},
     "output_type": "execute_result"
    }
   ],
   "source": [
    "mypop = init_population(100, 2, sspace)\n",
    "mypop.shape"
   ]
  },
  {
   "cell_type": "code",
   "execution_count": 35,
   "metadata": {
    "slideshow": {
     "slide_type": "subslide"
    }
   },
   "outputs": [
    {
     "name": "stdout",
     "output_type": "stream",
     "text": [
      "Generation  0  best specimen  0.48063392915121844\n",
      "Generation  50  best specimen  0.0645106946324\n",
      "Generation  100  best specimen  0.06449772587293875\n",
      "Generation  150  best specimen  0.01333513367843671\n",
      "Generation  200  best specimen  0.013335133678423077\n",
      "Generation  250  best specimen  0.013335133678422874\n",
      "Generation  300  best specimen  0.013335133678422656\n",
      "Generation  350  best specimen  0.013335133678422519\n",
      "Generation  400  best specimen  0.013335133678422519\n",
      "Generation  450  best specimen  0.013335133678422519\n",
      "Final gen  499 best fitness  0.013335133678422519 best solution  [-0.94138174  0.88423846]\n"
     ]
    }
   ],
   "source": [
    "gen, best_f, best_spec = main_ga_loop(500, mypop, 0.5, 0.5, 0.1, sspace, rosembrock,sel_meth=\"tournament\",\\\n",
    "                                   mut_meth=\"prop\", min_best=True,vstep=50)\n",
    "print(\"Final gen \", gen, \"best fitness \", best_f[-1], \"best solution \", best_spec[-1])"
   ]
  },
  {
   "cell_type": "markdown",
   "metadata": {
    "slideshow": {
     "slide_type": "subslide"
    }
   },
   "source": [
    "GAs are not deterministic!"
   ]
  },
  {
   "cell_type": "markdown",
   "metadata": {
    "slideshow": {
     "slide_type": "fragment"
    }
   },
   "source": [
    "<div>\n",
    "<img src=\"not_deterministic.png\" width=\"800\"/>\n",
    "</div>"
   ]
  },
  {
   "cell_type": "markdown",
   "metadata": {
    "slideshow": {
     "slide_type": "skip"
    }
   },
   "source": [
    "<a id=\"tsp\"></a>"
   ]
  },
  {
   "cell_type": "markdown",
   "metadata": {
    "slideshow": {
     "slide_type": "slide"
    }
   },
   "source": [
    "## Traveling Salesman Problem"
   ]
  },
  {
   "cell_type": "markdown",
   "metadata": {
    "slideshow": {
     "slide_type": "subslide"
    }
   },
   "source": [
    "The [traveling salesman problem](#https://en.wikipedia.org/wiki/Travelling_salesman_problem) (TSP) is a famous problem in computer science. It might be summarized as follows:\n",
    "- you are a salesperson who needs to visit some number of cities \n",
    "- you want to minimize costs spent on traveling   \n",
    "hence you want to find out the _most efficient route_, one that will require the least amount of traveling. You are given a coordinate of the cities to visit on a map. How can you find the optimal route?"
   ]
  },
  {
   "cell_type": "markdown",
   "metadata": {
    "slideshow": {
     "slide_type": "fragment"
    }
   },
   "source": [
    "this is a __combinatorial optimization problem__ i. e. our objective function (cost function) is defined a very large but __discrete__ domain whose solutions are often found permutating the object of the solutions.  \n",
    "Other examples include:\n",
    "- Bin-Packing: given a set of N objects each with a specified size $s$, fit them into as few bins (each of size $B$) as possible\n",
    "- Job-shop Scheduling: given a set of jobs that must be performed, and a limited set of tools with which these jobs can be performed, find a schedule for what jobs should be done when and with what tools that minimizes the total amount of time until all jobs have been completed. _HPC batch systems_ are an example."
   ]
  },
  {
   "cell_type": "markdown",
   "metadata": {
    "slideshow": {
     "slide_type": "subslide"
    }
   },
   "source": [
    "What about _brute force_? You consider all the different possibilities, calculate the estimated distance for each, and choose the one that is the shortest path. The computational cost would be an __O(n!)__!  \n",
    "Sad conclusion: when brute force cannot solve your problem you do not have enough."
   ]
  },
  {
   "cell_type": "markdown",
   "metadata": {
    "slideshow": {
     "slide_type": "subslide"
    }
   },
   "source": [
    "### Encoding"
   ]
  },
  {
   "cell_type": "markdown",
   "metadata": {
    "slideshow": {
     "slide_type": "fragment"
    }
   },
   "source": [
    "We use once again a real encoding. We construct a matrix that represent distances between cities $i$ and $j$ such that $A_{ij}$ represents the distance between those two cities. We will represent cities by their indices."
   ]
  },
  {
   "cell_type": "code",
   "execution_count": 36,
   "metadata": {
    "slideshow": {
     "slide_type": "fragment"
    }
   },
   "outputs": [],
   "source": [
    "cities = [0, 1, 2, 3, 4]\n",
    "\n",
    "adjacency_mat = np.asarray(\n",
    "    [\n",
    "        [0.00, 28.02, 17.12, 27.46, 46.07],\n",
    "        [28.02, 0.00, 34.00, 25.55, 25.55],\n",
    "        [17.12, 34.00, 0.00, 18.03, 57.38],\n",
    "        [27.46, 25.55, 18.03, 0.00, 51.11],\n",
    "        [46.07, 25.55, 57.38, 51.11, 0.00],\n",
    "    ]\n",
    ")"
   ]
  },
  {
   "cell_type": "markdown",
   "metadata": {
    "slideshow": {
     "slide_type": "subslide"
    }
   },
   "source": [
    "In this we assume that each city has a direct route to any other one (a fully connected graph). We can represent a single specimen using a sequence of cities. Each chromosome is a route:"
   ]
  },
  {
   "cell_type": "code",
   "execution_count": 37,
   "metadata": {
    "slideshow": {
     "slide_type": "fragment"
    }
   },
   "outputs": [
    {
     "data": {
      "text/plain": [
       "array([[2, 4, 0, 1, 3],\n",
       "       [2, 3, 0, 1, 4],\n",
       "       [3, 2, 1, 0, 4],\n",
       "       [0, 3, 4, 1, 2],\n",
       "       [0, 2, 1, 3, 4],\n",
       "       [1, 3, 2, 0, 4],\n",
       "       [3, 0, 4, 2, 1],\n",
       "       [1, 2, 3, 4, 0],\n",
       "       [2, 4, 0, 3, 1],\n",
       "       [3, 2, 0, 1, 4]])"
      ]
     },
     "execution_count": 37,
     "metadata": {},
     "output_type": "execute_result"
    }
   ],
   "source": [
    "def init_population(cities, nspecimen):\n",
    "    return np.asarray([np.random.permutation(cities) for i in range(nspecimen)])\n",
    "example_pop = init_population(cities,10)\n",
    "example_pop"
   ]
  },
  {
   "cell_type": "markdown",
   "metadata": {
    "slideshow": {
     "slide_type": "subslide"
    }
   },
   "source": [
    "The fitness will be the sum of distances along the route:"
   ]
  },
  {
   "cell_type": "code",
   "execution_count": 38,
   "metadata": {
    "slideshow": {
     "slide_type": "fragment"
    }
   },
   "outputs": [],
   "source": [
    "def route_fitness(route, amat=adjacency_mat):\n",
    "    dist = 0.\n",
    "    for city in range(len(route)-1):\n",
    "        dist = dist + amat[route[city], route[city+1]]\n",
    "    return dist"
   ]
  },
  {
   "cell_type": "code",
   "execution_count": 39,
   "metadata": {
    "slideshow": {
     "slide_type": "fragment"
    }
   },
   "outputs": [
    {
     "data": {
      "text/plain": [
       "array([157.02,  99.06, 126.12, 138.12, 127.78, 106.77, 164.91, 149.21,\n",
       "       156.46,  88.72])"
      ]
     },
     "execution_count": 39,
     "metadata": {},
     "output_type": "execute_result"
    }
   ],
   "source": [
    "np.apply_along_axis(route_fitness, 1, example_pop, amat=adjacency_mat)"
   ]
  },
  {
   "cell_type": "markdown",
   "metadata": {
    "slideshow": {
     "slide_type": "subslide"
    }
   },
   "source": [
    "Mutation can be achieved in different ways as well but:\n",
    "- we cannot just change a random city since each route is complete\n",
    "- a random switch can be highly destructive of the fitness of a given route  \n",
    "\n",
    "so we try to carry out mutation by switching two neighbour cities in a route. In binary encoding this is a __swap mutation__."
   ]
  },
  {
   "cell_type": "code",
   "execution_count": 40,
   "metadata": {
    "slideshow": {
     "slide_type": "fragment"
    }
   },
   "outputs": [],
   "source": [
    "def mutation(prob, mut_meth, population, sspace):\n",
    "    if mut_meth == \"const\":\n",
    "        mutated, population = mutation_const(prob, population, sspace)\n",
    "    elif mut_meth == \"prop\":\n",
    "        mutated, population = mutation_prop(prob, population, sspace)\n",
    "    elif mut_meth == \"swap\":\n",
    "        mutated, population = mutation_swap(prob, population, sspace)        \n",
    "    return mutated, population"
   ]
  },
  {
   "cell_type": "code",
   "execution_count": 41,
   "metadata": {
    "slideshow": {
     "slide_type": "subslide"
    }
   },
   "outputs": [],
   "source": [
    "def mutation_swap(prob, population, sspace):\n",
    "    tot_genes = population.size\n",
    "    num_swaps = math.ceil(prob * tot_genes)\n",
    "    nspec = num_swaps//population.shape[1]\n",
    "    mut_spec = np.random.choice(population.shape[0], size=num_swaps)\n",
    "    for ms in mut_spec:\n",
    "        MS = population[ms]\n",
    "        locus = np.random.choice(len(MS)-1)\n",
    "        sign = int(np.sign(np.random.rand()-0.5))\n",
    "        tmp = MS[locus] \n",
    "        MS[locus] = MS[locus+1*sign]\n",
    "        MS[locus+1*sign] = tmp\n",
    "    return mut_spec, population"
   ]
  },
  {
   "cell_type": "markdown",
   "metadata": {
    "slideshow": {
     "slide_type": "subslide"
    }
   },
   "source": [
    "We can now try to optmize the route of a bigger number of cities. For a given number of cities the number of routes is $n!$ which can be approximated with the Stirling formula or calculated with a recursive function.  \n",
    "_But we need to calculate the adiacency matrix as well_.  "
   ]
  },
  {
   "cell_type": "markdown",
   "metadata": {
    "slideshow": {
     "slide_type": "subslide"
    }
   },
   "source": [
    "### Exercise 3"
   ]
  },
  {
   "cell_type": "markdown",
   "metadata": {
    "slideshow": {
     "slide_type": "fragment"
    }
   },
   "source": [
    "1. Implement the tournament selection method\n",
    "2. Implement a mutation method such that the number of mutated genes is proportional _to the number of genes in the population_\n",
    "3. Test on one of the other test functions"
   ]
  },
  {
   "cell_type": "markdown",
   "metadata": {
    "slideshow": {
     "slide_type": "fragment"
    }
   },
   "source": [
    "<div>\n",
    "<img src=\"gears.png\" width=\"400\"/>\n",
    "</div>"
   ]
  },
  {
   "cell_type": "markdown",
   "metadata": {
    "slideshow": {
     "slide_type": "subslide"
    }
   },
   "source": [
    "### Solution"
   ]
  },
  {
   "cell_type": "code",
   "execution_count": 42,
   "metadata": {
    "slideshow": {
     "slide_type": "fragment"
    }
   },
   "outputs": [],
   "source": [
    "def calc_amat(cities, min_dist, max_dist):\n",
    "    n = len(cities)\n",
    "    amat = np.zeros((n,n))\n",
    "    for i in range(n-1):\n",
    "        amat[i, i+1:] = (max_dist-min_dist)*np.random.rand(n-i-1) + min_dist\n",
    "        amat[i+1:, i] = amat[i, i+1]\n",
    "    return amat"
   ]
  },
  {
   "cell_type": "code",
   "execution_count": 43,
   "metadata": {
    "scrolled": true
   },
   "outputs": [
    {
     "data": {
      "text/plain": [
       "array([[ 0.        , 35.77991216, 32.59122583, 21.26220364, 35.48802603],\n",
       "       [35.77991216,  0.        , 38.70673464, 22.37275092, 45.39460418],\n",
       "       [35.77991216, 38.70673464,  0.        , 40.52819936, 10.94888287],\n",
       "       [35.77991216, 38.70673464, 40.52819936,  0.        , 31.53983185],\n",
       "       [35.77991216, 38.70673464, 40.52819936, 31.53983185,  0.        ]])"
      ]
     },
     "execution_count": 43,
     "metadata": {},
     "output_type": "execute_result"
    }
   ],
   "source": [
    "calc_amat(cities, 10, 50)"
   ]
  },
  {
   "cell_type": "markdown",
   "metadata": {
    "slideshow": {
     "slide_type": "subslide"
    }
   },
   "source": [
    "### Crossover of permutations"
   ]
  },
  {
   "cell_type": "markdown",
   "metadata": {
    "slideshow": {
     "slide_type": "subslide"
    }
   },
   "source": [
    "For crossover we need to take subroutes from either parent and mix them; we _cannot_ just mix cities because _each city must be visited once_"
   ]
  },
  {
   "cell_type": "markdown",
   "metadata": {
    "slideshow": {
     "slide_type": "fragment"
    }
   },
   "source": [
    "<div>\n",
    "    <img src=\"order_crossover.png\" width=\"300\"/>\n",
    "</div>"
   ]
  },
  {
   "cell_type": "code",
   "execution_count": 44,
   "metadata": {
    "slideshow": {
     "slide_type": "subslide"
    }
   },
   "outputs": [],
   "source": [
    "def crossover(pCO, alpha, nmating,parents, population, method=None):\n",
    "    if method == None:\n",
    "        raise ValueError(\"No Crossover method selected\")\n",
    "    elif method == \"interp\":\n",
    "        offspring = interp_crossover(pCO, alpha, nmating, parents, population)\n",
    "    elif method == \"ordered\":\n",
    "        offspring = ordered_crossover(pCO, nmating, parents, population)\n",
    "    return offspring"
   ]
  },
  {
   "cell_type": "code",
   "execution_count": 45,
   "metadata": {
    "slideshow": {
     "slide_type": "fragment"
    }
   },
   "outputs": [],
   "source": [
    "def ordered_crossover(pCO, nmating, parents, population):\n",
    "    offspring = list()\n",
    "    for i in range(0,nmating-1,2): \n",
    "        p0 = population[parents[i]]\n",
    "        p1 = population[parents[i+1]]\n",
    "        coin = np.random.rand()\n",
    "        if coin <= pCO:\n",
    "            pbreak = np.random.choice(len(p0)-1)\n",
    "            lbreak = np.random.choice(len(p0)-pbreak)\n",
    "            child0      = -1*np.ones(len(p0), dtype='int')\n",
    "            child1      = -1*np.ones(len(p1), dtype='int')\n",
    "            for locus, al in enumerate(p0):\n",
    "                if locus < pbreak or locus >= pbreak+lbreak:\n",
    "                    l1 = np.where(p1==al)[0][0]\n",
    "                    child0[locus] = p1[l1]\n",
    "                    l1 = np.where(p0==p1[locus])[0][0]\n",
    "                    child1[locus] = p0[l1]\n",
    "                else:\n",
    "                    child0[locus] = p0[locus]\n",
    "                    child1[locus] = p1[locus]\n",
    "            if np.any(child0==-1) or np.any(child1==-1) \\\n",
    "            or len(set(child0))!=len(p0) or len(set(child1))!=len(p1):# \\\n",
    "            #or np.all(p0)==np.all(child0) or np.all(p1)==np.all(child1):\n",
    "                raise ValueError\n",
    "        else:    \n",
    "            child0 = p0\n",
    "            child1 = p1\n",
    "        offspring.append(child0)\n",
    "        offspring.append(child1)\n",
    "    return np.asarray(offspring)"
   ]
  },
  {
   "cell_type": "markdown",
   "metadata": {
    "slideshow": {
     "slide_type": "subslide"
    }
   },
   "source": [
    "### Try to solve the TSP problem"
   ]
  },
  {
   "cell_type": "code",
   "execution_count": 46,
   "metadata": {
    "slideshow": {
     "slide_type": "fragment"
    }
   },
   "outputs": [
    {
     "data": {
      "text/plain": [
       "(739.4609463122295, 572.4016055606273, 657.2207796812489, 35.033973999799684)"
      ]
     },
     "execution_count": 46,
     "metadata": {},
     "output_type": "execute_result"
    }
   ],
   "source": [
    "cities = list(range(20))\n",
    "adjacency_mat = calc_amat(cities, 10., 50.)\n",
    "mypop = init_population(cities,100)\n",
    "fitness = np.apply_along_axis(route_fitness, 1, mypop, amat=adjacency_mat)\n",
    "np.max(fitness), np.min(fitness), np.mean(fitness), np.std(fitness)"
   ]
  },
  {
   "cell_type": "code",
   "execution_count": 47,
   "metadata": {
    "scrolled": false,
    "slideshow": {
     "slide_type": "subslide"
    }
   },
   "outputs": [
    {
     "name": "stdout",
     "output_type": "stream",
     "text": [
      "Generation  0  best specimen  561.0381715987498\n",
      "Generation  50  best specimen  501.3211082085361\n",
      "Generation  100  best specimen  500.19973003796315\n",
      "Generation  150  best specimen  511.89435738243384\n",
      "Generation  200  best specimen  523.3727583467612\n",
      "Generation  250  best specimen  493.64033301805745\n",
      "Generation  300  best specimen  470.6347189916488\n",
      "Generation  350  best specimen  490.1812744585102\n",
      "Generation  400  best specimen  470.095932076829\n",
      "Generation  450  best specimen  504.00995737251776\n"
     ]
    }
   ],
   "source": [
    "ffkwds = dict()\n",
    "ffkwds['amat']=adjacency_mat\n",
    "gen, best_f[-1], best_spec = main_ga_loop(500, mypop, 0.5, 0.5, 0.3, sspace, route_fitness,sel_meth=\"rank\",\\\n",
    "                                   mut_meth=\"swap\",co_meth=\"ordered\",ffkwds=ffkwds)"
   ]
  },
  {
   "cell_type": "code",
   "execution_count": 48,
   "metadata": {
    "scrolled": true,
    "slideshow": {
     "slide_type": "fragment"
    }
   },
   "outputs": [
    {
     "data": {
      "text/plain": [
       "(array([11, 14,  5,  1, 12, 19,  8,  3, 15, 13, 16, 17, 18,  2,  7,  9,  4,\n",
       "         0, 10,  6]),\n",
       " 20)"
      ]
     },
     "execution_count": 48,
     "metadata": {},
     "output_type": "execute_result"
    }
   ],
   "source": [
    "best_spec[-1], len(set(best_spec[-1]))"
   ]
  },
  {
   "cell_type": "markdown",
   "metadata": {
    "slideshow": {
     "slide_type": "skip"
    }
   },
   "source": [
    "<a id=\"queen\"></a>"
   ]
  },
  {
   "cell_type": "markdown",
   "metadata": {
    "slideshow": {
     "slide_type": "slide"
    }
   },
   "source": [
    "## Constraints: N Queens problem"
   ]
  },
  {
   "cell_type": "markdown",
   "metadata": {
    "slideshow": {
     "slide_type": "subslide"
    }
   },
   "source": [
    "TSP is an optimization problem with a __single constrain__: each city must be visited exactly once. We could have formulated it in different ways:\n",
    "- imposing that Salesman Joe comes back to the starting city\n",
    "- having some cities being reachable by some other cities only (a __not__ fully connected graph)."
   ]
  },
  {
   "cell_type": "markdown",
   "metadata": {
    "slideshow": {
     "slide_type": "fragment"
    }
   },
   "source": [
    "Imposing constraints often a necessity in practical problems. Let's see how GAs can solve a problem with multiple constraints. One such example is the [N Queens problem](#https://en.wikipedia.org/wiki/Eight_queens_puzzle)."
   ]
  },
  {
   "cell_type": "markdown",
   "metadata": {
    "slideshow": {
     "slide_type": "subslide"
    }
   },
   "source": [
    "The task is to place $n$ chess queens on a $n$ by $n$  board without any two of them threatening each other. In\n",
    "other words, no two queens can share the same row, same column, or same diagonal. "
   ]
  },
  {
   "cell_type": "markdown",
   "metadata": {
    "slideshow": {
     "slide_type": "fragment"
    }
   },
   "source": [
    "<div>\n",
    "    <img src=\"queen_range.png\" width=\"300\"/>\n",
    "</div>"
   ]
  },
  {
   "cell_type": "markdown",
   "metadata": {
    "slideshow": {
     "slide_type": "subslide"
    }
   },
   "source": [
    "The problem has multiple solutions for $n\\ge 4$. For a traditional $8\\times 8$ chessboard there are 92 solutions, or 12 taking into account simmetry"
   ]
  },
  {
   "cell_type": "markdown",
   "metadata": {
    "slideshow": {
     "slide_type": "fragment"
    }
   },
   "source": [
    "How much big is the search space? It is __any 8 boxes out of 64__ i. e. the __binomial coefficent__ $\\binom{64}{8}$ or 4,426,165,368 total combinations.  \n",
    "We can simplify this gargantuan number a little bit by saying that each row or column must have just one queen; this equals $8!$ or"
   ]
  },
  {
   "cell_type": "code",
   "execution_count": 49,
   "metadata": {
    "slideshow": {
     "slide_type": "fragment"
    }
   },
   "outputs": [
    {
     "data": {
      "text/plain": [
       "40320"
      ]
     },
     "execution_count": 49,
     "metadata": {},
     "output_type": "execute_result"
    }
   ],
   "source": [
    "def fact(n):\n",
    "    if n <= 0:\n",
    "        return 1\n",
    "    return n*fact(n-1)\n",
    "fact(8)"
   ]
  },
  {
   "cell_type": "markdown",
   "metadata": {
    "slideshow": {
     "slide_type": "subslide"
    }
   },
   "source": [
    "### Exercise 4"
   ]
  },
  {
   "cell_type": "markdown",
   "metadata": {
    "slideshow": {
     "slide_type": "fragment"
    }
   },
   "source": [
    "Write a function to calculate the binomial coefficent"
   ]
  },
  {
   "cell_type": "markdown",
   "metadata": {
    "slideshow": {
     "slide_type": "fragment"
    }
   },
   "source": [
    "<div>\n",
    "<img src=\"gears.png\" width=\"400\"/>\n",
    "</div>"
   ]
  },
  {
   "cell_type": "markdown",
   "metadata": {
    "slideshow": {
     "slide_type": "subslide"
    }
   },
   "source": [
    "__Hint__: $\\binom{n}{k} = \\frac{n!}{k!(n-k)!}$"
   ]
  },
  {
   "cell_type": "code",
   "execution_count": 50,
   "metadata": {
    "slideshow": {
     "slide_type": "fragment"
    }
   },
   "outputs": [
    {
     "data": {
      "text/plain": [
       "4426165368.0"
      ]
     },
     "execution_count": 50,
     "metadata": {},
     "output_type": "execute_result"
    }
   ],
   "source": [
    "sp.special.binom(64,8)"
   ]
  },
  {
   "cell_type": "markdown",
   "metadata": {
    "slideshow": {
     "slide_type": "subslide"
    }
   },
   "source": [
    "### Problem representation"
   ]
  },
  {
   "cell_type": "markdown",
   "metadata": {
    "slideshow": {
     "slide_type": "fragment"
    }
   },
   "source": [
    "We have seen how imposing one queen per row or column greatly simplifies the problem so we should take advantage ot this fact.  \n",
    "Hence a possible representation of a candidate solution is any sequence of the first $n$ integers for a $n \\times n$ chessboard."
   ]
  },
  {
   "cell_type": "markdown",
   "metadata": {
    "slideshow": {
     "slide_type": "fragment"
    }
   },
   "source": [
    "for a normal chessboard:"
   ]
  },
  {
   "cell_type": "code",
   "execution_count": 51,
   "metadata": {
    "slideshow": {
     "slide_type": "fragment"
    }
   },
   "outputs": [
    {
     "name": "stdout",
     "output_type": "stream",
     "text": [
      "[3, 1, 0, 4, 6, 7, 2, 5]\n"
     ]
    }
   ],
   "source": [
    "a = list(range(8))\n",
    "np.random.shuffle(a)\n",
    "print(a)"
   ]
  },
  {
   "cell_type": "markdown",
   "metadata": {
    "slideshow": {
     "slide_type": "fragment"
    }
   },
   "source": [
    "is a candidate solution. How we can check if it is valid?"
   ]
  },
  {
   "cell_type": "markdown",
   "metadata": {
    "slideshow": {
     "slide_type": "subslide"
    }
   },
   "source": [
    "Let's create a function that draws it:"
   ]
  },
  {
   "cell_type": "code",
   "execution_count": 52,
   "metadata": {
    "slideshow": {
     "slide_type": "fragment"
    }
   },
   "outputs": [],
   "source": [
    "def draw_chessboard(nrow, ncol, iconcrd):\n",
    "    chessboard = np.zeros((nrow,ncol))\n",
    "    chessboard[::2,1::2] = 1\n",
    "    chessboard[1::2,::2] = 1\n",
    " \n",
    "    icon = OffsetImage(plt.imread('queen-icon.png'), zoom=.12)\n",
    "    fig, ax = plt.subplots()\n",
    "    plt.imshow(chessboard, cmap='gray')    \n",
    "    for row, col in enumerate(iconcrd):\n",
    "        ab = AnnotationBbox(icon, (row, col), frameon=False)\n",
    "        ax.add_artist(ab)\n",
    "    #plt.figure(figsize=(8,8))\n",
    "    plt.axis(False)\n",
    "    plt.show()"
   ]
  },
  {
   "cell_type": "code",
   "execution_count": 53,
   "metadata": {
    "slideshow": {
     "slide_type": "subslide"
    }
   },
   "outputs": [
    {
     "data": {
      "image/png": "[encoded data removed]",
      "text/plain": [
       "<Figure size 432x288 with 1 Axes>"
      ]
     },
     "metadata": {
      "needs_background": "light"
     },
     "output_type": "display_data"
    }
   ],
   "source": [
    "draw_chessboard(8,8,a)"
   ]
  },
  {
   "cell_type": "markdown",
   "metadata": {
    "slideshow": {
     "slide_type": "fragment"
    }
   },
   "source": [
    "how many violations do you spot?"
   ]
  },
  {
   "cell_type": "markdown",
   "metadata": {
    "slideshow": {
     "slide_type": "subslide"
    }
   },
   "source": [
    "From here it is easy to code chromosome (specimen) and population creation"
   ]
  },
  {
   "cell_type": "code",
   "execution_count": 54,
   "metadata": {
    "slideshow": {
     "slide_type": "fragment"
    }
   },
   "outputs": [],
   "source": [
    "def queen_chrm(nqueen):\n",
    "    chromosome = list(range(nqueen))\n",
    "    np.random.shuffle(chromosome)\n",
    "    return chromosome\n",
    "\n",
    "def queen_pop(nchromosomes, nqueen):\n",
    "    population = list()\n",
    "    for c in range(nchromosomes):\n",
    "        population.append(queen_chrm(nqueen))\n",
    "    population =  np.asarray(population)\n",
    "    return population"
   ]
  },
  {
   "cell_type": "markdown",
   "metadata": {
    "slideshow": {
     "slide_type": "subslide"
    }
   },
   "source": [
    "What about fitness? Taking inspiration from the plot above we count pair of queens $p$ on the same diagonal. Any chromosome with $p=0$ is a valid solution:"
   ]
  },
  {
   "cell_type": "code",
   "execution_count": 55,
   "metadata": {
    "slideshow": {
     "slide_type": "fragment"
    }
   },
   "outputs": [],
   "source": [
    "def violations_fitness(queen_seq):\n",
    "    L = len(queen_seq)\n",
    "    violations = 0\n",
    "    for l0 in range(L-1):\n",
    "        for l1 in range(l0+1,L):\n",
    "            d = (l1-l0)\n",
    "            if queen_seq[l1]==queen_seq[l0]-d or queen_seq[l1]==queen_seq[l0]+d:\n",
    "                violations += 1\n",
    "    return violations"
   ]
  },
  {
   "cell_type": "code",
   "execution_count": 56,
   "metadata": {
    "slideshow": {
     "slide_type": "subslide"
    }
   },
   "outputs": [],
   "source": [
    "a = (1,0,2,3)\n",
    "b = (1,3,0,2)"
   ]
  },
  {
   "cell_type": "code",
   "execution_count": 57,
   "metadata": {
    "slideshow": {
     "slide_type": "fragment"
    }
   },
   "outputs": [
    {
     "data": {
      "text/plain": [
       "(2, 0)"
      ]
     },
     "execution_count": 57,
     "metadata": {},
     "output_type": "execute_result"
    }
   ],
   "source": [
    "violations_fitness(a), violations_fitness(b)"
   ]
  },
  {
   "cell_type": "code",
   "execution_count": 58,
   "metadata": {
    "slideshow": {
     "slide_type": "fragment"
    }
   },
   "outputs": [
    {
     "data": {
      "image/png": "[encoded data removed]",
      "text/plain": [
       "<Figure size 432x288 with 1 Axes>"
      ]
     },
     "metadata": {
      "needs_background": "light"
     },
     "output_type": "display_data"
    }
   ],
   "source": [
    "draw_chessboard(4,4,b)"
   ]
  },
  {
   "cell_type": "markdown",
   "metadata": {
    "slideshow": {
     "slide_type": "subslide"
    }
   },
   "source": [
    "What about crossover and mutation? The solutions have the same form of the TSP problem, so we could try to use the same operators as well."
   ]
  },
  {
   "cell_type": "markdown",
   "metadata": {
    "slideshow": {
     "slide_type": "subslide"
    }
   },
   "source": [
    "### 8 queens"
   ]
  },
  {
   "cell_type": "code",
   "execution_count": 59,
   "metadata": {
    "slideshow": {
     "slide_type": "subslide"
    }
   },
   "outputs": [
    {
     "name": "stdout",
     "output_type": "stream",
     "text": [
      "(100, 8)\n"
     ]
    },
    {
     "data": {
      "text/plain": [
       "(11, 1, 5.11, 2.336214887376587)"
      ]
     },
     "execution_count": 59,
     "metadata": {},
     "output_type": "execute_result"
    }
   ],
   "source": [
    "mypop = queen_pop(100,8)\n",
    "print(mypop.shape)\n",
    "fitness = np.apply_along_axis(violations_fitness, 1, mypop)\n",
    "np.max(fitness), np.min(fitness), np.mean(fitness), np.std(fitness)"
   ]
  },
  {
   "cell_type": "code",
   "execution_count": 60,
   "metadata": {
    "scrolled": false,
    "slideshow": {
     "slide_type": "subslide"
    }
   },
   "outputs": [
    {
     "name": "stdout",
     "output_type": "stream",
     "text": [
      "Generation  0  best specimen  1\n",
      "Generation  1  best specimen  0\n",
      "Generation  2  best specimen  0\n",
      "Generation  3  best specimen  1\n",
      "Generation  4  best specimen  0\n",
      "Generation  5  best specimen  1\n",
      "Generation  6  best specimen  0\n",
      "Generation  7  best specimen  0\n",
      "Generation  8  best specimen  0\n",
      "Generation  9  best specimen  1\n"
     ]
    }
   ],
   "source": [
    "gen, best_f[-1], best_spec = main_ga_loop(10, mypop, 0.5, 0.5, 0.3, sspace, violations_fitness,sel_meth=\"tournament\",\\\n",
    "                                   mut_meth=\"swap\",co_meth=\"ordered\",vstep=1, tol=-1)"
   ]
  },
  {
   "cell_type": "code",
   "execution_count": 61,
   "metadata": {
    "slideshow": {
     "slide_type": "fragment"
    }
   },
   "outputs": [
    {
     "data": {
      "text/plain": [
       "(array([5, 3, 0, 7, 4, 6, 1, 2]), 1)"
      ]
     },
     "execution_count": 61,
     "metadata": {},
     "output_type": "execute_result"
    }
   ],
   "source": [
    "best_spec[-1], violations_fitness(best_spec[-1])"
   ]
  },
  {
   "cell_type": "code",
   "execution_count": 62,
   "metadata": {
    "slideshow": {
     "slide_type": "subslide"
    }
   },
   "outputs": [
    {
     "data": {
      "image/png": "[encoded data removed]",
      "text/plain": [
       "<Figure size 432x288 with 1 Axes>"
      ]
     },
     "metadata": {
      "needs_background": "light"
     },
     "output_type": "display_data"
    }
   ],
   "source": [
    "draw_chessboard(8, 8, best_spec[9])"
   ]
  },
  {
   "cell_type": "markdown",
   "metadata": {
    "slideshow": {
     "slide_type": "subslide"
    }
   },
   "source": [
    "For TSp we swapped just one pair of cities since the route could change too drastically otherwise. For the N queen problem let's try to shuffle a whole chunck."
   ]
  },
  {
   "cell_type": "markdown",
   "metadata": {
    "slideshow": {
     "slide_type": "subslide"
    }
   },
   "source": [
    "### Exercise 5"
   ]
  },
  {
   "cell_type": "markdown",
   "metadata": {
    "slideshow": {
     "slide_type": "fragment"
    }
   },
   "source": [
    "Write a mutation method which shuffles a substring of integers of arbitrary length from a random starting point"
   ]
  },
  {
   "cell_type": "markdown",
   "metadata": {
    "slideshow": {
     "slide_type": "fragment"
    }
   },
   "source": [
    "<div>\n",
    "<img src=\"gears.png\" width=\"400\"/>\n",
    "</div>"
   ]
  },
  {
   "cell_type": "markdown",
   "metadata": {
    "slideshow": {
     "slide_type": "subslide"
    }
   },
   "source": [
    "### Solution"
   ]
  },
  {
   "cell_type": "code",
   "execution_count": 63,
   "metadata": {
    "slideshow": {
     "slide_type": "fragment"
    }
   },
   "outputs": [],
   "source": [
    "def mutation(prob, mut_meth, population, sspace):\n",
    "    if mut_meth == \"const\":\n",
    "        mutated, population = mutation_const(prob, population, sspace)\n",
    "    elif mut_meth == \"prop\":\n",
    "        mutated, population = mutation_prop(prob, population, sspace)\n",
    "    elif mut_meth == \"swap\":\n",
    "        mutated, population = mutation_swap(prob, population, sspace)\n",
    "    elif mut_meth == \"shuffle\":\n",
    "        mutated, population = mutation_shuffle(prob, population, sspace)        \n",
    "    return mutated, population"
   ]
  },
  {
   "cell_type": "code",
   "execution_count": 64,
   "metadata": {
    "slideshow": {
     "slide_type": "subslide"
    }
   },
   "outputs": [],
   "source": [
    "def mutation_shuffle(prob, population, sspace):\n",
    "    tot_genes = population.size\n",
    "    num_scrambles = math.ceil(prob * tot_genes)\n",
    "    nspec = num_scrambles//population.shape[1]\n",
    "    mut_spec = np.random.choice(population.shape[0], size=num_scrambles)\n",
    "    for ms in mut_spec:\n",
    "        MS = population[ms]\n",
    "        pbreak = np.random.choice(len(MS)-1)\n",
    "        lbreak = np.random.choice(len(MS)-pbreak)\n",
    "        np.random.shuffle(MS[pbreak:pbreak+lbreak])\n",
    "    return mut_spec, population"
   ]
  },
  {
   "cell_type": "code",
   "execution_count": 65,
   "metadata": {
    "scrolled": false,
    "slideshow": {
     "slide_type": "subslide"
    }
   },
   "outputs": [
    {
     "name": "stdout",
     "output_type": "stream",
     "text": [
      "Generation  0  best specimen  1\n",
      "Generation  1  best specimen  1\n",
      "Generation  2  best specimen  1\n",
      "Generation  3  best specimen  1\n",
      "Generation  4  best specimen  0\n",
      "Generation  5  best specimen  0\n",
      "Generation  6  best specimen  0\n",
      "Generation  7  best specimen  0\n",
      "Generation  8  best specimen  0\n",
      "Generation  9  best specimen  0\n"
     ]
    }
   ],
   "source": [
    "gen, best_f[-1], best_spec = main_ga_loop(10, mypop, 0.5, 0.6, 0.1, sspace, violations_fitness,sel_meth=\"tournament\",\\\n",
    "                                   mut_meth=\"shuffle\",co_meth=\"ordered\",vstep=1, tol=-1)"
   ]
  },
  {
   "cell_type": "code",
   "execution_count": 66,
   "metadata": {
    "slideshow": {
     "slide_type": "fragment"
    }
   },
   "outputs": [
    {
     "data": {
      "text/plain": [
       "(array([0, 4, 7, 5, 2, 6, 1, 3]), 0)"
      ]
     },
     "execution_count": 66,
     "metadata": {},
     "output_type": "execute_result"
    }
   ],
   "source": [
    "best_spec[-1], violations_fitness(best_spec[-1])"
   ]
  },
  {
   "cell_type": "code",
   "execution_count": 67,
   "metadata": {
    "slideshow": {
     "slide_type": "subslide"
    }
   },
   "outputs": [
    {
     "data": {
      "image/png": "[encoded data removed]",
      "text/plain": [
       "<Figure size 432x288 with 1 Axes>"
      ]
     },
     "metadata": {
      "needs_background": "light"
     },
     "output_type": "display_data"
    }
   ],
   "source": [
    "draw_chessboard(8, 8, best_spec[-1])"
   ]
  },
  {
   "cell_type": "markdown",
   "metadata": {
    "slideshow": {
     "slide_type": "subslide"
    }
   },
   "source": [
    "### 16 Queens!"
   ]
  },
  {
   "cell_type": "markdown",
   "metadata": {
    "slideshow": {
     "slide_type": "fragment"
    }
   },
   "source": [
    "This is quite harder. The total number of solutions is "
   ]
  },
  {
   "cell_type": "code",
   "execution_count": 68,
   "metadata": {
    "slideshow": {
     "slide_type": "fragment"
    }
   },
   "outputs": [
    {
     "data": {
      "text/plain": [
       "20922789888000"
      ]
     },
     "execution_count": 68,
     "metadata": {},
     "output_type": "execute_result"
    }
   ],
   "source": [
    "fact(16)"
   ]
  },
  {
   "cell_type": "code",
   "execution_count": 69,
   "metadata": {
    "slideshow": {
     "slide_type": "subslide"
    }
   },
   "outputs": [
    {
     "name": "stdout",
     "output_type": "stream",
     "text": [
      "(300, 16)\n"
     ]
    },
    {
     "data": {
      "text/plain": [
       "(22, 4, 10.026666666666667, 3.084253916625903)"
      ]
     },
     "execution_count": 69,
     "metadata": {},
     "output_type": "execute_result"
    }
   ],
   "source": [
    "mypop = queen_pop(300,16)\n",
    "print(mypop.shape)\n",
    "fitness = np.apply_along_axis(violations_fitness, 1, mypop)\n",
    "np.max(fitness), np.min(fitness), np.mean(fitness), np.std(fitness)"
   ]
  },
  {
   "cell_type": "code",
   "execution_count": 80,
   "metadata": {
    "scrolled": true,
    "slideshow": {
     "slide_type": "subslide"
    }
   },
   "outputs": [
    {
     "name": "stdout",
     "output_type": "stream",
     "text": [
      "Generation  0  best specimen  4\n",
      "Generation  100  best specimen  1\n",
      "Generation  200  best specimen  0\n",
      "Generation  300  best specimen  0\n",
      "Generation  400  best specimen  0\n",
      "Generation  500  best specimen  0\n",
      "Generation  600  best specimen  1\n",
      "Generation  700  best specimen  1\n",
      "Generation  800  best specimen  1\n",
      "Generation  900  best specimen  1\n"
     ]
    }
   ],
   "source": [
    "gen, best_f, best_spec = main_ga_loop(1000, mypop, 0.6, 0.6, 0.05, sspace, violations_fitness,sel_meth=\"tournament\",\n",
    "                                   mut_meth=\"shuffle\",co_meth=\"ordered\",vstep=100, tol=-1)"
   ]
  },
  {
   "cell_type": "code",
   "execution_count": 81,
   "metadata": {
    "slideshow": {
     "slide_type": "subslide"
    }
   },
   "outputs": [
    {
     "data": {
      "text/plain": [
       "(array([121, 122, 123, 124, 125, 126, 127, 128, 129, 130, 131, 132, 133,\n",
       "        134, 135, 136, 137, 138, 139, 140, 141, 142, 143, 144, 145, 146,\n",
       "        147, 148, 149, 150, 151, 152, 153, 154, 155, 156, 157, 158, 159,\n",
       "        160, 161, 162, 163, 164, 165, 166, 167, 168, 169, 170, 171, 172,\n",
       "        173, 174, 175, 176, 177, 178, 179, 180, 181, 182, 183, 184, 185,\n",
       "        186, 187, 188, 189, 190, 191, 192, 193, 194, 195, 196, 197, 198,\n",
       "        199, 200, 201, 202, 203, 204, 205, 206, 207, 208, 209, 210, 211,\n",
       "        212, 213, 214, 215, 216, 217, 218, 219, 220, 221, 222, 223, 224,\n",
       "        225, 226, 227, 228, 229, 230, 231, 232, 233, 234, 235, 236, 237,\n",
       "        238, 239, 240, 241, 242, 243, 244, 245, 246, 247, 248, 249, 250,\n",
       "        251, 252, 253, 254, 255, 256, 257, 258, 259, 260, 261, 262, 263,\n",
       "        264, 265, 266, 267, 268, 269, 270, 271, 272, 273, 274, 275, 276,\n",
       "        277, 278, 279, 280, 281, 282, 283, 284, 285, 286, 287, 288, 289,\n",
       "        290, 291, 292, 293, 294, 295, 296, 297, 298, 299, 300, 301, 302,\n",
       "        303, 304, 305, 306, 307, 308, 309, 310, 311, 312, 313, 314, 315,\n",
       "        316, 317, 318, 319, 320, 321, 322, 323, 324, 325, 326, 327, 328,\n",
       "        329, 330, 331, 332, 333, 334, 335, 336, 337, 338, 339, 340, 341,\n",
       "        342, 343, 344, 345, 346, 353, 354, 355, 356, 357, 358, 359, 360,\n",
       "        361, 362, 363, 364, 365, 366, 367, 368, 375, 376, 377, 383, 384,\n",
       "        385, 386, 387, 388, 389, 390, 391, 392, 393, 394, 395, 396, 397,\n",
       "        398, 399, 400, 401, 402, 403, 404, 405, 406, 407, 408, 409, 410,\n",
       "        411, 412, 413, 414, 415, 416, 417, 418, 419, 420, 421, 422, 423,\n",
       "        424, 425, 426, 427, 428, 429, 430, 431, 432, 433, 434, 435, 436,\n",
       "        437, 438, 439, 440, 441, 442, 443, 444, 445, 446, 447, 448, 449,\n",
       "        450, 451, 452, 453, 454, 455, 456, 457, 458, 459, 460, 461, 462,\n",
       "        463, 464, 465, 466, 467, 468, 469, 470, 471, 472, 473, 474, 475,\n",
       "        476, 477, 478, 479, 480, 481, 482, 483, 484, 485, 486, 487, 488,\n",
       "        489, 490, 491, 492, 493, 494, 495, 496, 497, 498, 499, 500, 501,\n",
       "        502, 503, 504, 505, 506, 507, 508, 509, 510, 511, 512, 513, 514,\n",
       "        515, 516, 517, 518, 519, 520, 521, 522, 523, 524, 525, 526, 527,\n",
       "        528, 529, 530, 531, 532, 533, 534, 535, 536, 537, 538, 539, 540,\n",
       "        541, 542, 543, 544, 545, 546, 547, 548, 549, 550, 551, 552, 553,\n",
       "        554, 555, 556, 557, 558, 559, 560, 561, 627, 701, 722, 723, 724,\n",
       "        731, 732, 733, 734, 735, 786, 787, 892, 893, 927, 928, 929, 930,\n",
       "        931, 932, 933, 934, 935, 936, 937, 938, 939, 940, 941, 942, 943,\n",
       "        944, 945, 946, 947, 948, 949, 950, 951, 952, 953, 954, 955, 956,\n",
       "        957, 958, 959, 960, 962, 976, 977, 978, 979, 980, 981]),)"
      ]
     },
     "execution_count": 81,
     "metadata": {},
     "output_type": "execute_result"
    }
   ],
   "source": [
    "best_f = np.asarray(best_f)\n",
    "a = np.where(best_f==0)\n",
    "a"
   ]
  },
  {
   "cell_type": "code",
   "execution_count": 73,
   "metadata": {
    "slideshow": {
     "slide_type": "subslide"
    }
   },
   "outputs": [
    {
     "data": {
      "image/png": "[encoded data removed]",
      "text/plain": [
       "<Figure size 432x288 with 1 Axes>"
      ]
     },
     "metadata": {
      "needs_background": "light"
     },
     "output_type": "display_data"
    }
   ],
   "source": [
    "try:\n",
    "    draw_chessboard(16, 16, best_spec[a[0][0]])\n",
    "except:\n",
    "    pass"
   ]
  },
  {
   "cell_type": "markdown",
   "metadata": {
    "slideshow": {
     "slide_type": "subslide"
    }
   },
   "source": [
    "<div>\n",
    "<img src=\"16_queens_0.png\" width=\"400\"/>\n",
    "</div>"
   ]
  },
  {
   "cell_type": "markdown",
   "metadata": {
    "slideshow": {
     "slide_type": "subslide"
    }
   },
   "source": [
    "## The End!"
   ]
  }
 ],
 "metadata": {
  "celltoolbar": "Slideshow",
  "kernelspec": {
   "display_name": "Python 3",
   "language": "python",
   "name": "python3"
  },
  "language_info": {
   "codemirror_mode": {
    "name": "ipython",
    "version": 3
   },
   "file_extension": ".py",
   "mimetype": "text/x-python",
   "name": "python",
   "nbconvert_exporter": "python",
   "pygments_lexer": "ipython3",
   "version": "3.8.10"
  }
 },
 "nbformat": 4,
 "nbformat_minor": 4
}
